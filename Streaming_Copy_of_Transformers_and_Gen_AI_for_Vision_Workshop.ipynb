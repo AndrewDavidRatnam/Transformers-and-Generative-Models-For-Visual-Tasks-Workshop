{
  "nbformat": 4,
  "nbformat_minor": 0,
  "metadata": {
    "colab": {
      "provenance": [],
      "collapsed_sections": [
        "o0kOCwStE6pl"
      ],
      "include_colab_link": true
    },
    "kernelspec": {
      "name": "python3",
      "display_name": "Python 3"
    },
    "language_info": {
      "name": "python"
    }
  },
  "cells": [
    {
      "cell_type": "markdown",
      "metadata": {
        "id": "view-in-github",
        "colab_type": "text"
      },
      "source": [
        "<a href=\"https://colab.research.google.com/github/ANDIECOOLER2/Transformers-and-Generative-Models-For-Visual-Tasks-Workshop/blob/main/Streaming_Copy_of_Transformers_and_Gen_AI_for_Vision_Workshop.ipynb\" target=\"_parent\"><img src=\"https://colab.research.google.com/assets/colab-badge.svg\" alt=\"Open In Colab\"/></a>"
      ]
    },
    {
      "cell_type": "code",
      "execution_count": null,
      "metadata": {
        "id": "F7l9ZhQbBKqB"
      },
      "outputs": [],
      "source": []
    },
    {
      "cell_type": "markdown",
      "source": [
        "# Pre Req"
      ],
      "metadata": {
        "id": "f55yEJuxflmQ"
      }
    },
    {
      "cell_type": "markdown",
      "source": [
        "## References and Pre-requistes Walk Through"
      ],
      "metadata": {
        "id": "poHb874qfn1v"
      }
    },
    {
      "cell_type": "markdown",
      "source": [
        "### Numpy and Python"
      ],
      "metadata": {
        "id": "pAGCd1_Pfw7f"
      }
    },
    {
      "cell_type": "code",
      "source": [],
      "metadata": {
        "id": "SfJaW1r1f6r9"
      },
      "execution_count": null,
      "outputs": []
    },
    {
      "cell_type": "markdown",
      "source": [
        "### Pytorch and autograd"
      ],
      "metadata": {
        "id": "drqS_z56fztZ"
      }
    },
    {
      "cell_type": "code",
      "source": [],
      "metadata": {
        "id": "tTMpikDCf6dt"
      },
      "execution_count": null,
      "outputs": []
    },
    {
      "cell_type": "markdown",
      "source": [
        "### Pytorch for computer vision"
      ],
      "metadata": {
        "id": "Q5Rbize4f3FZ"
      }
    },
    {
      "cell_type": "markdown",
      "source": [
        "Dependencies"
      ],
      "metadata": {
        "id": "2i3MYOIMqiJK"
      }
    },
    {
      "cell_type": "code",
      "execution_count": null,
      "metadata": {
        "colab": {
          "base_uri": "https://localhost:8080/"
        },
        "id": "vye4DpLofTui",
        "outputId": "69a3547f-530b-4711-84a9-d912286bb8fb"
      },
      "outputs": [
        {
          "output_type": "stream",
          "name": "stdout",
          "text": [
            "2.6.0+cu124 0.21.0+cu124\n"
          ]
        }
      ],
      "source": [
        "import torch\n",
        "from torch import nn\n",
        "import torchvision\n",
        "from torchvision import datasets\n",
        "from torchvision.transforms import ToTensor\n",
        "\n",
        "import matplotlib.pyplot as plt\n",
        "print(torch.__version__, torchvision.__version__)"
      ]
    },
    {
      "cell_type": "markdown",
      "source": [
        "#### 1. Getting a dataset\n",
        "we provide the following parameters:\n",
        "* `root: str` - which folder do you want to download the data to?\n",
        "* `train: Bool` - do you want the training or test split?\n",
        "* `download: Bool` - should the data be downloaded?\n",
        "* `transform: torchvision.transforms` - what transformations would you like to do on the data?\n",
        "* `target_transform` - you can transform the targets (labels) if you like too.\n",
        "\n",
        "Many other datasets in `torchvision` have these parameter options."
      ],
      "metadata": {
        "id": "DYIUcpDSq8rR"
      }
    },
    {
      "cell_type": "code",
      "source": [
        "train_data = datasets.FashionMNIST(\n",
        "    root=\"data\",\n",
        "    train=True,\n",
        "    download=True,\n",
        "    transform=ToTensor(),\n",
        "    target_transform=None,\n",
        ")\n",
        "\n",
        "test_data = datasets.FashionMNIST(\n",
        "    root=\"data\",\n",
        "    train=False,\n",
        "    download=True,\n",
        "    transform=ToTensor(),\n",
        ")"
      ],
      "metadata": {
        "id": "33hRj8_jq7aN",
        "colab": {
          "base_uri": "https://localhost:8080/"
        },
        "outputId": "d79b442a-2d36-464b-8aa2-537937fcd489"
      },
      "execution_count": null,
      "outputs": [
        {
          "output_type": "stream",
          "name": "stderr",
          "text": [
            "100%|██████████| 26.4M/26.4M [00:00<00:00, 119MB/s]\n",
            "100%|██████████| 29.5k/29.5k [00:00<00:00, 3.79MB/s]\n",
            "100%|██████████| 4.42M/4.42M [00:00<00:00, 61.6MB/s]\n",
            "100%|██████████| 5.15k/5.15k [00:00<00:00, 9.06MB/s]\n"
          ]
        }
      ]
    },
    {
      "cell_type": "code",
      "source": [
        "image, label = train_data[0]\n",
        "image, label"
      ],
      "metadata": {
        "colab": {
          "base_uri": "https://localhost:8080/"
        },
        "id": "6TlmGfQ2rZik",
        "outputId": "e8544ef3-12b0-4664-aa8b-190dbc24873b"
      },
      "execution_count": null,
      "outputs": [
        {
          "output_type": "execute_result",
          "data": {
            "text/plain": [
              "(tensor([[[0.0000, 0.0000, 0.0000, 0.0000, 0.0000, 0.0000, 0.0000, 0.0000,\n",
              "           0.0000, 0.0000, 0.0000, 0.0000, 0.0000, 0.0000, 0.0000, 0.0000,\n",
              "           0.0000, 0.0000, 0.0000, 0.0000, 0.0000, 0.0000, 0.0000, 0.0000,\n",
              "           0.0000, 0.0000, 0.0000, 0.0000],\n",
              "          [0.0000, 0.0000, 0.0000, 0.0000, 0.0000, 0.0000, 0.0000, 0.0000,\n",
              "           0.0000, 0.0000, 0.0000, 0.0000, 0.0000, 0.0000, 0.0000, 0.0000,\n",
              "           0.0000, 0.0000, 0.0000, 0.0000, 0.0000, 0.0000, 0.0000, 0.0000,\n",
              "           0.0000, 0.0000, 0.0000, 0.0000],\n",
              "          [0.0000, 0.0000, 0.0000, 0.0000, 0.0000, 0.0000, 0.0000, 0.0000,\n",
              "           0.0000, 0.0000, 0.0000, 0.0000, 0.0000, 0.0000, 0.0000, 0.0000,\n",
              "           0.0000, 0.0000, 0.0000, 0.0000, 0.0000, 0.0000, 0.0000, 0.0000,\n",
              "           0.0000, 0.0000, 0.0000, 0.0000],\n",
              "          [0.0000, 0.0000, 0.0000, 0.0000, 0.0000, 0.0000, 0.0000, 0.0000,\n",
              "           0.0000, 0.0000, 0.0000, 0.0000, 0.0039, 0.0000, 0.0000, 0.0510,\n",
              "           0.2863, 0.0000, 0.0000, 0.0039, 0.0157, 0.0000, 0.0000, 0.0000,\n",
              "           0.0000, 0.0039, 0.0039, 0.0000],\n",
              "          [0.0000, 0.0000, 0.0000, 0.0000, 0.0000, 0.0000, 0.0000, 0.0000,\n",
              "           0.0000, 0.0000, 0.0000, 0.0000, 0.0118, 0.0000, 0.1412, 0.5333,\n",
              "           0.4980, 0.2431, 0.2118, 0.0000, 0.0000, 0.0000, 0.0039, 0.0118,\n",
              "           0.0157, 0.0000, 0.0000, 0.0118],\n",
              "          [0.0000, 0.0000, 0.0000, 0.0000, 0.0000, 0.0000, 0.0000, 0.0000,\n",
              "           0.0000, 0.0000, 0.0000, 0.0000, 0.0235, 0.0000, 0.4000, 0.8000,\n",
              "           0.6902, 0.5255, 0.5647, 0.4824, 0.0902, 0.0000, 0.0000, 0.0000,\n",
              "           0.0000, 0.0471, 0.0392, 0.0000],\n",
              "          [0.0000, 0.0000, 0.0000, 0.0000, 0.0000, 0.0000, 0.0000, 0.0000,\n",
              "           0.0000, 0.0000, 0.0000, 0.0000, 0.0000, 0.0000, 0.6078, 0.9255,\n",
              "           0.8118, 0.6980, 0.4196, 0.6118, 0.6314, 0.4275, 0.2510, 0.0902,\n",
              "           0.3020, 0.5098, 0.2824, 0.0588],\n",
              "          [0.0000, 0.0000, 0.0000, 0.0000, 0.0000, 0.0000, 0.0000, 0.0000,\n",
              "           0.0000, 0.0000, 0.0000, 0.0039, 0.0000, 0.2706, 0.8118, 0.8745,\n",
              "           0.8549, 0.8471, 0.8471, 0.6392, 0.4980, 0.4745, 0.4784, 0.5725,\n",
              "           0.5529, 0.3451, 0.6745, 0.2588],\n",
              "          [0.0000, 0.0000, 0.0000, 0.0000, 0.0000, 0.0000, 0.0000, 0.0000,\n",
              "           0.0000, 0.0039, 0.0039, 0.0039, 0.0000, 0.7843, 0.9098, 0.9098,\n",
              "           0.9137, 0.8980, 0.8745, 0.8745, 0.8431, 0.8353, 0.6431, 0.4980,\n",
              "           0.4824, 0.7686, 0.8980, 0.0000],\n",
              "          [0.0000, 0.0000, 0.0000, 0.0000, 0.0000, 0.0000, 0.0000, 0.0000,\n",
              "           0.0000, 0.0000, 0.0000, 0.0000, 0.0000, 0.7176, 0.8824, 0.8471,\n",
              "           0.8745, 0.8941, 0.9216, 0.8902, 0.8784, 0.8706, 0.8784, 0.8667,\n",
              "           0.8745, 0.9608, 0.6784, 0.0000],\n",
              "          [0.0000, 0.0000, 0.0000, 0.0000, 0.0000, 0.0000, 0.0000, 0.0000,\n",
              "           0.0000, 0.0000, 0.0000, 0.0000, 0.0000, 0.7569, 0.8941, 0.8549,\n",
              "           0.8353, 0.7765, 0.7059, 0.8314, 0.8235, 0.8275, 0.8353, 0.8745,\n",
              "           0.8627, 0.9529, 0.7922, 0.0000],\n",
              "          [0.0000, 0.0000, 0.0000, 0.0000, 0.0000, 0.0000, 0.0000, 0.0000,\n",
              "           0.0000, 0.0039, 0.0118, 0.0000, 0.0471, 0.8588, 0.8627, 0.8314,\n",
              "           0.8549, 0.7529, 0.6627, 0.8902, 0.8157, 0.8549, 0.8784, 0.8314,\n",
              "           0.8863, 0.7725, 0.8196, 0.2039],\n",
              "          [0.0000, 0.0000, 0.0000, 0.0000, 0.0000, 0.0000, 0.0000, 0.0000,\n",
              "           0.0000, 0.0000, 0.0235, 0.0000, 0.3882, 0.9569, 0.8706, 0.8627,\n",
              "           0.8549, 0.7961, 0.7765, 0.8667, 0.8431, 0.8353, 0.8706, 0.8627,\n",
              "           0.9608, 0.4667, 0.6549, 0.2196],\n",
              "          [0.0000, 0.0000, 0.0000, 0.0000, 0.0000, 0.0000, 0.0000, 0.0000,\n",
              "           0.0000, 0.0157, 0.0000, 0.0000, 0.2157, 0.9255, 0.8941, 0.9020,\n",
              "           0.8941, 0.9412, 0.9098, 0.8353, 0.8549, 0.8745, 0.9176, 0.8510,\n",
              "           0.8510, 0.8196, 0.3608, 0.0000],\n",
              "          [0.0000, 0.0000, 0.0039, 0.0157, 0.0235, 0.0275, 0.0078, 0.0000,\n",
              "           0.0000, 0.0000, 0.0000, 0.0000, 0.9294, 0.8863, 0.8510, 0.8745,\n",
              "           0.8706, 0.8588, 0.8706, 0.8667, 0.8471, 0.8745, 0.8980, 0.8431,\n",
              "           0.8549, 1.0000, 0.3020, 0.0000],\n",
              "          [0.0000, 0.0118, 0.0000, 0.0000, 0.0000, 0.0000, 0.0000, 0.0000,\n",
              "           0.0000, 0.2431, 0.5686, 0.8000, 0.8941, 0.8118, 0.8353, 0.8667,\n",
              "           0.8549, 0.8157, 0.8275, 0.8549, 0.8784, 0.8745, 0.8588, 0.8431,\n",
              "           0.8784, 0.9569, 0.6235, 0.0000],\n",
              "          [0.0000, 0.0000, 0.0000, 0.0000, 0.0706, 0.1725, 0.3216, 0.4196,\n",
              "           0.7412, 0.8941, 0.8627, 0.8706, 0.8510, 0.8863, 0.7843, 0.8039,\n",
              "           0.8275, 0.9020, 0.8784, 0.9176, 0.6902, 0.7373, 0.9804, 0.9725,\n",
              "           0.9137, 0.9333, 0.8431, 0.0000],\n",
              "          [0.0000, 0.2235, 0.7333, 0.8157, 0.8784, 0.8667, 0.8784, 0.8157,\n",
              "           0.8000, 0.8392, 0.8157, 0.8196, 0.7843, 0.6235, 0.9608, 0.7569,\n",
              "           0.8078, 0.8745, 1.0000, 1.0000, 0.8667, 0.9176, 0.8667, 0.8275,\n",
              "           0.8627, 0.9098, 0.9647, 0.0000],\n",
              "          [0.0118, 0.7922, 0.8941, 0.8784, 0.8667, 0.8275, 0.8275, 0.8392,\n",
              "           0.8039, 0.8039, 0.8039, 0.8627, 0.9412, 0.3137, 0.5882, 1.0000,\n",
              "           0.8980, 0.8667, 0.7373, 0.6039, 0.7490, 0.8235, 0.8000, 0.8196,\n",
              "           0.8706, 0.8941, 0.8824, 0.0000],\n",
              "          [0.3843, 0.9137, 0.7765, 0.8235, 0.8706, 0.8980, 0.8980, 0.9176,\n",
              "           0.9765, 0.8627, 0.7608, 0.8431, 0.8510, 0.9451, 0.2549, 0.2863,\n",
              "           0.4157, 0.4588, 0.6588, 0.8588, 0.8667, 0.8431, 0.8510, 0.8745,\n",
              "           0.8745, 0.8784, 0.8980, 0.1137],\n",
              "          [0.2941, 0.8000, 0.8314, 0.8000, 0.7569, 0.8039, 0.8275, 0.8824,\n",
              "           0.8471, 0.7255, 0.7725, 0.8078, 0.7765, 0.8353, 0.9412, 0.7647,\n",
              "           0.8902, 0.9608, 0.9373, 0.8745, 0.8549, 0.8314, 0.8196, 0.8706,\n",
              "           0.8627, 0.8667, 0.9020, 0.2627],\n",
              "          [0.1882, 0.7961, 0.7176, 0.7608, 0.8353, 0.7725, 0.7255, 0.7451,\n",
              "           0.7608, 0.7529, 0.7922, 0.8392, 0.8588, 0.8667, 0.8627, 0.9255,\n",
              "           0.8824, 0.8471, 0.7804, 0.8078, 0.7294, 0.7098, 0.6941, 0.6745,\n",
              "           0.7098, 0.8039, 0.8078, 0.4510],\n",
              "          [0.0000, 0.4784, 0.8588, 0.7569, 0.7020, 0.6706, 0.7176, 0.7686,\n",
              "           0.8000, 0.8235, 0.8353, 0.8118, 0.8275, 0.8235, 0.7843, 0.7686,\n",
              "           0.7608, 0.7490, 0.7647, 0.7490, 0.7765, 0.7529, 0.6902, 0.6118,\n",
              "           0.6549, 0.6941, 0.8235, 0.3608],\n",
              "          [0.0000, 0.0000, 0.2902, 0.7412, 0.8314, 0.7490, 0.6863, 0.6745,\n",
              "           0.6863, 0.7098, 0.7255, 0.7373, 0.7412, 0.7373, 0.7569, 0.7765,\n",
              "           0.8000, 0.8196, 0.8235, 0.8235, 0.8275, 0.7373, 0.7373, 0.7608,\n",
              "           0.7529, 0.8471, 0.6667, 0.0000],\n",
              "          [0.0078, 0.0000, 0.0000, 0.0000, 0.2588, 0.7843, 0.8706, 0.9294,\n",
              "           0.9373, 0.9490, 0.9647, 0.9529, 0.9569, 0.8667, 0.8627, 0.7569,\n",
              "           0.7490, 0.7020, 0.7137, 0.7137, 0.7098, 0.6902, 0.6510, 0.6588,\n",
              "           0.3882, 0.2275, 0.0000, 0.0000],\n",
              "          [0.0000, 0.0000, 0.0000, 0.0000, 0.0000, 0.0000, 0.0000, 0.1569,\n",
              "           0.2392, 0.1725, 0.2824, 0.1608, 0.1373, 0.0000, 0.0000, 0.0000,\n",
              "           0.0000, 0.0000, 0.0000, 0.0000, 0.0000, 0.0000, 0.0000, 0.0000,\n",
              "           0.0000, 0.0000, 0.0000, 0.0000],\n",
              "          [0.0000, 0.0000, 0.0000, 0.0000, 0.0000, 0.0000, 0.0000, 0.0000,\n",
              "           0.0000, 0.0000, 0.0000, 0.0000, 0.0000, 0.0000, 0.0000, 0.0000,\n",
              "           0.0000, 0.0000, 0.0000, 0.0000, 0.0000, 0.0000, 0.0000, 0.0000,\n",
              "           0.0000, 0.0000, 0.0000, 0.0000],\n",
              "          [0.0000, 0.0000, 0.0000, 0.0000, 0.0000, 0.0000, 0.0000, 0.0000,\n",
              "           0.0000, 0.0000, 0.0000, 0.0000, 0.0000, 0.0000, 0.0000, 0.0000,\n",
              "           0.0000, 0.0000, 0.0000, 0.0000, 0.0000, 0.0000, 0.0000, 0.0000,\n",
              "           0.0000, 0.0000, 0.0000, 0.0000]]]),\n",
              " 9)"
            ]
          },
          "metadata": {},
          "execution_count": 3
        }
      ]
    },
    {
      "cell_type": "markdown",
      "source": [
        "##### 1.1 Input and Output Shapes of a Computer Vision Model"
      ],
      "metadata": {
        "id": "NP_fxF_4rlZ1"
      }
    },
    {
      "cell_type": "code",
      "source": [
        "image.shape #colour_channel,height, width"
      ],
      "metadata": {
        "colab": {
          "base_uri": "https://localhost:8080/"
        },
        "id": "mZEuaxDPre_s",
        "outputId": "78f1a55e-c538-4051-9699-9f08f38c439d"
      },
      "execution_count": null,
      "outputs": [
        {
          "output_type": "execute_result",
          "data": {
            "text/plain": [
              "torch.Size([1, 28, 28])"
            ]
          },
          "metadata": {},
          "execution_count": 4
        }
      ]
    },
    {
      "cell_type": "markdown",
      "source": [
        "PyTorch generally accepts `NCHW` (channels first) as the default for many operators.\n",
        "\n",
        "However, PyTorch also explains that `NHWC` (channels last) performs better and is [considered best practice](https://pytorch.org/blog/tensor-memory-format-matters/#pytorch-best-practice)."
      ],
      "metadata": {
        "id": "O3j-0pyvsL0V"
      }
    },
    {
      "cell_type": "code",
      "source": [
        "len(train_data.data), len(train_data.targets), len(test_data.data), len(test_data.targets)"
      ],
      "metadata": {
        "colab": {
          "base_uri": "https://localhost:8080/"
        },
        "id": "zOerz-GXrwRf",
        "outputId": "11aa2f78-4fea-4325-8697-8df881857e07"
      },
      "execution_count": null,
      "outputs": [
        {
          "output_type": "execute_result",
          "data": {
            "text/plain": [
              "(60000, 60000, 10000, 10000)"
            ]
          },
          "metadata": {},
          "execution_count": 5
        }
      ]
    },
    {
      "cell_type": "code",
      "source": [
        "class_names = train_data.classes\n",
        "class_names"
      ],
      "metadata": {
        "colab": {
          "base_uri": "https://localhost:8080/"
        },
        "id": "3bjxNnZEsSaM",
        "outputId": "3091e5df-3087-4c86-f0d8-42bb5aa0a090"
      },
      "execution_count": null,
      "outputs": [
        {
          "output_type": "execute_result",
          "data": {
            "text/plain": [
              "['T-shirt/top',\n",
              " 'Trouser',\n",
              " 'Pullover',\n",
              " 'Dress',\n",
              " 'Coat',\n",
              " 'Sandal',\n",
              " 'Shirt',\n",
              " 'Sneaker',\n",
              " 'Bag',\n",
              " 'Ankle boot']"
            ]
          },
          "metadata": {},
          "execution_count": 6
        }
      ]
    },
    {
      "cell_type": "markdown",
      "source": [
        "10 different classes, it means our problem is **multi-class classification**.\n"
      ],
      "metadata": {
        "id": "1zjAmWaAsfHZ"
      }
    },
    {
      "cell_type": "code",
      "source": [
        "image, label = train_data[0]\n",
        "print(f\"Image shape: {image.shape}, image.squeeze() shape: {image.squeeze().shape}\")\n",
        "plt.imshow(image.squeeze())\n",
        "plt.title(class_names[label]);"
      ],
      "metadata": {
        "colab": {
          "base_uri": "https://localhost:8080/",
          "height": 469
        },
        "id": "yE44TYTwsbWE",
        "outputId": "afbc5f89-4780-438d-bbe1-a8dcbde94c2e"
      },
      "execution_count": null,
      "outputs": [
        {
          "output_type": "stream",
          "name": "stdout",
          "text": [
            "Image shape: torch.Size([1, 28, 28]), image.squeeze() shape: torch.Size([28, 28])\n"
          ]
        },
        {
          "output_type": "display_data",
          "data": {
            "text/plain": [
              "<Figure size 640x480 with 1 Axes>"
            ],
            "image/png": "[encoded data removed]"
          },
          "metadata": {}
        }
      ]
    },
    {
      "cell_type": "code",
      "source": [
        "plt.imshow(image.squeeze(), cmap=\"gray\")\n",
        "plt.title(class_names[label]);"
      ],
      "metadata": {
        "colab": {
          "base_uri": "https://localhost:8080/",
          "height": 452
        },
        "id": "3aQGl3RMsyGE",
        "outputId": "29cb4e1c-71d5-49f8-bb58-7cfd8e18f469"
      },
      "execution_count": null,
      "outputs": [
        {
          "output_type": "display_data",
          "data": {
            "text/plain": [
              "<Figure size 640x480 with 1 Axes>"
            ],
            "image/png": "[encoded data removed]"
          },
          "metadata": {}
        }
      ]
    },
    {
      "cell_type": "code",
      "source": [
        "torch.manual_seed(42)\n",
        "fig = plt.figure(figsize=(9, 9))\n",
        "rows, cols = 4, 4\n",
        "for i in range(1, rows * cols + 1):\n",
        "    random_idx = torch.randint(0, len(train_data), size=[1]).item()\n",
        "    img, label = train_data[random_idx]\n",
        "    fig.add_subplot(rows, cols, i)\n",
        "    plt.imshow(img.squeeze(), cmap=\"gray\")\n",
        "    plt.title(class_names[label])\n",
        "    plt.axis(False);"
      ],
      "metadata": {
        "colab": {
          "base_uri": "https://localhost:8080/",
          "height": 752
        },
        "id": "KBuK8r03tTyS",
        "outputId": "d8c9a30f-408f-492b-d4bc-091b1239afef"
      },
      "execution_count": null,
      "outputs": [
        {
          "output_type": "display_data",
          "data": {
            "text/plain": [
              "<Figure size 900x900 with 16 Axes>"
            ],
            "image/png": "[encoded data removed]"
          },
          "metadata": {}
        }
      ]
    },
    {
      "cell_type": "markdown",
      "source": [
        "#### 2. Prepare the DataLoader"
      ],
      "metadata": {
        "id": "SZd0XGanwHWM"
      }
    },
    {
      "cell_type": "markdown",
      "source": [
        "creata a dataloaders for out training set"
      ],
      "metadata": {
        "id": "_qg5WwyVwZSN"
      }
    },
    {
      "cell_type": "code",
      "source": [
        "from torch.utils.data import DataLoader\n"
      ],
      "metadata": {
        "id": "nTfbMEcAvzWk"
      },
      "execution_count": null,
      "outputs": []
    },
    {
      "cell_type": "code",
      "source": [
        "BATCH_SIZE = 32\n",
        "train_dataloader = DataLoader(\n",
        "    train_data,\n",
        "    batch_size = BATCH_SIZE,\n",
        "    shuffle = True\n",
        ")\n",
        "\n",
        "test_dataloader = DataLoader(\n",
        "    test_data,\n",
        "    batch_size = BATCH_SIZE,\n",
        "    shuffle = False\n",
        ")\n"
      ],
      "metadata": {
        "id": "JL9HwapF1DQk"
      },
      "execution_count": null,
      "outputs": []
    },
    {
      "cell_type": "code",
      "source": [
        "print(f\"Dataloaders: {train_dataloader, test_dataloader}\")"
      ],
      "metadata": {
        "colab": {
          "base_uri": "https://localhost:8080/"
        },
        "id": "G_7mVT1d1i71",
        "outputId": "60641bfb-4252-4228-9e47-8b1ccb90277b"
      },
      "execution_count": null,
      "outputs": [
        {
          "output_type": "stream",
          "name": "stdout",
          "text": [
            "Dataloaders: (<torch.utils.data.dataloader.DataLoader object at 0x7e983c68cad0>, <torch.utils.data.dataloader.DataLoader object at 0x7e983c5df0d0>)\n"
          ]
        }
      ]
    },
    {
      "cell_type": "code",
      "source": [
        "print(f\"Length of train dataloader: {len(train_dataloader)} batches of {BATCH_SIZE}\")\n",
        "print(f\"Length of test dataloader: {len(test_dataloader)} batches of {BATCH_SIZE}\")"
      ],
      "metadata": {
        "colab": {
          "base_uri": "https://localhost:8080/"
        },
        "id": "9m2HoDQx1osE",
        "outputId": "24c95498-c853-4342-c41c-0460d0fd0b55"
      },
      "execution_count": null,
      "outputs": [
        {
          "output_type": "stream",
          "name": "stdout",
          "text": [
            "Length of train dataloader: 1875 batches of 32\n",
            "Length of test dataloader: 313 batches of 32\n"
          ]
        }
      ]
    },
    {
      "cell_type": "code",
      "source": [
        "train_features_batch, train_labels_batch = next(iter(train_dataloader))\n",
        "train_features_batch.shape, train_labels_batch.shape"
      ],
      "metadata": {
        "colab": {
          "base_uri": "https://localhost:8080/"
        },
        "id": "BIExeh0x1uRs",
        "outputId": "d42ab37d-cdf0-49d4-db6b-fa76766b8f9a"
      },
      "execution_count": null,
      "outputs": [
        {
          "output_type": "execute_result",
          "data": {
            "text/plain": [
              "(torch.Size([32, 1, 28, 28]), torch.Size([32]))"
            ]
          },
          "metadata": {},
          "execution_count": 14
        }
      ]
    },
    {
      "cell_type": "code",
      "source": [
        "torch.manual_seed(42)\n",
        "random_idx = torch.randint(0, len(train_features_batch), size=[1]).item()\n",
        "img, label = train_features_batch[random_idx], train_labels_batch[random_idx]\n",
        "plt.imshow(img.squeeze(), cmap=\"gray\")\n",
        "plt.title(class_names[label]);\n",
        "plt.axis(\"Off\");\n",
        "print(f\"Image size: {img.shape}\")\n",
        "print(f\"Label: {label}, Label size: {label.shape}\")"
      ],
      "metadata": {
        "colab": {
          "base_uri": "https://localhost:8080/",
          "height": 463
        },
        "id": "pBo7irlo2Ya8",
        "outputId": "764e7707-db2b-4ce1-c2d4-6fde714554ff"
      },
      "execution_count": null,
      "outputs": [
        {
          "output_type": "stream",
          "name": "stdout",
          "text": [
            "Image size: torch.Size([1, 28, 28])\n",
            "Label: 6, Label size: torch.Size([])\n"
          ]
        },
        {
          "output_type": "display_data",
          "data": {
            "text/plain": [
              "<Figure size 640x480 with 1 Axes>"
            ],
            "image/png": "[encoded data removed]"
          },
          "metadata": {}
        }
      ]
    },
    {
      "cell_type": "markdown",
      "source": [
        "#### Model 0 : Building a Baseline Model"
      ],
      "metadata": {
        "id": "_MQN1Dds3qoT"
      }
    },
    {
      "cell_type": "code",
      "source": [
        "flatten_model = nn.Flatten()\n",
        "x = train_features_batch[0]\n",
        "\n",
        "output = flatten_model(x)\n",
        "\n",
        "print(f\"Shape Before Flattening: {x.shape} --> [colour_channels, height, width]\\nShape After Flattening: {output.shape} --> [colour_channels, height*width]\")"
      ],
      "metadata": {
        "colab": {
          "base_uri": "https://localhost:8080/"
        },
        "id": "HNaloLmU3knk",
        "outputId": "719c4cef-7fda-4326-ec13-7ee9655eac3f"
      },
      "execution_count": null,
      "outputs": [
        {
          "output_type": "stream",
          "name": "stdout",
          "text": [
            "Shape Before Flattening: torch.Size([1, 28, 28]) --> [colour_channels, height, width]\n",
            "Shape After Flattening: torch.Size([1, 784]) --> [colour_channels, height*width]\n"
          ]
        }
      ]
    },
    {
      "cell_type": "code",
      "source": [
        "print(x)"
      ],
      "metadata": {
        "colab": {
          "base_uri": "https://localhost:8080/"
        },
        "id": "rURpq05i5BEM",
        "outputId": "880a8aa7-74f2-4532-8b8b-27cb63931ab4"
      },
      "execution_count": null,
      "outputs": [
        {
          "output_type": "stream",
          "name": "stdout",
          "text": [
            "tensor([[[0.0000, 0.0000, 0.0000, 0.0000, 0.0000, 0.0000, 0.0000, 0.0000,\n",
            "          0.0000, 0.0000, 0.0000, 0.0000, 0.0000, 0.0000, 0.0000, 0.0000,\n",
            "          0.0000, 0.0000, 0.0000, 0.0000, 0.0000, 0.0000, 0.0000, 0.0000,\n",
            "          0.0000, 0.0000, 0.0000, 0.0000],\n",
            "         [0.0000, 0.0000, 0.0000, 0.0000, 0.0000, 0.0000, 0.0000, 0.0000,\n",
            "          0.0000, 0.0000, 0.0000, 0.0000, 0.0000, 0.0000, 0.0000, 0.0000,\n",
            "          0.0000, 0.0000, 0.0000, 0.0000, 0.0000, 0.0000, 0.0000, 0.0000,\n",
            "          0.0000, 0.0000, 0.0000, 0.0000],\n",
            "         [0.0000, 0.0000, 0.0000, 0.0000, 0.0000, 0.0000, 0.0000, 0.0000,\n",
            "          0.0000, 0.0000, 0.0000, 0.0000, 0.0000, 0.0000, 0.0000, 0.0000,\n",
            "          0.0000, 0.0000, 0.0000, 0.0000, 0.0000, 0.0000, 0.0000, 0.0000,\n",
            "          0.0000, 0.0000, 0.0000, 0.0000],\n",
            "         [0.0000, 0.0000, 0.0000, 0.0000, 0.0000, 0.0000, 0.0000, 0.0000,\n",
            "          0.0000, 0.0039, 0.0039, 0.0000, 0.0000, 0.0078, 0.0078, 0.0000,\n",
            "          0.0000, 0.0039, 0.0078, 0.0000, 0.0000, 0.0000, 0.0000, 0.0000,\n",
            "          0.2863, 0.0000, 0.0000, 0.0078],\n",
            "         [0.0000, 0.0000, 0.0000, 0.0000, 0.0000, 0.0000, 0.0000, 0.0000,\n",
            "          0.0000, 0.0000, 0.0000, 0.0000, 0.0000, 0.0000, 0.0000, 0.0000,\n",
            "          0.0000, 0.0000, 0.0000, 0.0000, 0.0000, 0.0000, 0.0000, 0.0000,\n",
            "          0.3725, 0.0000, 0.0000, 0.0000],\n",
            "         [0.0000, 0.0000, 0.0000, 0.0000, 0.0000, 0.0000, 0.0000, 0.0000,\n",
            "          0.0000, 0.0000, 0.0000, 0.0000, 0.0000, 0.3373, 0.3569, 0.2039,\n",
            "          0.4980, 0.4196, 0.4706, 0.3608, 0.3961, 0.4706, 0.4471, 1.0000,\n",
            "          0.4314, 0.3451, 0.0078, 0.0000],\n",
            "         [0.0000, 0.0000, 0.0000, 0.0000, 0.0000, 0.0000, 0.0000, 0.0000,\n",
            "          0.0000, 0.0000, 0.0000, 0.0000, 0.0000, 0.0706, 0.0824, 0.0706,\n",
            "          0.4588, 0.4118, 0.4980, 0.2588, 0.2235, 0.2588, 0.0824, 0.0510,\n",
            "          0.1922, 0.5137, 0.5765, 0.0000],\n",
            "         [0.0000, 0.0000, 0.0000, 0.0000, 0.0000, 0.0000, 0.0000, 0.0000,\n",
            "          0.0000, 0.0000, 0.0000, 0.0000, 0.0000, 0.0000, 0.0000, 0.0000,\n",
            "          0.0000, 0.0000, 0.0000, 0.0000, 0.0000, 0.0000, 0.0000, 0.1333,\n",
            "          0.8000, 0.5608, 0.5255, 0.2431],\n",
            "         [0.0000, 0.0000, 0.0000, 0.0000, 0.0000, 0.0000, 0.0000, 0.0000,\n",
            "          0.0000, 0.0000, 0.0000, 0.0000, 0.0000, 0.0039, 0.0039, 0.0000,\n",
            "          0.0000, 0.0000, 0.0000, 0.0078, 0.0000, 0.0000, 0.0000, 0.9137,\n",
            "          0.9686, 0.5137, 0.4353, 0.6471],\n",
            "         [0.0000, 0.0000, 0.0000, 0.0000, 0.0000, 0.0000, 0.0000, 0.0000,\n",
            "          0.0000, 0.0000, 0.0000, 0.0000, 0.0000, 0.0000, 0.0000, 0.0000,\n",
            "          0.0000, 0.0000, 0.0000, 0.0000, 0.0000, 0.0000, 0.0588, 0.3843,\n",
            "          0.6980, 0.0588, 0.2824, 0.1686],\n",
            "         [0.0000, 0.0000, 0.0000, 0.0000, 0.0000, 0.0000, 0.0000, 0.0000,\n",
            "          0.0000, 0.0000, 0.0000, 0.0000, 0.0000, 0.0000, 0.0000, 0.0000,\n",
            "          0.0000, 0.0000, 0.0000, 0.0000, 0.0000, 0.1333, 0.2078, 0.2157,\n",
            "          0.6745, 0.2941, 0.1059, 0.0000],\n",
            "         [0.0000, 0.0000, 0.0000, 0.0000, 0.0000, 0.0000, 0.0000, 0.0000,\n",
            "          0.0000, 0.0000, 0.0000, 0.0000, 0.0000, 0.0000, 0.0000, 0.0000,\n",
            "          0.0000, 0.0000, 0.0039, 0.0000, 0.0078, 0.3333, 0.2980, 0.2941,\n",
            "          0.2039, 0.0314, 0.0000, 0.0000],\n",
            "         [0.0000, 0.0000, 0.0000, 0.0000, 0.0000, 0.0000, 0.0000, 0.0000,\n",
            "          0.0000, 0.0000, 0.0000, 0.0000, 0.0000, 0.0000, 0.0000, 0.0000,\n",
            "          0.0000, 0.0039, 0.0039, 0.0000, 0.2196, 0.5020, 0.0157, 0.0706,\n",
            "          0.3451, 0.3216, 0.0588, 0.0000],\n",
            "         [0.0000, 0.0000, 0.0000, 0.0000, 0.0000, 0.0000, 0.0000, 0.0000,\n",
            "          0.0000, 0.0000, 0.0000, 0.0000, 0.0000, 0.0000, 0.0000, 0.0000,\n",
            "          0.0000, 0.0000, 0.0000, 0.0157, 0.4863, 0.3843, 0.1804, 0.6235,\n",
            "          0.7882, 0.6000, 0.1569, 0.0000],\n",
            "         [0.0000, 0.0000, 0.0000, 0.0000, 0.0000, 0.0000, 0.0000, 0.0000,\n",
            "          0.0000, 0.0000, 0.0000, 0.0000, 0.0000, 0.0000, 0.0000, 0.0000,\n",
            "          0.0000, 0.0000, 0.0000, 0.2863, 0.4431, 0.4196, 0.5882, 0.5020,\n",
            "          0.1020, 0.2235, 0.0549, 0.0000],\n",
            "         [0.0000, 0.0000, 0.0000, 0.0000, 0.0000, 0.0000, 0.0000, 0.0000,\n",
            "          0.0000, 0.0000, 0.0000, 0.0000, 0.0000, 0.0000, 0.0000, 0.0000,\n",
            "          0.0000, 0.0000, 0.0039, 0.4078, 0.4314, 0.7137, 0.1843, 0.2196,\n",
            "          0.4118, 0.3216, 0.0196, 0.0000],\n",
            "         [0.0000, 0.0000, 0.0000, 0.0000, 0.0039, 0.0000, 0.0000, 0.0000,\n",
            "          0.0000, 0.0000, 0.0000, 0.0000, 0.0000, 0.0000, 0.0000, 0.0000,\n",
            "          0.0000, 0.0000, 0.2549, 0.5647, 0.6275, 0.0824, 0.0000, 0.0000,\n",
            "          0.5098, 0.3333, 0.0000, 0.0000],\n",
            "         [0.0000, 0.0000, 0.0000, 0.0000, 0.0000, 0.0000, 0.0039, 0.0039,\n",
            "          0.0000, 0.0000, 0.0000, 0.0000, 0.0000, 0.0000, 0.0000, 0.0000,\n",
            "          0.0000, 0.3333, 0.5647, 0.5529, 0.0000, 0.0000, 0.0000, 0.0000,\n",
            "          0.6510, 0.3059, 0.0000, 0.0000],\n",
            "         [0.0000, 0.0000, 0.0000, 0.0000, 0.0000, 0.0000, 0.0000, 0.0000,\n",
            "          0.0000, 0.0000, 0.0000, 0.0000, 0.0000, 0.0000, 0.0000, 0.0000,\n",
            "          0.1922, 0.7216, 0.4510, 0.0000, 0.0000, 0.0157, 0.0000, 0.0000,\n",
            "          0.6275, 0.2667, 0.0000, 0.0000],\n",
            "         [0.0000, 0.0000, 0.0000, 0.0039, 0.0000, 0.0000, 0.0784, 0.0784,\n",
            "          0.0000, 0.0000, 0.0000, 0.0000, 0.0000, 0.0000, 0.0000, 0.0706,\n",
            "          0.6392, 0.3804, 0.0000, 0.0000, 0.0000, 0.0314, 0.0000, 0.0000,\n",
            "          0.6667, 0.1529, 0.0000, 0.0000],\n",
            "         [0.0000, 0.0000, 0.0039, 0.0000, 0.0314, 0.2471, 0.2980, 0.1686,\n",
            "          0.0000, 0.0000, 0.0000, 0.0000, 0.0000, 0.0000, 0.0000, 0.5255,\n",
            "          0.5333, 0.0000, 0.0000, 0.0000, 0.0000, 0.0078, 0.0000, 0.0000,\n",
            "          0.6784, 0.0706, 0.0000, 0.0039],\n",
            "         [0.0039, 0.0039, 0.0000, 0.0000, 0.0706, 0.0941, 0.0000, 0.0196,\n",
            "          0.0000, 0.0000, 0.0000, 0.0000, 0.0000, 0.0000, 0.3451, 0.7137,\n",
            "          0.0275, 0.0000, 0.0000, 0.0000, 0.0000, 0.0000, 0.0000, 0.0000,\n",
            "          0.6588, 0.0039, 0.0000, 0.0039],\n",
            "         [0.0000, 0.0000, 0.0000, 0.0000, 0.0078, 0.1922, 0.1059, 0.1216,\n",
            "          0.2196, 0.0667, 0.0000, 0.0000, 0.0000, 0.3451, 0.6000, 0.1922,\n",
            "          0.0000, 0.0196, 0.0000, 0.0039, 0.0000, 0.0000, 0.0000, 0.0000,\n",
            "          0.6471, 0.0000, 0.0000, 0.0039],\n",
            "         [0.0510, 0.0275, 0.0000, 0.0000, 0.0000, 0.3294, 0.3804, 0.4000,\n",
            "          0.4941, 0.3882, 0.0000, 0.0196, 0.5020, 0.6000, 0.2863, 0.0000,\n",
            "          0.0000, 0.0000, 0.0000, 0.0000, 0.0000, 0.0000, 0.0000, 0.0039,\n",
            "          0.5451, 0.0000, 0.0000, 0.0000],\n",
            "         [0.3176, 0.5961, 0.5725, 0.5490, 0.4863, 0.4824, 0.5098, 0.4941,\n",
            "          0.4431, 0.4431, 0.4471, 0.7216, 0.6235, 0.1647, 0.0000, 0.0000,\n",
            "          0.0000, 0.0078, 0.0000, 0.0000, 0.0000, 0.0000, 0.0000, 0.0000,\n",
            "          0.7294, 0.0000, 0.0000, 0.0039],\n",
            "         [0.0000, 0.0000, 0.0000, 0.0941, 0.1647, 0.1804, 0.2235, 0.2549,\n",
            "          0.2706, 0.2549, 0.2471, 0.1569, 0.0000, 0.0000, 0.0000, 0.0000,\n",
            "          0.0000, 0.0000, 0.0000, 0.0000, 0.0000, 0.0000, 0.0000, 0.0000,\n",
            "          0.7137, 0.0157, 0.0000, 0.0039],\n",
            "         [0.0000, 0.0000, 0.0000, 0.0000, 0.0000, 0.0000, 0.0000, 0.0000,\n",
            "          0.0000, 0.0000, 0.0000, 0.0000, 0.0000, 0.0000, 0.0000, 0.0000,\n",
            "          0.0000, 0.0000, 0.0000, 0.0000, 0.0000, 0.0000, 0.0000, 0.0000,\n",
            "          0.0000, 0.0000, 0.0000, 0.0000],\n",
            "         [0.0000, 0.0000, 0.0000, 0.0000, 0.0000, 0.0000, 0.0000, 0.0000,\n",
            "          0.0000, 0.0000, 0.0000, 0.0000, 0.0000, 0.0000, 0.0000, 0.0000,\n",
            "          0.0000, 0.0000, 0.0000, 0.0000, 0.0000, 0.0000, 0.0000, 0.0000,\n",
            "          0.0000, 0.0000, 0.0000, 0.0000]]])\n"
          ]
        }
      ]
    },
    {
      "cell_type": "code",
      "source": [
        "print(output)"
      ],
      "metadata": {
        "colab": {
          "base_uri": "https://localhost:8080/"
        },
        "id": "lApe_ML65DD8",
        "outputId": "8e49342d-f7ec-4e02-c06f-abae84215514"
      },
      "execution_count": null,
      "outputs": [
        {
          "output_type": "stream",
          "name": "stdout",
          "text": [
            "tensor([[0.0000, 0.0000, 0.0000, 0.0000, 0.0000, 0.0000, 0.0000, 0.0000, 0.0000,\n",
            "         0.0000, 0.0000, 0.0000, 0.0000, 0.0000, 0.0000, 0.0000, 0.0000, 0.0000,\n",
            "         0.0000, 0.0000, 0.0000, 0.0000, 0.0000, 0.0000, 0.0000, 0.0000, 0.0000,\n",
            "         0.0000, 0.0000, 0.0000, 0.0000, 0.0000, 0.0000, 0.0000, 0.0000, 0.0000,\n",
            "         0.0000, 0.0000, 0.0000, 0.0000, 0.0000, 0.0000, 0.0000, 0.0000, 0.0000,\n",
            "         0.0000, 0.0000, 0.0000, 0.0000, 0.0000, 0.0000, 0.0000, 0.0000, 0.0000,\n",
            "         0.0000, 0.0000, 0.0000, 0.0000, 0.0000, 0.0000, 0.0000, 0.0000, 0.0000,\n",
            "         0.0000, 0.0000, 0.0000, 0.0000, 0.0000, 0.0000, 0.0000, 0.0000, 0.0000,\n",
            "         0.0000, 0.0000, 0.0000, 0.0000, 0.0000, 0.0000, 0.0000, 0.0000, 0.0000,\n",
            "         0.0000, 0.0000, 0.0000, 0.0000, 0.0000, 0.0000, 0.0000, 0.0000, 0.0000,\n",
            "         0.0000, 0.0000, 0.0000, 0.0039, 0.0039, 0.0000, 0.0000, 0.0078, 0.0078,\n",
            "         0.0000, 0.0000, 0.0039, 0.0078, 0.0000, 0.0000, 0.0000, 0.0000, 0.0000,\n",
            "         0.2863, 0.0000, 0.0000, 0.0078, 0.0000, 0.0000, 0.0000, 0.0000, 0.0000,\n",
            "         0.0000, 0.0000, 0.0000, 0.0000, 0.0000, 0.0000, 0.0000, 0.0000, 0.0000,\n",
            "         0.0000, 0.0000, 0.0000, 0.0000, 0.0000, 0.0000, 0.0000, 0.0000, 0.0000,\n",
            "         0.0000, 0.3725, 0.0000, 0.0000, 0.0000, 0.0000, 0.0000, 0.0000, 0.0000,\n",
            "         0.0000, 0.0000, 0.0000, 0.0000, 0.0000, 0.0000, 0.0000, 0.0000, 0.0000,\n",
            "         0.3373, 0.3569, 0.2039, 0.4980, 0.4196, 0.4706, 0.3608, 0.3961, 0.4706,\n",
            "         0.4471, 1.0000, 0.4314, 0.3451, 0.0078, 0.0000, 0.0000, 0.0000, 0.0000,\n",
            "         0.0000, 0.0000, 0.0000, 0.0000, 0.0000, 0.0000, 0.0000, 0.0000, 0.0000,\n",
            "         0.0000, 0.0706, 0.0824, 0.0706, 0.4588, 0.4118, 0.4980, 0.2588, 0.2235,\n",
            "         0.2588, 0.0824, 0.0510, 0.1922, 0.5137, 0.5765, 0.0000, 0.0000, 0.0000,\n",
            "         0.0000, 0.0000, 0.0000, 0.0000, 0.0000, 0.0000, 0.0000, 0.0000, 0.0000,\n",
            "         0.0000, 0.0000, 0.0000, 0.0000, 0.0000, 0.0000, 0.0000, 0.0000, 0.0000,\n",
            "         0.0000, 0.0000, 0.0000, 0.1333, 0.8000, 0.5608, 0.5255, 0.2431, 0.0000,\n",
            "         0.0000, 0.0000, 0.0000, 0.0000, 0.0000, 0.0000, 0.0000, 0.0000, 0.0000,\n",
            "         0.0000, 0.0000, 0.0000, 0.0039, 0.0039, 0.0000, 0.0000, 0.0000, 0.0000,\n",
            "         0.0078, 0.0000, 0.0000, 0.0000, 0.9137, 0.9686, 0.5137, 0.4353, 0.6471,\n",
            "         0.0000, 0.0000, 0.0000, 0.0000, 0.0000, 0.0000, 0.0000, 0.0000, 0.0000,\n",
            "         0.0000, 0.0000, 0.0000, 0.0000, 0.0000, 0.0000, 0.0000, 0.0000, 0.0000,\n",
            "         0.0000, 0.0000, 0.0000, 0.0000, 0.0588, 0.3843, 0.6980, 0.0588, 0.2824,\n",
            "         0.1686, 0.0000, 0.0000, 0.0000, 0.0000, 0.0000, 0.0000, 0.0000, 0.0000,\n",
            "         0.0000, 0.0000, 0.0000, 0.0000, 0.0000, 0.0000, 0.0000, 0.0000, 0.0000,\n",
            "         0.0000, 0.0000, 0.0000, 0.0000, 0.1333, 0.2078, 0.2157, 0.6745, 0.2941,\n",
            "         0.1059, 0.0000, 0.0000, 0.0000, 0.0000, 0.0000, 0.0000, 0.0000, 0.0000,\n",
            "         0.0000, 0.0000, 0.0000, 0.0000, 0.0000, 0.0000, 0.0000, 0.0000, 0.0000,\n",
            "         0.0000, 0.0000, 0.0039, 0.0000, 0.0078, 0.3333, 0.2980, 0.2941, 0.2039,\n",
            "         0.0314, 0.0000, 0.0000, 0.0000, 0.0000, 0.0000, 0.0000, 0.0000, 0.0000,\n",
            "         0.0000, 0.0000, 0.0000, 0.0000, 0.0000, 0.0000, 0.0000, 0.0000, 0.0000,\n",
            "         0.0000, 0.0000, 0.0039, 0.0039, 0.0000, 0.2196, 0.5020, 0.0157, 0.0706,\n",
            "         0.3451, 0.3216, 0.0588, 0.0000, 0.0000, 0.0000, 0.0000, 0.0000, 0.0000,\n",
            "         0.0000, 0.0000, 0.0000, 0.0000, 0.0000, 0.0000, 0.0000, 0.0000, 0.0000,\n",
            "         0.0000, 0.0000, 0.0000, 0.0000, 0.0000, 0.0157, 0.4863, 0.3843, 0.1804,\n",
            "         0.6235, 0.7882, 0.6000, 0.1569, 0.0000, 0.0000, 0.0000, 0.0000, 0.0000,\n",
            "         0.0000, 0.0000, 0.0000, 0.0000, 0.0000, 0.0000, 0.0000, 0.0000, 0.0000,\n",
            "         0.0000, 0.0000, 0.0000, 0.0000, 0.0000, 0.0000, 0.2863, 0.4431, 0.4196,\n",
            "         0.5882, 0.5020, 0.1020, 0.2235, 0.0549, 0.0000, 0.0000, 0.0000, 0.0000,\n",
            "         0.0000, 0.0000, 0.0000, 0.0000, 0.0000, 0.0000, 0.0000, 0.0000, 0.0000,\n",
            "         0.0000, 0.0000, 0.0000, 0.0000, 0.0000, 0.0000, 0.0039, 0.4078, 0.4314,\n",
            "         0.7137, 0.1843, 0.2196, 0.4118, 0.3216, 0.0196, 0.0000, 0.0000, 0.0000,\n",
            "         0.0000, 0.0000, 0.0039, 0.0000, 0.0000, 0.0000, 0.0000, 0.0000, 0.0000,\n",
            "         0.0000, 0.0000, 0.0000, 0.0000, 0.0000, 0.0000, 0.0000, 0.2549, 0.5647,\n",
            "         0.6275, 0.0824, 0.0000, 0.0000, 0.5098, 0.3333, 0.0000, 0.0000, 0.0000,\n",
            "         0.0000, 0.0000, 0.0000, 0.0000, 0.0000, 0.0039, 0.0039, 0.0000, 0.0000,\n",
            "         0.0000, 0.0000, 0.0000, 0.0000, 0.0000, 0.0000, 0.0000, 0.3333, 0.5647,\n",
            "         0.5529, 0.0000, 0.0000, 0.0000, 0.0000, 0.6510, 0.3059, 0.0000, 0.0000,\n",
            "         0.0000, 0.0000, 0.0000, 0.0000, 0.0000, 0.0000, 0.0000, 0.0000, 0.0000,\n",
            "         0.0000, 0.0000, 0.0000, 0.0000, 0.0000, 0.0000, 0.0000, 0.1922, 0.7216,\n",
            "         0.4510, 0.0000, 0.0000, 0.0157, 0.0000, 0.0000, 0.6275, 0.2667, 0.0000,\n",
            "         0.0000, 0.0000, 0.0000, 0.0000, 0.0039, 0.0000, 0.0000, 0.0784, 0.0784,\n",
            "         0.0000, 0.0000, 0.0000, 0.0000, 0.0000, 0.0000, 0.0000, 0.0706, 0.6392,\n",
            "         0.3804, 0.0000, 0.0000, 0.0000, 0.0314, 0.0000, 0.0000, 0.6667, 0.1529,\n",
            "         0.0000, 0.0000, 0.0000, 0.0000, 0.0039, 0.0000, 0.0314, 0.2471, 0.2980,\n",
            "         0.1686, 0.0000, 0.0000, 0.0000, 0.0000, 0.0000, 0.0000, 0.0000, 0.5255,\n",
            "         0.5333, 0.0000, 0.0000, 0.0000, 0.0000, 0.0078, 0.0000, 0.0000, 0.6784,\n",
            "         0.0706, 0.0000, 0.0039, 0.0039, 0.0039, 0.0000, 0.0000, 0.0706, 0.0941,\n",
            "         0.0000, 0.0196, 0.0000, 0.0000, 0.0000, 0.0000, 0.0000, 0.0000, 0.3451,\n",
            "         0.7137, 0.0275, 0.0000, 0.0000, 0.0000, 0.0000, 0.0000, 0.0000, 0.0000,\n",
            "         0.6588, 0.0039, 0.0000, 0.0039, 0.0000, 0.0000, 0.0000, 0.0000, 0.0078,\n",
            "         0.1922, 0.1059, 0.1216, 0.2196, 0.0667, 0.0000, 0.0000, 0.0000, 0.3451,\n",
            "         0.6000, 0.1922, 0.0000, 0.0196, 0.0000, 0.0039, 0.0000, 0.0000, 0.0000,\n",
            "         0.0000, 0.6471, 0.0000, 0.0000, 0.0039, 0.0510, 0.0275, 0.0000, 0.0000,\n",
            "         0.0000, 0.3294, 0.3804, 0.4000, 0.4941, 0.3882, 0.0000, 0.0196, 0.5020,\n",
            "         0.6000, 0.2863, 0.0000, 0.0000, 0.0000, 0.0000, 0.0000, 0.0000, 0.0000,\n",
            "         0.0000, 0.0039, 0.5451, 0.0000, 0.0000, 0.0000, 0.3176, 0.5961, 0.5725,\n",
            "         0.5490, 0.4863, 0.4824, 0.5098, 0.4941, 0.4431, 0.4431, 0.4471, 0.7216,\n",
            "         0.6235, 0.1647, 0.0000, 0.0000, 0.0000, 0.0078, 0.0000, 0.0000, 0.0000,\n",
            "         0.0000, 0.0000, 0.0000, 0.7294, 0.0000, 0.0000, 0.0039, 0.0000, 0.0000,\n",
            "         0.0000, 0.0941, 0.1647, 0.1804, 0.2235, 0.2549, 0.2706, 0.2549, 0.2471,\n",
            "         0.1569, 0.0000, 0.0000, 0.0000, 0.0000, 0.0000, 0.0000, 0.0000, 0.0000,\n",
            "         0.0000, 0.0000, 0.0000, 0.0000, 0.7137, 0.0157, 0.0000, 0.0039, 0.0000,\n",
            "         0.0000, 0.0000, 0.0000, 0.0000, 0.0000, 0.0000, 0.0000, 0.0000, 0.0000,\n",
            "         0.0000, 0.0000, 0.0000, 0.0000, 0.0000, 0.0000, 0.0000, 0.0000, 0.0000,\n",
            "         0.0000, 0.0000, 0.0000, 0.0000, 0.0000, 0.0000, 0.0000, 0.0000, 0.0000,\n",
            "         0.0000, 0.0000, 0.0000, 0.0000, 0.0000, 0.0000, 0.0000, 0.0000, 0.0000,\n",
            "         0.0000, 0.0000, 0.0000, 0.0000, 0.0000, 0.0000, 0.0000, 0.0000, 0.0000,\n",
            "         0.0000, 0.0000, 0.0000, 0.0000, 0.0000, 0.0000, 0.0000, 0.0000, 0.0000,\n",
            "         0.0000]])\n"
          ]
        }
      ]
    },
    {
      "cell_type": "code",
      "source": [
        "from torch import nn\n",
        "class FashionMNISTModelV0(nn.Module):\n",
        "  def __init__(self, input_shape: int, hidden_units: int, output_shape:int):\n",
        "    super().__init__()\n",
        "    self.layer_stack = nn.Sequential(\n",
        "        nn.Flatten(),\n",
        "        nn.Linear(in_features=input_shape, out_features=hidden_units),\n",
        "        nn.Linear(in_features=hidden_units, out_features=output_shape)\n",
        "    )\n",
        "  def forward(self, x):\n",
        "    return self.layer_stack(x)"
      ],
      "metadata": {
        "id": "_3cp5PDr5GQb"
      },
      "execution_count": null,
      "outputs": []
    },
    {
      "cell_type": "code",
      "source": [
        "torch.manual_seed(42)\n",
        "\n",
        "model_0 = FashionMNISTModelV0(\n",
        "    input_shape=784,\n",
        "    hidden_units=10,\n",
        "    output_shape=len(class_names)\n",
        ")\n",
        "model_0.to(\"cpu\")"
      ],
      "metadata": {
        "colab": {
          "base_uri": "https://localhost:8080/"
        },
        "id": "YxDwuX2S6A4s",
        "outputId": "d8ae3888-fd48-4b2b-8da8-fcd4e13d9972"
      },
      "execution_count": null,
      "outputs": [
        {
          "output_type": "execute_result",
          "data": {
            "text/plain": [
              "FashionMNISTModelV0(\n",
              "  (layer_stack): Sequential(\n",
              "    (0): Flatten(start_dim=1, end_dim=-1)\n",
              "    (1): Linear(in_features=784, out_features=10, bias=True)\n",
              "    (2): Linear(in_features=10, out_features=10, bias=True)\n",
              "  )\n",
              ")"
            ]
          },
          "metadata": {},
          "execution_count": 20
        }
      ]
    },
    {
      "cell_type": "markdown",
      "source": [
        "##### 3.1 Setup loss, optimizer and evaluation metrics"
      ],
      "metadata": {
        "id": "OJavw2-16-zv"
      }
    },
    {
      "cell_type": "code",
      "source": [
        "import requests\n",
        "from pathlib import Path\n",
        "\n",
        "# Download helper functions from Learn PyTorch repo (if not already downloaded)\n",
        "if Path(\"helper_functions.py\").is_file():\n",
        "  print(\"helper_functions.py already exists, skipping download\")\n",
        "else:\n",
        "  print(\"Downloading helper_functions.py\")\n",
        "  # Note: you need the \"raw\" GitHub URL for this to work\n",
        "  request = requests.get(\"https://raw.githubusercontent.com/mrdbourke/pytorch-deep-learning/main/helper_functions.py\")\n",
        "  with open(\"helper_functions.py\", \"wb\") as f:\n",
        "    f.write(request.content)"
      ],
      "metadata": {
        "colab": {
          "base_uri": "https://localhost:8080/"
        },
        "id": "OIygNmH467_E",
        "outputId": "fc6a0ecd-e4f4-4c64-c777-982598ced806"
      },
      "execution_count": null,
      "outputs": [
        {
          "output_type": "stream",
          "name": "stdout",
          "text": [
            "Downloading helper_functions.py\n"
          ]
        }
      ]
    },
    {
      "cell_type": "code",
      "source": [
        "from helper_functions import accuracy_fn"
      ],
      "metadata": {
        "id": "Gyrt78FD8PIl"
      },
      "execution_count": null,
      "outputs": []
    },
    {
      "cell_type": "code",
      "source": [
        "loss_fn = nn.CrossEntropyLoss()\n",
        "optimizer = torch.optim.SGD(params=model_0.parameters(), lr=0.1)"
      ],
      "metadata": {
        "id": "rbWvW95h8UCE"
      },
      "execution_count": null,
      "outputs": []
    },
    {
      "cell_type": "markdown",
      "source": [
        "##### 3.2 Creating a function to time our experiments"
      ],
      "metadata": {
        "id": "F171Rkyw8htX"
      }
    },
    {
      "cell_type": "code",
      "source": [
        "from timeit import default_timer as Timer\n",
        "from timeit import default_timer as timer\n",
        "def print_train_time(start: float, end: float, device: torch.device = None):\n",
        "    \"\"\"Prints difference between start and end time.\n",
        "\n",
        "    Args:\n",
        "        start (float): Start time of computation (preferred in timeit format).\n",
        "        end (float): End time of computation.\n",
        "        device ([type], optional): Device that compute is running on. Defaults to None.\n",
        "\n",
        "    Returns:\n",
        "        float: time between start and end in seconds (higher is longer).\n",
        "    \"\"\"\n",
        "    total_time = end - start\n",
        "    print(f\"Train time on {device}: {total_time:.3f} seconds\")\n",
        "    return total_time"
      ],
      "metadata": {
        "id": "RkIoam9t8g9k"
      },
      "execution_count": null,
      "outputs": []
    },
    {
      "cell_type": "markdown",
      "source": [
        "##### 3.3 Creating a training loop and training a model on batcher of data"
      ],
      "metadata": {
        "id": "7s34HEgX_Nsk"
      }
    },
    {
      "cell_type": "markdown",
      "source": [
        "Let's step through it:\n",
        "1. Loop through epochs.\n",
        "2. Loop through training batches, perform training steps, calculate the train loss *per batch*.\n",
        "3. Loop through testing batches, perform testing steps, calculate the test loss *per batch*.\n",
        "4. Print out what's happening.\n",
        "5. Time it all (for fun).\n",
        "\n",
        "A fair few steps but...\n",
        "\n",
        "...if in doubt, code it out.  \n",
        "My Geniune Reponse: K BRO"
      ],
      "metadata": {
        "id": "HQotz0TR_bLk"
      }
    },
    {
      "cell_type": "code",
      "source": [
        "from tqdm.auto import tqdm\n",
        "torch.manual_seed(42)\n",
        "train_time_on_cpu = timer()\n",
        "\n",
        "epochs = 3\n",
        "\n",
        "for epoch in tqdm(range(epochs)):\n",
        "  print(f\"Epoch: {epoch}\\n---------\")\n",
        "\n",
        "  train_loss = 0\n",
        "\n",
        "  for batch, (X, y) in enumerate(train_dataloader):\n",
        "    model_0.train()\n",
        "\n",
        "    y_pred = model_0(X)\n",
        "\n",
        "    loss = loss_fn(y_pred, y)\n",
        "    train_loss += loss\n",
        "\n",
        "    optimizer.zero_grad()\n",
        "\n",
        "    loss.backward()\n",
        "\n",
        "    optimizer.step()\n",
        "\n",
        "    if batch % 400 == 0:\n",
        "      print(f\"Looked at {batch * len(X)}/{len(train_dataloader.dataset)} samples\")\n",
        "\n",
        "  train_loss /= len(train_dataloader)\n",
        "\n",
        "  test_loss, test_acc = 0, 0\n",
        "\n",
        "  model_0.eval()\n",
        "  with torch.inference_mode():\n",
        "    for X, y in test_dataloader:\n",
        "\n",
        "      test_pred = model_0(X)\n",
        "\n",
        "      test_loss += loss_fn(test_pred, y)\n",
        "\n",
        "      test_acc += accuracy_fn(y_true=y, y_pred=test_pred.argmax(dim=1))\n",
        "\n",
        "    test_loss /= len(test_dataloader)\n",
        "    test_acc /= len(test_dataloader)\n",
        "\n",
        "  print(f\"\\nTrain loss:{train_loss:.5f} | Test Loss: {test_loss:.5f} | Test acc: {test_acc:.2f}% \\n\")\n",
        "\n",
        "train_time_end_on_cpu = timer()\n",
        "total_train_time_model_0 = print_train_time(start=train_time_on_cpu, end=train_time_end_on_cpu, device=\"cpu\")\n"
      ],
      "metadata": {
        "id": "pDvdlthV_MVf",
        "colab": {
          "base_uri": "https://localhost:8080/",
          "height": 587,
          "referenced_widgets": [
            "75403e8cb9ab4525b08f93a05a23fb26",
            "0e999be1d650472fbb87ee1c423a0a08",
            "e0aabe647ae249e192df0c758e8f453d",
            "0d992b8f35c04d5cbe26e707a51c293a",
            "2296fc2c1b14419185c16764d37cfb39",
            "8b4b0b42100f4f8e907ffc69756cfcd4",
            "d12eac52bfcc426e93ace50b2dcc86a2",
            "48be8257079e4adc965d2c0a06e0a4ae",
            "355c9ee25de44b71bafa2b3e2a2cf053",
            "bc911ef7807748e58ce17841175d6948",
            "bfcd8047d4c8407e9a473ba6ca9b80e7"
          ]
        },
        "outputId": "c9456224-6df8-4cec-afda-444d94789c4b"
      },
      "execution_count": null,
      "outputs": [
        {
          "output_type": "display_data",
          "data": {
            "text/plain": [
              "  0%|          | 0/3 [00:00<?, ?it/s]"
            ],
            "application/vnd.jupyter.widget-view+json": {
              "version_major": 2,
              "version_minor": 0,
              "model_id": "75403e8cb9ab4525b08f93a05a23fb26"
            }
          },
          "metadata": {}
        },
        {
          "output_type": "stream",
          "name": "stdout",
          "text": [
            "Epoch: 0\n",
            "---------\n",
            "Looked at 0/60000 samples\n",
            "Looked at 12800/60000 samples\n",
            "Looked at 25600/60000 samples\n",
            "Looked at 38400/60000 samples\n",
            "Looked at 51200/60000 samples\n",
            "\n",
            "Train loss:0.59039 | Test Loss: 0.50954 | Test acc: 82.04% \n",
            "\n",
            "Epoch: 1\n",
            "---------\n",
            "Looked at 0/60000 samples\n",
            "Looked at 12800/60000 samples\n",
            "Looked at 25600/60000 samples\n",
            "Looked at 38400/60000 samples\n",
            "Looked at 51200/60000 samples\n",
            "\n",
            "Train loss:0.47633 | Test Loss: 0.47989 | Test acc: 83.20% \n",
            "\n",
            "Epoch: 2\n",
            "---------\n",
            "Looked at 0/60000 samples\n",
            "Looked at 12800/60000 samples\n",
            "Looked at 25600/60000 samples\n",
            "Looked at 38400/60000 samples\n",
            "Looked at 51200/60000 samples\n",
            "\n",
            "Train loss:0.45503 | Test Loss: 0.47664 | Test acc: 83.43% \n",
            "\n",
            "Train time on cpu: 31.705 seconds\n"
          ]
        }
      ]
    },
    {
      "cell_type": "markdown",
      "source": [
        "#### 4.Make Predictions and get Model Results\n",
        " let's create a function that takes in a trained model, a `DataLoader`, a loss function and an accuracy function.\n",
        "\n",
        "The function will use the model to make predictions on the data in the `DataLoader` and then we can evaluate those predictions using the loss function and accuracy function."
      ],
      "metadata": {
        "id": "cmqulCNoUbi0"
      }
    },
    {
      "cell_type": "code",
      "source": [
        "torch.manual_seed(42)\n",
        "def eval_model(model: torch.nn.Module,\n",
        "              data_loader: torch.utils.data.DataLoader,\n",
        "              loss_fn : torch.nn.Module,\n",
        "              accuracy_fn):\n",
        "  loss, acc = 0, 0\n",
        "  model.eval()\n",
        "  with torch.inference_mode():\n",
        "    for X, y in data_loader:\n",
        "      y_pred = model(X)\n",
        "\n",
        "      loss += loss_fn(y_pred, y)\n",
        "\n",
        "      acc += accuracy_fn(y_true=y, y_pred=y_pred.argmax(dim=1))\n",
        "\n",
        "    #scale the loss and accuracy to find average loss/acc per batch\n",
        "    loss /= len(data_loader)\n",
        "    acc /= len(data_loader)\n",
        "\n",
        "  return { \"model_name\": model.__class__.__name__,\n",
        "          \"model_loss\": loss.item(),\n",
        "           \"model_acc\": acc\n",
        "\n",
        "        }\n",
        "\n",
        "model_0_results = eval_model(model=model_0,\n",
        "                            data_loader=test_dataloader,\n",
        "                            loss_fn=loss_fn,\n",
        "                            accuracy_fn=accuracy_fn)\n",
        "model_0_results\n",
        "\n",
        "\n"
      ],
      "metadata": {
        "id": "TC3dIUAVUBCC",
        "colab": {
          "base_uri": "https://localhost:8080/"
        },
        "outputId": "975ce587-2706-4786-ae2f-0ecff942bc5d"
      },
      "execution_count": null,
      "outputs": [
        {
          "output_type": "execute_result",
          "data": {
            "text/plain": [
              "{'model_name': 'FashionMNISTModelV0',\n",
              " 'model_loss': 0.47663894295692444,\n",
              " 'model_acc': 83.42651757188499}"
            ]
          },
          "metadata": {},
          "execution_count": 26
        }
      ]
    },
    {
      "cell_type": "markdown",
      "source": [
        "#### 5.Setup Device Agnostic-code (for GPU)"
      ],
      "metadata": {
        "id": "27MnK-AKDnc-"
      }
    },
    {
      "cell_type": "code",
      "source": [
        "import torch\n",
        "device = \"cuda\" if torch.cuda.is_available() else \"cpu\"\n",
        "device"
      ],
      "metadata": {
        "colab": {
          "base_uri": "https://localhost:8080/",
          "height": 35
        },
        "id": "h5nvUoCdDj2x",
        "outputId": "3e9e935e-21ac-42ce-85e1-c3b6886cdf16"
      },
      "execution_count": null,
      "outputs": [
        {
          "output_type": "execute_result",
          "data": {
            "text/plain": [
              "'cpu'"
            ],
            "application/vnd.google.colaboratory.intrinsic+json": {
              "type": "string"
            }
          },
          "metadata": {},
          "execution_count": 27
        }
      ]
    },
    {
      "cell_type": "markdown",
      "source": [
        "#### 6. Model 1 : Building a better model with non-linearity"
      ],
      "metadata": {
        "id": "pB1UXynJEn3J"
      }
    },
    {
      "cell_type": "code",
      "source": [
        "class FashionMNISTModelV1(nn.Module):\n",
        "  def __init__(self, input_shape: int, hidden_units: int, output_shape: int):\n",
        "    super().__init__()\n",
        "    self.layer_stack = nn.Sequential(\n",
        "        nn.Flatten(),\n",
        "        nn.Linear(in_features = input_shape, out_features = hidden_units),\n",
        "        nn.ReLU(),\n",
        "        nn.Linear(in_features = hidden_units, out_features = output_shape),\n",
        "        nn.ReLU()\n",
        "    )\n",
        "\n",
        "  def forward(self, x:torch.Tensor):\n",
        "    return self.layer_stack(x)"
      ],
      "metadata": {
        "id": "cy1vh0qoEiIw"
      },
      "execution_count": null,
      "outputs": []
    },
    {
      "cell_type": "code",
      "source": [
        "torch.manual_seed(42)\n",
        "model_1 = FashionMNISTModelV1(input_shape = 784, hidden_units = 10, output_shape = len(class_names)).to(device)\n",
        "model_1"
      ],
      "metadata": {
        "colab": {
          "base_uri": "https://localhost:8080/"
        },
        "id": "q5zKvtUIFu7J",
        "outputId": "0ba22256-a2fa-4704-a6cd-81241e82dacc"
      },
      "execution_count": null,
      "outputs": [
        {
          "output_type": "execute_result",
          "data": {
            "text/plain": [
              "FashionMNISTModelV1(\n",
              "  (layer_stack): Sequential(\n",
              "    (0): Flatten(start_dim=1, end_dim=-1)\n",
              "    (1): Linear(in_features=784, out_features=10, bias=True)\n",
              "    (2): ReLU()\n",
              "    (3): Linear(in_features=10, out_features=10, bias=True)\n",
              "    (4): ReLU()\n",
              "  )\n",
              ")"
            ]
          },
          "metadata": {},
          "execution_count": 29
        }
      ]
    },
    {
      "cell_type": "code",
      "source": [
        "next(model_1.parameters()).device"
      ],
      "metadata": {
        "colab": {
          "base_uri": "https://localhost:8080/"
        },
        "id": "lnxhRyn5HTGJ",
        "outputId": "fec1712f-3d6e-47b1-cd2f-1554028c9385"
      },
      "execution_count": null,
      "outputs": [
        {
          "output_type": "execute_result",
          "data": {
            "text/plain": [
              "device(type='cpu')"
            ]
          },
          "metadata": {},
          "execution_count": 30
        }
      ]
    },
    {
      "cell_type": "markdown",
      "source": [
        "##### 6.1 Setup loss, optimizer and evaluation metrics"
      ],
      "metadata": {
        "id": "F9OaY8fiH1kK"
      }
    },
    {
      "cell_type": "code",
      "source": [
        "from helper_functions import accuracy_fn\n",
        "loss_fn = nn.CrossEntropyLoss()\n",
        "optimizer = torch.optim.SGD(params=model_1.parameters(), lr=0.1)"
      ],
      "metadata": {
        "id": "s7CdTsM7H0Yw"
      },
      "execution_count": null,
      "outputs": []
    },
    {
      "cell_type": "markdown",
      "source": [
        "##### 6.2 Functionalising training and test loops\n"
      ],
      "metadata": {
        "id": "z3q6nBU2slCV"
      }
    },
    {
      "cell_type": "code",
      "source": [
        "def train_step(\n",
        "    model: torch.nn.Module,\n",
        "    data_loader: torch.utils.data.DataLoader,\n",
        "    loss_fn: torch.nn.Module,\n",
        "    optimizer: torch.optim.Optimizer,\n",
        "    accuracy_fn,\n",
        "    device: torch.device = device):\n",
        "\n",
        "  train_loss, train_acc = 0, 0\n",
        "  model.to(device)\n",
        "\n",
        "  for batch , (X, y) in enumerate(data_loader):\n",
        "    X , y = X.to(device), y.to(device)\n",
        "\n",
        "    y_pred = model(X)\n",
        "\n",
        "    loss = loss_fn(y_pred, y)\n",
        "    train_loss += loss\n",
        "    train_acc += accuracy_fn(y_true=y, y_pred=y_pred.argmax(dim=1))\n",
        "\n",
        "    optimizer.zero_grad()\n",
        "\n",
        "    loss.backward()\n",
        "\n",
        "    optimizer.step()\n",
        "\n",
        "  train_loss /= len(data_loader)\n",
        "  train_acc /= len(data_loader)\n",
        "\n",
        "  print(f\"Train Loss:{train_loss:.5f} | Train Accuracy: {train_acc:.2f}%\")\n",
        "\n",
        "def test_step(\n",
        "    model: torch.nn.Module,\n",
        "    data_loader: torch.utils.data.DataLoader,\n",
        "    loss_fn: torch.nn.Module,\n",
        "    accuracy_fn,\n",
        "    device: torch.device = device):\n",
        "\n",
        "  test_loss, test_acc = 0, 0\n",
        "  model.to(device)\n",
        "  model.eval()\n",
        "\n",
        "  with torch.inference_mode():\n",
        "    for X, y in data_loader:\n",
        "      X, y = X.to(device), y.to(device)\n",
        "\n",
        "      test_pred = model(X)\n",
        "\n",
        "      test_loss += loss_fn(test_pred, y)\n",
        "      test_acc += accuracy_fn(y_true=y, y_pred=test_pred.argmax(dim=1))\n",
        "\n",
        "    test_loss /= len(data_loader)\n",
        "    test_acc /= len(data_loader)\n",
        "\n",
        "    print(f\"Test Loss:{test_loss:.5f} | Test Accuracy: {test_acc:.2f}%\")\n",
        "\n",
        "\n",
        "\n",
        "\n"
      ],
      "metadata": {
        "id": "JQM_Q3uLIJn4"
      },
      "execution_count": null,
      "outputs": []
    },
    {
      "cell_type": "code",
      "source": [],
      "metadata": {
        "id": "HLknXxyHkmHB"
      },
      "execution_count": null,
      "outputs": []
    },
    {
      "cell_type": "code",
      "source": [
        "torch.manual_seed(42)\n",
        "\n",
        "from timeit import default_timer as timer\n",
        "\n",
        "train_time_start_on_gpu = timer()\n",
        "\n",
        "epochs = 3\n",
        "\n",
        "for epoch in tqdm(range(epochs)):\n",
        "  print(f\"Epoch: {epoch} \\n----------\")\n",
        "  train_step(data_loader = train_dataloader,\n",
        "             model = model_1,\n",
        "             loss_fn = loss_fn,\n",
        "             optimizer = optimizer,\n",
        "             accuracy_fn = accuracy_fn)\n",
        "  test_step(data_loader = test_dataloader,\n",
        "            model = model_1,\n",
        "            accuracy_fn = accuracy_fn,\n",
        "            loss_fn = loss_fn)\n",
        "  train_time_end_on_gpu = timer()\n",
        "  total_train_time_model_1 = print_train_time(start=train_time_start_on_gpu, end=train_time_end_on_gpu, device=device)"
      ],
      "metadata": {
        "colab": {
          "base_uri": "https://localhost:8080/",
          "height": 309,
          "referenced_widgets": [
            "2aebf3dc016d4aefad01108667d62ca4",
            "218d9f7d616c4ddc9b91f4e13cf1219e",
            "9e1de54f41414694ac960458373b57bf",
            "3e298601a63740dcb3425a90615b4c6a",
            "3dfda35227194d85ba009f27fba0d683",
            "93da698432794d0b9f5f290ae572d4dc",
            "de4b27d2cf5045ec91163969da6b39c9",
            "f079744de00d40ea97bfbdac05c756e1",
            "6cf47c3001c84279a3a0fc03dc104359",
            "6c8e72e5973e4306a99dcbf83e905cfb",
            "a2b4a4f5a8ce47f79c3ad63ef31c93c7"
          ]
        },
        "id": "nfCnXz7xsfoY",
        "outputId": "12aee3ec-bbe8-421d-e02c-5e38d019c31f"
      },
      "execution_count": null,
      "outputs": [
        {
          "output_type": "display_data",
          "data": {
            "text/plain": [
              "  0%|          | 0/3 [00:00<?, ?it/s]"
            ],
            "application/vnd.jupyter.widget-view+json": {
              "version_major": 2,
              "version_minor": 0,
              "model_id": "2aebf3dc016d4aefad01108667d62ca4"
            }
          },
          "metadata": {}
        },
        {
          "output_type": "stream",
          "name": "stdout",
          "text": [
            "Epoch: 0 \n",
            "----------\n",
            "Train Loss:1.09199 | Train Accuracy: 61.34%\n",
            "Test Loss:0.95636 | Test Accuracy: 65.00%\n",
            "Train time on cpu: 10.232 seconds\n",
            "Epoch: 1 \n",
            "----------\n",
            "Train Loss:0.78101 | Train Accuracy: 71.93%\n",
            "Test Loss:0.72227 | Test Accuracy: 73.91%\n",
            "Train time on cpu: 21.042 seconds\n",
            "Epoch: 2 \n",
            "----------\n",
            "Train Loss:0.67027 | Train Accuracy: 75.94%\n",
            "Test Loss:0.68500 | Test Accuracy: 75.02%\n",
            "Train time on cpu: 31.851 seconds\n"
          ]
        }
      ]
    },
    {
      "cell_type": "code",
      "source": [
        "torch.manual_seed(42)\n",
        "\n",
        "model_1_results = eval_model(model=model_1,\n",
        "                             data_loader = test_dataloader,\n",
        "                             loss_fn = loss_fn,\n",
        "                             accuracy_fn = accuracy_fn)\n",
        "\n",
        "model_1_results"
      ],
      "metadata": {
        "colab": {
          "base_uri": "https://localhost:8080/"
        },
        "id": "hr2mKFpg1D8D",
        "outputId": "4411b943-2f92-4744-91b6-3e38fa8af281"
      },
      "execution_count": null,
      "outputs": [
        {
          "output_type": "execute_result",
          "data": {
            "text/plain": [
              "{'model_name': 'FashionMNISTModelV1',\n",
              " 'model_loss': 0.6850009560585022,\n",
              " 'model_acc': 75.01996805111821}"
            ]
          },
          "metadata": {},
          "execution_count": 34
        }
      ]
    },
    {
      "cell_type": "markdown",
      "source": [
        "The Above code should throw an error as the in eval_model, the tensors are not on the gpu, but since i have not activated the GPU it runs fine, but it must actually genreate an error\n"
      ],
      "metadata": {
        "id": "cqC1tTna2RBn"
      }
    },
    {
      "cell_type": "code",
      "source": [
        "#move values to the device\n",
        "torch.manual_seed(42)\n",
        "def eval_model(model: torch.nn.Module,\n",
        "               data_loader: torch.utils.data.DataLoader,\n",
        "               loss_fn: torch.nn.Module,\n",
        "               accuracy_fn,\n",
        "               device: torch.device = device):\n",
        "  loss, acc = 0, 0\n",
        "  model.eval()\n",
        "  with torch.inference_mode():\n",
        "    for X,y in data_loader:\n",
        "      X, y = X.to(device), y.to(device)\n",
        "\n",
        "      y_pred = model(X)\n",
        "\n",
        "      loss += loss_fn(y_pred, y)\n",
        "\n",
        "      acc+= accuracy_fn(y_true=y, y_pred=y_pred.argmax(dim=1))\n",
        "\n",
        "    loss /= len(data_loader)\n",
        "    acc /= len(data_loader)\n",
        "\n",
        "  return {\n",
        "            \"model_name\": model.__class__.__name__,\n",
        "            \"model_loss\": loss.item(),\n",
        "            \"model_acc\": acc\n",
        "  }\n",
        "\n"
      ],
      "metadata": {
        "id": "4Ed5vD-72QgJ"
      },
      "execution_count": null,
      "outputs": []
    },
    {
      "cell_type": "code",
      "source": [
        "model_1_results = eval_model(model=model_1, data_loader=test_dataloader, loss_fn=loss_fn, accuracy_fn=accuracy_fn)\n",
        "model_1_results"
      ],
      "metadata": {
        "colab": {
          "base_uri": "https://localhost:8080/"
        },
        "id": "efrd2vbb2B-S",
        "outputId": "7098200c-8178-4cf1-86ce-bccbd715da50"
      },
      "execution_count": null,
      "outputs": [
        {
          "output_type": "execute_result",
          "data": {
            "text/plain": [
              "{'model_name': 'FashionMNISTModelV1',\n",
              " 'model_loss': 0.6850009560585022,\n",
              " 'model_acc': 75.01996805111821}"
            ]
          },
          "metadata": {},
          "execution_count": 36
        }
      ]
    },
    {
      "cell_type": "code",
      "source": [
        "model_0_results"
      ],
      "metadata": {
        "colab": {
          "base_uri": "https://localhost:8080/"
        },
        "id": "204mhBbDFytG",
        "outputId": "abae41f9-2287-48d2-8161-9ef3e4a8511c"
      },
      "execution_count": null,
      "outputs": [
        {
          "output_type": "execute_result",
          "data": {
            "text/plain": [
              "{'model_name': 'FashionMNISTModelV0',\n",
              " 'model_loss': 0.47663894295692444,\n",
              " 'model_acc': 83.42651757188499}"
            ]
          },
          "metadata": {},
          "execution_count": 37
        }
      ]
    },
    {
      "cell_type": "markdown",
      "source": [
        "#### 7. Model 2: Building a Convolutional Neural Network(CNN)\n",
        "\n",
        "It follows the typical structure of a convolutional neural network:\n",
        "\n",
        "`Input layer -> [Convolutional layer -> activation layer -> pooling layer] -> Output layer`\n",
        "\n",
        "Where the contents of `[Convolutional layer -> activation layer -> pooling layer]` can be upscaled and repeated multiple times, depending on requirements."
      ],
      "metadata": {
        "id": "x3cq-xaeGRH1"
      }
    },
    {
      "cell_type": "markdown",
      "source": [
        "It follows the typical structure of a convolutional neural network:\n",
        "\n",
        "`Input layer -> [Convolutional layer -> activation layer -> pooling layer] -> Output layer`\n",
        "\n",
        "To do so, we'll leverage the [`nn.Conv2d()`](https://pytorch.org/docs/stable/generated/torch.nn.Conv2d.html) and [`nn.MaxPool2d()`](https://pytorch.org/docs/stable/generated/torch.nn.MaxPool2d.html) layers from `torch.nn`.\n"
      ],
      "metadata": {
        "id": "f6We9f1wGtsO"
      }
    },
    {
      "cell_type": "code",
      "source": [
        "class FashionMNISTModelV2(nn.Module):\n",
        "  def __init__(self, input_shape:int, hidden_units: int, output_shape: int):\n",
        "    super().__init__()\n",
        "    self.block_1 = nn.Sequential(\n",
        "        nn.Conv2d(\n",
        "            in_channels=input_shape,\n",
        "            out_channels=hidden_units,\n",
        "            kernel_size = 3,\n",
        "            stride = 1,\n",
        "            padding = 1\n",
        "        ),\n",
        "        nn.ReLU(),\n",
        "        nn.Conv2d(\n",
        "            in_channels=hidden_units,\n",
        "            out_channels=hidden_units,\n",
        "            kernel_size=3,\n",
        "            stride=1,\n",
        "            padding=1\n",
        "        ),\n",
        "        nn.ReLU(),\n",
        "        nn.MaxPool2d(kernel_size=2, stride=2)\n",
        "    )\n",
        "\n",
        "    self.block_2 = nn.Sequential(\n",
        "        nn.Conv2d(hidden_units, hidden_units, 3 , padding=1),\n",
        "        nn.ReLU(),\n",
        "        nn.Conv2d(hidden_units, hidden_units, 3, padding=1),\n",
        "        nn.ReLU(),\n",
        "        nn.MaxPool2d(2)\n",
        "    )\n",
        "\n",
        "    self.classifier = nn.Sequential(\n",
        "        nn.Flatten(),\n",
        "        nn.Linear(in_features=hidden_units*7*7,\n",
        "                  out_features=output_shape)\n",
        "    )\n",
        "\n",
        "  def forward(self, x: torch.Tensor):\n",
        "    x = self.block_1(x)\n",
        "    #print(x.shape)\n",
        "\n",
        "    x = self.block_2(x)\n",
        "    #print(x.shape)\n",
        "\n",
        "    x = self.classifier(x)\n",
        "    #print(x.shape)\n",
        "\n",
        "    return x #here was the error, return X instead x lol\n",
        "\n"
      ],
      "metadata": {
        "id": "krL4-SfOF4fu"
      },
      "execution_count": null,
      "outputs": []
    },
    {
      "cell_type": "code",
      "source": [
        "torch.manual_seed(42)\n",
        "model_2 = FashionMNISTModelV2(input_shape=1, hidden_units=10, output_shape=len(class_names)).to(device)\n",
        "model_2"
      ],
      "metadata": {
        "colab": {
          "base_uri": "https://localhost:8080/"
        },
        "id": "WxULtMBGQTn4",
        "outputId": "e6422d31-5539-4163-d773-8502c52db2c1"
      },
      "execution_count": null,
      "outputs": [
        {
          "output_type": "execute_result",
          "data": {
            "text/plain": [
              "FashionMNISTModelV2(\n",
              "  (block_1): Sequential(\n",
              "    (0): Conv2d(1, 10, kernel_size=(3, 3), stride=(1, 1), padding=(1, 1))\n",
              "    (1): ReLU()\n",
              "    (2): Conv2d(10, 10, kernel_size=(3, 3), stride=(1, 1), padding=(1, 1))\n",
              "    (3): ReLU()\n",
              "    (4): MaxPool2d(kernel_size=2, stride=2, padding=0, dilation=1, ceil_mode=False)\n",
              "  )\n",
              "  (block_2): Sequential(\n",
              "    (0): Conv2d(10, 10, kernel_size=(3, 3), stride=(1, 1), padding=(1, 1))\n",
              "    (1): ReLU()\n",
              "    (2): Conv2d(10, 10, kernel_size=(3, 3), stride=(1, 1), padding=(1, 1))\n",
              "    (3): ReLU()\n",
              "    (4): MaxPool2d(kernel_size=2, stride=2, padding=0, dilation=1, ceil_mode=False)\n",
              "  )\n",
              "  (classifier): Sequential(\n",
              "    (0): Flatten(start_dim=1, end_dim=-1)\n",
              "    (1): Linear(in_features=490, out_features=10, bias=True)\n",
              "  )\n",
              ")"
            ]
          },
          "metadata": {},
          "execution_count": 101
        }
      ]
    },
    {
      "cell_type": "code",
      "source": [
        "#SANITY CHECK\n",
        "my_model_arch = \"\"\"FashionMNISTModelV2(\n",
        "  (block_1): Sequential(\n",
        "    (0): Conv2d(1, 10, kernel_size=(3, 3), stride=(1, 1), padding=(1, 1))\n",
        "    (1): ReLU()\n",
        "    (2): Conv2d(10, 10, kernel_size=(3, 3), stride=(1, 1), padding=(1, 1))\n",
        "    (3): ReLU()\n",
        "    (4): MaxPool2d(kernel_size=2, stride=2, padding=0, dilation=1, ceil_mode=False)\n",
        "  )\n",
        "  (block_2): Sequential(\n",
        "    (0): Conv2d(10, 10, kernel_size=(3, 3), stride=(1, 1), padding=(1, 1))\n",
        "    (1): ReLU()\n",
        "    (2): Conv2d(10, 10, kernel_size=(3, 3), stride=(1, 1), padding=(1, 1))\n",
        "    (3): ReLU()\n",
        "    (4): MaxPool2d(kernel_size=2, stride=2, padding=0, dilation=1, ceil_mode=False)\n",
        "  )\n",
        "  (classifier): Sequential(\n",
        "    (0): Flatten(start_dim=1, end_dim=-1)\n",
        "    (1): Linear(in_features=490, out_features=10, bias=True)\n",
        "  )\n",
        ")\"\"\"\n",
        "author_model_arch = \"\"\"FashionMNISTModelV2(\n",
        "  (block_1): Sequential(\n",
        "    (0): Conv2d(1, 10, kernel_size=(3, 3), stride=(1, 1), padding=(1, 1))\n",
        "    (1): ReLU()\n",
        "    (2): Conv2d(10, 10, kernel_size=(3, 3), stride=(1, 1), padding=(1, 1))\n",
        "    (3): ReLU()\n",
        "    (4): MaxPool2d(kernel_size=2, stride=2, padding=0, dilation=1, ceil_mode=False)\n",
        "  )\n",
        "  (block_2): Sequential(\n",
        "    (0): Conv2d(10, 10, kernel_size=(3, 3), stride=(1, 1), padding=(1, 1))\n",
        "    (1): ReLU()\n",
        "    (2): Conv2d(10, 10, kernel_size=(3, 3), stride=(1, 1), padding=(1, 1))\n",
        "    (3): ReLU()\n",
        "    (4): MaxPool2d(kernel_size=2, stride=2, padding=0, dilation=1, ceil_mode=False)\n",
        "  )\n",
        "  (classifier): Sequential(\n",
        "    (0): Flatten(start_dim=1, end_dim=-1)\n",
        "    (1): Linear(in_features=490, out_features=10, bias=True)\n",
        "  )\n",
        ")\"\"\""
      ],
      "metadata": {
        "id": "qIYNjfkdQc4o"
      },
      "execution_count": null,
      "outputs": []
    },
    {
      "cell_type": "markdown",
      "source": [
        "Exploring the Layers"
      ],
      "metadata": {
        "id": "Ebi6_Ng1ZAOn"
      }
    },
    {
      "cell_type": "code",
      "source": [
        "images = torch.rand(size= (32, 3, 64, 64)) #[batch, colour channel, height, weight]\n",
        "test_image = images[0] # get a single image\n",
        "print(f\"Image batch shape: {images.shape}\")\n",
        "print(f\"Image shape:{test_image.shape}\")"
      ],
      "metadata": {
        "id": "cE8_EYWPRalZ",
        "colab": {
          "base_uri": "https://localhost:8080/"
        },
        "outputId": "af5ea246-a668-4d95-da40-aeb137a4a429"
      },
      "execution_count": null,
      "outputs": [
        {
          "output_type": "stream",
          "name": "stdout",
          "text": [
            "Image batch shape: torch.Size([32, 3, 64, 64])\n",
            "Image shape:torch.Size([3, 64, 64])\n"
          ]
        }
      ]
    },
    {
      "cell_type": "markdown",
      "source": [
        "Let's create an example `nn.Conv2d()` with various parameters:\n",
        "* `in_channels` (int) - Number of channels in the input image.\n",
        "* `out_channels` (int) - Number of channels produced by the convolution.\n",
        "* `kernel_size` (int or tuple) - Size of the convolving kernel/filter.\n",
        "* `stride` (int or tuple, optional) - How big of a step the convolving kernel takes at a time. Default: 1.\n",
        "* `padding` (int, tuple, str) - Padding added to all four sides of input. Default: 0.\n",
        "\n",
        "![example of going through the different parameters of a Conv2d layer](https://raw.githubusercontent.com/mrdbourke/pytorch-deep-learning/main/images/03-conv2d-layer.gif)\n",
        "\n",
        "*Example of what happens when you change the hyperparameters of a `nn.Conv2d()` layer.*"
      ],
      "metadata": {
        "id": "vmO4empUZsyG"
      }
    },
    {
      "cell_type": "code",
      "source": [
        "torch.manual_seed(42)\n",
        "\n",
        "conv_layer = nn.Conv2d( in_channels = 3,\n",
        "                       out_channels = 10,\n",
        "                        kernel_size = 3 ,\n",
        "                        stride = 1,\n",
        "                        padding=0) #can use \"valid\" or \"same\n",
        "\n",
        "print(f\"Test image shape before conv : {test_image.shape}\")\n",
        "print(f\"Test image shape after conv : {conv_layer(test_image).shape}\")"
      ],
      "metadata": {
        "colab": {
          "base_uri": "https://localhost:8080/"
        },
        "id": "LvsF9lUoZck8",
        "outputId": "3d5c714c-be38-4928-f9c9-b9c779464a8a"
      },
      "execution_count": null,
      "outputs": [
        {
          "output_type": "stream",
          "name": "stdout",
          "text": [
            "Test image shape before conv : torch.Size([3, 64, 64])\n",
            "Test image shape after conv : torch.Size([10, 62, 62])\n"
          ]
        }
      ]
    },
    {
      "cell_type": "markdown",
      "source": [
        "Changing the conv Layer"
      ],
      "metadata": {
        "id": "mqsornnLauCV"
      }
    },
    {
      "cell_type": "code",
      "source": [
        "torch.manual_seed(42)\n",
        "\n",
        "conv_layer_2 = nn.Conv2d( in_channels = 3,\n",
        "                       out_channels = 10,\n",
        "                        kernel_size = (5, 5),\n",
        "                        padding = 0)\n",
        "\n",
        "conv_layer_2(test_image.unsqueeze(dim=0)).shape, conv_layer(test_image).shape #(gives as a batch dim also, without squeeze and prev layer)"
      ],
      "metadata": {
        "colab": {
          "base_uri": "https://localhost:8080/"
        },
        "id": "LRdFE3praXGk",
        "outputId": "2d6aa860-5052-471f-eecc-36e38559e418"
      },
      "execution_count": null,
      "outputs": [
        {
          "output_type": "execute_result",
          "data": {
            "text/plain": [
              "(torch.Size([1, 10, 60, 60]), torch.Size([10, 62, 62]))"
            ]
          },
          "metadata": {},
          "execution_count": 48
        }
      ]
    },
    {
      "cell_type": "markdown",
      "source": [
        "For each out channel the shape is W = $R^{1 \\times 60 \\times 60} + $ bias $R^{1} (Scalar)$ I think lol. Yup this is wrong. This is the image i think\n"
      ],
      "metadata": {
        "id": "a99MUejIbdtQ"
      }
    },
    {
      "cell_type": "markdown",
      "source": [
        "Or better yet lets check them out"
      ],
      "metadata": {
        "id": "f1FSZ7BBcPtV"
      }
    },
    {
      "cell_type": "code",
      "source": [
        "print(f\"Conv_layer_2 weight shape:{conv_layer_2.weight.shape}\")\n",
        "print(f\"Conv_layer_2 bias shape:{ conv_layer_2.bias.shape}\")"
      ],
      "metadata": {
        "colab": {
          "base_uri": "https://localhost:8080/"
        },
        "id": "v8UV1Gk1bHPL",
        "outputId": "1b21f62b-8152-4c16-9424-7c18f85ef1fa"
      },
      "execution_count": null,
      "outputs": [
        {
          "output_type": "stream",
          "name": "stdout",
          "text": [
            "Conv_layer_2 weight shape:torch.Size([10, 3, 5, 5])\n",
            "Conv_layer_2 bias shape:torch.Size([10])\n"
          ]
        }
      ]
    },
    {
      "cell_type": "markdown",
      "source": [
        "##### 7.2 Stepping through `nn.MaxPool2d()`"
      ],
      "metadata": {
        "id": "VaZ8DvE5dDwx"
      }
    },
    {
      "cell_type": "code",
      "source": [
        "print(f\"Test image shape:{test_image.shape}\")\n",
        "print(f\"Test image with unsqueezed dimensions : {test_image.unsqueeze(dim=0).shape}\")\n"
      ],
      "metadata": {
        "colab": {
          "base_uri": "https://localhost:8080/"
        },
        "id": "T1h6ZbMackgL",
        "outputId": "65db1917-81b7-42c1-8c7d-34232906d9ca"
      },
      "execution_count": null,
      "outputs": [
        {
          "output_type": "stream",
          "name": "stdout",
          "text": [
            "Test image shape:torch.Size([3, 64, 64])\n",
            "Test image with unsqueezed dimensions : torch.Size([1, 3, 64, 64])\n"
          ]
        }
      ]
    },
    {
      "cell_type": "code",
      "source": [
        "max_pool_layer = nn.MaxPool2d(kernel_size = 2) # half the width and height\n",
        "\n",
        "test_image_through_conv = conv_layer(test_image.unsqueeze(dim=0))\n",
        "test_image_through_conv.shape #also considers batch size"
      ],
      "metadata": {
        "colab": {
          "base_uri": "https://localhost:8080/"
        },
        "id": "RWDqQdvzduuR",
        "outputId": "b5a8ab12-8218-414d-fe64-4f36a8e990f2"
      },
      "execution_count": null,
      "outputs": [
        {
          "output_type": "execute_result",
          "data": {
            "text/plain": [
              "torch.Size([1, 10, 62, 62])"
            ]
          },
          "metadata": {},
          "execution_count": 58
        }
      ]
    },
    {
      "cell_type": "code",
      "source": [
        "test_image_through_conv_and_max_pool = max_pool_layer(test_image_through_conv)\n",
        "test_image_through_conv_and_max_pool.shape"
      ],
      "metadata": {
        "colab": {
          "base_uri": "https://localhost:8080/"
        },
        "id": "jAB7Pb1Gd-Hr",
        "outputId": "c1ce0568-47e5-41e6-8f60-8992cd70fe41"
      },
      "execution_count": null,
      "outputs": [
        {
          "output_type": "execute_result",
          "data": {
            "text/plain": [
              "torch.Size([1, 10, 31, 31])"
            ]
          },
          "metadata": {},
          "execution_count": 59
        }
      ]
    },
    {
      "cell_type": "markdown",
      "source": [
        "Notice the change in the shapes of what's happening in and out of a `nn.MaxPool2d()` layer.\n",
        "\n",
        "The `kernel_size` of the `nn.MaxPool2d()` layer will affect the size of the output shape.\n",
        "\n",
        "In our case, the shape halves from a `62x62` image to `31x31` image.\n",
        "\n"
      ],
      "metadata": {
        "id": "lDwf2g7qegeZ"
      }
    },
    {
      "cell_type": "markdown",
      "source": [
        "Let's see this work with a smaller tensor."
      ],
      "metadata": {
        "id": "ccPvj5ERej59"
      }
    },
    {
      "cell_type": "code",
      "source": [
        "torch.manual_seed(42)\n",
        "\n",
        "random_tensor = torch.randn(size=[1, 1, 2, 2])\n",
        "random_tensor.shape, random_tensor"
      ],
      "metadata": {
        "colab": {
          "base_uri": "https://localhost:8080/"
        },
        "id": "n9hoON-ReOmr",
        "outputId": "0e7eb698-0290-41bc-d57f-a5d97f8ad177"
      },
      "execution_count": null,
      "outputs": [
        {
          "output_type": "execute_result",
          "data": {
            "text/plain": [
              "(torch.Size([1, 1, 2, 2]),\n",
              " tensor([[[[0.3367, 0.1288],\n",
              "           [0.2345, 0.2303]]]]))"
            ]
          },
          "metadata": {},
          "execution_count": 63
        }
      ]
    },
    {
      "cell_type": "code",
      "source": [
        "max_pool_layer = nn.MaxPool2d(kernel_size = 2 )\n",
        "max_pool_layer(random_tensor).shape, max_pool_layer(random_tensor)"
      ],
      "metadata": {
        "colab": {
          "base_uri": "https://localhost:8080/"
        },
        "id": "iNtA7ptOgwGD",
        "outputId": "fa01fa78-0aa5-44af-a2ba-b3073dbf0a8d"
      },
      "execution_count": null,
      "outputs": [
        {
          "output_type": "execute_result",
          "data": {
            "text/plain": [
              "(torch.Size([1, 1, 1, 1]), tensor([[[[0.3367]]]]))"
            ]
          },
          "metadata": {},
          "execution_count": 62
        }
      ]
    },
    {
      "cell_type": "markdown",
      "source": [
        "Exercise"
      ],
      "metadata": {
        "id": "zDneus57hoW-"
      }
    },
    {
      "cell_type": "code",
      "source": [
        "avg_layer = nn.AvgPool2d(kernel_size=2)\n",
        "avg_layer(random_tensor)"
      ],
      "metadata": {
        "colab": {
          "base_uri": "https://localhost:8080/"
        },
        "id": "qKrltjY7hPJT",
        "outputId": "96a4d184-c064-4801-86a2-c5d7669536d5"
      },
      "execution_count": null,
      "outputs": [
        {
          "output_type": "execute_result",
          "data": {
            "text/plain": [
              "tensor([[[[0.2326]]]])"
            ]
          },
          "metadata": {},
          "execution_count": 64
        }
      ]
    },
    {
      "cell_type": "code",
      "source": [
        "random_tensor.sum()/4"
      ],
      "metadata": {
        "colab": {
          "base_uri": "https://localhost:8080/"
        },
        "id": "pQ4FjgUShs9D",
        "outputId": "e2aefcea-370f-4609-d458-460f518843eb"
      },
      "execution_count": null,
      "outputs": [
        {
          "output_type": "execute_result",
          "data": {
            "text/plain": [
              "tensor(0.2326)"
            ]
          },
          "metadata": {},
          "execution_count": 69
        }
      ]
    },
    {
      "cell_type": "markdown",
      "source": [
        "##### 7.3 Setup a loss function and optimizer for the model_2"
      ],
      "metadata": {
        "id": "tNh-ILS3h6SB"
      }
    },
    {
      "cell_type": "markdown",
      "source": [
        "We'll use the functions as before, `nn.CrossEntropyLoss()` as the loss function (since we're working with multi-class classification data).\n",
        "\n",
        "And `torch.optim.SGD()` as the optimizer to optimize `model_2.parameters()` with a learning rate of `0."
      ],
      "metadata": {
        "id": "i0D_bABZiDTV"
      }
    },
    {
      "cell_type": "code",
      "source": [
        "#Setup loss and optimizer\n",
        "loss_fn = nn.CrossEntropyLoss()\n",
        "optimizer = torch.optim.SGD(params=model_2.parameters(), lr = 0.1)"
      ],
      "metadata": {
        "id": "ctf_adKhhugz"
      },
      "execution_count": null,
      "outputs": []
    },
    {
      "cell_type": "markdown",
      "source": [
        "##### 7.5 Training and testing model_2 using our training and test fucntions"
      ],
      "metadata": {
        "id": "fBxEIuZPiUgv"
      }
    },
    {
      "cell_type": "code",
      "source": [
        "def train_step(model: torch.nn.Module,\n",
        "               data_loader: torch.utils.data.DataLoader,\n",
        "               loss_fn: torch.nn.Module,\n",
        "               optimizer: torch.optim.Optimizer,\n",
        "               accuracy_fn,\n",
        "               device: torch.device = device):\n",
        "    train_loss, train_acc = 0, 0\n",
        "    model.to(device)\n",
        "    for batch, (X, y) in enumerate(data_loader):\n",
        "\n",
        "        #print(\"FLAG 1 \")\n",
        "        #print(X.shape, y.shape)\n",
        "\n",
        "        # Send data to GPU\n",
        "        X, y = X.to(device), y.to(device)\n",
        "\n",
        "        # 1. Forward pass\n",
        "        y_pred = model(X)\n",
        "        #print(\"FLAG 2 \") model was returning wrong x lol\n",
        "        #print(y_pred.shape)\n",
        "\n",
        "        # 2. Calculate loss\n",
        "\n",
        "        loss = loss_fn(y_pred, y)\n",
        "\n",
        "        #print(\"FLAG 3 \")\n",
        "        train_loss += loss\n",
        "        train_acc += accuracy_fn(y_true=y,\n",
        "                                 y_pred=y_pred.argmax(dim=1)) # Go from logits -> pred labels\n",
        "\n",
        "        # 3. Optimizer zero grad\n",
        "        optimizer.zero_grad()\n",
        "\n",
        "        # 4. Loss backward\n",
        "        loss.backward()\n",
        "\n",
        "        # 5. Optimizer step\n",
        "        optimizer.step()\n",
        "\n",
        "    # Calculate loss and accuracy per epoch and print out what's happening\n",
        "    train_loss /= len(data_loader)\n",
        "    train_acc /= len(data_loader)\n",
        "    print(f\"Train loss: {train_loss:.5f} | Train accuracy: {train_acc:.2f}%\")\n",
        "\n",
        "def test_step(data_loader: torch.utils.data.DataLoader,\n",
        "              model: torch.nn.Module,\n",
        "              loss_fn: torch.nn.Module,\n",
        "              accuracy_fn,\n",
        "              device: torch.device = device):\n",
        "    test_loss, test_acc = 0, 0\n",
        "    model.to(device)\n",
        "    model.eval() # put model in eval mode\n",
        "    # Turn on inference context manager\n",
        "    with torch.inference_mode():\n",
        "        for X, y in data_loader:\n",
        "            # Send data to GPU\n",
        "            X, y = X.to(device), y.to(device)\n",
        "\n",
        "            # 1. Forward pass\n",
        "            test_pred = model(X)\n",
        "\n",
        "            # 2. Calculate loss and accuracy\n",
        "            test_loss += loss_fn(test_pred, y)\n",
        "            test_acc += accuracy_fn(y_true=y,\n",
        "                y_pred=test_pred.argmax(dim=1) # Go from logits -> pred labels\n",
        "            )\n",
        "\n",
        "        # Adjust metrics and print out\n",
        "        test_loss /= len(data_loader)\n",
        "        test_acc /= len(data_loader)\n",
        "        print(f\"Test loss: {test_loss:.5f} | Test accuracy: {test_acc:.2f}%\\n\")"
      ],
      "metadata": {
        "id": "E29O5dgSlIuW"
      },
      "execution_count": null,
      "outputs": []
    },
    {
      "cell_type": "code",
      "source": [
        "torch.manual_seed(42)\n",
        "\n",
        "from timeit import default_timer as Timer\n",
        "train_time_start_model_2 = timer()\n",
        "\n",
        "epochs = 3\n",
        "for epoch in tqdm(range(epochs)):\n",
        "    print(f\"Epoch: {epoch}\\n---------\")\n",
        "    train_step(data_loader=train_dataloader,\n",
        "        model=model_2,\n",
        "        loss_fn=loss_fn,\n",
        "        optimizer=optimizer,\n",
        "        accuracy_fn=accuracy_fn,\n",
        "        device=device\n",
        "    )\n",
        "    test_step(data_loader=test_dataloader,\n",
        "        model=model_2,\n",
        "        loss_fn=loss_fn,\n",
        "        accuracy_fn=accuracy_fn,\n",
        "        device=device\n",
        "    )\n",
        "\n",
        "train_time_end_model_2 = timer()\n",
        "total_train_time_model_2 = print_train_time(start=train_time_start_model_2,\n",
        "                                           end=train_time_end_model_2,\n",
        "                                           device=device)"
      ],
      "metadata": {
        "colab": {
          "base_uri": "https://localhost:8080/",
          "height": 327,
          "referenced_widgets": [
            "2481a619c798496380ec23faca3dcddd",
            "813585dd75e24fe685b23cdf8aabb782",
            "3d395a1360404489a3db920953173a48",
            "f064b0170c714bfcb6daeb2aba5325fa",
            "a41f8225256248f5948460cbd703b2cb",
            "f41c9ad0b6bf4774ad8c0f592d0da2e4",
            "7d3c11610e7c4ba19c9bfc22eebc7e15",
            "e6d87f125b70435cb1facacb7bb51db9",
            "eb5b15351d034044b069984d5cabe035",
            "846789f95e074007813cfa0504aa6ed8",
            "15cc9e5db260437da04e5dffe71f9c0c"
          ]
        },
        "id": "P_xVjXfeiQ-T",
        "outputId": "20a709c9-184a-4df9-cd50-9dab51fa0d53"
      },
      "execution_count": null,
      "outputs": [
        {
          "output_type": "display_data",
          "data": {
            "text/plain": [
              "  0%|          | 0/3 [00:00<?, ?it/s]"
            ],
            "application/vnd.jupyter.widget-view+json": {
              "version_major": 2,
              "version_minor": 0,
              "model_id": "2481a619c798496380ec23faca3dcddd"
            }
          },
          "metadata": {}
        },
        {
          "output_type": "stream",
          "name": "stdout",
          "text": [
            "Epoch: 0\n",
            "---------\n",
            "Train loss: 2.30229 | Train accuracy: 10.00%\n",
            "Test loss: 2.30231 | Test accuracy: 9.99%\n",
            "\n",
            "Epoch: 1\n",
            "---------\n",
            "Train loss: 2.30228 | Train accuracy: 10.00%\n",
            "Test loss: 2.30231 | Test accuracy: 9.99%\n",
            "\n",
            "Epoch: 2\n",
            "---------\n",
            "Train loss: 2.30228 | Train accuracy: 10.00%\n",
            "Test loss: 2.30231 | Test accuracy: 9.99%\n",
            "\n",
            "Train time on cpu: 203.176 seconds\n"
          ]
        }
      ]
    },
    {
      "cell_type": "code",
      "source": [
        "model_2_results = eval_model(\n",
        "    model=model_2,\n",
        "    data_loader=test_dataloader,\n",
        "    loss_fn = loss_fn,\n",
        "    accuracy_fn = accuracy_fn,\n",
        ")\n",
        "model_2_results"
      ],
      "metadata": {
        "colab": {
          "base_uri": "https://localhost:8080/"
        },
        "id": "Z5p1-RFWkIjb",
        "outputId": "ee41b6cc-da25-4e72-bee9-9870134ddd37"
      },
      "execution_count": null,
      "outputs": [
        {
          "output_type": "execute_result",
          "data": {
            "text/plain": [
              "{'model_name': 'FashionMNISTModelV2',\n",
              " 'model_loss': 2.3023064136505127,\n",
              " 'model_acc': 9.994009584664537}"
            ]
          },
          "metadata": {},
          "execution_count": 104
        }
      ]
    },
    {
      "cell_type": "markdown",
      "source": [
        "#### 8. Compare model Train and test time\n"
      ],
      "metadata": {
        "id": "6mUdGJ1Isww8"
      }
    },
    {
      "cell_type": "code",
      "source": [
        "import pandas as pd\n",
        "compare_results = pd.DataFrame([model_0_results, model_1_results, model_2_results])\n",
        "compare_results"
      ],
      "metadata": {
        "colab": {
          "base_uri": "https://localhost:8080/",
          "height": 143
        },
        "id": "fU9SPW4enja9",
        "outputId": "9f0c6743-21ad-4bec-c085-6a154542f4be"
      },
      "execution_count": null,
      "outputs": [
        {
          "output_type": "execute_result",
          "data": {
            "text/plain": [
              "            model_name  model_loss  model_acc\n",
              "0  FashionMNISTModelV0    0.476639  83.426518\n",
              "1  FashionMNISTModelV1    0.685001  75.019968\n",
              "2  FashionMNISTModelV2    2.302306   9.994010"
            ],
            "text/html": [
              "\n",
              "  <div id=\"df-32f66e35-b62b-42ef-8fcb-755df1f40f15\" class=\"colab-df-container\">\n",
              "    <div>\n",
              "<style scoped>\n",
              "    .dataframe tbody tr th:only-of-type {\n",
              "        vertical-align: middle;\n",
              "    }\n",
              "\n",
              "    .dataframe tbody tr th {\n",
              "        vertical-align: top;\n",
              "    }\n",
              "\n",
              "    .dataframe thead th {\n",
              "        text-align: right;\n",
              "    }\n",
              "</style>\n",
              "<table border=\"1\" class=\"dataframe\">\n",
              "  <thead>\n",
              "    <tr style=\"text-align: right;\">\n",
              "      <th></th>\n",
              "      <th>model_name</th>\n",
              "      <th>model_loss</th>\n",
              "      <th>model_acc</th>\n",
              "    </tr>\n",
              "  </thead>\n",
              "  <tbody>\n",
              "    <tr>\n",
              "      <th>0</th>\n",
              "      <td>FashionMNISTModelV0</td>\n",
              "      <td>0.476639</td>\n",
              "      <td>83.426518</td>\n",
              "    </tr>\n",
              "    <tr>\n",
              "      <th>1</th>\n",
              "      <td>FashionMNISTModelV1</td>\n",
              "      <td>0.685001</td>\n",
              "      <td>75.019968</td>\n",
              "    </tr>\n",
              "    <tr>\n",
              "      <th>2</th>\n",
              "      <td>FashionMNISTModelV2</td>\n",
              "      <td>2.302306</td>\n",
              "      <td>9.994010</td>\n",
              "    </tr>\n",
              "  </tbody>\n",
              "</table>\n",
              "</div>\n",
              "    <div class=\"colab-df-buttons\">\n",
              "\n",
              "  <div class=\"colab-df-container\">\n",
              "    <button class=\"colab-df-convert\" onclick=\"convertToInteractive('df-32f66e35-b62b-42ef-8fcb-755df1f40f15')\"\n",
              "            title=\"Convert this dataframe to an interactive table.\"\n",
              "            style=\"display:none;\">\n",
              "\n",
              "  <svg xmlns=\"http://www.w3.org/2000/svg\" height=\"24px\" viewBox=\"0 -960 960 960\">\n",
              "    <path d=\"M120-120v-720h720v720H120Zm60-500h600v-160H180v160Zm220 220h160v-160H400v160Zm0 220h160v-160H400v160ZM180-400h160v-160H180v160Zm440 0h160v-160H620v160ZM180-180h160v-160H180v160Zm440 0h160v-160H620v160Z\"/>\n",
              "  </svg>\n",
              "    </button>\n",
              "\n",
              "  <style>\n",
              "    .colab-df-container {\n",
              "      display:flex;\n",
              "      gap: 12px;\n",
              "    }\n",
              "\n",
              "    .colab-df-convert {\n",
              "      background-color: #E8F0FE;\n",
              "      border: none;\n",
              "      border-radius: 50%;\n",
              "      cursor: pointer;\n",
              "      display: none;\n",
              "      fill: #1967D2;\n",
              "      height: 32px;\n",
              "      padding: 0 0 0 0;\n",
              "      width: 32px;\n",
              "    }\n",
              "\n",
              "    .colab-df-convert:hover {\n",
              "      background-color: #E2EBFA;\n",
              "      box-shadow: 0px 1px 2px rgba(60, 64, 67, 0.3), 0px 1px 3px 1px rgba(60, 64, 67, 0.15);\n",
              "      fill: #174EA6;\n",
              "    }\n",
              "\n",
              "    .colab-df-buttons div {\n",
              "      margin-bottom: 4px;\n",
              "    }\n",
              "\n",
              "    [theme=dark] .colab-df-convert {\n",
              "      background-color: #3B4455;\n",
              "      fill: #D2E3FC;\n",
              "    }\n",
              "\n",
              "    [theme=dark] .colab-df-convert:hover {\n",
              "      background-color: #434B5C;\n",
              "      box-shadow: 0px 1px 3px 1px rgba(0, 0, 0, 0.15);\n",
              "      filter: drop-shadow(0px 1px 2px rgba(0, 0, 0, 0.3));\n",
              "      fill: #FFFFFF;\n",
              "    }\n",
              "  </style>\n",
              "\n",
              "    <script>\n",
              "      const buttonEl =\n",
              "        document.querySelector('#df-32f66e35-b62b-42ef-8fcb-755df1f40f15 button.colab-df-convert');\n",
              "      buttonEl.style.display =\n",
              "        google.colab.kernel.accessAllowed ? 'block' : 'none';\n",
              "\n",
              "      async function convertToInteractive(key) {\n",
              "        const element = document.querySelector('#df-32f66e35-b62b-42ef-8fcb-755df1f40f15');\n",
              "        const dataTable =\n",
              "          await google.colab.kernel.invokeFunction('convertToInteractive',\n",
              "                                                    [key], {});\n",
              "        if (!dataTable) return;\n",
              "\n",
              "        const docLinkHtml = 'Like what you see? Visit the ' +\n",
              "          '<a target=\"_blank\" href=https://colab.research.google.com/notebooks/data_table.ipynb>data table notebook</a>'\n",
              "          + ' to learn more about interactive tables.';\n",
              "        element.innerHTML = '';\n",
              "        dataTable['output_type'] = 'display_data';\n",
              "        await google.colab.output.renderOutput(dataTable, element);\n",
              "        const docLink = document.createElement('div');\n",
              "        docLink.innerHTML = docLinkHtml;\n",
              "        element.appendChild(docLink);\n",
              "      }\n",
              "    </script>\n",
              "  </div>\n",
              "\n",
              "\n",
              "    <div id=\"df-5cd63b52-11a7-485f-af0f-5605dce2b84e\">\n",
              "      <button class=\"colab-df-quickchart\" onclick=\"quickchart('df-5cd63b52-11a7-485f-af0f-5605dce2b84e')\"\n",
              "                title=\"Suggest charts\"\n",
              "                style=\"display:none;\">\n",
              "\n",
              "<svg xmlns=\"http://www.w3.org/2000/svg\" height=\"24px\"viewBox=\"0 0 24 24\"\n",
              "     width=\"24px\">\n",
              "    <g>\n",
              "        <path d=\"M19 3H5c-1.1 0-2 .9-2 2v14c0 1.1.9 2 2 2h14c1.1 0 2-.9 2-2V5c0-1.1-.9-2-2-2zM9 17H7v-7h2v7zm4 0h-2V7h2v10zm4 0h-2v-4h2v4z\"/>\n",
              "    </g>\n",
              "</svg>\n",
              "      </button>\n",
              "\n",
              "<style>\n",
              "  .colab-df-quickchart {\n",
              "      --bg-color: #E8F0FE;\n",
              "      --fill-color: #1967D2;\n",
              "      --hover-bg-color: #E2EBFA;\n",
              "      --hover-fill-color: #174EA6;\n",
              "      --disabled-fill-color: #AAA;\n",
              "      --disabled-bg-color: #DDD;\n",
              "  }\n",
              "\n",
              "  [theme=dark] .colab-df-quickchart {\n",
              "      --bg-color: #3B4455;\n",
              "      --fill-color: #D2E3FC;\n",
              "      --hover-bg-color: #434B5C;\n",
              "      --hover-fill-color: #FFFFFF;\n",
              "      --disabled-bg-color: #3B4455;\n",
              "      --disabled-fill-color: #666;\n",
              "  }\n",
              "\n",
              "  .colab-df-quickchart {\n",
              "    background-color: var(--bg-color);\n",
              "    border: none;\n",
              "    border-radius: 50%;\n",
              "    cursor: pointer;\n",
              "    display: none;\n",
              "    fill: var(--fill-color);\n",
              "    height: 32px;\n",
              "    padding: 0;\n",
              "    width: 32px;\n",
              "  }\n",
              "\n",
              "  .colab-df-quickchart:hover {\n",
              "    background-color: var(--hover-bg-color);\n",
              "    box-shadow: 0 1px 2px rgba(60, 64, 67, 0.3), 0 1px 3px 1px rgba(60, 64, 67, 0.15);\n",
              "    fill: var(--button-hover-fill-color);\n",
              "  }\n",
              "\n",
              "  .colab-df-quickchart-complete:disabled,\n",
              "  .colab-df-quickchart-complete:disabled:hover {\n",
              "    background-color: var(--disabled-bg-color);\n",
              "    fill: var(--disabled-fill-color);\n",
              "    box-shadow: none;\n",
              "  }\n",
              "\n",
              "  .colab-df-spinner {\n",
              "    border: 2px solid var(--fill-color);\n",
              "    border-color: transparent;\n",
              "    border-bottom-color: var(--fill-color);\n",
              "    animation:\n",
              "      spin 1s steps(1) infinite;\n",
              "  }\n",
              "\n",
              "  @keyframes spin {\n",
              "    0% {\n",
              "      border-color: transparent;\n",
              "      border-bottom-color: var(--fill-color);\n",
              "      border-left-color: var(--fill-color);\n",
              "    }\n",
              "    20% {\n",
              "      border-color: transparent;\n",
              "      border-left-color: var(--fill-color);\n",
              "      border-top-color: var(--fill-color);\n",
              "    }\n",
              "    30% {\n",
              "      border-color: transparent;\n",
              "      border-left-color: var(--fill-color);\n",
              "      border-top-color: var(--fill-color);\n",
              "      border-right-color: var(--fill-color);\n",
              "    }\n",
              "    40% {\n",
              "      border-color: transparent;\n",
              "      border-right-color: var(--fill-color);\n",
              "      border-top-color: var(--fill-color);\n",
              "    }\n",
              "    60% {\n",
              "      border-color: transparent;\n",
              "      border-right-color: var(--fill-color);\n",
              "    }\n",
              "    80% {\n",
              "      border-color: transparent;\n",
              "      border-right-color: var(--fill-color);\n",
              "      border-bottom-color: var(--fill-color);\n",
              "    }\n",
              "    90% {\n",
              "      border-color: transparent;\n",
              "      border-bottom-color: var(--fill-color);\n",
              "    }\n",
              "  }\n",
              "</style>\n",
              "\n",
              "      <script>\n",
              "        async function quickchart(key) {\n",
              "          const quickchartButtonEl =\n",
              "            document.querySelector('#' + key + ' button');\n",
              "          quickchartButtonEl.disabled = true;  // To prevent multiple clicks.\n",
              "          quickchartButtonEl.classList.add('colab-df-spinner');\n",
              "          try {\n",
              "            const charts = await google.colab.kernel.invokeFunction(\n",
              "                'suggestCharts', [key], {});\n",
              "          } catch (error) {\n",
              "            console.error('Error during call to suggestCharts:', error);\n",
              "          }\n",
              "          quickchartButtonEl.classList.remove('colab-df-spinner');\n",
              "          quickchartButtonEl.classList.add('colab-df-quickchart-complete');\n",
              "        }\n",
              "        (() => {\n",
              "          let quickchartButtonEl =\n",
              "            document.querySelector('#df-5cd63b52-11a7-485f-af0f-5605dce2b84e button');\n",
              "          quickchartButtonEl.style.display =\n",
              "            google.colab.kernel.accessAllowed ? 'block' : 'none';\n",
              "        })();\n",
              "      </script>\n",
              "    </div>\n",
              "\n",
              "  <div id=\"id_ed02d80f-5ffb-43b9-a984-dd422a8c4291\">\n",
              "    <style>\n",
              "      .colab-df-generate {\n",
              "        background-color: #E8F0FE;\n",
              "        border: none;\n",
              "        border-radius: 50%;\n",
              "        cursor: pointer;\n",
              "        display: none;\n",
              "        fill: #1967D2;\n",
              "        height: 32px;\n",
              "        padding: 0 0 0 0;\n",
              "        width: 32px;\n",
              "      }\n",
              "\n",
              "      .colab-df-generate:hover {\n",
              "        background-color: #E2EBFA;\n",
              "        box-shadow: 0px 1px 2px rgba(60, 64, 67, 0.3), 0px 1px 3px 1px rgba(60, 64, 67, 0.15);\n",
              "        fill: #174EA6;\n",
              "      }\n",
              "\n",
              "      [theme=dark] .colab-df-generate {\n",
              "        background-color: #3B4455;\n",
              "        fill: #D2E3FC;\n",
              "      }\n",
              "\n",
              "      [theme=dark] .colab-df-generate:hover {\n",
              "        background-color: #434B5C;\n",
              "        box-shadow: 0px 1px 3px 1px rgba(0, 0, 0, 0.15);\n",
              "        filter: drop-shadow(0px 1px 2px rgba(0, 0, 0, 0.3));\n",
              "        fill: #FFFFFF;\n",
              "      }\n",
              "    </style>\n",
              "    <button class=\"colab-df-generate\" onclick=\"generateWithVariable('compare_results')\"\n",
              "            title=\"Generate code using this dataframe.\"\n",
              "            style=\"display:none;\">\n",
              "\n",
              "  <svg xmlns=\"http://www.w3.org/2000/svg\" height=\"24px\"viewBox=\"0 0 24 24\"\n",
              "       width=\"24px\">\n",
              "    <path d=\"M7,19H8.4L18.45,9,17,7.55,7,17.6ZM5,21V16.75L18.45,3.32a2,2,0,0,1,2.83,0l1.4,1.43a1.91,1.91,0,0,1,.58,1.4,1.91,1.91,0,0,1-.58,1.4L9.25,21ZM18.45,9,17,7.55Zm-12,3A5.31,5.31,0,0,0,4.9,8.1,5.31,5.31,0,0,0,1,6.5,5.31,5.31,0,0,0,4.9,4.9,5.31,5.31,0,0,0,6.5,1,5.31,5.31,0,0,0,8.1,4.9,5.31,5.31,0,0,0,12,6.5,5.46,5.46,0,0,0,6.5,12Z\"/>\n",
              "  </svg>\n",
              "    </button>\n",
              "    <script>\n",
              "      (() => {\n",
              "      const buttonEl =\n",
              "        document.querySelector('#id_ed02d80f-5ffb-43b9-a984-dd422a8c4291 button.colab-df-generate');\n",
              "      buttonEl.style.display =\n",
              "        google.colab.kernel.accessAllowed ? 'block' : 'none';\n",
              "\n",
              "      buttonEl.onclick = () => {\n",
              "        google.colab.notebook.generateWithVariable('compare_results');\n",
              "      }\n",
              "      })();\n",
              "    </script>\n",
              "  </div>\n",
              "\n",
              "    </div>\n",
              "  </div>\n"
            ],
            "application/vnd.google.colaboratory.intrinsic+json": {
              "type": "dataframe",
              "variable_name": "compare_results",
              "summary": "{\n  \"name\": \"compare_results\",\n  \"rows\": 3,\n  \"fields\": [\n    {\n      \"column\": \"model_name\",\n      \"properties\": {\n        \"dtype\": \"string\",\n        \"num_unique_values\": 3,\n        \"samples\": [\n          \"FashionMNISTModelV0\",\n          \"FashionMNISTModelV1\",\n          \"FashionMNISTModelV2\"\n        ],\n        \"semantic_type\": \"\",\n        \"description\": \"\"\n      }\n    },\n    {\n      \"column\": \"model_loss\",\n      \"properties\": {\n        \"dtype\": \"number\",\n        \"std\": 0.9993459015116979,\n        \"min\": 0.47663894295692444,\n        \"max\": 2.3023064136505127,\n        \"num_unique_values\": 3,\n        \"samples\": [\n          0.47663894295692444,\n          0.6850009560585022,\n          2.3023064136505127\n        ],\n        \"semantic_type\": \"\",\n        \"description\": \"\"\n      }\n    },\n    {\n      \"column\": \"model_acc\",\n      \"properties\": {\n        \"dtype\": \"number\",\n        \"std\": 40.189921163187286,\n        \"min\": 9.994009584664537,\n        \"max\": 83.42651757188499,\n        \"num_unique_values\": 3,\n        \"samples\": [\n          83.42651757188499,\n          75.01996805111821,\n          9.994009584664537\n        ],\n        \"semantic_type\": \"\",\n        \"description\": \"\"\n      }\n    }\n  ]\n}"
            }
          },
          "metadata": {},
          "execution_count": 105
        }
      ]
    },
    {
      "cell_type": "code",
      "source": [
        "compare_results[\"training_time\"] = [total_train_time_model_0, total_train_time_model_1, total_train_time_model_2]\n",
        "compare_results"
      ],
      "metadata": {
        "colab": {
          "base_uri": "https://localhost:8080/",
          "height": 143
        },
        "id": "_lEBPTUSw9ji",
        "outputId": "1a573d31-13f2-45f2-ced9-544475043a1d"
      },
      "execution_count": null,
      "outputs": [
        {
          "output_type": "execute_result",
          "data": {
            "text/plain": [
              "            model_name  model_loss  model_acc  training_time\n",
              "0  FashionMNISTModelV0    0.476639  83.426518      31.704755\n",
              "1  FashionMNISTModelV1    0.685001  75.019968      31.850935\n",
              "2  FashionMNISTModelV2    2.302306   9.994010     203.176290"
            ],
            "text/html": [
              "\n",
              "  <div id=\"df-9fee6273-71d4-4975-9bc1-32df224f7a99\" class=\"colab-df-container\">\n",
              "    <div>\n",
              "<style scoped>\n",
              "    .dataframe tbody tr th:only-of-type {\n",
              "        vertical-align: middle;\n",
              "    }\n",
              "\n",
              "    .dataframe tbody tr th {\n",
              "        vertical-align: top;\n",
              "    }\n",
              "\n",
              "    .dataframe thead th {\n",
              "        text-align: right;\n",
              "    }\n",
              "</style>\n",
              "<table border=\"1\" class=\"dataframe\">\n",
              "  <thead>\n",
              "    <tr style=\"text-align: right;\">\n",
              "      <th></th>\n",
              "      <th>model_name</th>\n",
              "      <th>model_loss</th>\n",
              "      <th>model_acc</th>\n",
              "      <th>training_time</th>\n",
              "    </tr>\n",
              "  </thead>\n",
              "  <tbody>\n",
              "    <tr>\n",
              "      <th>0</th>\n",
              "      <td>FashionMNISTModelV0</td>\n",
              "      <td>0.476639</td>\n",
              "      <td>83.426518</td>\n",
              "      <td>31.704755</td>\n",
              "    </tr>\n",
              "    <tr>\n",
              "      <th>1</th>\n",
              "      <td>FashionMNISTModelV1</td>\n",
              "      <td>0.685001</td>\n",
              "      <td>75.019968</td>\n",
              "      <td>31.850935</td>\n",
              "    </tr>\n",
              "    <tr>\n",
              "      <th>2</th>\n",
              "      <td>FashionMNISTModelV2</td>\n",
              "      <td>2.302306</td>\n",
              "      <td>9.994010</td>\n",
              "      <td>203.176290</td>\n",
              "    </tr>\n",
              "  </tbody>\n",
              "</table>\n",
              "</div>\n",
              "    <div class=\"colab-df-buttons\">\n",
              "\n",
              "  <div class=\"colab-df-container\">\n",
              "    <button class=\"colab-df-convert\" onclick=\"convertToInteractive('df-9fee6273-71d4-4975-9bc1-32df224f7a99')\"\n",
              "            title=\"Convert this dataframe to an interactive table.\"\n",
              "            style=\"display:none;\">\n",
              "\n",
              "  <svg xmlns=\"http://www.w3.org/2000/svg\" height=\"24px\" viewBox=\"0 -960 960 960\">\n",
              "    <path d=\"M120-120v-720h720v720H120Zm60-500h600v-160H180v160Zm220 220h160v-160H400v160Zm0 220h160v-160H400v160ZM180-400h160v-160H180v160Zm440 0h160v-160H620v160ZM180-180h160v-160H180v160Zm440 0h160v-160H620v160Z\"/>\n",
              "  </svg>\n",
              "    </button>\n",
              "\n",
              "  <style>\n",
              "    .colab-df-container {\n",
              "      display:flex;\n",
              "      gap: 12px;\n",
              "    }\n",
              "\n",
              "    .colab-df-convert {\n",
              "      background-color: #E8F0FE;\n",
              "      border: none;\n",
              "      border-radius: 50%;\n",
              "      cursor: pointer;\n",
              "      display: none;\n",
              "      fill: #1967D2;\n",
              "      height: 32px;\n",
              "      padding: 0 0 0 0;\n",
              "      width: 32px;\n",
              "    }\n",
              "\n",
              "    .colab-df-convert:hover {\n",
              "      background-color: #E2EBFA;\n",
              "      box-shadow: 0px 1px 2px rgba(60, 64, 67, 0.3), 0px 1px 3px 1px rgba(60, 64, 67, 0.15);\n",
              "      fill: #174EA6;\n",
              "    }\n",
              "\n",
              "    .colab-df-buttons div {\n",
              "      margin-bottom: 4px;\n",
              "    }\n",
              "\n",
              "    [theme=dark] .colab-df-convert {\n",
              "      background-color: #3B4455;\n",
              "      fill: #D2E3FC;\n",
              "    }\n",
              "\n",
              "    [theme=dark] .colab-df-convert:hover {\n",
              "      background-color: #434B5C;\n",
              "      box-shadow: 0px 1px 3px 1px rgba(0, 0, 0, 0.15);\n",
              "      filter: drop-shadow(0px 1px 2px rgba(0, 0, 0, 0.3));\n",
              "      fill: #FFFFFF;\n",
              "    }\n",
              "  </style>\n",
              "\n",
              "    <script>\n",
              "      const buttonEl =\n",
              "        document.querySelector('#df-9fee6273-71d4-4975-9bc1-32df224f7a99 button.colab-df-convert');\n",
              "      buttonEl.style.display =\n",
              "        google.colab.kernel.accessAllowed ? 'block' : 'none';\n",
              "\n",
              "      async function convertToInteractive(key) {\n",
              "        const element = document.querySelector('#df-9fee6273-71d4-4975-9bc1-32df224f7a99');\n",
              "        const dataTable =\n",
              "          await google.colab.kernel.invokeFunction('convertToInteractive',\n",
              "                                                    [key], {});\n",
              "        if (!dataTable) return;\n",
              "\n",
              "        const docLinkHtml = 'Like what you see? Visit the ' +\n",
              "          '<a target=\"_blank\" href=https://colab.research.google.com/notebooks/data_table.ipynb>data table notebook</a>'\n",
              "          + ' to learn more about interactive tables.';\n",
              "        element.innerHTML = '';\n",
              "        dataTable['output_type'] = 'display_data';\n",
              "        await google.colab.output.renderOutput(dataTable, element);\n",
              "        const docLink = document.createElement('div');\n",
              "        docLink.innerHTML = docLinkHtml;\n",
              "        element.appendChild(docLink);\n",
              "      }\n",
              "    </script>\n",
              "  </div>\n",
              "\n",
              "\n",
              "    <div id=\"df-0fdb6da4-8987-4c96-99bc-4a06f2a46869\">\n",
              "      <button class=\"colab-df-quickchart\" onclick=\"quickchart('df-0fdb6da4-8987-4c96-99bc-4a06f2a46869')\"\n",
              "                title=\"Suggest charts\"\n",
              "                style=\"display:none;\">\n",
              "\n",
              "<svg xmlns=\"http://www.w3.org/2000/svg\" height=\"24px\"viewBox=\"0 0 24 24\"\n",
              "     width=\"24px\">\n",
              "    <g>\n",
              "        <path d=\"M19 3H5c-1.1 0-2 .9-2 2v14c0 1.1.9 2 2 2h14c1.1 0 2-.9 2-2V5c0-1.1-.9-2-2-2zM9 17H7v-7h2v7zm4 0h-2V7h2v10zm4 0h-2v-4h2v4z\"/>\n",
              "    </g>\n",
              "</svg>\n",
              "      </button>\n",
              "\n",
              "<style>\n",
              "  .colab-df-quickchart {\n",
              "      --bg-color: #E8F0FE;\n",
              "      --fill-color: #1967D2;\n",
              "      --hover-bg-color: #E2EBFA;\n",
              "      --hover-fill-color: #174EA6;\n",
              "      --disabled-fill-color: #AAA;\n",
              "      --disabled-bg-color: #DDD;\n",
              "  }\n",
              "\n",
              "  [theme=dark] .colab-df-quickchart {\n",
              "      --bg-color: #3B4455;\n",
              "      --fill-color: #D2E3FC;\n",
              "      --hover-bg-color: #434B5C;\n",
              "      --hover-fill-color: #FFFFFF;\n",
              "      --disabled-bg-color: #3B4455;\n",
              "      --disabled-fill-color: #666;\n",
              "  }\n",
              "\n",
              "  .colab-df-quickchart {\n",
              "    background-color: var(--bg-color);\n",
              "    border: none;\n",
              "    border-radius: 50%;\n",
              "    cursor: pointer;\n",
              "    display: none;\n",
              "    fill: var(--fill-color);\n",
              "    height: 32px;\n",
              "    padding: 0;\n",
              "    width: 32px;\n",
              "  }\n",
              "\n",
              "  .colab-df-quickchart:hover {\n",
              "    background-color: var(--hover-bg-color);\n",
              "    box-shadow: 0 1px 2px rgba(60, 64, 67, 0.3), 0 1px 3px 1px rgba(60, 64, 67, 0.15);\n",
              "    fill: var(--button-hover-fill-color);\n",
              "  }\n",
              "\n",
              "  .colab-df-quickchart-complete:disabled,\n",
              "  .colab-df-quickchart-complete:disabled:hover {\n",
              "    background-color: var(--disabled-bg-color);\n",
              "    fill: var(--disabled-fill-color);\n",
              "    box-shadow: none;\n",
              "  }\n",
              "\n",
              "  .colab-df-spinner {\n",
              "    border: 2px solid var(--fill-color);\n",
              "    border-color: transparent;\n",
              "    border-bottom-color: var(--fill-color);\n",
              "    animation:\n",
              "      spin 1s steps(1) infinite;\n",
              "  }\n",
              "\n",
              "  @keyframes spin {\n",
              "    0% {\n",
              "      border-color: transparent;\n",
              "      border-bottom-color: var(--fill-color);\n",
              "      border-left-color: var(--fill-color);\n",
              "    }\n",
              "    20% {\n",
              "      border-color: transparent;\n",
              "      border-left-color: var(--fill-color);\n",
              "      border-top-color: var(--fill-color);\n",
              "    }\n",
              "    30% {\n",
              "      border-color: transparent;\n",
              "      border-left-color: var(--fill-color);\n",
              "      border-top-color: var(--fill-color);\n",
              "      border-right-color: var(--fill-color);\n",
              "    }\n",
              "    40% {\n",
              "      border-color: transparent;\n",
              "      border-right-color: var(--fill-color);\n",
              "      border-top-color: var(--fill-color);\n",
              "    }\n",
              "    60% {\n",
              "      border-color: transparent;\n",
              "      border-right-color: var(--fill-color);\n",
              "    }\n",
              "    80% {\n",
              "      border-color: transparent;\n",
              "      border-right-color: var(--fill-color);\n",
              "      border-bottom-color: var(--fill-color);\n",
              "    }\n",
              "    90% {\n",
              "      border-color: transparent;\n",
              "      border-bottom-color: var(--fill-color);\n",
              "    }\n",
              "  }\n",
              "</style>\n",
              "\n",
              "      <script>\n",
              "        async function quickchart(key) {\n",
              "          const quickchartButtonEl =\n",
              "            document.querySelector('#' + key + ' button');\n",
              "          quickchartButtonEl.disabled = true;  // To prevent multiple clicks.\n",
              "          quickchartButtonEl.classList.add('colab-df-spinner');\n",
              "          try {\n",
              "            const charts = await google.colab.kernel.invokeFunction(\n",
              "                'suggestCharts', [key], {});\n",
              "          } catch (error) {\n",
              "            console.error('Error during call to suggestCharts:', error);\n",
              "          }\n",
              "          quickchartButtonEl.classList.remove('colab-df-spinner');\n",
              "          quickchartButtonEl.classList.add('colab-df-quickchart-complete');\n",
              "        }\n",
              "        (() => {\n",
              "          let quickchartButtonEl =\n",
              "            document.querySelector('#df-0fdb6da4-8987-4c96-99bc-4a06f2a46869 button');\n",
              "          quickchartButtonEl.style.display =\n",
              "            google.colab.kernel.accessAllowed ? 'block' : 'none';\n",
              "        })();\n",
              "      </script>\n",
              "    </div>\n",
              "\n",
              "  <div id=\"id_51948885-7ed5-4709-8694-5c4cd01a68a2\">\n",
              "    <style>\n",
              "      .colab-df-generate {\n",
              "        background-color: #E8F0FE;\n",
              "        border: none;\n",
              "        border-radius: 50%;\n",
              "        cursor: pointer;\n",
              "        display: none;\n",
              "        fill: #1967D2;\n",
              "        height: 32px;\n",
              "        padding: 0 0 0 0;\n",
              "        width: 32px;\n",
              "      }\n",
              "\n",
              "      .colab-df-generate:hover {\n",
              "        background-color: #E2EBFA;\n",
              "        box-shadow: 0px 1px 2px rgba(60, 64, 67, 0.3), 0px 1px 3px 1px rgba(60, 64, 67, 0.15);\n",
              "        fill: #174EA6;\n",
              "      }\n",
              "\n",
              "      [theme=dark] .colab-df-generate {\n",
              "        background-color: #3B4455;\n",
              "        fill: #D2E3FC;\n",
              "      }\n",
              "\n",
              "      [theme=dark] .colab-df-generate:hover {\n",
              "        background-color: #434B5C;\n",
              "        box-shadow: 0px 1px 3px 1px rgba(0, 0, 0, 0.15);\n",
              "        filter: drop-shadow(0px 1px 2px rgba(0, 0, 0, 0.3));\n",
              "        fill: #FFFFFF;\n",
              "      }\n",
              "    </style>\n",
              "    <button class=\"colab-df-generate\" onclick=\"generateWithVariable('compare_results')\"\n",
              "            title=\"Generate code using this dataframe.\"\n",
              "            style=\"display:none;\">\n",
              "\n",
              "  <svg xmlns=\"http://www.w3.org/2000/svg\" height=\"24px\"viewBox=\"0 0 24 24\"\n",
              "       width=\"24px\">\n",
              "    <path d=\"M7,19H8.4L18.45,9,17,7.55,7,17.6ZM5,21V16.75L18.45,3.32a2,2,0,0,1,2.83,0l1.4,1.43a1.91,1.91,0,0,1,.58,1.4,1.91,1.91,0,0,1-.58,1.4L9.25,21ZM18.45,9,17,7.55Zm-12,3A5.31,5.31,0,0,0,4.9,8.1,5.31,5.31,0,0,0,1,6.5,5.31,5.31,0,0,0,4.9,4.9,5.31,5.31,0,0,0,6.5,1,5.31,5.31,0,0,0,8.1,4.9,5.31,5.31,0,0,0,12,6.5,5.46,5.46,0,0,0,6.5,12Z\"/>\n",
              "  </svg>\n",
              "    </button>\n",
              "    <script>\n",
              "      (() => {\n",
              "      const buttonEl =\n",
              "        document.querySelector('#id_51948885-7ed5-4709-8694-5c4cd01a68a2 button.colab-df-generate');\n",
              "      buttonEl.style.display =\n",
              "        google.colab.kernel.accessAllowed ? 'block' : 'none';\n",
              "\n",
              "      buttonEl.onclick = () => {\n",
              "        google.colab.notebook.generateWithVariable('compare_results');\n",
              "      }\n",
              "      })();\n",
              "    </script>\n",
              "  </div>\n",
              "\n",
              "    </div>\n",
              "  </div>\n"
            ],
            "application/vnd.google.colaboratory.intrinsic+json": {
              "type": "dataframe",
              "variable_name": "compare_results",
              "summary": "{\n  \"name\": \"compare_results\",\n  \"rows\": 3,\n  \"fields\": [\n    {\n      \"column\": \"model_name\",\n      \"properties\": {\n        \"dtype\": \"string\",\n        \"num_unique_values\": 3,\n        \"samples\": [\n          \"FashionMNISTModelV0\",\n          \"FashionMNISTModelV1\",\n          \"FashionMNISTModelV2\"\n        ],\n        \"semantic_type\": \"\",\n        \"description\": \"\"\n      }\n    },\n    {\n      \"column\": \"model_loss\",\n      \"properties\": {\n        \"dtype\": \"number\",\n        \"std\": 0.9993459015116979,\n        \"min\": 0.47663894295692444,\n        \"max\": 2.3023064136505127,\n        \"num_unique_values\": 3,\n        \"samples\": [\n          0.47663894295692444,\n          0.6850009560585022,\n          2.3023064136505127\n        ],\n        \"semantic_type\": \"\",\n        \"description\": \"\"\n      }\n    },\n    {\n      \"column\": \"model_acc\",\n      \"properties\": {\n        \"dtype\": \"number\",\n        \"std\": 40.189921163187286,\n        \"min\": 9.994009584664537,\n        \"max\": 83.42651757188499,\n        \"num_unique_values\": 3,\n        \"samples\": [\n          83.42651757188499,\n          75.01996805111821,\n          9.994009584664537\n        ],\n        \"semantic_type\": \"\",\n        \"description\": \"\"\n      }\n    },\n    {\n      \"column\": \"training_time\",\n      \"properties\": {\n        \"dtype\": \"number\",\n        \"std\": 98.95696581507298,\n        \"min\": 31.70475458999998,\n        \"max\": 203.17629043799934,\n        \"num_unique_values\": 3,\n        \"samples\": [\n          31.70475458999998,\n          31.850934680999984,\n          203.17629043799934\n        ],\n        \"semantic_type\": \"\",\n        \"description\": \"\"\n      }\n    }\n  ]\n}"
            }
          },
          "metadata": {},
          "execution_count": 106
        }
      ]
    },
    {
      "cell_type": "markdown",
      "source": [
        "Why is v2Model so bad, same architecure, i did sanity check also"
      ],
      "metadata": {
        "id": "VBuWX2DIxJ3A"
      }
    },
    {
      "cell_type": "code",
      "source": [
        "def make_predictions(model: torch.nn.Module, data:list, device:torch.device=device):\n",
        "  pred_probs = []\n",
        "  model.eval()\n",
        "  with torch.inference_mode():\n",
        "    for sample in data:\n",
        "      if len(sample.shape) == 3:\n",
        "        sample = sample.unsqueeze(dim=0)\n",
        "      sample = sample.to(device)\n",
        "      pred_logit = model(sample)\n",
        "      pred_prob = torch.softmax(pred_logit.squeeze(), dim=0) #pergorming soft max on the logits dimesions and not the batch dimesions\n",
        "\n",
        "      pred_probs.append(pred_prob.cpu())\n",
        "\n",
        "  return torch.stack(pred_probs)"
      ],
      "metadata": {
        "id": "ONPKzxcmxEuC"
      },
      "execution_count": null,
      "outputs": []
    },
    {
      "cell_type": "code",
      "source": [
        "import random\n",
        "random.seed(42)\n",
        "test_samples = []\n",
        "test_labels = []\n",
        "for sample, label in random.sample(list(test_data), k = 9):\n",
        "  test_samples.append(sample)\n",
        "  test_labels.append(label)\n",
        "\n"
      ],
      "metadata": {
        "id": "_L1UC5sfySSD"
      },
      "execution_count": null,
      "outputs": []
    },
    {
      "cell_type": "code",
      "source": [
        "test_samples[0].shape"
      ],
      "metadata": {
        "colab": {
          "base_uri": "https://localhost:8080/"
        },
        "id": "xcXYScoRy9Er",
        "outputId": "129b4ccb-1a91-4c78-dacb-6bbbc189ec2e"
      },
      "execution_count": null,
      "outputs": [
        {
          "output_type": "execute_result",
          "data": {
            "text/plain": [
              "torch.Size([1, 28, 28])"
            ]
          },
          "metadata": {},
          "execution_count": 109
        }
      ]
    },
    {
      "cell_type": "code",
      "source": [
        "test_labels[0],class_names[test_labels[0]]"
      ],
      "metadata": {
        "colab": {
          "base_uri": "https://localhost:8080/"
        },
        "id": "pb-gRP-qy_ej",
        "outputId": "3e709fca-0ba0-4910-8ef3-8d42d3ec01d4"
      },
      "execution_count": null,
      "outputs": [
        {
          "output_type": "execute_result",
          "data": {
            "text/plain": [
              "(5, 'Sandal')"
            ]
          },
          "metadata": {},
          "execution_count": 113
        }
      ]
    },
    {
      "cell_type": "code",
      "source": [
        "pred_probs = make_predictions(model=model_0, data=test_samples)"
      ],
      "metadata": {
        "id": "ms5clB3KzCQC"
      },
      "execution_count": null,
      "outputs": []
    },
    {
      "cell_type": "code",
      "source": [
        "pred_probs[0], pred_probs[0].shape,class_names[pred_probs[0].argmax()]"
      ],
      "metadata": {
        "colab": {
          "base_uri": "https://localhost:8080/"
        },
        "id": "nl2WEJpizT9S",
        "outputId": "c30f5a4e-2065-4247-aceb-56e0412d856b"
      },
      "execution_count": null,
      "outputs": [
        {
          "output_type": "execute_result",
          "data": {
            "text/plain": [
              "(tensor([4.4458e-08, 6.3134e-08, 3.4539e-08, 2.4900e-08, 2.0237e-08, 8.9550e-01,\n",
              "         1.7275e-07, 1.6880e-03, 1.8719e-05, 1.0279e-01]),\n",
              " torch.Size([10]),\n",
              " 'Sandal')"
            ]
          },
          "metadata": {},
          "execution_count": 119
        }
      ]
    },
    {
      "cell_type": "code",
      "source": [
        "pred_classes = pred_probs.argmax(dim=1)\n",
        "pred_classes, test_labels"
      ],
      "metadata": {
        "colab": {
          "base_uri": "https://localhost:8080/"
        },
        "id": "jBYuX9o6zVzy",
        "outputId": "5b363ed3-24b9-4346-8cf0-88165c3fc5ad"
      },
      "execution_count": null,
      "outputs": [
        {
          "output_type": "execute_result",
          "data": {
            "text/plain": [
              "(tensor([5, 3, 7, 4, 3, 0, 4, 7, 1]), [5, 1, 7, 4, 3, 0, 4, 7, 1])"
            ]
          },
          "metadata": {},
          "execution_count": 122
        }
      ]
    },
    {
      "cell_type": "code",
      "source": [
        "# Plot predictions\n",
        "plt.figure(figsize=(9, 9))\n",
        "nrows = 3\n",
        "ncols = 3\n",
        "for i, sample in enumerate(test_samples):\n",
        "  # Create a subplot\n",
        "  plt.subplot(nrows, ncols, i+1)\n",
        "\n",
        "  # Plot the target image\n",
        "  plt.imshow(sample.squeeze(), cmap=\"gray\")\n",
        "\n",
        "  # Find the prediction label (in text form, e.g. \"Sandal\")\n",
        "  pred_label = class_names[pred_classes[i]]\n",
        "\n",
        "  # Get the truth label (in text form, e.g. \"T-shirt\")\n",
        "  truth_label = class_names[test_labels[i]]\n",
        "\n",
        "  # Create the title text of the plot\n",
        "  title_text = f\"Pred: {pred_label} | Truth: {truth_label}\"\n",
        "\n",
        "  # Check for equality and change title colour accordingly\n",
        "  if pred_label == truth_label:\n",
        "      plt.title(title_text, fontsize=10, c=\"g\") # green text if correct\n",
        "  else:\n",
        "      plt.title(title_text, fontsize=10, c=\"r\") # red text if wrong\n",
        "  plt.axis(False);"
      ],
      "metadata": {
        "colab": {
          "base_uri": "https://localhost:8080/",
          "height": 749
        },
        "id": "BSeupg8XznUj",
        "outputId": "2a237b3c-0735-4f32-8537-60c805d89282"
      },
      "execution_count": null,
      "outputs": [
        {
          "output_type": "display_data",
          "data": {
            "text/plain": [
              "<Figure size 900x900 with 9 Axes>"
            ],
            "image/png": "[encoded data removed]"
          },
          "metadata": {}
        }
      ]
    },
    {
      "cell_type": "markdown",
      "source": [
        "#### 10. Making a confusion Matrix for futher prediction evalution"
      ],
      "metadata": {
        "id": "Qn31r-TIdCgX"
      }
    },
    {
      "cell_type": "markdown",
      "source": [
        "Confuison matrix is used for classification"
      ],
      "metadata": {
        "id": "XdSZQ8TidTn_"
      }
    },
    {
      "cell_type": "code",
      "source": [
        "from tqdm.auto import tqdm\n",
        "\n",
        "y_preds = []\n",
        "model_0.eval()\n",
        "with torch.inference_mode():\n",
        "  for X, y in tqdm(test_dataloader):\n",
        "\n",
        "    X, y = X.to(device), y.to(device)\n",
        "\n",
        "    y_logit = model_2(X)\n",
        "\n",
        "    y_pred = torch.softmax(y_logit, dim=1).argmax(dim=1)\n",
        "\n",
        "    y_preds.append(y_pred.cpu())\n",
        "\n",
        "y_preds_tensor = torch.cat(y_preds)"
      ],
      "metadata": {
        "id": "CQ6YZqAP1Zdj",
        "colab": {
          "base_uri": "https://localhost:8080/",
          "height": 211
        },
        "outputId": "2064ec20-3f7c-43a9-cb86-ee9f6d1dc6c7"
      },
      "execution_count": null,
      "outputs": [
        {
          "output_type": "error",
          "ename": "NameError",
          "evalue": "name 'model_0' is not defined",
          "traceback": [
            "\u001b[0;31m---------------------------------------------------------------------------\u001b[0m",
            "\u001b[0;31mNameError\u001b[0m                                 Traceback (most recent call last)",
            "\u001b[0;32m<ipython-input-1-c466f79a7ab0>\u001b[0m in \u001b[0;36m<cell line: 0>\u001b[0;34m()\u001b[0m\n\u001b[1;32m      2\u001b[0m \u001b[0;34m\u001b[0m\u001b[0m\n\u001b[1;32m      3\u001b[0m \u001b[0my_preds\u001b[0m \u001b[0;34m=\u001b[0m \u001b[0;34m[\u001b[0m\u001b[0;34m]\u001b[0m\u001b[0;34m\u001b[0m\u001b[0;34m\u001b[0m\u001b[0m\n\u001b[0;32m----> 4\u001b[0;31m \u001b[0mmodel_0\u001b[0m\u001b[0;34m.\u001b[0m\u001b[0meval\u001b[0m\u001b[0;34m(\u001b[0m\u001b[0;34m)\u001b[0m\u001b[0;34m\u001b[0m\u001b[0;34m\u001b[0m\u001b[0m\n\u001b[0m\u001b[1;32m      5\u001b[0m \u001b[0;32mwith\u001b[0m \u001b[0mtorch\u001b[0m\u001b[0;34m.\u001b[0m\u001b[0minference_mode\u001b[0m\u001b[0;34m(\u001b[0m\u001b[0;34m)\u001b[0m\u001b[0;34m:\u001b[0m\u001b[0;34m\u001b[0m\u001b[0;34m\u001b[0m\u001b[0m\n\u001b[1;32m      6\u001b[0m   \u001b[0;32mfor\u001b[0m \u001b[0mX\u001b[0m\u001b[0;34m,\u001b[0m \u001b[0my\u001b[0m \u001b[0;32min\u001b[0m \u001b[0mtqdm\u001b[0m\u001b[0;34m(\u001b[0m\u001b[0mtest_dataloader\u001b[0m\u001b[0;34m)\u001b[0m\u001b[0;34m:\u001b[0m\u001b[0;34m\u001b[0m\u001b[0;34m\u001b[0m\u001b[0m\n",
            "\u001b[0;31mNameError\u001b[0m: name 'model_0' is not defined"
          ]
        }
      ]
    },
    {
      "cell_type": "code",
      "source": [
        "try:\n",
        "    import torchmetrics, mlxtend\n",
        "    print(f\"mlxtend version: {mlxtend.__version__}\")\n",
        "    assert int(mlxtend.__version__.split(\".\")[1]) >= 19, \"mlxtend verison should be 0.19.0 or higher\"\n",
        "except:\n",
        "    !pip install -q torchmetrics -U mlxtend # <- Note: If you're using Google Colab, this may require restarting the runtime\n",
        "    import torchmetrics, mlxtend\n",
        "    print(f\"mlxtend version: {mlxtend.__version__}\")"
      ],
      "metadata": {
        "colab": {
          "base_uri": "https://localhost:8080/"
        },
        "id": "-Z7wcbvWeDnE",
        "outputId": "92b9569c-711b-4e16-c43e-a1f9eefcb2fb"
      },
      "execution_count": null,
      "outputs": [
        {
          "output_type": "stream",
          "name": "stdout",
          "text": [
            "\u001b[2K   \u001b[90m━━━━━━━━━━━━━━━━━━━━━━━━━━━━━━━━━━━━━━━━\u001b[0m \u001b[32m961.5/961.5 kB\u001b[0m \u001b[31m47.9 MB/s\u001b[0m eta \u001b[36m0:00:00\u001b[0m\n",
            "\u001b[2K   \u001b[90m━━━━━━━━━━━━━━━━━━━━━━━━━━━━━━━━━━━━━━━━\u001b[0m \u001b[32m363.4/363.4 MB\u001b[0m \u001b[31m3.8 MB/s\u001b[0m eta \u001b[36m0:00:00\u001b[0m\n",
            "\u001b[2K   \u001b[90m━━━━━━━━━━━━━━━━━━━━━━━━━━━━━━━━━━━━━━━━\u001b[0m \u001b[32m13.8/13.8 MB\u001b[0m \u001b[31m57.3 MB/s\u001b[0m eta \u001b[36m0:00:00\u001b[0m\n",
            "\u001b[2K   \u001b[90m━━━━━━━━━━━━━━━━━━━━━━━━━━━━━━━━━━━━━━━━\u001b[0m \u001b[32m24.6/24.6 MB\u001b[0m \u001b[31m35.1 MB/s\u001b[0m eta \u001b[36m0:00:00\u001b[0m\n",
            "\u001b[2K   \u001b[90m━━━━━━━━━━━━━━━━━━━━━━━━━━━━━━━━━━━━━━━━\u001b[0m \u001b[32m883.7/883.7 kB\u001b[0m \u001b[31m48.6 MB/s\u001b[0m eta \u001b[36m0:00:00\u001b[0m\n",
            "\u001b[2K   \u001b[90m━━━━━━━━━━━━━━━━━━━━━━━━━━━━━━━━━━━━━━━━\u001b[0m \u001b[32m664.8/664.8 MB\u001b[0m \u001b[31m2.6 MB/s\u001b[0m eta \u001b[36m0:00:00\u001b[0m\n",
            "\u001b[2K   \u001b[90m━━━━━━━━━━━━━━━━━━━━━━━━━━━━━━━━━━━━━━━━\u001b[0m \u001b[32m211.5/211.5 MB\u001b[0m \u001b[31m5.3 MB/s\u001b[0m eta \u001b[36m0:00:00\u001b[0m\n",
            "\u001b[2K   \u001b[90m━━━━━━━━━━━━━━━━━━━━━━━━━━━━━━━━━━━━━━━━\u001b[0m \u001b[32m56.3/56.3 MB\u001b[0m \u001b[31m16.3 MB/s\u001b[0m eta \u001b[36m0:00:00\u001b[0m\n",
            "\u001b[2K   \u001b[90m━━━━━━━━━━━━━━━━━━━━━━━━━━━━━━━━━━━━━━━━\u001b[0m \u001b[32m127.9/127.9 MB\u001b[0m \u001b[31m7.4 MB/s\u001b[0m eta \u001b[36m0:00:00\u001b[0m\n",
            "\u001b[2K   \u001b[90m━━━━━━━━━━━━━━━━━━━━━━━━━━━━━━━━━━━━━━━━\u001b[0m \u001b[32m207.5/207.5 MB\u001b[0m \u001b[31m5.6 MB/s\u001b[0m eta \u001b[36m0:00:00\u001b[0m\n",
            "\u001b[2K   \u001b[90m━━━━━━━━━━━━━━━━━━━━━━━━━━━━━━━━━━━━━━━━\u001b[0m \u001b[32m21.1/21.1 MB\u001b[0m \u001b[31m68.4 MB/s\u001b[0m eta \u001b[36m0:00:00\u001b[0m\n",
            "\u001b[?25hmlxtend version: 0.23.4\n"
          ]
        }
      ]
    },
    {
      "cell_type": "code",
      "source": [
        "from torchmetrics import ConfusionMatrix\n",
        "from mlxend.plotting import plot_confusion_matrix\n",
        "\n",
        "confmat = ConfusionMatrix(num_classes=len(class_names), task = \"multiclass\")\n",
        "confmat_tensor = confmat(preds=y_pred_tensor,\n",
        "                         target=test_data.targets)"
      ],
      "metadata": {
        "id": "nq_QF58geLlk"
      },
      "execution_count": null,
      "outputs": []
    },
    {
      "cell_type": "code",
      "source": [
        "fig, ax = plot_confusion_matrix(\n",
        "    conf_mat = confmat_tensor.numpy(),\n",
        "    class_names = class_names,\n",
        "    figsize=(10, 7)\n",
        ");"
      ],
      "metadata": {
        "id": "pdLnju3ieuk_"
      },
      "execution_count": null,
      "outputs": []
    },
    {
      "cell_type": "markdown",
      "source": [
        "#### 11. Save and load best model"
      ],
      "metadata": {
        "id": "ydi-z5F1fWE8"
      }
    },
    {
      "cell_type": "code",
      "source": [
        "from pathlib import Path\n",
        "MODEL_PATH = Path(\"models\")\n",
        "MODEL_PATH.mkdir(parents=True,\n",
        "                 exist_ok=True)\n",
        "\n",
        "MODEL_NAME = \"..\"\n",
        "MODEL_SAVE_PATH = MODEL_PATH / MODEL_NAME\n",
        "\n",
        "print(\"SAVING MODEL TO :\",MODEL_SAVE_PATH)\n",
        "\n",
        "torch.save(obj=model_2.state_dict(),\n",
        "           f=MODEL_SAVE_PATH\n",
        "        )"
      ],
      "metadata": {
        "id": "6wIPqGMpfX9L"
      },
      "execution_count": null,
      "outputs": []
    },
    {
      "cell_type": "code",
      "source": [
        "loaded_model_2 = FashionMNISTModelV2(input_shape=1, hidden_units=10, output_shape=len(class_names))\n",
        "\n",
        "loaded_model_2.load_state_dict(torch.load(f=MODEL_SAVE_PATH))"
      ],
      "metadata": {
        "id": "kud_BBG5gGkh"
      },
      "execution_count": null,
      "outputs": []
    },
    {
      "cell_type": "code",
      "source": [
        "torch.manual_seed(42)\n",
        "\n",
        "loaded_model_2_results = eval_model(\n",
        "    model=loaded_model_2,\n",
        "    data_loader=test_dataloader,\n",
        "    loss_fn=loss_fn,\n",
        "    accuracy_fn=accuracy_fn\n",
        ")\n",
        "\n",
        "loaded_model_2_results"
      ],
      "metadata": {
        "id": "a2gP4A9pgX9m"
      },
      "execution_count": null,
      "outputs": []
    },
    {
      "cell_type": "code",
      "source": [
        "torch.isclose(torch.tensor(model_2_results[\"model_loss\"]),\n",
        "              torch.tensor(loaded_model_2_results[\"model_loss\"]),\n",
        "              atol=1e-08, # absolute tolerance\n",
        "              rtol=0.0001) # relative tolerance"
      ],
      "metadata": {
        "id": "gyBNEpwAgSjP"
      },
      "execution_count": null,
      "outputs": []
    },
    {
      "cell_type": "markdown",
      "source": [
        "# Whole Ahh Work through\n",
        "From Pytorch to Gan\n",
        "LEZZ GEDDIT DONE"
      ],
      "metadata": {
        "id": "SAjGDlNZHX7s"
      }
    },
    {
      "cell_type": "markdown",
      "source": [
        "## BASICS OF PYTORCH"
      ],
      "metadata": {
        "id": "_uAUdu7nTgtH"
      }
    },
    {
      "cell_type": "markdown",
      "source": [
        "### TENSOR SHIZZ"
      ],
      "metadata": {
        "id": "Cl4fDVZCTo4F"
      }
    },
    {
      "cell_type": "code",
      "source": [
        "import torch\n",
        "import numpy as np"
      ],
      "metadata": {
        "id": "gmVJcQws_7K2"
      },
      "execution_count": null,
      "outputs": []
    },
    {
      "cell_type": "code",
      "source": [
        "a = torch.tensor([0 , 1, 2])\n",
        "b = ((1.0, 1.1),(1.2, 1.3))\n",
        "b = torch.tensor(b)"
      ],
      "metadata": {
        "id": "j5mo83nL_7js"
      },
      "execution_count": null,
      "outputs": []
    },
    {
      "cell_type": "code",
      "source": [
        "c = np.ones([2, 3])\n",
        "c = torch.tensor(c)"
      ],
      "metadata": {
        "id": "HcMvXdosJcCH"
      },
      "execution_count": null,
      "outputs": []
    },
    {
      "cell_type": "code",
      "source": [
        "print(f\"a shape:{a.shape} \\n b shape:{b.shape} \\n c shape:{c.shape}\")"
      ],
      "metadata": {
        "id": "ubCHWSMkJmi3",
        "outputId": "35025721-ed3d-4810-9e0a-16269ff88885",
        "colab": {
          "base_uri": "https://localhost:8080/"
        }
      },
      "execution_count": null,
      "outputs": [
        {
          "output_type": "stream",
          "name": "stdout",
          "text": [
            "a shape:torch.Size([3]) \n",
            " b shape:torch.Size([2, 2]) \n",
            " c shape:torch.Size([2, 3])\n"
          ]
        }
      ]
    },
    {
      "cell_type": "code",
      "source": [
        "x = torch.arange(0, 10)\n",
        "\n",
        "print(x,\"\\n\",x.shape)"
      ],
      "metadata": {
        "id": "DFmj2SwBJt5f",
        "outputId": "0a91dec4-e925-4d08-a2f4-4b49b56e1cfe",
        "colab": {
          "base_uri": "https://localhost:8080/"
        }
      },
      "execution_count": null,
      "outputs": [
        {
          "output_type": "stream",
          "name": "stdout",
          "text": [
            "tensor([0, 1, 2, 3, 4, 5, 6, 7, 8, 9]) \n",
            " torch.Size([10])\n"
          ]
        }
      ]
    },
    {
      "cell_type": "code",
      "source": [
        "x[:-1]"
      ],
      "metadata": {
        "id": "fTlwKsblJ7vI",
        "outputId": "963c38a9-14b7-4e13-db8e-e935a40ff193",
        "colab": {
          "base_uri": "https://localhost:8080/"
        }
      },
      "execution_count": null,
      "outputs": [
        {
          "output_type": "execute_result",
          "data": {
            "text/plain": [
              "tensor([0, 1, 2, 3, 4, 5, 6, 7, 8])"
            ]
          },
          "metadata": {},
          "execution_count": 7
        }
      ]
    },
    {
      "cell_type": "code",
      "source": [
        "x[-1]"
      ],
      "metadata": {
        "id": "9tmiOe-kKFbX",
        "outputId": "4e91e101-3b4a-4d77-f8d4-4a414985148f",
        "colab": {
          "base_uri": "https://localhost:8080/"
        }
      },
      "execution_count": null,
      "outputs": [
        {
          "output_type": "execute_result",
          "data": {
            "text/plain": [
              "tensor(9)"
            ]
          },
          "metadata": {},
          "execution_count": 8
        }
      ]
    },
    {
      "cell_type": "code",
      "source": [
        "type(x[1:3]),x[1:3]"
      ],
      "metadata": {
        "id": "Rqt1kr1gKGan",
        "outputId": "c7283f0b-19c2-4c24-ba00-2ed6a07108fb",
        "colab": {
          "base_uri": "https://localhost:8080/"
        }
      },
      "execution_count": null,
      "outputs": [
        {
          "output_type": "execute_result",
          "data": {
            "text/plain": [
              "(torch.Tensor, tensor([1, 2]))"
            ]
          },
          "metadata": {},
          "execution_count": 9
        }
      ]
    },
    {
      "cell_type": "code",
      "source": [
        "#making a 5d tensor\n",
        "x = torch.rand(1,2,3,4,5)\n",
        "x[0].shape"
      ],
      "metadata": {
        "id": "7KaGu24aKI-3",
        "outputId": "481fdcf7-9470-4667-a899-87c6a63c37dc",
        "colab": {
          "base_uri": "https://localhost:8080/"
        }
      },
      "execution_count": null,
      "outputs": [
        {
          "output_type": "execute_result",
          "data": {
            "text/plain": [
              "torch.Size([2, 3, 4, 5])"
            ]
          },
          "metadata": {},
          "execution_count": 10
        }
      ]
    },
    {
      "cell_type": "code",
      "source": [
        "x[0] #[[["
      ],
      "metadata": {
        "id": "r26xIh0YKfi9",
        "outputId": "3fece924-674c-43d7-e79f-194ecd8e6e85",
        "colab": {
          "base_uri": "https://localhost:8080/"
        }
      },
      "execution_count": null,
      "outputs": [
        {
          "output_type": "execute_result",
          "data": {
            "text/plain": [
              "tensor([[[[0.9678, 0.3461, 0.6795, 0.8651, 0.2575],\n",
              "          [0.0642, 0.9667, 0.1785, 0.8490, 0.0748],\n",
              "          [0.3895, 0.8317, 0.7975, 0.3301, 0.9499],\n",
              "          [0.5774, 0.6692, 0.8518, 0.2645, 0.1589]],\n",
              "\n",
              "         [[0.0284, 0.5191, 0.7590, 0.8424, 0.7650],\n",
              "          [0.4141, 0.5314, 0.2899, 0.2454, 0.1461],\n",
              "          [0.8673, 0.1037, 0.8690, 0.5277, 0.9421],\n",
              "          [0.8111, 0.0787, 0.8062, 0.2059, 0.8636]],\n",
              "\n",
              "         [[0.0030, 0.1793, 0.7829, 0.1128, 0.5375],\n",
              "          [0.4993, 0.4459, 0.7372, 0.6808, 0.8897],\n",
              "          [0.4455, 0.1515, 0.9394, 0.0912, 0.9976],\n",
              "          [0.4801, 0.2944, 0.6575, 0.2658, 0.3833]]],\n",
              "\n",
              "\n",
              "        [[[0.0163, 0.5911, 0.5080, 0.8405, 0.6970],\n",
              "          [0.4088, 0.0234, 0.2216, 0.9352, 0.8402],\n",
              "          [0.6659, 0.0051, 0.3741, 0.1105, 0.6929],\n",
              "          [0.6038, 0.7780, 0.3704, 0.1303, 0.9743]],\n",
              "\n",
              "         [[0.3934, 0.1140, 0.0486, 0.8174, 0.7023],\n",
              "          [0.6708, 0.0735, 0.2149, 0.3856, 0.9611],\n",
              "          [0.8427, 0.6856, 0.2068, 0.6125, 0.5483],\n",
              "          [0.4907, 0.8686, 0.2118, 0.2829, 0.2584]],\n",
              "\n",
              "         [[0.2768, 0.8640, 0.8431, 0.9510, 0.0155],\n",
              "          [0.4837, 0.9785, 0.6829, 0.2957, 0.1192],\n",
              "          [0.9470, 0.3588, 0.6796, 0.6350, 0.9646],\n",
              "          [0.5404, 0.7190, 0.9821, 0.2631, 0.6072]]]])"
            ]
          },
          "metadata": {},
          "execution_count": 11
        }
      ]
    },
    {
      "cell_type": "code",
      "source": [
        "x #[[[["
      ],
      "metadata": {
        "id": "lBhUYZCEKXeA",
        "outputId": "eb9f804a-b6b6-4744-ec7e-d275d1c14ec6",
        "colab": {
          "base_uri": "https://localhost:8080/"
        }
      },
      "execution_count": null,
      "outputs": [
        {
          "output_type": "execute_result",
          "data": {
            "text/plain": [
              "tensor([[[[[0.9678, 0.3461, 0.6795, 0.8651, 0.2575],\n",
              "           [0.0642, 0.9667, 0.1785, 0.8490, 0.0748],\n",
              "           [0.3895, 0.8317, 0.7975, 0.3301, 0.9499],\n",
              "           [0.5774, 0.6692, 0.8518, 0.2645, 0.1589]],\n",
              "\n",
              "          [[0.0284, 0.5191, 0.7590, 0.8424, 0.7650],\n",
              "           [0.4141, 0.5314, 0.2899, 0.2454, 0.1461],\n",
              "           [0.8673, 0.1037, 0.8690, 0.5277, 0.9421],\n",
              "           [0.8111, 0.0787, 0.8062, 0.2059, 0.8636]],\n",
              "\n",
              "          [[0.0030, 0.1793, 0.7829, 0.1128, 0.5375],\n",
              "           [0.4993, 0.4459, 0.7372, 0.6808, 0.8897],\n",
              "           [0.4455, 0.1515, 0.9394, 0.0912, 0.9976],\n",
              "           [0.4801, 0.2944, 0.6575, 0.2658, 0.3833]]],\n",
              "\n",
              "\n",
              "         [[[0.0163, 0.5911, 0.5080, 0.8405, 0.6970],\n",
              "           [0.4088, 0.0234, 0.2216, 0.9352, 0.8402],\n",
              "           [0.6659, 0.0051, 0.3741, 0.1105, 0.6929],\n",
              "           [0.6038, 0.7780, 0.3704, 0.1303, 0.9743]],\n",
              "\n",
              "          [[0.3934, 0.1140, 0.0486, 0.8174, 0.7023],\n",
              "           [0.6708, 0.0735, 0.2149, 0.3856, 0.9611],\n",
              "           [0.8427, 0.6856, 0.2068, 0.6125, 0.5483],\n",
              "           [0.4907, 0.8686, 0.2118, 0.2829, 0.2584]],\n",
              "\n",
              "          [[0.2768, 0.8640, 0.8431, 0.9510, 0.0155],\n",
              "           [0.4837, 0.9785, 0.6829, 0.2957, 0.1192],\n",
              "           [0.9470, 0.3588, 0.6796, 0.6350, 0.9646],\n",
              "           [0.5404, 0.7190, 0.9821, 0.2631, 0.6072]]]]])"
            ]
          },
          "metadata": {},
          "execution_count": 12
        }
      ]
    },
    {
      "cell_type": "code",
      "source": [
        "print(x.shape)\n",
        "print(f\" shape of x[0]:{x[0].shape}\")\n",
        "print(f\" shape of x[0][0]:{x[0][0].shape}\")\n",
        "print(f\" shape of x[0][0][0]:{x[0][0][0].shape}\")"
      ],
      "metadata": {
        "id": "K1abs-pQKeRw",
        "outputId": "02e52078-3ed7-461a-825e-855302bed405",
        "colab": {
          "base_uri": "https://localhost:8080/"
        }
      },
      "execution_count": null,
      "outputs": [
        {
          "output_type": "stream",
          "name": "stdout",
          "text": [
            "torch.Size([1, 2, 3, 4, 5])\n",
            " shape of x[0]:torch.Size([2, 3, 4, 5])\n",
            " shape of x[0][0]:torch.Size([3, 4, 5])\n",
            " shape of x[0][0][0]:torch.Size([4, 5])\n"
          ]
        }
      ]
    },
    {
      "cell_type": "code",
      "source": [
        "x = torch.rand(10) # uniform 0-1\n",
        "x"
      ],
      "metadata": {
        "id": "n8ccIedrKxrJ",
        "outputId": "9d68264c-bebe-4f3f-a8a4-e5f84f788f73",
        "colab": {
          "base_uri": "https://localhost:8080/"
        }
      },
      "execution_count": null,
      "outputs": [
        {
          "output_type": "execute_result",
          "data": {
            "text/plain": [
              "tensor([0.3948, 0.3348, 0.8817, 0.3637, 0.4562, 0.8510, 0.5982, 0.4254, 0.0262,\n",
              "        0.9535])"
            ]
          },
          "metadata": {},
          "execution_count": 14
        }
      ]
    },
    {
      "cell_type": "code",
      "source": [
        "x = torch.randn(10) # Returns a tensor filled with random numbers from a normal distribution with mean `0` and variance `1\n",
        "\n",
        "x"
      ],
      "metadata": {
        "id": "o5kn53f_Mi9f",
        "outputId": "ba0f4f01-21ef-4dca-bc64-1fda249ef505",
        "colab": {
          "base_uri": "https://localhost:8080/"
        }
      },
      "execution_count": null,
      "outputs": [
        {
          "output_type": "execute_result",
          "data": {
            "text/plain": [
              "tensor([-1.2722,  1.4214, -0.4945, -1.9372, -1.3647,  1.5925, -0.5019,  1.3605,\n",
              "        -0.4278,  1.1629])"
            ]
          },
          "metadata": {},
          "execution_count": 15
        }
      ]
    },
    {
      "cell_type": "code",
      "source": [
        "x.device"
      ],
      "metadata": {
        "id": "MzVlVNjeMlzP",
        "outputId": "24ba2577-9ba3-4ae5-dbc7-7b93c3b67c17",
        "colab": {
          "base_uri": "https://localhost:8080/"
        }
      },
      "execution_count": null,
      "outputs": [
        {
          "output_type": "execute_result",
          "data": {
            "text/plain": [
              "device(type='cpu')"
            ]
          },
          "metadata": {},
          "execution_count": 16
        }
      ]
    },
    {
      "cell_type": "markdown",
      "source": [
        "LEtS GET a GpU BrOKE BoIIS"
      ],
      "metadata": {
        "id": "QgrBNCV7NdvB"
      }
    },
    {
      "cell_type": "code",
      "source": [
        "print(torch.cuda.is_available())"
      ],
      "metadata": {
        "id": "bXftd6ePMqbX",
        "outputId": "b0fbf3da-592e-44b8-991c-b33fb6058c3c",
        "colab": {
          "base_uri": "https://localhost:8080/"
        }
      },
      "execution_count": null,
      "outputs": [
        {
          "output_type": "stream",
          "name": "stdout",
          "text": [
            "True\n"
          ]
        }
      ]
    },
    {
      "cell_type": "code",
      "source": [
        "device = \"cuda\" if torch.cuda.is_available() else \"cpu\"\n",
        "device\n"
      ],
      "metadata": {
        "id": "R2uTXkdNNKWQ",
        "outputId": "79ab6e19-12c9-48bb-ad0d-1c65531c22ba",
        "colab": {
          "base_uri": "https://localhost:8080/",
          "height": 35
        }
      },
      "execution_count": null,
      "outputs": [
        {
          "output_type": "execute_result",
          "data": {
            "text/plain": [
              "'cuda'"
            ],
            "application/vnd.google.colaboratory.intrinsic+json": {
              "type": "string"
            }
          },
          "metadata": {},
          "execution_count": 19
        }
      ]
    },
    {
      "cell_type": "code",
      "source": [
        "x = x.to(device) # cant just say x.to(device)\n",
        "x.device"
      ],
      "metadata": {
        "id": "eUYPnd9tNUGt",
        "outputId": "e81426eb-d3c3-4f5e-ccd0-a00b05fa9860",
        "colab": {
          "base_uri": "https://localhost:8080/"
        }
      },
      "execution_count": null,
      "outputs": [
        {
          "output_type": "execute_result",
          "data": {
            "text/plain": [
              "device(type='cuda', index=0)"
            ]
          },
          "metadata": {},
          "execution_count": 20
        }
      ]
    },
    {
      "cell_type": "code",
      "source": [
        "GPU_DEVICE = \"cuda\"\n",
        "\n",
        "x = torch.randn(2,2, device = GPU_DEVICE)\n",
        "print(x.dtype)\n",
        "print(x.device)"
      ],
      "metadata": {
        "id": "qfdeRFs-Ms6H",
        "outputId": "cf2e8956-2582-41d8-afde-446b66cfd525",
        "colab": {
          "base_uri": "https://localhost:8080/"
        }
      },
      "execution_count": null,
      "outputs": [
        {
          "output_type": "stream",
          "name": "stdout",
          "text": [
            "torch.float32\n",
            "cuda:0\n"
          ]
        }
      ]
    },
    {
      "cell_type": "code",
      "source": [
        "y = torch.rand(2, 2)\n",
        "print(f\"y before calling to() | device: {y.device} | dtype: {y.dtype}\")\n",
        "y = y.to(device)\n",
        "print(f\"y after calling to() | device: {y.device} | dtype: {y.dtype}\") #indexed at first gpu i think\n"
      ],
      "metadata": {
        "id": "Yk-tWA2pSWG3",
        "outputId": "373c57e6-8779-4646-cd84-c5e701bb4ff1",
        "colab": {
          "base_uri": "https://localhost:8080/"
        }
      },
      "execution_count": null,
      "outputs": [
        {
          "output_type": "stream",
          "name": "stdout",
          "text": [
            "y before calling to() | device: cpu | dtype: torch.float32\n",
            "y after calling to() | device: cuda:0 | dtype: torch.float32\n"
          ]
        }
      ]
    },
    {
      "cell_type": "code",
      "source": [
        " (y.device.index) #device index"
      ],
      "metadata": {
        "id": "Uf__8DZXSenf",
        "outputId": "59febadd-67bf-4b3c-9111-9c2ad65765a5",
        "colab": {
          "base_uri": "https://localhost:8080/"
        }
      },
      "execution_count": null,
      "outputs": [
        {
          "output_type": "execute_result",
          "data": {
            "text/plain": [
              "0"
            ]
          },
          "metadata": {},
          "execution_count": 29
        }
      ]
    },
    {
      "cell_type": "code",
      "source": [
        "x = torch.tensor([0, 1, 2], device = GPU_DEVICE)\n",
        "y = torch.tensor([3, 4, 5], device = \"cpu\")\n",
        "z = torch.tensor([6, 7, 8], device = GPU_DEVICE)"
      ],
      "metadata": {
        "id": "tm-_L9o6Smx-"
      },
      "execution_count": null,
      "outputs": []
    },
    {
      "cell_type": "code",
      "source": [
        "try:\n",
        "  x + y\n",
        "except Exception as e:\n",
        "  print(e,\"\\n BASICALLY all devices should be on same device\")"
      ],
      "metadata": {
        "id": "-eJn6WmMTFvH",
        "outputId": "72981ffa-bcbb-4e90-e19e-18a1efd31159",
        "colab": {
          "base_uri": "https://localhost:8080/"
        }
      },
      "execution_count": null,
      "outputs": [
        {
          "output_type": "stream",
          "name": "stdout",
          "text": [
            "Expected all tensors to be on the same device, but found at least two devices, cuda:0 and cpu! \n",
            " BASICALLY all devices should be on same device\n"
          ]
        }
      ]
    },
    {
      "cell_type": "code",
      "source": [
        "x+z # no problem"
      ],
      "metadata": {
        "id": "S2v2SXUMTMt_",
        "outputId": "a6df7aa5-479a-420a-fee0-c70dcc57ecd9",
        "colab": {
          "base_uri": "https://localhost:8080/"
        }
      },
      "execution_count": null,
      "outputs": [
        {
          "output_type": "execute_result",
          "data": {
            "text/plain": [
              "tensor([ 6,  8, 10], device='cuda:0')"
            ]
          },
          "metadata": {},
          "execution_count": 34
        }
      ]
    },
    {
      "cell_type": "code",
      "source": [
        "y = y.to(GPU_DEVICE)\n",
        "(x+y)"
      ],
      "metadata": {
        "id": "uY7F_r_ETV8f",
        "outputId": "74643e04-b1e9-42a1-b17f-b169cf8a6f68",
        "colab": {
          "base_uri": "https://localhost:8080/"
        }
      },
      "execution_count": null,
      "outputs": [
        {
          "output_type": "execute_result",
          "data": {
            "text/plain": [
              "tensor([3, 5, 7], device='cuda:0')"
            ]
          },
          "metadata": {},
          "execution_count": 36
        }
      ]
    },
    {
      "cell_type": "markdown",
      "source": [
        "### Pytorch AUTOGRAD shizz"
      ],
      "metadata": {
        "id": "FtsiQKyiTsDt"
      }
    },
    {
      "cell_type": "markdown",
      "source": [
        "#### Building a simple computation graph"
      ],
      "metadata": {
        "id": "kUiyQGCMUCdZ"
      }
    },
    {
      "cell_type": "code",
      "source": [
        "class SimpleGraph:\n",
        "  def __init__(self, w, b):\n",
        "    assert isinstance(w, float)\n",
        "    assert isinstance(b, float)\n",
        "\n",
        "    self.w = torch.tensor([w], requires_grad=True)\n",
        "    self.b = torch.tensor([b], requires_grad=True)\n",
        "\n",
        "  def forward(self, x):\n",
        "    assert isinstance(x, torch.Tensor) #GOMMA FULL SANITY CHECKS\n",
        "\n",
        "    prediction = torch.tanh(x * self.w + self.b)\n",
        "    return prediction\n",
        "\n",
        "def sq_loss(y_true, y_prediction):\n",
        "  loss = (y_true - y_prediction)**2 # loss_fn = torch.nn.MSELoss() , loss_fn(y_true, y_pred)*torch.tensor(len(y_prediction)) # I think\n",
        "  return loss\n",
        "\n",
        "feature = torch.tensor([1]) #Input Tensor\n",
        "target = torch.tensor([7]) # Target Tensor\n",
        "simple_graph = SimpleGraph(-0.5, 0.5)\n",
        "\n"
      ],
      "metadata": {
        "id": "EI5ZMz8ETai2"
      },
      "execution_count": null,
      "outputs": []
    },
    {
      "cell_type": "code",
      "source": [
        "simple_graph.w, simple_graph.b"
      ],
      "metadata": {
        "id": "VupNt6gCV8Xm",
        "outputId": "80b84913-d59b-4226-861f-6212b624b52e",
        "colab": {
          "base_uri": "https://localhost:8080/"
        }
      },
      "execution_count": null,
      "outputs": [
        {
          "output_type": "execute_result",
          "data": {
            "text/plain": [
              "(tensor([-0.5000], requires_grad=True), tensor([0.5000], requires_grad=True))"
            ]
          },
          "metadata": {},
          "execution_count": 93
        }
      ]
    },
    {
      "cell_type": "code",
      "source": [
        "simple_graph.w.item(), simple_graph.b.item()"
      ],
      "metadata": {
        "id": "6O-WJ1dWV9y2",
        "outputId": "4b150fa0-7f1d-4ad2-b859-f95e91b41a67",
        "colab": {
          "base_uri": "https://localhost:8080/"
        }
      },
      "execution_count": null,
      "outputs": [
        {
          "output_type": "execute_result",
          "data": {
            "text/plain": [
              "(-0.5, 0.5)"
            ]
          },
          "metadata": {},
          "execution_count": 94
        }
      ]
    },
    {
      "cell_type": "code",
      "source": [
        "#WHAT DOES ITEM DO?\n",
        "torch.tensor(([1,2,3],[1,3,4])).sum().item() #items gives scalar"
      ],
      "metadata": {
        "id": "-04uNOddWHu_",
        "outputId": "7879cb5d-6574-4079-abf3-a19314e150c6",
        "colab": {
          "base_uri": "https://localhost:8080/"
        }
      },
      "execution_count": null,
      "outputs": [
        {
          "output_type": "execute_result",
          "data": {
            "text/plain": [
              "14"
            ]
          },
          "metadata": {},
          "execution_count": 95
        }
      ]
    },
    {
      "cell_type": "code",
      "source": [
        "prediction = simple_graph.forward(feature)\n",
        "prediction"
      ],
      "metadata": {
        "id": "Mga52u5UWM2m",
        "outputId": "935c1f7d-8dad-4e38-bc2b-4e28f525b86d",
        "colab": {
          "base_uri": "https://localhost:8080/"
        }
      },
      "execution_count": null,
      "outputs": [
        {
          "output_type": "execute_result",
          "data": {
            "text/plain": [
              "tensor([0.], grad_fn=<TanhBackward0>)"
            ]
          },
          "metadata": {},
          "execution_count": 96
        }
      ]
    },
    {
      "cell_type": "code",
      "source": [
        "torch.tanh(torch.tensor(1*(-0.5) + 0.5))"
      ],
      "metadata": {
        "id": "sQ3x90iuWgBf",
        "outputId": "efa84825-5cbd-4015-e290-b71365c3b4fc",
        "colab": {
          "base_uri": "https://localhost:8080/"
        }
      },
      "execution_count": null,
      "outputs": [
        {
          "output_type": "execute_result",
          "data": {
            "text/plain": [
              "tensor(0.)"
            ]
          },
          "metadata": {},
          "execution_count": 97
        }
      ]
    },
    {
      "cell_type": "code",
      "source": [
        "square_loss = sq_loss(target, prediction)\n",
        "square_loss"
      ],
      "metadata": {
        "id": "cfvPpXvHW0m3",
        "outputId": "2694d2a9-4d3c-41ba-b726-8139fda3f9b9",
        "colab": {
          "base_uri": "https://localhost:8080/"
        }
      },
      "execution_count": null,
      "outputs": [
        {
          "output_type": "execute_result",
          "data": {
            "text/plain": [
              "tensor([49.], grad_fn=<PowBackward0>)"
            ]
          },
          "metadata": {},
          "execution_count": 98
        }
      ]
    },
    {
      "cell_type": "code",
      "source": [
        "simple_graph.w.grad, simple_graph.b.grad"
      ],
      "metadata": {
        "id": "OG6XRNPoXIEu",
        "outputId": "921c5fc9-ea17-4146-ede7-0392f7fe714c",
        "colab": {
          "base_uri": "https://localhost:8080/"
        }
      },
      "execution_count": null,
      "outputs": [
        {
          "output_type": "execute_result",
          "data": {
            "text/plain": [
              "(None, None)"
            ]
          },
          "metadata": {},
          "execution_count": 99
        }
      ]
    },
    {
      "cell_type": "code",
      "source": [
        "square_loss.backward() #cannot run this a second time unless you put retain_grad or something and or you re-intialize everything"
      ],
      "metadata": {
        "id": "m3UDidkXXT3H"
      },
      "execution_count": null,
      "outputs": []
    },
    {
      "cell_type": "code",
      "source": [
        "simple_graph.w.grad, simple_graph.b.grad"
      ],
      "metadata": {
        "id": "kkqigBLhXYWe",
        "outputId": "31c3edca-940a-46ee-ad5d-aff21b9ff6d3",
        "colab": {
          "base_uri": "https://localhost:8080/"
        }
      },
      "execution_count": null,
      "outputs": [
        {
          "output_type": "execute_result",
          "data": {
            "text/plain": [
              "(tensor([-14.]), tensor([-14.]))"
            ]
          },
          "metadata": {},
          "execution_count": 101
        }
      ]
    },
    {
      "cell_type": "markdown",
      "source": [
        "#### Backward Propogation"
      ],
      "metadata": {
        "id": "2zKU-GfIX61t"
      }
    },
    {
      "cell_type": "code",
      "source": [
        "a = torch.tensor([1.0], requires_grad=True)\n",
        "b = torch.tensor([-1.0],  requires_grad=True)\n",
        "c = a + b\n",
        "c.grad_fn"
      ],
      "metadata": {
        "id": "r9ITzbaCXaB4",
        "outputId": "a4c55d19-af27-4e6d-d749-2c79877f8eb0",
        "colab": {
          "base_uri": "https://localhost:8080/"
        }
      },
      "execution_count": null,
      "outputs": [
        {
          "output_type": "execute_result",
          "data": {
            "text/plain": [
              "<AddBackward0 at 0x7971a98eb730>"
            ]
          },
          "metadata": {},
          "execution_count": 102
        }
      ]
    },
    {
      "cell_type": "code",
      "source": [
        "c = a*b"
      ],
      "metadata": {
        "id": "gKM4ABXRaGzO"
      },
      "execution_count": null,
      "outputs": []
    },
    {
      "cell_type": "code",
      "source": [
        "c.grad_fn"
      ],
      "metadata": {
        "id": "gzbRn00QaJPe",
        "outputId": "0b4bd8c9-7396-45ce-de13-3571830aa22a",
        "colab": {
          "base_uri": "https://localhost:8080/"
        }
      },
      "execution_count": null,
      "outputs": [
        {
          "output_type": "execute_result",
          "data": {
            "text/plain": [
              "<MulBackward0 at 0x7970bc5b9690>"
            ]
          },
          "metadata": {},
          "execution_count": 104
        }
      ]
    },
    {
      "cell_type": "code",
      "source": [
        "prediction.grad_fn"
      ],
      "metadata": {
        "id": "r3yWxA5maKJe",
        "outputId": "de2e56a2-c283-488c-9f18-36cb76c9ce54",
        "colab": {
          "base_uri": "https://localhost:8080/"
        }
      },
      "execution_count": null,
      "outputs": [
        {
          "output_type": "execute_result",
          "data": {
            "text/plain": [
              "<TanhBackward0 at 0x7970bc5b8250>"
            ]
          },
          "metadata": {},
          "execution_count": 105
        }
      ]
    },
    {
      "cell_type": "code",
      "source": [
        "square_loss.grad_fn"
      ],
      "metadata": {
        "id": "dqBsyvwLaMbW",
        "outputId": "04c79501-5b3f-4026-9c4f-a6191a76db3d",
        "colab": {
          "base_uri": "https://localhost:8080/"
        }
      },
      "execution_count": null,
      "outputs": [
        {
          "output_type": "execute_result",
          "data": {
            "text/plain": [
              "<PowBackward0 at 0x7970bc5ba800>"
            ]
          },
          "metadata": {},
          "execution_count": 106
        }
      ]
    },
    {
      "cell_type": "markdown",
      "source": [
        "tf is this 🫵🏽🔥\n",
        "```\n",
        "Hello I love You\n",
        "x1 x2 x3 x4\n",
        "Linear Transformation\n",
        "Q = [q1, q2, q3, q4]\n",
        "K = [k1,k2,k3,k4]\n",
        "V = [v1,v2,v3,v4]\n",
        "\n",
        "\n",
        "Attention\n",
        "Softmax(q2.T@[k1,k2,k3,k4]/sqrt(d)) = [0.2,0.4,0.1,0.3]\n",
        "\n",
        "0.2*v1 + 0.4 *v2 + ....\n",
        "\n",
        "\\hat{x1} \\hat{x2} ...\n",
        "Different W_Q, W_K and W_V\n",
        "\n",
        "W_O\n",
        "\n",
        "\n",
        "\n",
        "Ajay went to a Blood bank today and donated 5 ltrs of blood\n",
        "Ajay went to a bank today to deposit 5 lac money to his friends account\n",
        "```"
      ],
      "metadata": {
        "id": "KLGNhFSlarBl"
      }
    },
    {
      "cell_type": "markdown",
      "source": [
        "### Tranformers"
      ],
      "metadata": {
        "id": "vaJKHi-fazZp"
      }
    },
    {
      "cell_type": "markdown",
      "source": [
        "![](https://theaisummer.com/static/6122618d7e1466853e88473ba375cdc7/40ffe/transformer.png)\n",
        "\n",
        "\n",
        "#### 1. Introduction\n",
        "\n",
        "We will explain the try to implement transformers in \"Attention is all you need paper\" from scratch using Pytorch. Basically transformer have an encoder-decoder architecture. It is common for language translation models.\n",
        "\n",
        "\n",
        "\n",
        "Note: Here we are  not going to a indepth explaination of transformers. For that please refer [blog](http://jalammar.github.io/illustrated-transformer/.) by Jay alammar. He has given a indepth explanation about the inner working of the transformers. We will just focus on the coding part.\n"
      ],
      "metadata": {
        "id": "iuFXWkXTB0yw"
      }
    },
    {
      "cell_type": "code",
      "source": [
        "!pip install torchtext"
      ],
      "metadata": {
        "id": "nJo2VlB9aQG-",
        "colab": {
          "base_uri": "https://localhost:8080/"
        },
        "outputId": "f2313b36-74c3-420d-f173-a368cfc99505"
      },
      "execution_count": null,
      "outputs": [
        {
          "output_type": "stream",
          "name": "stdout",
          "text": [
            "Requirement already satisfied: torchtext in /usr/local/lib/python3.11/dist-packages (0.18.0)\n",
            "Requirement already satisfied: tqdm in /usr/local/lib/python3.11/dist-packages (from torchtext) (4.67.1)\n",
            "Requirement already satisfied: requests in /usr/local/lib/python3.11/dist-packages (from torchtext) (2.32.3)\n",
            "Requirement already satisfied: torch>=2.3.0 in /usr/local/lib/python3.11/dist-packages (from torchtext) (2.6.0+cu124)\n",
            "Requirement already satisfied: numpy in /usr/local/lib/python3.11/dist-packages (from torchtext) (2.0.2)\n",
            "Requirement already satisfied: filelock in /usr/local/lib/python3.11/dist-packages (from torch>=2.3.0->torchtext) (3.18.0)\n",
            "Requirement already satisfied: typing-extensions>=4.10.0 in /usr/local/lib/python3.11/dist-packages (from torch>=2.3.0->torchtext) (4.13.2)\n",
            "Requirement already satisfied: networkx in /usr/local/lib/python3.11/dist-packages (from torch>=2.3.0->torchtext) (3.4.2)\n",
            "Requirement already satisfied: jinja2 in /usr/local/lib/python3.11/dist-packages (from torch>=2.3.0->torchtext) (3.1.6)\n",
            "Requirement already satisfied: fsspec in /usr/local/lib/python3.11/dist-packages (from torch>=2.3.0->torchtext) (2025.3.2)\n",
            "Requirement already satisfied: nvidia-cuda-nvrtc-cu12==12.4.127 in /usr/local/lib/python3.11/dist-packages (from torch>=2.3.0->torchtext) (12.4.127)\n",
            "Requirement already satisfied: nvidia-cuda-runtime-cu12==12.4.127 in /usr/local/lib/python3.11/dist-packages (from torch>=2.3.0->torchtext) (12.4.127)\n",
            "Requirement already satisfied: nvidia-cuda-cupti-cu12==12.4.127 in /usr/local/lib/python3.11/dist-packages (from torch>=2.3.0->torchtext) (12.4.127)\n",
            "Requirement already satisfied: nvidia-cudnn-cu12==9.1.0.70 in /usr/local/lib/python3.11/dist-packages (from torch>=2.3.0->torchtext) (9.1.0.70)\n",
            "Requirement already satisfied: nvidia-cublas-cu12==12.4.5.8 in /usr/local/lib/python3.11/dist-packages (from torch>=2.3.0->torchtext) (12.4.5.8)\n",
            "Requirement already satisfied: nvidia-cufft-cu12==11.2.1.3 in /usr/local/lib/python3.11/dist-packages (from torch>=2.3.0->torchtext) (11.2.1.3)\n",
            "Requirement already satisfied: nvidia-curand-cu12==10.3.5.147 in /usr/local/lib/python3.11/dist-packages (from torch>=2.3.0->torchtext) (10.3.5.147)\n",
            "Requirement already satisfied: nvidia-cusolver-cu12==11.6.1.9 in /usr/local/lib/python3.11/dist-packages (from torch>=2.3.0->torchtext) (11.6.1.9)\n",
            "Requirement already satisfied: nvidia-cusparse-cu12==12.3.1.170 in /usr/local/lib/python3.11/dist-packages (from torch>=2.3.0->torchtext) (12.3.1.170)\n",
            "Requirement already satisfied: nvidia-cusparselt-cu12==0.6.2 in /usr/local/lib/python3.11/dist-packages (from torch>=2.3.0->torchtext) (0.6.2)\n",
            "Requirement already satisfied: nvidia-nccl-cu12==2.21.5 in /usr/local/lib/python3.11/dist-packages (from torch>=2.3.0->torchtext) (2.21.5)\n",
            "Requirement already satisfied: nvidia-nvtx-cu12==12.4.127 in /usr/local/lib/python3.11/dist-packages (from torch>=2.3.0->torchtext) (12.4.127)\n",
            "Requirement already satisfied: nvidia-nvjitlink-cu12==12.4.127 in /usr/local/lib/python3.11/dist-packages (from torch>=2.3.0->torchtext) (12.4.127)\n",
            "Requirement already satisfied: triton==3.2.0 in /usr/local/lib/python3.11/dist-packages (from torch>=2.3.0->torchtext) (3.2.0)\n",
            "Requirement already satisfied: sympy==1.13.1 in /usr/local/lib/python3.11/dist-packages (from torch>=2.3.0->torchtext) (1.13.1)\n",
            "Requirement already satisfied: mpmath<1.4,>=1.1.0 in /usr/local/lib/python3.11/dist-packages (from sympy==1.13.1->torch>=2.3.0->torchtext) (1.3.0)\n",
            "Requirement already satisfied: charset-normalizer<4,>=2 in /usr/local/lib/python3.11/dist-packages (from requests->torchtext) (3.4.1)\n",
            "Requirement already satisfied: idna<4,>=2.5 in /usr/local/lib/python3.11/dist-packages (from requests->torchtext) (3.10)\n",
            "Requirement already satisfied: urllib3<3,>=1.21.1 in /usr/local/lib/python3.11/dist-packages (from requests->torchtext) (2.4.0)\n",
            "Requirement already satisfied: certifi>=2017.4.17 in /usr/local/lib/python3.11/dist-packages (from requests->torchtext) (2025.1.31)\n",
            "Requirement already satisfied: MarkupSafe>=2.0 in /usr/local/lib/python3.11/dist-packages (from jinja2->torch>=2.3.0->torchtext) (3.0.2)\n"
          ]
        }
      ]
    },
    {
      "cell_type": "markdown",
      "source": [
        "###### Imports"
      ],
      "metadata": {
        "id": "oC1YBGrtDD91"
      }
    },
    {
      "cell_type": "code",
      "source": [
        " import torch.nn as nn\n",
        " import torch\n",
        " import torch.functional as F\n",
        " import math, copy, re\n",
        " import warnings\n",
        " #Q: #What is common betwwen poachers in china and data scientists?\n",
        " #Ans: import pandas as pd\n",
        "\n",
        " import numpy as np\n",
        " import seaborn as sns\n",
        "\n",
        " import matplotlib.pyplot as plt\n",
        " warnings.simplefilter(\"ignore\")\n",
        " print(torch.__version__)"
      ],
      "metadata": {
        "colab": {
          "base_uri": "https://localhost:8080/"
        },
        "id": "3qLqei01CNxH",
        "outputId": "2779caeb-9f3b-442a-cc0d-70ad1d251ab5"
      },
      "execution_count": null,
      "outputs": [
        {
          "output_type": "stream",
          "name": "stdout",
          "text": [
            "2.6.0+cu124\n"
          ]
        }
      ]
    },
    {
      "cell_type": "markdown",
      "source": [
        "###### Basic Components"
      ],
      "metadata": {
        "id": "_LYRqloJDF4_"
      }
    },
    {
      "cell_type": "markdown",
      "source": [
        "######Create Word Embeddings"
      ],
      "metadata": {
        "id": "kqq_beTMDe5H"
      }
    },
    {
      "cell_type": "code",
      "source": [
        "x = [[1, 2, 0]]\n",
        "x = np.array([[0,1,0],[0,0,1],[1,0,0]])\n",
        "W = np.array([[0.1,0.2],[0.5,0.4],[1.2,1.3]])\n",
        "print(W.shape, x.shape)\n",
        "\n",
        "x@W"
      ],
      "metadata": {
        "colab": {
          "base_uri": "https://localhost:8080/"
        },
        "id": "anm3osRPC0O3",
        "outputId": "5dbf9946-a991-4893-9715-f654e4ee66af"
      },
      "execution_count": null,
      "outputs": [
        {
          "output_type": "stream",
          "name": "stdout",
          "text": [
            "(3, 2) (3, 3)\n"
          ]
        },
        {
          "output_type": "execute_result",
          "data": {
            "text/plain": [
              "array([[0.5, 0.4],\n",
              "       [1.2, 1.3],\n",
              "       [0.1, 0.2]])"
            ]
          },
          "metadata": {},
          "execution_count": 3
        }
      ]
    },
    {
      "cell_type": "code",
      "source": [
        "class Embedding(nn.Module):\n",
        "  def __init__(self, vocab_size, embed_dim):\n",
        "\n",
        "    super(Embedding, self).__init__()\n",
        "    self.embed = nn.Embedding(vocab_size, embed_dim) #shape vocab x embed_dim\n",
        "\n",
        "  def forward(self, x):\n",
        "    out = self.embed(x)\n",
        "\n",
        "    return out\n"
      ],
      "metadata": {
        "id": "D6NJQB5HEJh6"
      },
      "execution_count": null,
      "outputs": []
    },
    {
      "cell_type": "markdown",
      "source": [
        "###### Postional Encoding"
      ],
      "metadata": {
        "id": "o0kOCwStE6pl"
      }
    },
    {
      "cell_type": "markdown",
      "source": [
        "\n",
        "Next step is to generate positional encoding. Inorder for the model to make\n",
        "sense of the sentence, it needs to know two things about the each word.\n",
        "* what does the word mean?\n",
        "* what is the position of the word in the sentence.\n",
        "\n",
        "In \"attention is all you need paper\" author used the following functions to create positional encoding. On odd time steps a cosine function is used and in even time steps a sine function is used.\n",
        "\n",
        "![](https://miro.medium.com/max/524/1*yWGV9ck-0ltfV2wscUeo7Q.png)\n",
        "\n",
        "![](https://miro.medium.com/max/564/1*SgNlyFaHH8ljBbpCupDhSQ.png)\n",
        "\n",
        "```\n",
        "pos -> refers to order in the sentence\n",
        "i -> refers to position along embedding vector dimension\n",
        "```\n",
        "\n",
        "Positinal embedding will generate a matrix of similar to embedding matrix. It will create a matrix of dimension sequence length x embedding dimension. For each token(word) in sequence, we will find the embedding vector which is of dimension 1 x 512 and it is added with the correspondng positional vector which is of dimension 1 x 512 to get 1 x 512 dim out for each word/token.\n",
        "\n",
        "for eg: if we have batch size of 32 and seq length of 10 and let embedding dimension be 512. Then we will have embedding vector of dimension 32 x 10 x 512. Similarly we will have positional encoding vector of dimension 32 x 10 x 512. Then we add both.\n",
        "![](https://miro.medium.com/max/906/1*B-VR6R5vJl3Y7jbMNf5Fpw.png)"
      ],
      "metadata": {
        "id": "Q7PxlWj9E-Sk"
      }
    },
    {
      "cell_type": "markdown",
      "source": [
        "![Screenshot from 2025-02-13 17-35-53.png](data:image/png;base64,iVBORw0KGgoAAAANSUhEUgAAAQsAAAGFCAYAAADq79b6AAAABHNCSVQICAgIfAhkiAAAABl0RVh0U29mdHdhcmUAZ25vbWUtc2NyZWVuc2hvdO8Dvz4AAAAzdEVYdENyZWF0aW9uIFRpbWUAVGh1cnNkYXkgMTMgRmVicnVhcnkgMjAyNSAwNTozNTo1MyBQTWvWgywAACAASURBVHic7d13WJP3/j7wOwlLBFFAwQWKo4pbUUEBR7W27jqKo5bWWn9qtcPRPTw97bdD7TitejzVU7V1H1tttWqpCAiIA0W2igscqKBsTELy+f2BIijoJ6xgcr+ui+siT57xTgh3nuf9LIUQQoCI6BGUxi6AiB4PDAsiksKwMDfqW0hLTkbK9XzoKxqnKA/XTiciMTUDBRWOROaGYWEWdMgO+xGLhnWBS8vuGDZhDPxbu8LBexIWhFxG0d3R9BmIXvIS+rm3QbdRAZjs3xGN3b0w8KNtiNewtWX2BJm4XJGwNEC0d+srxnz/t0jR3Bl8YZd4o62dgE1r0XnTGVGkuyqCX/YSGLhQrE/JKR7n5hHx75FPCFuFlcCiv0WO0V4D1QUMC5OmFZdXThItOk4V358rfODZop+mCidAoOk4seyLccK+0yyxMUt/58kUsW5Qc6EEBACBHu+I4KLarZ7qFgtjr9lQDYpdgRc/OY8hu4Iwt7XNA0+r2nqgmVKBzPQdWPiBM5ptjEGAg6L4ybS/sTHkyp2+hgJwaYoW3Gg1a/zzmyr9VWx/91sETfsc/+ppX/44WdnIgQCEHsJtLJaNcb33gXDpgUFdnKCEAmg1HG9/8TLaKWqreKqLuGZhquI34OsId7yx0hflR4UeuafPIV0AgAoY8gyGW5VKg3p98PaRUwg4dwvWHh5oas2kMHcMC1OVeA6Hnn0ZW1taVjCCGtHHkqAVABS2gL/Pg6Fi7YhWHR1rtk56bDAsTNWkFdBPesjz2mREHrte3JOw7oLZ/RkK9HDsWZirtCiEpuQX/97WG2Ob83uDHo5hYab0YRE4JvQAlIC3L3ws2ZOgh2NYmCU1okKikQMAinqAX98KmqBE9zAszJE6HsERl4oP87bqjBn9nI1dET0GGBbm6Hw49p8tKP69jQ/GuVe0x0SH65sW47U/LlZ80hmZDYaF2dFDHXwQx3CvX+FbUb9CexI//mMFvr/F5icxLEzT7bPY/eZYeHXogq6vrEC4utQZo/pM7Np1GPkCgMIS8PJC/Qpmo9+3DqsLh2LF6Gb8oBDPOjU9WpH6zyHCXnHnBDDLtmJoZP69p8+vEaOsVMXPKRuK5r9VcC5pYaxY1rOlwLcnhbZ2Cqc6jl8YJicb4cEnkXt3ZaJBe/i2tir+XZ+B4I++xh99n8aTDhaAKMTla1kP9iP0mTi8cCYWNHkTR+Z25ZF7BICbISbIHp6ezWGpUAFth2DaT9/jXVcLQH8TsV++ghfC2uDzdZux5t2n4AQNsG4NDpW6sI24HIn/vvAM/I/1w9ZfXkNvlRFfCtUpCiF4dW+TkxmBbya/hMXx9eA1fDB62+UgJSIYu7W++GTDCizqZA/oM3Hss5mY8vkupHQaiZmD2sA2PRb79sYjb9xH2Lz0FfjY8UAtuodhYbKKkBUThN0RibiQJeDQZRDGPtMLLe7bS6q/FI09e0IRk66BrVt7dBv4FAa72xmnZKrTGBZEJIU9CyKSwrAgIikMCyKSwrAgIikMCyKSwrAgIikMCyKSwrAgIikMCyKSwrAgIikMCyKSwrAgIikMCyKSwosgmanExERs27at5HH37t0xZswYI1ZEdR3DwkzFx8dj8eLFJY8DAwMZFvRQ3AwhIikMCyKSwrAgIikMCyKSwrAgIikMCyKSwrAgIikMCyKSwrAgIikMCyKSwrAgIikMCyKSwrAgIikMCyKSwrAgIikMCyKSwrAgIikMCyKSwrAgIikMCyKSwrAgIikMCyKSwrAgIikMCyKSwrAgIikMCyKSwrAgIikMCyKSwrAgIikMCyKSwrAgIikMCyKSwrAgIikMCyKSwrAgIikMCyKSwrAgIikMCyKSwrAgIikMCyKSwrAgIikMCyKSwrAgIikMCyKSwrAgIikMCyKSwrAgIikMCyKSwrAgIikMCyKSwrAgIikMCyKSYmHsAqhmxMXFYc+ePfDw8MDTTz8NOzs7g+eh1+sRHh6Ow4cPw9PTEyNGjKiBSulxwbAwQUVFRRg6dCiuXbsGAHBycsKqVaswfvx46XkkJydj6tSpOH78OABAoVAgMjIS3t7eNVIz1X3cDDFBFhYW0Gg0JY8zMzMxYcIEzJgxA/n5+Y+cftWqVejVq1dJUACAEAJ6vb5G6qXHA8PCREVERGDcuHGwtLQsGbZmzRp4eXnhypUr5U6j0+kwbdo0zJo1CwUFBSXD+/bti82bN6Nfv341XjfVXQwLE9WxY0ds374dx48fR5cuXUqGJycn48knn0R2dnaZ8YUQmD59On755ZeSYQ4ODti0aROioqIQEBBQa7VT3aQQQghjF0E16/bt21iwYAFWrFhRMszNzQ2pqaklj9u3b4/Tp0+XPO7bty+2bNkCd3f3Wq2V6i6GhRlZtGgRli5d+sjxvL29ERQUVKk9KGS6GBZmZu7cuVi+fHmFz/fo0QPBwcFo2LBhLVZFjwOGhZkRQiAgIADbtm174Dk3NzdER0fD2dnZCJVRXcewMEM5OTno3r07zp8/XzJMoVAgPDycezyoQtwbYoYaNGiAzZs3Q6FQlAz7+OOPGRT0UAwLM9WnTx8sWLAAANC7d28sXLjQyBVRXVelzZBJkybh3Llz1VkP1TKtVguVSgWlkt8bj7MdO3agWbNmNbqMKp0bEnvyJJKSk+HTtGaLpJrDk4Meb4euFh+Nq1ara3xZVf6sDG3pjr+en14dtRCRgVZGhWPOgaBaWRbXPYlICsOCiKQwLIhICsOCiKQwLIhICsOCiKQwLIhICsOCiKQwLIhICsOCiKQwLIhICsOCiKQwLIhICsOCiKQwLIhICsOCiKQwLIhICsOCiKQwLIhICsOCiKQwLIhICsOCiKQwLIhICsOCiKQwLIhICsOCiKQwLIhICsOCiKQwLIhICsOCiKQwLIhICsOCiKQwLIhICsOCiKQwLIhICsOCiKQwLIhICsOCiKQwLIhICsOCiKQwLIhICsOCiKRYVHUGQWkXMWrz+uqohYgMtOv82VpbVpXCws3dHerbt5EodNVVD9USvV4Pne7e302pVEKlUhmxIqoMj1atAIUClpaWNb4shRBC1PhSqM7ZunUrAgICSh4HBgZi7dq1xiuI6jz2LIhICsOCiKQwLIhICsOCiKQwLIhICsOCiKQwLIhICsOCiKQwLIhICsOCiKQwLIhICsOCiKQwLIhICsOCiKQwLIhICsOCiKQwLIhICsOCiKQwLIhICsOCiKQwLIhICsOCiKQwLIhISpXvSEZkbPrLJxF69BQu37iBjMwcCN9AvOnbzNhlmRyGBT3minBh+7/wxdZjSIqOR5raElg+GW/6Grsu08PNEHrMWcDjtTXYd2Ad5rjXByw7IsC/qbGLMkkMCzINl48gNCUfaNkXE9pbGbsak8SwIJMgwsJxVAfA2x9DLBXGLsckMSzIBGhwNDQaWQorwK8/Ghi7HBPFBidVr6wk/LV5HxIdOmHAEH/0aGwNQIfsk39h5/6TSNPbo6nXUIzzb4+GD/uqUt/EhZMncDI+AcnXimDXwQcjhnujlXU5aw3aJByITIPOsiOm+LlW8A2oQ37MHmwOTka2W39MeNYHbqpyxko/hThNc3R3s6vUyzdlXLOg6lN4At+OfgGfpSugXj8bPTsNw4Jjidg9azgGL96N87YucG+QhbBZ/dEocF0F87iAA5+8AG+PDvB6bwMOZVuhSWMVMjfMhWe/17ExU/fgNJcO4cDpfMDdG+PaldevKMDppZPQ5/XfcNU6GyGzB8F94irE6+8bLWsvXu/aDT1GLkaQVlT13TA9gszSli1bBICSn8DAwCrOUSfyVk0WmLVDZAghxIaXhCMUwtrBTTh8GVE8TAgh9s4XbVQKgabTHpzFlb/FYi8XgfpPCN/NyaKw9HOaBLGkSxOBjTcfXPLa54UjlALPbxRZ5ZW2/33R1ectsTtXL4QmQSzt0kDAZqB4I11bdrzf5wk3pUJg1EpxSV+Jt8DEcTOEqof+Gn7dmgC/j4bACTpcO5uKPCigGfoRYhf1g9Pd8RxboWvnHrCbOqPs9NrT+GlyID45rgZW7sSBgCfKbiOnRCEyozkCOtret2A1DoccQ7bCCvD3hX05dW1d8htuzj+A4XYK4HQw9iTlAR6e8G9UejtEg+TQw7gqLAB/P7iwR/oAhgVVEyVaTf4Qy3xsAWQh4lASNEpneL44Ee1L/+P1nodfY+Y9MLX+t6X4IOwy9K7j8ZWPQEpCDHKvXcLFi+dx6kgwtu85A6sPVmNvd+uyE2qTEBJ5GTpLT0zzcylnu1qg2YTF2D66MYAipP28DQd1KmDSNIy0KlWY7gpCDp6B1qI1hg/w4D9GOfieUPVQusDv5QnFvxcexYHDGYDdYIz3lmkUFuDvbUFIF0qgYSYOLf4Q0fXqo76dPRxcWqD1k6/jly984elQzsc1NRIHzuQD7X0wrq1lOXW5wvflicW/a2OxfstxaKy74cUpPVFm7FtRCInJAVzHYHw3GwNfvHlgWFD1iz2CiCwt4NMfzzaS6KHrM5F6JRd6hSXw2jr8b5abdOddFxaJowDQ1w+DLB6x7RC3DzvP5gN9RuLV+xuhkRGI1OoBr/4YYcVtkPJwbwhVMx1uHghHolAB/XzRUeYTprRHowZWUMAGTi4OBnwo1YgKOYZcWAP+/Yv7FUdXYsrSsHLH1h4+jgShBLz7o3OZhWiQHHYE6cIC8PEp7q8krMWLn/4lXYk5YFhQNctCcEgs1IpGaOPXA3Ir9PbwH9gNtihE5qUM3L9H8y59wibMem4x9tzdrak9i6iYdOgsn8Bk78ZQQoOkzRuxyca1vKlRpFZDJ5SAS5Oyq9S5x/DLjgRoLd0w1Lc1LKDBqbWrsU7ZxIDXbfoYFlS9CqMReiQTsOuFqT71JSdSofEr7+C1tjbA2h+wO/u+YxzyLiJqxesYNOornJ0w5d7h3EorWFspAWVDuDipgIy/8f1+F3z1nEc5y1Cinn9/9LDQA7GxyLg7ODcBv7zwOtbn6ABlIzRzsgCywrFqnx3emtqpcu+BiWLPgqpX+nmcydYBw4ZjsqMBHy/HAfi/oC2wf/UtzOjli74DuqKlqhAZZ5MQf6UIzoMm49X9B/Fc61INU5UHZnyxELtfWILVkyfjUv55JLyxHt81qWC5Pedi/XfnEPjPBegz4i883SQfKXEZsJm9ErFvH8aMgA+xafpkFOrTEPfaakS7l9MwNWMKIQQPVTNDW7duRUBAQMnjwMBArF27thrmrEFmUgpyW3VEq3qVaxTqrp1BbMpV5Crrw6FZazzh7vjwzZnb13Em7hyyXDuhd8sHjrQoZ/wMXEg+i0tFDeHRuT2a2dytU42MhGRccemArs7WD52FOeKaBVUzKzh19Lx3EFYlqFzaoYdLO/kJbJqgXW8D+gs2zmjV3RmtHnjCGs6dusFZfk5mhT0LIpLCsCAiKQwLIpLCsCAiKQwLIpLCsCAiKQwLIpLCsCAiKQwLIpLCsCAiKQwLIpLCsDBRP/zwA3r37o2AgAD8/vvvlZpHQkIC5s2bhz59+uCll15CUVFRNVdJjxVjX16cqp9WqxUKhaLMpf4DAgLErVu3SsZ52K0A9Hq9WLp0qbCysiozzu+//26EV0N1BdcsTJCFhQUGDhxYZtiWLVvQrVs3hIeHP3Taq1evYtiwYVi4cCE0Gk3J8CZNmqBz5841US49JhgWJmrfvn3YtGkTevXqVTIsNTUVgwcPxh9//FHuNKmpqfDx8UFQUFDJsMaNG2Pp0qU4efIkWrduXeN1U93FsDBRlpaWmDRpEqKiovDee+9BqSz+U2u1WkycOBGxsbFlxi8oKMCTTz6Jixcvlgx76qmnEBsbiwULFsDVtbzrWpI54ZWyzMT+/fsxZswY5OfnAwCsrKzKbGY4ODggOzu75PHHH3+Mjz/+GAoFL4tPxRgWZiQ4OBgjRozA7du3Hzre+++/j08//bSWqqLHBcPCzOzZswdjx44ts1ZR2vz587Fs2bJarooeBwwLM7R8+XLMnTv3geEjR46ssPlJxLAwU+PGjcNvv/1W8tjV1RVxcXFwdublaql8DAszdevWLbRq1Qo5OTkAgJ07d2L06NFGrorqsiqFxdWrVyvc9qW6LyIiAt988w0GDBiAefPmGbscqoIWLVpApVLV6DKqFBaeHTsiKTm5Oushoko4d+5cjR80Vy03GVo+cEh1zIaIDPTpkUO4WpBfK8uqclgMbemOOT5+1VELERlIoVBgzoGgR49YDXi4NxFJYVgQkRSGBRFJYVgQkRSGBRFJYVgQkRSGBRFJYVgQkRSGBRFJYVgQkRSGBRFJYVgQkRSGBRFJYVgQkRSGBRFJYVgQkRSGBRFJYVgQkRSGBRFJYVgQkRSGBRFJYVgQkRSGBRFJYVgQkRSGBRFJYVgQkRSGBRFJYVgQkRSGBRFJYVgQkRSGBRFJYVgQkRSGBRFJYVgQkRSGBRFJYVgQkRSGBRFJYVgQkRSGBRFJYVgQkRSGBRFJsajqDLK1GuD27eqohYgMlKVR19qyqhwWR9KvQvHN59VRCxHVYVUKi1dmzsS1a9eqqxaqRZmZmThz5kzJ48aNG6NNmzZGrIiqomHDhjW+DIUQQtT4UqjO2bp1KwICAkoeBwYGYu3atcYriOo8NjiJSArDgoikMCyISArDgoikMCyISArDgoikMCyISArDgoikMCyISArDgoikMCyISArDgoikMCyISArDgoikMCyISArDgoikMCyISArDgoikMCyISArDgoikMCyISArDgoikMCyISEqV70hGZGz6yycRevQULt+4gYzMHAjfQLzp28zYZZkchgU95opwYfu/8MXWY0iKjkea2hJYPhlv+hq7LtPDzRB6zFnA47U12HdgHea41wcsOyLAv6mxizJJDAsyDZePIDQlH2jZFxPaWxm7GpPEsCCTIMLCcVQHwNsfQywVxi7HJDEsyARocDQ0GlkKK8CvPxoYuxwTxQYnVa+sJPy1eR8SHTphwBB/9GhsDUCH7JN/Yef+k0jT26Op11CM82+Phg/7qlLfxIWTJ3AyPgHJ14pg18EHI4Z7o5V1OWsN2iQciEyDzrIjpvi5VvANqEN+zB5sDk5Gtlt/THjWB26qcsZKP4U4TXN0d7Or1Ms3ZVyzoOpTeALfjn4Bn6UroF4/Gz07DcOCY4nYPWs4Bi/ejfO2LnBvkIWwWf3RKHBdBfO4gAOfvABvjw7wem8DDmVboUljFTI3zIVnv9exMVP34DSXDuHA6XzA3Rvj2pXXryjA6aWT0Of133DVOhshswfBfeIqxOvvGy1rL17v2g09Ri5GkFZU9d0wPYLM0pYtWwSAkp/AwMAqzlEn8lZNFpi1Q2QIIcSGl4QjFMLawU04fBlRPEwIIfbOF21UCoGm0x6cxZW/xWIvF4H6TwjfzcmisPRzmgSxpEsTgY03H1zy2ueFI5QCz28UWeWVtv990dXnLbE7Vy+EJkEs7dJAwGageCNdW3a83+cJN6VCYNRKcUlfibfAxHEzhKqH/hp+3ZoAv4+GwAk6XDubijwooBn6EWIX9YPT3fEcW6Fr5x6wmzqj7PTa0/hpciA+Oa4GVu7EgYAnym4jp0QhMqM5Ajra3rdgNQ6HHEO2wgrw94V9OXVtXfIbbs4/gOF2CuB0MPYk5QEenvBvVHo7RIPk0MO4KiwAfz+4sEf6AIYFVRMlWk3+EMt8bAFkIeJQEjRKZ3i+OBHtS//j9Z6HX2PmPTC1/rel+CDsMvSu4/GVj0BKQgxyr13CxYvncepIMLbvOQOrD1Zjb3frshNqkxASeRk6S09M83MpZ7taoNmExdg+ujGAIqT9vA0HdSpg0jSMtCpVmO4KQg6egdaiNYYP8OA/Rjn4nlD1ULrA7+UJxb8XHsWBwxmA3WCM95ZpFBbg721BSBdKoGEmDi3+ENH16qO+nT0cXFqg9ZOv45cvfOHpUM7HNTUSB87kA+19MK6tZTl1ucL35YnFv2tjsX7LcWisu+HFKT1RZuxbUQiJyQFcx2B8NxsDX7x5YFhQ9Ys9gogsLeDTH882kuih6zOReiUXeoUl8No6/G+Wm3TnXRcWiaMA0NcPgywese0Qtw87z+YDfUbi1fsboZERiNTqAa/+GGHFbZDycG8IVTMdbh4IR6JQAf180VHmE6a0R6MGVlDABk4uDgZ8KNWICjmGXFgD/v2L+xVHV2LK0rByx9YePo4EoQS8+6NzmYVokBx2BOnCAvDxKe6vJKzFi5/+JV2JOWBYUDXLQnBILNSKRmjj1wNyK/T28B/YDbYoROalDNy/R/MufcImzHpuMfbc3a2pPYuomHToLJ/AZO/GUEKDpM0bscnGtbypUaRWQyeUgEuTsqvUucfwy44EaC3dMNS3NSygwam1q7FO2cSA1236GBZUvQqjEXokE7Drhak+9SUnUqHxK+/gtbY2wNofsDv7vmMc8i4iasXrGDTqK5ydMOXe4dxKK1hbKQFlQ7g4qYCMv/H9fhd89ZxHOctQop5/f/Sw0AOxsci4Ozg3Ab+88DrW5+gAZSM0c7IAssKxap8d3praqXLvgYliz8JE/fzzz/j555/h4eGBqVOnws/Pz+B5XLx4EWvWrMHhw4fRuXNnLF26FArFI7bn08/jTLYOGDYckx0N+Hg5DsD/BW2B/atvYUYvX/Qd0BUtVYXIOJuE+CtFcB40Ga/uP4jnWpdqmKo8MOOLhdj9whKsnjwZl/LPI+GN9fiuSQXL7TkX6787h8B/LkCfEX/h6Sb5SInLgM3slYh9+zBmBHyITdMno1CfhrjXViPavZyGqTkz9oEeVP20Wq2wsLAoc9DV7NmzRUFBQck4jzoo67///a+ws7MrM87u3bsllq4WGYkJ4nxB5Y9qKko/LY6Hh4rQyGMi5kJm2YOzylN4TZw+ckgcSc2RW0DhDXH+RJQ4eDRZXC4sXedtcSM+Rpy8cbuSlZs2hoWJ8vLyKvOPDkB4enqKmJgYIUTFYXHr1i0xceLEB6Zt0KCBOH36tBFfERkbexYmKjQ0FMuXL0f79u1LhiUmJsLHxwchISHlTnP9+nX069cP27ZtKxlmb2+P9957DydOnEC7du1qumyqwxgWJsrW1hZz5sxBTEwMZs2aVTK8sLAQo0aNwqlTp8qMr1arMXToUCQlJZUM8/b2RkxMDD777DN4eJTXNCRzohBC8PQ6M7B9+3ZMmTIFGo0GAFCvXj0UFhaWPO/k5ITMzMySx/PmzcPXX38NCwv2wKkYw8KM7NixAxMnTkRRUdFDx3v11Vfxww8/1FJV9LhgWJiZzZs3Y+rUqdDryz/0afr06Vi9evWjd5GS2WFYmKEvv/wS77zzzgPDBw4ciP3790OpZCuLHsSwMENCCAwbNgxBQUElwxwdHREXF4dmzXhzHiofv0LMkEKhwPr162Fre+9CMsuXL2dQ0EMxLMyUq6srNmzYAE9PT7z55psICAgwdklUx3EzhIikcM2CiKQwLIhICsOCiKQwLIhICsOCiKQwLIhICsOCiKQwLIhICsOCiKQwLIhICsOCiKQwLIhICsOCiKQwLKiUPJzd/D3+k6iu/UXrryNi1X+w66qm9pdNUhgWVEyXhr/nDEOnz45D6aCq/eUr7eCctQuv+I7D+9FZtb98eiRez4IAXRr2Th+NZ0Jb4fPgLXjHw8pIhWQj5q3R6LdeiZl/7sS3PRsYqQ4qD8OiJumvIfSfH+DfyflQWlrBxsoKltbWsLa2hpVKAei00KjVUKs10GjUuK3VQzNkATa93Aslt+TVJmP7wi/wvxtaqMrMwwqWSkAU3ZmHRgONWo3bWiXsAv6BH5+VvSlQFk4sGo0B/87FsD37sc3XsYbeDEm6VPwR8BRGx/bGytCfMKsp71tSV/AvUZP0Obh++QZuZeRAnZeNG6lncfpqNrSl49naCa06toNbo/qwsraDneV93+pFOUi/moFbtwpQkHUT1y6cQUpmAfQl81BAYd8U7Z9oDdcG9WBl7QA7K9m7f+uRs3EhJnwbjdwPg7DO2EEBACo3jFq+DK/2eg6zp3ZAh93vYWA93pagTqj1u6uas7y9Yk4jq3s3HHZ5Rnx4puDR05V2abUYrlDcmYdCoONMsSmjqHL1pKwXExtaCni9I/6qwl3Pq59OFP5vtvBQWQt8eFDkG7scEkLwxsi162oKkrPv3g1MCTwdiAVt6xk2j/hEJCvurlZYABNfwninSjQk9Zexc/5ibMtrjn6fv42hderbWwmbsW/jI19H4F/v4q1kI+ydoQcwLGqRPjQC0eLOncAU9YBBfnAwaA5FuBB2BJfu3kzMwhV9BnaB7EZHGX8tw1t/nAcGzMHywQ0rM4eapXJH4McvolNuJJa/tw6n2VkzOoZFrVEjMjQauXc/9FadMaO/s2Gz0GcgLPwUtHcfO3hhgpftw6YoX9EZ/OeTX3Ba2RTd509H97r6KfB7CXN6NQR+/ycm7blh7GrMXl39mJgedTxCDl1ByR1G2/hgnLuB6wR5RxByLAvFeaMAevphrF0lNh9CV+PrwzeA1qPx/pA60NSsiEUbPP/CQDjoL+PEt78gsfzbs1ItYVjUlrQohJwtuPNACfj4wdfSwH/0oxGIKLy7XmEB+PqhlcFZcQt7V/4PZ/QWwPjJGGlVl3oV91OiwXPj8bSVEgj9CYtj2bswJoZFLdGFReI4SvUr/PvB3rA54MrBI7hQ0tt0RR+/job3KzKC8POfqdBbuuPJ0V6wMXT62uY8AM/0dYRCk4RtW4/itrHrMWMMi1qhRlSZfkVXzPRzMmwW+psIC0+qcr9C98fv2FdYBDh7Y2IPA/fEGIPSFU8P7QpLRRGwawfCtOx0GgvDojaoExBy6DLu7jRFOx8828LA4+EKjiLk6M0q9isKEBoUhVtQAH38MbI6dpeqbyEtORkp1/NRYUuhKA/XTiciMTUDBQb3HVRwdWmPpAAACm9JREFU6dcLrQDgdCg2ndM+YnyqKQyL2nApCiEppfsVvvA3tF9xPBLheVXsV6hjERx5FXpYAN26oImBk9+jQ3bYj1g0rAtcWnbHsAlj4N/aFQ7ek7AgpFQo6jMQveQl9HNvg26jAjDZvyMau3th4EfbEK8xYA2hW3d0VakATTzWRtyoOJSoRjEsaoEuNALRJf0KW8DPB4ZtQOhwPSwKZ0ofX1GZfsWVGBxNvQ0orIGOT1Tu+AzkIXHZVPSZtgZnRn2LyMsXkRh/ClcSN2NG5m58/YwfemxOgU6fjgMzn4HXn86YHZaC9FNxOHniT3zdPQ9HP30eXT4IRq7sIht0RM82toDQAsdOgG1O4+C5ITVOjajQ4/f6FZbtMKVVLs6fLzRgHnnYHxJf9eMr4hKRBD1g2RJj29c3fHoU4cq/X8GwNRZ4OyQEc1uXao+6j8DS98fg55c2IH7+2/juIrA4ygsbI77CZAcFoDuL9eOfxZwDl4tj8++/cUz3JAbJHHxq6Y42brZQnMqFSE7CRTESHeryThwTxbCoadpEhJbuV2hOYKN/e2ys9Awr26/QIzflPK4LAMomcG9WiUPEY1fgxU/OY8iuoLJBcYeqrQeaKRXITN+BhR84o9nGGAQ43Kkz7W9sDLl7nIkCcGmKFtLrtfXRvGlDqHANRRdSEFMk0MHQzTiqMoZFTUs9hJCU/DsPVMD4L/Dn7B4w5IoRFidXY9qizUjTA5U/vqIIaWnpxf+sts5wa2hgWOivYvu73yJo2hrk9Kxgp29WNnIgACEg3MZi2RjXe9u5Lj0wqIsTgmIzoW81HG9/8TLaSb8GJZq3aAwlTgE3LuPUbaCS21BUBQyLGqYPi8Sx0v2KZ6fhmSddDJiDDtciP8e1qvYrIHD9RhZ0ANDQCc0NXbGI34CvI9zxxkrfCo4P0SP39DmkCwBQAUOewfDSB3zV64O3j5xCwLlbsPbwQFNrQ9JOiYYN7aEAAO1NXMkoAuyZFrWNYVGj7ju+wrorZhl6zQj9TYQeTKh6vwJ6FOari3e9WtvA4I5F4jkcevZlbG1Z0T+pGtHHkoqv1aGwBfx9HgwVa0e06li5w8tt61kX/yJuI9fw/a9UDRgWNUmbeN/xFd4Y18zw4yuCD2dW/XwQ6FBYqCmej5U1bJQGzmPSCugnPeR5bTIij10vXoey7oLZ/avznBMlrGxsijdpRCHyCxkWxsBdpzUpLQohZ+72K5SAty/6G9qYOxaOg1U9vgIAUATd3ctrKZSo9kvypkUh9G5vpq03xjav5u8hCxWK802HIh2P4jQGhkUN0oeVvn6FLeDnbfDxFelhUUipcr8CAKxRz8aieLtfo8ZtffX+w+nDInBM6HE3FH2qeW+FUGuKLyWoqAf7eka4+jgxLGqOGodDo5Fz96F1F8z0Nfx8kNCDVT8fpJgS9Wyt74TFbRQ8anSDqBEVcue1KuoBfn0NPEnuUfRQq9XFmzgKG9SvU1f1Mh8Mi5qiTUJIZKl+RVvvSp0PcuBodfQriqd3amRf/AfPzrqz16KaqOMRHHGp+LVadcaMfgZe1OeRBG7dyi1+H1T2cHZkq80YGBY1Je1Q2X5F30r0K45HIjy3OvoVAKBCsxZNiv/g+RlIza3GtDgfjv13r9Xx0Iv66HB902K89sdFA8/v0OHa9Tsn0Tk0hYc91yyMgWFRQ+5tw+PO9Su8Db5+xbXqOB+khApN2rjBXgGgKAOpV6vr7E091MEH7xxLUtyvqPCiPtqT+PEfK/D9LUPXDHRIT79VvObi5oHuFgwLY2BY1AhN2X5FpVbNs3AwPLGa+hV3eHZAe4UCKLqA8BQDLiNz+yx2vzkWXh26oOsrKxCuLrVWos/Erl2HkS8AKCwBL68Kj+HQ71uH1YVDsWJ0M8M+eEVpOH0+BwJKoF0HdOSn1ij4ttcEbWLZfkUbbzxr6PU2848i+HBGNfUr7mjXDT0dLAF9Pi6dTr1X30MVIW3pLEz+bieiT8Ujbt03+OR4qZPgUv/Auv1Xi+tU1EPzpo7lf6hux+Hbj3/Dhflv45WGBr4OdQoSTucDUAE9exq4R4mqC8OiJsTtxY6S80EUQLfeBl9vU7d3J/7MubteoQJ6eaFlVde+rXvAr5cjFNABMSeRJzVRNsKDT947CrVBe/i2vnNmiz4DwR99jT/6Po0nHSwAUYjL17Ie7EfoM3F44UwsaPImjsztaviRgOcSEVdYBFi64+l+LXkkoZHwfa+yAlzcvwthaXnQ3M7DzbREhGzciKP6Uv8ykWvx9hcZ6Na4AWwsrOHQ+2mM8Sz1DazPRPzvexGdpYFOnYdb549j50+bkFoyCx2w+zt85HwSbRvVh5WlLZr5j8ZT7gZeFk/piCGDu8Jq/19QH4vEfu1UjH9kiNnD07M5LENuQttmEKZ9/T3edbUA9DcR++UreCGsDT4/sAGTtwag17t7kLluDQ699DH63zkvRFyOxE9vv4HZKX7Yuvs19Db4EAk9bocdQpwQQFM/THocLgVoqox9S7THXmGwmN/YRkBlKSxt6gs7h0bCsYmraNa8uWjRvLlo6tpENHZyFA0d7ER9a0thYVFf4B+RQlN6HpfXi3GWKqGwsBRW9eyEfUNH4XRnHs2bNxNNXZoIZ6dGomGD+sLWylIoLZ1Ew5/OC11l6o1bJnyVSgGrXmJaklpumoxw8fXQdqJB065i8MtviLdfny7Ge7USNt2eF1/F5xSPo8sQRz8ZJ9rVsxIKr3Hi/y1aJN6cNkx4Nm4u3P7fKhGZW9nbI+aJfRNaCSVUAjO2i+xKzoWqjndRNze6FKzw7ou50fkQS6KhXdBJcvWyCFkxQdgdkYgLWQIOXQZh7DO90OK+Voz+UjT27AlFTLoGtm7t0W3gUxjsblf5evOC8JrHKHx/0xk9/kzA8acMu4cbVR+GhdnRI29FANxf3Y6b/f+BY2Efolcd7lyJ/81Ci+f+gyud52NP9BI8zYveGE0d/phQzVDC7vmZmOpiBRz9FUsT6vIVLW/hzw17kY76wMyXMYRBYVQMC3PUYDAWfzQKjbVx2Pz9n8g0dj0ViV+PZbvToG/3PLZN78BuvJExLMySCo6vfIKPvByBLf/CZxfq4r04shG6ZBXCdE6o98EijLPlWoWxMSzMlWVHzF06Bz0KDuKbz/4ovpBvXXJkJd7bcga6Zz7Ekake/KDWAWxwmrVsHJ8/HP4rbqDPnkgED6rus0Ur6XYcvvUdjDeveuPT8F/xfmteb7MuYFiYO3UKNj77FKaeHYA14T9iemNjdwYKcebjUei1JBXdth1A6IjmXKuoI/h3MHfWbTFl/X/xvsXveDnwOxxSG/O7Q4+8397Fs0sSofx2G/5iUNQp/FsQ4DwQn+5Zj4WpX6Hf9J8QZ5Q7leuhCfkcI1/5DflLfkfqzG7ggd11C8OCirmNwJLQXfhRtQvLDlXvRfek6NLw67oTaLM2GEmveqFB7VdAj8CeBRFJ4ZoFEUlhWBCRFIYFEUlhWBCRFIYFEUlhWBCRFIYFEUlhWBCRFIYFEUlhWBCRFIYFEUlhWBCRFIYFEUlhWBCRlP8PbxnEYHKmHWcAAAAASUVORK5CYII=)\n",
        "\n",
        "\n",
        "\n",
        "![Screenshot from 2025-02-13 17-42-13.png](data:image/png;base64,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)\n",
        "\n",
        "\n",
        "*  a deeper version of a shallow network would do just fine by learning identity\n",
        "transformations in the new layers\n",
        "\n",
        "*  This identity connection from the input allows a ResNet to retain a copy\n",
        "of the input\n",
        "\n",
        "*  Using this idea they were able to train\n",
        "really deep networks"
      ],
      "metadata": {
        "id": "RiM8_mkFFcr1"
      }
    },
    {
      "cell_type": "code",
      "source": [
        "# register buffer in Pytorch ->\n",
        "# If you have parameters in your model, which should be saved and restored in the state_dict,\n",
        "# but not trained by the optimizer, you should register them as buffers."
      ],
      "metadata": {
        "id": "ltXOmfBeFqo8"
      },
      "execution_count": null,
      "outputs": []
    },
    {
      "cell_type": "code",
      "source": [
        "# class PostionalEmbedding(nn.Module):\n",
        "#   def __init__(self, embed_model_dim, max_seq_len):\n",
        "#     super(PostionalEmbedding, self).__init__()\n",
        "#     self.embed_dim = embed_model_dim\n",
        "\n",
        "#     pe = torch.zeros(max_seq_len, self.embed_dim)\n",
        "#     for pos in range(max_seq_len):\n",
        "#       for i in range(0, self.embed_dim,2):\n",
        "#         pe[pos, i] = math.sin(pos/(10000 ** ((2*i)/self.embed_dim)))\n",
        "#         pe[pos, i+1] = math.cos(pos/(10000 ** ((2*(i+1))/self.embed_dim)))\n",
        "\n",
        "#     pe = pe.unsqueeze(0)\n",
        "#     self.register_buffer(\"pe\", pe)\n",
        "\n",
        "#   def forward(self, x):\n",
        "#     x = x*math.sqrt(self.embed_dim)\n",
        "\n",
        "#     seq_len = x.size(1)\n",
        "#     print(f\"X.shape in postional Encodings: {x.shape}\" )\n",
        "#     print(f\"added postional encodings shape {(torch.autograd.Variable(self.pe[:,:seq_len], requires_grad=False)).shape}\" )\n",
        "#     print(f\"pe.shape:{self.pe.shape}\")\n",
        "#     x = x + torch.autograd.Variable(self.pe[:,:seq_len,:], requires_grad=False)\n",
        "\n",
        "#     return x\n",
        "\n",
        "class PositionalEmbedding(nn.Module):\n",
        "    def __init__(self,max_seq_len,embed_model_dim):\n",
        "        \"\"\"\n",
        "        Args:\n",
        "            seq_len: length of input sequence\n",
        "            embed_model_dim: demension of embedding\n",
        "        \"\"\"\n",
        "        super(PositionalEmbedding, self).__init__()\n",
        "        self.embed_dim = embed_model_dim\n",
        "\n",
        "        pe = torch.zeros(max_seq_len,self.embed_dim)\n",
        "        for pos in range(max_seq_len):\n",
        "            for i in range(0,self.embed_dim,2):\n",
        "                pe[pos, i] = math.sin(pos / (10000 ** ((2 * i)/self.embed_dim)))\n",
        "                pe[pos, i + 1] = math.cos(pos / (10000 ** ((2 * (i + 1))/self.embed_dim)))\n",
        "        pe = pe.unsqueeze(0)\n",
        "        self.register_buffer('pe', pe)\n",
        "\n",
        "\n",
        "    def forward(self, x):\n",
        "        \"\"\"\n",
        "        Args:\n",
        "            x: input vector\n",
        "        Returns:\n",
        "            x: output\n",
        "        \"\"\"\n",
        "\n",
        "        # make embeddings relatively larger\n",
        "        x = x * math.sqrt(self.embed_dim)\n",
        "        #add constant to embedding\n",
        "        seq_len = x.size(1)\n",
        "        x = x + torch.autograd.Variable(self.pe[:,:seq_len], requires_grad=False)\n",
        "        return x\n",
        "\n",
        "\n",
        "\n",
        "\n"
      ],
      "metadata": {
        "id": "v7vSDkV3EtIH"
      },
      "execution_count": null,
      "outputs": []
    },
    {
      "cell_type": "markdown",
      "source": [
        "\n",
        "![](https://miro.medium.com/max/524/1*yWGV9ck-0ltfV2wscUeo7Q.png)\n",
        "\n",
        "![](https://miro.medium.com/max/564/1*SgNlyFaHH8ljBbpCupDhSQ.png)\n",
        "\n",
        "```\n",
        "pos -> refers to order in the sentence\n",
        "i -> refers to position along embedding vector dimension\n",
        "```"
      ],
      "metadata": {
        "id": "J0gLEAsvG20R"
      }
    },
    {
      "cell_type": "code",
      "source": [
        "# max_seq_len = 100\n",
        "# embed_dim = 40\n",
        "# pe = torch.zeros(max_seq_len,embed_dim)\n",
        "# for pos in range(max_seq_len):\n",
        "#   for i in range(0, embed_dim,2):\n",
        "#     pe[pos, i] = math.sin(pos/(10000 ** ((2*i)/embed_dim)))\n",
        "#     pe[pos, i+1] = math.cos(pos/(10000 ** ((2*i)/embed_dim)))\n",
        "\n",
        "# pe.shape\n",
        "# pe = pe.unsqueeze(0)\n",
        "# pe.shape"
      ],
      "metadata": {
        "id": "tCmwoH-qGnLu"
      },
      "execution_count": null,
      "outputs": []
    },
    {
      "cell_type": "code",
      "source": [
        "device = \"cuda\" if torch.cuda.is_available() else \"cpu\""
      ],
      "metadata": {
        "id": "iW75v3RWGuZm"
      },
      "execution_count": null,
      "outputs": []
    },
    {
      "cell_type": "markdown",
      "source": [
        "##### Self Attention"
      ],
      "metadata": {
        "id": "__KFbVHwJDLE"
      }
    },
    {
      "cell_type": "markdown",
      "source": [
        "Let me give a glimpse on Self Attention and Multihead attention\n",
        "\n",
        "***What is self attention?***\n",
        "\n",
        "Suppose we have a sentence \"Dog is crossing the street because it saw the kitchen\".What does <**it**> refers to here? It's easy to understand for the humans that it is Dog. But not for the machines.\n",
        "\n",
        "As model proceeses each word, self attention allows it to look at other positions in the input sequence for clues. It will creates a vector based on dependency of each word with the other.\n",
        "\n",
        "\n",
        "Let us go through a step by step illustration of self attention.\n",
        "\n",
        "* **Step 1:** The first step in calculating self-attention is to create three vectors from each of the encoder’s input vectors (in this case, the embedding of each word). So for each word, we create a Query vector, a Key vector, and a Value vector. Each of the vector will be of dimension 1x64.\n",
        "\n",
        "Since we have a multihead attention we will have 8 self attention heads.I will explain the code with 8 attention head in mind.\n",
        "\n",
        "**How key,queries and values can be created?**\n",
        "\n",
        "We will have a key matrix,query matrix and a value matrix to generate key, query and value.\n",
        "These matrixes are learned during training.\n",
        "\n",
        "```\n",
        "code hint:\n",
        "Suppose we have batch_size=32,sequence_length=10, embedding dimension=512. So after embedding and positional encoding our output will be of dimension 32x10x512.\n",
        "We will resize it to 32x10x8x16.(About 8, it is the number of heads in multihead attention.Dont worry you will get to know about it once you go through the code.).\n",
        "\n",
        "```\n",
        "\n",
        "\n",
        "* **Step 2:**  Second step is to calculate the score. ie, we will multiply query marix with key matrix. [Q x K.t]\n",
        "\n",
        "```\n",
        "code hint:\n",
        "Suppose our key,query and value dimension be 32x10x8x64. Before proceeding further, we will transpose each of them for multiplication convinience (32x8x10x64). Now multiply query matrix with transpose key matrix. ie (32x8x10x64) x (32x8x64x10) -> (32x8x10x10).\n",
        "```\n",
        "\n",
        "\n",
        "* **Step 3:** Now divide the output matrix with square root of dimension of key matrix and then apply Softmax over it.\n",
        "\n",
        "```\n",
        "code hint: we will divide 32x8x10x10 vector by 8 ie, by square root of 64 (dimension of key matrix)\n",
        "```\n",
        "\n",
        "\n",
        "* **Step 4:** Then this gets multiply it with value matrix.\n",
        "\n",
        "```\n",
        "code hint:\n",
        "After step 3 our output will be of dimension 32x8x10x10. Now muliply it with value matrix (32x8x10x64) to get output of dimension (32x8x10x64).Here 8 is the number of attention heads and 10 is the sequence length.Thus for each word we have 64 dim vector.\n",
        "```\n",
        "\n",
        "* **Step 5:** Once we have this we will pass this through a linear layer. This forms the output of multihead attention.\n",
        "\n",
        "```\n",
        "code hint:\n",
        "(32x8x10x64) vector gets transposed to (32x10x8x64) and then reshaped as (32x10x512).Then it is passed through a linear layer to get output of (32x10x512).\n",
        "```\n",
        "\n",
        "\n",
        "Now you got an idea on how multihead attention works. You will be more clear once you go through the implementation part of it."
      ],
      "metadata": {
        "id": "el6wOa3pKuSt"
      }
    },
    {
      "cell_type": "markdown",
      "source": [
        "```\n",
        "Thank you SIREE\n",
        "```"
      ],
      "metadata": {
        "id": "XcVntLX1MStE"
      }
    },
    {
      "cell_type": "markdown",
      "source": [
        "```\n",
        "Input x:            (32, 10, 512)\n",
        "↓ Linear layers\n",
        "Q, K, V:            (32, 10, 512)\n",
        "↓ Reshape\n",
        "Q, K, V:            (32, 10, 8, 64)\n",
        "↓ Permute\n",
        "Q, K, V:            (32, 8, 10, 64)\n",
        "↓ Permute K\n",
        "K:                  (32, 8, 64, 10)\n",
        "↓\n",
        "Scaled dot-product attention (per head)\n",
        "↓ Concatenate heads\n",
        "\n",
        "Concat output:      (32, 10, 512)\n",
        "↓ Final linear layer\n",
        "Final output:       (32, 10, 512)\n",
        "```"
      ],
      "metadata": {
        "id": "WpKUnUD1QRch"
      }
    },
    {
      "cell_type": "code",
      "source": [
        "class MultiHeadAttention(nn.Module):\n",
        "  def __init__(self, embed_dim = 512, n_heads = 8):\n",
        "\n",
        "    super(MultiHeadAttention, self).__init__()\n",
        "\n",
        "    self.embed_dim = embed_dim\n",
        "    self.n_heads = n_heads\n",
        "    self.single_head_dim = int(self.embed_dim / self.n_heads) #512/8 = 64  | each key,query, value will be of 64d\n",
        "\n",
        "    #key, query, value matrixes\n",
        "    self.query_matrix = nn.Linear(self.single_head_dim, self.single_head_dim, bias = False)\n",
        "    self.key_matrix = nn.Linear(self.single_head_dim, self.single_head_dim, bias=False)\n",
        "    self.value_matrix = nn.Linear(self.single_head_dim, self.single_head_dim, bias = False)\n",
        "    self.out = nn.Linear(self.n_heads*self.single_head_dim, self.embed_dim)\n",
        "\n",
        "  def forward(self,key,query,value,mask=None):\n",
        "\n",
        "    batch_size = key.size(0)\n",
        "    seq_length = key.size(1)\n",
        "\n",
        "    seq_length_query = query.size(1)\n",
        "\n",
        "    #32x10x512\n",
        "\n",
        "    #STEP 1\n",
        "\n",
        "    key = key.view(batch_size, seq_length, self.n_heads, self.single_head_dim ) #32x10x512 -- > (32x10x8x64)\n",
        "    query = query.view(batch_size, seq_length, self.n_heads, self.single_head_dim)\n",
        "    key = key.view(batch_size, seq_length, self.n_heads, self.single_head_dim)\n",
        "\n",
        "    k = self.key_matrix(key)\n",
        "\n",
        "    q = self.query_matrix(query)\n",
        "\n",
        "    v = self.value_matrix(value)\n",
        "\n",
        "    k = k.transpose(1,2) #(32x10x8x64) --> (32x8x10x64)\n",
        "    q = q.transpose(1,2) #(32x10x8x64) --> (32x8x10x64)\n",
        "    v = v.transpose(1,2) #(32x10x8x64) --> (32x8x10x64)\n",
        "\n",
        "    k_adjusted = k.transpose(-1, 2) #(32x10x8x64) --> (32x8x64x10)\n",
        "    product = torch.matmul(q, k_adjusted)   #(32 x 8 x 10 x 64) x (32 x 8 x 64 x 10) = #(32x8x10x10)\n",
        "\n",
        "    # fill those positions of product matrix as (-1e20) where mask positions are 0\n",
        "    if mask is not None:\n",
        "      product = product.masked_fill(mask==0, float(\"-1e20\"))\n",
        "\n",
        "    \"\"\"\n",
        "    #STEP 3 #<DOUBT>: Why are we using math. package when we can use torch. package\n",
        "    #        <WHY>: at the backend, computationally more expensive as it has to map these python fucntions to torch\n",
        "    #               functions to add to the computation graph\n",
        "    \"\"\"\n",
        "    product = product / math.sqrt(self.single_head_dim)\n",
        "\n",
        "    scores = F.softmax(product, dim = 1)\n",
        "\n",
        "    #STEP 4\n",
        "    scores = torch.matmul(scores, v)  ##(32x8x10x10) x (32x8x10x64) --> (32x8x10x64)\n",
        "\n",
        "    concat = scores.transpose(1, 2).contiguous().view(batch_size, seq_length_query, self.single_head_dim*self.n_heads) #(32x8x10x64) -> (32x10x8x64)  -> (32,10,512)\n",
        "\n",
        "    output = self.out(concat) # self.out = nn.Linear(self.n_heads*self.single_head_dim ,self.embed_dim) #(32,10,512) -> (32,10,512)\n",
        "\n",
        "    return output\n",
        "\n",
        "\n",
        "\n",
        "\n",
        "\n",
        "\n",
        "\n",
        "\n",
        "\n",
        "\n"
      ],
      "metadata": {
        "id": "ZLutVlOFHWFi"
      },
      "execution_count": null,
      "outputs": []
    },
    {
      "cell_type": "markdown",
      "source": [
        "![Screenshot from 2025-02-13 17-58-19.png](data:image/png;base64,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)![Screenshot from 2025-02-13 17-58-19.png](data:image/png;base64,iVBORw0KGgoAAAANSUhEUgAAAssAAAHHCAYAAABJIhU9AAAABHNCSVQICAgIfAhkiAAAABl0RVh0U29mdHdhcmUAZ25vbWUtc2NyZWVuc2hvdO8Dvz4AAAAzdEVYdENyZWF0aW9uIFRpbWUAVGh1cnNkYXkgMTMgRmVicnVhcnkgMjAyNSAwNTo1ODoxOCBQTe7vyqoAACAASURBVHic7N15mFxlnff/96m9urp637vTS/aF7AkQIJCwRRDZBCXqDxXFUUEZHlGUS68Rx1Efl3HUcQRxHp3hYZSwhGcYA0mABMgCgQQCSYesnbU7va+1V53790clnYSkBEKSTnd/XtdVV9K1nLqruvrU53zP99zHMsYYRERERETkOI6BHoCIiIiIyNlKYVlEREREJAOFZRERERGRDBSWRUREREQyUFgWEREREclAYVlEREREJAOFZRERERGRDBSWRUREREQyUFgWEREREclAYVlEREREJAOFZRERERGRDBSWRUREREQycA30AEREZIAYc+Ri2+BwpC+WNdAjExE5a6iyLCIynB0Oy4BRSBYROY4qyyIiw5kjXTMxAzwMEZGzlcKyiMhwdVQlWTVlEZETUxuGiIiIiEgGCssiIiIiIhkoLIuIiIiIZKCwLCIiIiKSgcKyiIiIiEgGCssiIiIiIhkoLIuIiIiIZKCwLCIiIiKSgcKyiIiIiEgGCssiIiIiIhkoLIuIiIiIZKCwLCIiIiKSgcKyiIiIiEgGCssiIiIiIhkoLIuIiIiIZKCwLCIiIiKSgcKyiIiIiEgGCssiIiIiIhm4BnoAInKWMebI/y1r4MYhIiJyFlBlWUSOMAY4fBERERGFZRFJMyZ9se30RURERBSWRYY9YzCHLtg2JJJgq7IsIiICCssiw9fhSvKh/1u2DclkOjCrV1lERARQWBYZnsy7KseWlb7Ydvo2hWURERFAs2GICNAfjS0LnE5wOBSYRUREUFgWGX7eXVU+mtOZvoiIiAgAljF/65tTRIacE7VgHD7A79DPlqrKIiIigCrLIsNPhiCsgCwiInI8hWURUX+yiIhIBpoNQ0REREQkA4VlEREREZEMFJZFRERERDJQWBYRERERyUBhWUREREQkA4VlEREREZEMFJZFRERERDLQPMsiZ4IxkAxDpHOgRzL4WBZ4c8Ed0HzQIiJyxiksi5wRBjq2w6ZHBnogg4/DBWOvg4rzBnokRxgDyQQkowM9EgFwesDt1caUiJwWCssiZ0oqlq4sGzPQIxlcnJ6zL5QaG3a/DW++MNAjEYCRU2HqPHB5BnokIjIEKSyLiJyMnhbY9dZAj0IAcgq1ESoip40O8BMRERERyUBhWUREREQkA4VlEREREZEMFJZFRERERDJQWBYRERERyUBhWUREREQkA4VlEREREZEMFJZFRERERDJQWBYRERERyUBhWUREREQkA4VlEREREZEMFJZFRERERDJQWBYRERERyUBhWURETk7KJtYdhlBsoEciInLaKCyLDHbGQCROKhQj0ReFcDx93ZmWsol0R9LP/34YA9E4oc4wpOzTOzY5PVI2j2/Zx0t7Wwd6JCIip43CsshglrLZvquN599qYntTDxt3d/LI6gaivVHgDAfmRJL/+/Iunn+76f3d38DWxm5+taSeZOR9Buyhxpj0xT7qcvi6D7tc205vhLz7Yh+1fHPUcx79/ACROCRTR24Lx49s1Bweo9OiPZqgJi/rw41XROQs5hroAYjISTKGTTvbWPrmAb6yYBxZOX5I2mxoaOel+mauPLcaHNbJLds2pCJx4skjFV8L8DodWH43OI/azj4cnCwL2zaMKM5Kh6x4Cvzu9AMTdvo6nxssqz/MOQyU5PpxuZ0f6q0YtGJJdnf00hKKYqcgaqeYXpZHbl4g/T6drEicf3ttB3u7wnjdDuJJmzy/h55onI+MLueiEUVYAS+E46zY3cyI3AAp29AajnHRyFLwuGjo6KMnGmfqiCLCoRjrmjqYN6os/ZmKxNl4sJNYyqY9HKMy23/q3hMRkbOMwrLIWaC7vY8XNh0kkbI5b0wxNZW5bN/Twbod7eRnuZl/Tjn+XD/793ex6p0WRpYEmFKbz/95fju3zhtFVo4vHa4cFm6Xgz2tfR+usJxM8dqONlZuPsiosiANLX2MKA6wu7mPUaVB5k0qpaQ0CFjE+2Js2tuJ02HxzoFu/u7KsRBL8sLmg8waXURO0MeazU2U5fkZWV0Ats3u/V30RhO8trONohwvuF0cGfCHCImDhTHEeyM8unkftfkB5taVgsvJjqZOfrZmK/deOJ5gpsB8eOPk6N+vwzr2vn4PCydXs7KhhWyvi7q8bEYX5vB/39xFeyTO41v2cfO0OtqjMfZ1hznYF2Xh5FqeXvMOM8pzyfJkU1eWy/pdLfy1fj+WBRfXFIHHBUmbv7y9l3FFQbLdLgr8XlweF5GeEMmUIZiffdrfPhGRM0ltGCJngaDfzcY9nbyxq4OSQ8E34HWxaM1u4kkbvzddec32OekMxagrzWZ3S4jeWJIJlblHglIixY6mXioLsv525jQmXelNJNMX+13J2u3k/DHFZPlcTKnJZ0xFDjfOrmbO2GJ6owme3dhEuDsKsQQPv7QTjytdvawqzAKPG7I8zB5dxPK3Glm8pgGf28nIqjxwWOza18kzbx6griSbrlCCMWU5YAzd7SFIDpPe5UiCX76yjQK/l7mjytMh1OlgdHEuDstixe7WE7dipGza2nt5fst+/vPV7fz7K1t5YsOu4/vELQu/04nL4cBpOQi4XeB1Mbk0j9q8LJyWg3gkTmHAT088yZyqIhLJJN3ROFkeT/rz4HBQmx9ge3sPlgXZgXT1uC8UYc2BdqZXFNAVjVObmwUOB3s6w9S39KRbNQaiZ15E5DRRWBY5Czi8bmqKAjgcFn5feoePx+UklrTJ8rjA6wZj6OiLc9P5NRSX5BBP2OQHPLhdjv5+031tffRGEpw3tvjELRjGpq8zxP+saWDRSztZvGY3T63dQ09X+NiAY1ngdeH3OPG5neT43HgDXiaPyKMox8eU6jzeOdBNY3uYnc19jK3IZX97iOm1hYABC4JBLx6Xg3cOdDOiKJBu3TA2T67by8SqPLJ8LrojCUaXBUmEYixau4fYQB2ceCYZw9PbDrCnO8xHx1aAy3FkY8dhketzs62j9/gNGGN4e28rS3Y0URXM4pZzRvC5qXV8fFJ1ut0l8xOSsg2kbDqjccLJFD2xBB6Pm2QiiQHKAl42NnczqjCb9lAUbJtwT5g3D3bzxRkjKc3ysm53MyRtEkmbIr8HLIu3WnvIcjuJRGK83dJFEkP9vrb0hpiIyBChNgyRs4EFBdkeusPxdEhK2exp7aMw20P7oaphvC9KLJFiZGUeWBbVxVlk+91sa+whZRsSKZs3dnfwxcvGUFgY4ESl5YMHe3l6/T4uHFtCeb4f16He42C2973HaAydkQTd4QQNrX3MHllEyjYU5/hIGZv6A91cObmCjrY+CvKzWLP5IHXF2Vw4voSX6pu51OUgJz+LVMpQUxRg24EejIHmrigGg9Nh8fbeLmqKAxSX5pzKd/fsEkvy1Dv7+cioskM93Uf9nmybfT1hJhfnHteCEeuJsOFgF5+ZXIMz4H3fPc3GwIrdzdgNB3lmx0HmVhdzzdhy8DhJxRNML8/HF/BSEfPTG0/icznA6SAUTzG3uhBP0M+MbD87DnaBbcjPyWJ+bQlvNXZwTnEu8VQKv8NBOGlTke3nreYuJpbkHmqtOUOiUdrb2zEuT8a75OTk4Ha7sT5ML7iIDEsKyyJnA8uiINtLVzhByja0tfVRkuujqjBAdyg9C0FDSx/VRYF0JRLIKwyw8MJadjeH8LgsXtvZxvWzq8nL9pw4SCVSPL1+H9fOHEFpWc6hLP3ewcE2sGZrC1sau6nf201NcYDxk0qpKs+BRJKLxhWzpyXEjLpCPG4HBdleSNhUF2VTVRYEp8Xlk8vpiSTIAT5xQS3d4TgOh8XMkfkEvE4OdIYpy/WTtG0OtIcpLgkeeQ3GQCpFMpn8cAe9nUKWncJpn1zLSEtvmP09Uc6vKjrutmg0wfa2Pm6dXHvcnoG3W7qJpVK82dSJ46jbfC4nE8ry0nsfMnA6LFr6Ylw5qoy51cXUlOcD4A36uSiYbq+oKMmlojg3/ZGwLIqLgoderAUuB6OrCvqXN3dc5aHbAAOhnjA1uVmAweV0EE0k8fE+NsBOkVdWr+ZXDz9HJEMbj2VZzJs3j5tvvpmKioozNi4RGRoUlkXOEkG/h0g8RVc4TltPjEnVeeT63fRGEvT0RAEI5PqPBEbLwZjaQsaU59ITirF0YyOPvbqHa2ZUUVQcPG75HZ1heiNJWrqjdB3V42pZFmPLg+A7cci2gIqCLMLRFBdPLMHrdnDuhLJ0W4XTw+wJpWAbxtcVpqcrc6X7q6uO6qXOzssiOw+wLOqq8yGeBJeTyXWFYFnsbQ8zujzIgbYQ/qAz3bt8eIaMRIKVzz/P610bzpqw7LDguiIYZfjAxyOmbIMTKDjcOmHbh2YIgeW7mhlTFGRGRcFxr9UYg8dy4HZaOBxHOujcTsffHIRlWVxYXcTOjj5sG9482MnI/MCJq9PWMQ888f+Pux8Esv3MG1UODou6gmC6B/sMygkGqastJWZO/D7s2bOHhx56iOnTpyssi8gHprAsw148Hmfjxo3E46dxrl9jU55oYGSmflzLwudykEimaGjuo6Y4AF43OX43e9tCNDT3MrUm/wShxQKfmxyXg5vnpCu26QB6/FOkjKEzFGdHSy8e15Gw5cCiqiCLLF/GoVFTlE1Jno9tjT1EEikaW3qpqDgUhl1HTfvmzHAYxLuD1+EqqNMBts3U2nwcbid1Jdm4HVZ/9Tw98BRvvPEGT73Ve+JlDwCX08G0y6YyKvNe/4zKg36q87LY3RlihIGDvVEKszyEEynW7Gvj7vPGnLAHeVJpLptbe5hSVvAePcqAMRhj+ifMcFkOLq0t5c+b91Ce7efZHQf56KSq9O/uVGyAuBxHfmcDMA3gxNmz+af5n8K4T1zNXr58Offeey/2Se4NEJHhTWFZhr2uri5uv/12+vr68Hq9p6Wn0QKumpzHT28ZA44TB0qv20E4lqKzL8asCSVgWQSz3Oxq6aMg6M1Y+QXA5WT6xLK/OYbiggAjCrO4aFzJoTaHwyM7EQOYY461m1JbwN62EAVuLys3H+TGoBdf0Pfhw5bDgSMrHXLcJ+pz9Xq586tf5TMl5501lWXLTlG0Yy2sevKDP9jv4UszRrJiTxvVXWGmluby7I6DhJMp7pg9mqrC4/cKAGTlZDGlNJc/v72bi6qLKc7y4nRYuBwOLJ8bnEe9N0mbN5u7aA1FiCbcRJMpKoJ+5o4o5pX97XTHEvx1834+OmnEgITbU86ysBwOrAx/W5ZlqVdZRE6awrIMe8YYOjo6+MxnPsP8+fOP2cV96p7Epiq1B2JrMt7F63EytjKHGaMK+wN1UbaXabX5jCjOPvkTjBzmdnLNjCqefHUvc8eXMLEy99AyLfA4D4Wtw1PQ2WzY1sKmvd34PC52HuxlVFmQeRNLWbR2N209Mf73/9vEd66fjCeYoSR9qjgcuINBiouLz5qwjJ2C/Sf5ui2LGSNLGZEbYHdnH1gWu7tD3Dl7NAAt3SFKik5wgKNlMaOulMIsH2+3dBNNJEkYQ67Pkz5YMOuoqqoxZHtcTClL9ya7LIt4MkVVcQ6zDbSEo+R53ZzxszyKiAxCCssih0yaNInLLrvstIVlml6DDa9knBqtItfP926cQmHBkZNRXDi+mHnnlJ2yHtCK8lw+daGLFVuaeWHTQZwOC6fT4oZzq4+qNgMOi5qSAF+9cixup8X5owopy/PhD/r5xJxamrsiYMDj1SrkpDgcFBfnpA+iM+kz533/xXpKA17uvWB85sc5HdSU51NTkgupVDrrWhw/84THxeS60hMuoqYin5pT9kJERIY+fdOJnC0CXsoDx/Zc5hWdeJf8SXNYBAuzufai9zjLmtNBYXEOhcXH35SdHyA7P3BqxzVcWekz733mnBpW7WvjhvFVWFl/o90G0uH46B5hERE5rRSWRUQG2KxRZcyqK0kf8Hi2tJqIiAigsCwiMvAcFjiGwIF2IiJDkPbjiYiIiIhkoLAsIiIiIpKBwrKIiIiISAYKyyIiIiIiGSgsi4iIiIhkoLAsIiIiIpKBwrKIiIiISAYKyyIiIiIiGSgsi4iIiIhkoLAsIiIiIpKBwrKIiIiISAYKyyIiIiIiGSgsi4iIiIhkoLAsIiIiIpKBwrKIiIiISAYKyyIiIiIiGSgsi4iIiIhk4BroAYiIDEpuH2TnDfQoBMCTNdAjEJEhTGFZROSDsiyonQr5ZQM9EgEI5IFTX2cicnpo7SIi8kFZDsgpSF9ERGRIU8+yiIiIiEgGqiyLnCmWK91bacxAj2RwcbrBoVWViIgMDH0DiZwRFhSMgelfHuiBDD6WBdnqDRYRkYGhsCxyJlgWeHOgeOJAj0REREQ+APUsi4iIiIhkoLAsIiIiIpKB2jBE5ISMMSSTSQDcbvcAj0ZERGRgKCyLDAIHDx5k27ZtJJNJCgsLGTNmDJs2baKvrw+Px8OkSZPw+/1s2bKFrq4ufD4f06ZNw+fzYVlW/3KMMbS0tLB9+3Zmz56N1+s94fNFo1FeeeUV3nnnHWbOnMns2bOPu49t2/T09JCdnY3LpVWJiIgMTWrDEBkEnE4ny5Yt4wc/+AGJRAKn08n+/fu5//77eeWVV3C73TidTlpbW/n9739PJBLB4Tjxn/eGDRv4wx/+QDgczvh8DoeD3t5eHnvsMXp6ek54n3g8zv/8z/+QSCROyWuU98+2bUKhEK2trbS0tNDb24tt2wM9LBGRIUnlIJFBoKCggPPPP5+lS5dSWlqKx+NhypQpBINBfD4fgUAAgEgkwtVXX83cuXNxOp3E43FCoRB+v7+/ijxz5kzGjRtHTk4OxhhSqRR9fX243W48Hg+pVAqPx0NxcTE5OTnU1NQQDoeJxWL9VeRQKMTLL7/Mli1bSCQSuN1uHA4HyWSSUCiE2+3G7/fjcDiOqWzLh2OMIRaLsWbNGt566y28Xi9Op5Pe3l5mzpzJnDlz8Hg8es9FRE4hhWWRQcDpdFJWVobH46G1tZWKigoOHDhAS0sLjY2NGGNoa2tj+/btfPrTn6a3t5cXX3yR5uZmfD4f9fX1fOITn6CpqYknnniC66+/nurqanbv3s1f/vIXYrEYBQUF2LZNJBLhjjvuoLGxkVgsxo4dO1i2bBnvvPMO48eP54tf/CIbN27kj3/8I/n5+bzwwgvMnDmTgwcPsnLlSsrLy2loaCAYDPK5z32OvLy8gX77hoxQKMSf/vQnNm/ezGc/+1nGjBmD0+nk7bff5te//jWpVIp58+bhdDoHeqgiIkOGwvIgEY/H6ejoIJVKHXO9y+WioKAAl8v1ntWkVCpFd3c3Ho+HQCBw0tWnVCrV3xeblZV1zHJs26arq6u/StnT00NeXp4OEDsF8vLyKCgoYO/evf09yxMnTqS1tZVoNMqGDRsYM2YMbreb3/72tzgcDr7yla/g8Xi4++67ef7557nlllv4+c9/js/no729nZ/+9KdUV1dz11134XQ6ueeeeyguLsbj8bB//378fj/FxcVccsklLFq0iGeffZYvfOELjBo1CrfbzVVXXcXVV19Nd3c3DzzwAJMnT+bjH/84bW1tLF68mEgkorB8ihhjWL58Of/93//ND3/4Q2bOnInT6cQYw8yZMxk7diyLFi1i3LhxbN26FY/Hw6xZs/D5fLS1tbFhwwYuuOACsrOzSSaTbNu2jT179hAOhxkxYgSTJk2ivr6epqYmxo4dy8aNG8nNzaWsrIzGxkamTZtGZWUlyWSSV199lYKCAsaNG5ex3UdEZKjQWm6Q2LdvH3fffTdf+tKXuPPOO/svP/zhD2lra3tfywiFQvz2t79lyZIlmA9xyuVQKMQvfvELXnjhheOWEwqF+PWvf83y5cvZvn07P/rRj2hsbDzp55Ijjg7Lb775JkVFRcyZM4dQKMTevXvZvn07M2bM4OWXX2bp0qVcfPHFtLS0sGjRIvLz87nuuutwOBz9LRarVq1ix44dLFy4kPz8fBwOB+FwmJqaGhKJBHv37mXevHlMmTKlf8OnqKgIy7IIh8O0t7dTV1eH2+3G6/VSVlbGX//6V37+85+zb98+Pv3pT1NSUjLQb9uQ0d3dzaOPPsqsWbOYMmVKf/XYsizcbjf5+fk0NDQQDof5j//4D55++mlSqRTGGNavX8+jjz5KOBymt7eXP/7xjyxZsoTa2lry8vL4l3/5F958801ef/11/uEf/oHFixezfv16Nm/ezJtvvsm//uu/cvDgQYwxRKNRHnroIbZs2TLA74iIyJmhyvIgEQ6H2bJlC9dccw3nnntu//XBYJBgMEgqlcKyLIwxGGP6v0gPX3+4n3Tr1q1kZWWRTCb7rz+6MnS4h/XwbZZlYVkWtm1j23Z/z2R9fT0jR47sf77DX8rxeJwtW7ZQVFTEtGnTmDBhAn6/v/+xkK4+W5Z1zK7iw8s//HxHXyQtNzeXoqIi6uvrcTqdXHfddWzevJklS5awfPly6urqKCgo6K/6dXV1EY/HufDCC1m4cCE+n4/Vq1f3f2beeecdRo4cSWlpKcYYtm/fTnt7O7W1tYTDYfbu3csVV1yB0+kkHA6zb98+Ro0ahWVZtLe343K5+qvGgUCAu+66i9WrV/Piiy/yzW9+k+uuu4477rijv59aPpzdu3fT1tbGJz7xieNmMYnH47S1tZGfn09FRQV5eXmUlJT0/+1t2bKFwsJCvF4vixcv5rnnnuMnP/kJJSUlbN68GafTSUFBAaNGjaKoqIiFCxdSVVWFZVm8+OKLBAIBSktLAejr66OtrY3i4mL9fYrIsKCwPIi43W7OPfdcrr322mOu7+jo4NFHHyUrK4u33nqLeDzOZZddRk9PD6tXryYQCHDzzTdTXV2NbdvU19fz4x//mObmZiZNmsT1119PeXk5fX19LF++nFWrVuHz+bj00kv7DxR77bXXWLJkCS0tLYwdO5aOjo7+kLxhwwaWLFlCY2Mj1dXV/ZVu27aJxWIkk0mee+459u/fTzQaZePGjdTU1LBw4UKqq6tpbm7m6aefZtOmTZSUlFBeXk5lZSULFizQl/FRXC4XFRUVLFq0iCuuuIKSkhJ6enpobW1l69atLFy4EIfDQSAQICsri9mzZ1NSUkJvby8tLS1UVlaya9cu8vPzycnJAegPsj09PSxdupSenh7q6uoIhUJ0d3dTXl6OZVlEIhEaGxuZM2cO8XicnTt3UlRURFZWFpFIhBUrVpCbm8s111zD/PnzeeCBB9i8eTOxWExh+RSJRqMYY44LqcYYurq62LRpE1deeSXJZJK2tjYuvPDC/oM8d+7cyZgxYwiFQjz99NMEg0FeffVVwuEweXl5fP/732fEiBGsXLmSKVOmUFRU1N86tWfPHrKzs/v3EuzevRuPx9P/2RARGeoUlgeReDzOunXrjrmuurqaQCDAH/7wBzweD1dccQUNDQ3cc889TJ8+nenTp7Ns2TJaW1v57ne/SzKZZMWKFVxzzTWUlZXx2GOPsXv3br7xjW+wZMkSHnnkES655BK6urr4yU9+gjGGvLw8/uEf/oHy8nImTZrEqlWr2Lp1KwC7du3i29/+NqWlpUyZMoX169ezYcMGbrjhBpqamli0aBHz5s3j5Zdf5s9//jMLFiygqqqKJ598klQqxZe//GV+9atfsWHDBubNm8f+/ft56KGHuOGGG1iwYMFAvM1nLcuyqKurY9SoUcyaNQu3201JSQkFBQVcfvnl5OfnY1kWN954Iw0NDfz0pz+lsrISj8dDXV0dZWVlFBQU0NrayjPPPMPYsWN55plneOSRR/B4PPT29lJWVkZpaSn19fXk5uaSm5vbv5u/oKCA1atX4/F4MMbQ29vL8uXLqaqqoqOjg6eeeop9+/aRnZ1NLBbj1ltv7Q/l8uGVlZWRk5NDW1sbsViMN954g+3bt1NYWMiePXvwer1cffXV/bdXV1djjCEUCtHc3Mwll1xCLBajo6ODj3zkI1x//fW43W6MMViWRSqVYtu2bYwcORK/3w+k90zt3buXiooK3G43tm2zY8cOsrOz+yvNIiJDncLyIBKNRlmyZAkbNmwA0uHpiiuu6N9VftNNN/GlL32JlStXct9993Hrrbcyf/58cnNzefLJJ4nFYjgcDubOncv3vvc98vLymDBhAv/8z//MRRddxFNPPcWUKVNYsGAB0WiUhoYGFi9eTHl5OQD3338/I0aMYN26ddx5550YY1ixYgWpVIr77ruP8ePH88477xzTy3i49cIYw6hRo7jnnnsoLy8nGo2ybds2GhoaeOaZZ7j//vu55ppraGpqoqGhQXPGZnDZZZcxa9YsKisrsSyLvLw8fvOb31BSUtLf1jJhwgR+8pOf0NjYSCqVoqysjJKSElwuF/Pnz6eqqors7GwKCws599xz6e7uJjs7m7179zJ16lR8Pl//Mg7/7nNycvj2t79Nc3MzVVVV+Hw+Jk6c2F9hPPfcc7nkkkv6p6CbPXs2RUVFOlnJKVRVVcV1113H2rVr8fv9LFmyhNLSUh577DHa29v5wQ9+QF1dHW+//TbxeJyenh7q6+vZsGEDLS0tdHd309bWxowZM3j11VeZNm0abrebAwcOUFBQwKRJk2hsbOTiiy8+po0rFothWRZ79uyho6OD559/nqKiIu0xEJFhQ99kg0h2djb/63/9L6666qr+6zweDy0tLfh8PmpqanC5XPj9fvLy8igtLcXhcJCVldXfl+x0Opk4cSIFBQU4HA6mTZtGLBZj165d7Nu3j927d/PWW28B0NXVRSAQIJFIUF1dTWlpKU6nk9GjR1NRUUEqlaKxsZGqqirKyspwOp1UVFQwZsyYE46/urqakpKS/ororl27aG1tBaCurg6Xy0V+fj51dXU6wj6DnJycY6q1TqeT2traY+7jcDgoLi6muLi4/7rDu8uzsrKYMmUKO3bs4De/+Q233HILY8aMYcOGDezevZuvfe1ruFyu457H4XBQXl7emZP27gAAIABJREFUH54BpkyZcszyR4wYccw4tIv+1DHG0NraSnl5ORUVFTQ1NTFmzBgqKyspLS3lqaeeIjc3t//zcPXVV7NlyxaSySTnnnsuyWSSrq4ubNvmzjvvZNmyZSxdupT8/HzGjx/POeecQyqV4vLLL2fy5Mn9vzuXy8W1117Liy++yGuvvUZBQQGWZWkWDBEZVhSWBxGHw0EwGKSgoOCY61tbW094YNzhL7x3T+22b98+IpEIWVlZ7N27F6fTSWlpKWVlZcyfP5+bbroJgFdeeQWXy0V9fT2vv/46PT09+Hw+Wlpa6OjowOl0UlhYyLp16+ju7qagoIDe3t6Ms18cfTDh4THl5OQQj8dpampi8uTJ9PT00NDQkDFwD3fvDqCZAul7XZ+fn4/L5eLxxx+noqKCUCjEnXfeyaRJkzKGoPcKvwrHp1d9fT2/+c1v+Md//EdmzZrVH4Bfeuklamtrqa6uBtIHgt52220kEgl8Ph9Op5O6urr+nx0OB5///OeJxWK4XC48Hg8OhwPbtvnsZz/bvzfAGEMkEqGoqIgvf/nLeDwetmzZQjgc5sILLxzIt0JE5IxSWB5EotEozzzzDAcOHOi/Licnh4kTJ77vZSSTSZYuXUplZSUjRozgiSeeYOLEiZx//vns2bOHZcuWUVhYSCwW48knn+STn/wkc+fO5bnnnuMXv/gFs2bNYunSpezcuRPLsvrn3/3Vr37FhRdeeEw/83uxLIvy8nIuuOAC/u3f/o1du3axc+dONm3axNixYz/w+yPvX1FREd/61reIxWIA/WeCU+A9e82ePZsvfvGLrF27lldffZVEIkEymSQQCHD33XdTVFQEpP+uvF7vMTNmeDwePB5P/89ut/u4uc8dDsdxs2wcOHCAH//4xyxYsICSkhLWrl3LJz/5SW3MisiworA8SASDQc477zxaWlpYsWJF//WlpaVMmjSJ8847r/+Am8LCQs477zyCwSCWZVFRUcG5555LIBBg9uzZVFdXs337dl577TWqq6v5whe+QHV1NZ/97GexLItly5aRSqW44ooruPbaa8nJyeEb3/gGixcv5vHHH6eqqoobbriBESNGMGHCBL773e/y+OOP89hjj1FSUsKnPvUpampqyM/PZ86cOQSDQcaNG0dZWVl/1bK2tpZoNEphYSFf+cpXeOKJJ1izZg2FhYVMnz5dB4adRkfvYldP8eBgWRY5OTl87GMfIxwO98+M4XK5yM7Oxu12n5YNndraWr7zne9w8OBBgsEgX/jCFygsLNRJhkRkWLHMhzk7hZwxxpiMB705HI7+I9qPvv+Jfj78647FYiQSCbKyso6b7zgWi2GMwefz9bdzGGNIJBL9u3KPbvUwxpBMJonH4ye87ejnPTymwz93dXXxq1/9iqlTp3LRRRfR0NDAN77xDb7yla/wqU996oxUOpubm5k9ezY//vGP+6dfE5G0d39FDMa9D8uWLePee+/ll7/8JfPmzRvo4YjIIKOy0iDx7pN4nOj29/Pz4X/9fn//9FBHczqdZGVlnXD57961e/Rt797Nm+l533293++nsrKS3/3ud/zpT38iEokwa9Ys5s+fn/G1isiZMxjDsYjIqaSwLAPK5/Px6U9/mgsvvJD29nYCgQB1dXX9Z4YTERERGUgKy3KMM73L1bIsAoEAkyZNOq3PIyIiInIy1Jwpx0gkEqxateqYGTdEREREhiuF5WHMGHPcJRKJ8OCDD1JfX3/C2zNdRERERIYitWEMU8YYQqEQ+/fvJxQKUVJSQmlpKT6fj9tuu43Ro0fT0dFBd3d3/2Msy6KwsJBgMEhfXx9NTU3Ytk1FRQXBYFCzSIiIiMiQo7A8THV1dfHb3/6WVatW4XK5sCyL22+/nblz5/Lwww9z8803097ezuLFizHG0NPTQzwe51vf+haTJ0/mwQcfZNOmTQDU1NRw1113MWrUKAVmERERGVKUbIapPXv2sHjxYi699FK+973vMXr0aJ5//nkikQg7duwgFAoxf/587rvvPr72ta+Rm5tLdnY2tbW1/PnPf2bjxo3ccccdfO1rX2PHjh088sgjxOPxgX5ZIiIiIqeUKsvDVEFBATU1NTz99NOEQiFmz57NzJkz++dKPnwq6sLCQn7/+9/T19fH/fffT2VlJS+88AJut5t169ZhjMHpdLJmzRq6u7vx+XwD/MpERERETh2F5WGqqKiI++67j/Xr17Nhwwaee+45xo0bx7333tt/n2QyybPPPstTTz3F17/+dWbOnElfXx+xWAyfz0cikcCyLMaPH09hYaFOnSwiIiJDjtLNMLV9+3b+8pe/sHDhQm688Ub+8z//k7/85S80NzcD6dNev/LKK/zyl7/kqquuYvbs2fT19WHbNueccw6JRILPf/7zeL1eFi1aRDweP+GZ/0REREQGM4XlYSo3N5e9e/fy/e9/n5qaGnbt2sXUqVOpqKggEAiQSCR49NFHaWho4I033mD79u0ALFiwgJtuuomf/vSnfOc738Hr9bJz507uvPNO3G73AL8qERERkVNLYXmYGjFiBD/72c9Yu3YtHR0dXHrppcyZM4eCggLuueceamtrqaysZO7cuViW1X8mv/HjxzNx4kQqKyt5/fXXiUaj3HHHHUydOhWn0znAr0pERETk1FJYHqacTifV1dVUVVVhjMHhcPSH4ssvvxyA0aNHZ3z82LFjGTNmzDGPFRERERlqFJaHMcuyTroafHS1WURERGSoUlgWERlOjj49vTZ4RUTek8KyiMhwYAzmUFC2jDk2KCs0i4hkpLAsIjIMGGOwUql0ZdnpVEAWEXmfdLprEZGh7ujWC6cT49CqX0Tk/VJlWURkmDCHKsqWZR0boEVEJCOFZXlvxmAwWLad/tHh1EwYIoPMcX+z+huW98EYAwZsG+xU+mPjdEMqAaQMltvC4TzB50tkCFFYlr/NGIj2YO3fBJ2NkLKxZn4MPDq1tcigoSAjJ8nY0LErSuNbETr3Jyge5aFssp+dK3pp351g5EUBRs3Lwak0IUOYPt7y3uIx2LMRVvwRqsbBtI8M9IhEROQMsZwWjW9H2LM+iscbpH1nnETUsP+tKBaGkRcFwaUNMhm6dJSHvCeTUwQjJoGdhMoJ4PIO9JBEROQMcDgtcio9eANOXB7o3BOneKyXsZdl4/aBv8ClJCFDnj7iktnhOVmxYH99en9c1WSM0z3AAxMRkTPBGIh2p+jYHScZhcKRHkZenE2oLUkybigZ48XhVFVZhja1YcgJGTuF1dkE7bvAHYTtayCYD+XjwdI2lojIcGCMoXNvjJ7WJKVjPYy7KheH20HzOzF82U4Kar1qiZchT2FZjmGMjRXuxlr/ZDogF9VBawPs2ADjz4X8Ch31LCIyDBgDdtLQsSNOKmkYNTdAsNxDpCtJ684YueUuPNkOEmEbd8Cp0CxDlkqEcoQxWJEeeOF3sPq/YNIVcNlXoWwMJFJQPQPj8Q/0KEVE5IwwJCM2Ldsi+POclE3x43BY9DYmCHWk8OU42b0qRPf++EAPVOS0UliWI1IJePOvsHoRTL4cM/1j4PFDvA+y/FAzVS0YIiLDSCJi092Uomysl5zS9PEqyaiNMYa2XXGwDLkjPKoqy5CmNgxJMwY6DsDaP0NeEUy/Dtx+CHfC3rehsAyKRw/0KEVE5AzyZDuYuTCPYIUHd5YTgKIxXs79TD7ebBeVM/y4/SqiyNCmsCxA+iAOq2kLNDXArI9gimoAAztegf07YPbHIDsfFQ9ERIYHy7LwZrsYeXHOMdf7cl2MW5CHZYHl0LeCDH3aHBQALGND5wFIJSGvCsvlxWrdA2sfSfcrV02Cg9sh1jfQQxURGfaMSRc5UkmbvuYE0e7kGXtuy7JwOK3THpRt29B7MEGkK4mdMulTb4sMAFWW5QhPFmBBUz1sfRk2LYfmBvB7oXEr9HZCUe1Aj1JEZFgzxpBKGMJtSfauC7H39TBTrs+lalb2QA/tlDIp2P5cD20NMcZdEaR4vB9f0InlQLMyyRmlsCwAGIcTa9T5MPli2LcFen4DUz8KgXxY/9/ps/fNvBbjy1YrhojIGXa4qmqnDKGWJA1r+tixso+WnQk8PosJCwy2PbQqr7ZtCHWm2P5y+lTbI6Z5GXtpDpXT/Omp6hSa5QxRWB4OjAE7hXE4sDLMZmFZFqa4Fuumf4JwV3oWjOxCiEdh5vUQLMJk5abP5vdeT2enDi3UoRWZiMgpYA61JDSsDrF9RR+d+xMkIunbEg7DvjfCRPtSAzvIU8xOGTr2xsGGeJ9h5+oojZtilI73MuHKHCqm+fEGnfqekdNOYXmoMun+LivaC3vehFAX1uTLwRvI+BDL4YSc4vTlMI8fsvPTt7/Pp7a6mmHbS1A5CUpHY9zejCFdRETemzHQuTtOw+o+2nYnsBNHbkslYM/rYZrrYwM3wNPAGENv21EbAAYiXYamzVH8QSf5NR682c73/+UkcpIUloea/pDcg9W4BV57AupXQs0MmHjJmRlDpBtWPJReu0/9CNb0j0FhDcbjVwVAROQkOJwWlbMCZJe5aXi5j50vh+g+mCQZS9c0Zn4in8pZmYshg5FJ2Gz4r062LA+BBd5si+JRHsZfnk3VzAC+Apdm45AzQmF5qDAGg4F4BGvXBlj/OGx6EXp7AQOVMYhHwO0+/WNJxNKX5kZo/H2653n61VjTr4ey0RinW6FZROQDsCwLl8eicKSX/BoPoy/NpuHlENtW9BHpTpGV7yK37Ays38+gVMLgyXbg9kPFOV7GXBpkxOxA/0F+KinLmaKwPIRYPe3w/G/h9f9Oh2T7qN1X29bBr28Ah/P0DyQRh86u9P+NnQ7Nz/0HvPksXPJ5rPNvSZdCRETkfUvXGCycLou8EV4m3+Rh5MUBDmyIECg6A+v2M82Ciok+yif5KJvsx5frSk9Zp4wsZ5jC8lDi9cPoOdB1ALaug74+4NDR0YWlMPOjZyakdjfDq4cCO6RPkZ1fABPnQtVkcOhjJyLyYViWhdtrkVvlJVjuGejhnBYOJ1RflN0fkLVHUgaKUstQYVngy8accwXWyNnpM++99hjs3AC9ISgZCRffDll5p38sB7bAppUQjkB+PkyYB7NvhMpJGG9AKzwRkQ+o1zZ0AMe3HlhwuG/XPrNjOv0scB56bYb+2s+J+IASC1Wd5bRQWB5iLIcDsgtg6lUw/mLYtgZefwy8uWdyEJBfBZPmwfTrYcQUcKV76bQeExHJ7PB8yu8uKjwUjvONuOPMtNINRm6LeJbF0OralrOFwvIg078iBTARiO/+2w8YUwEjboNIL5g9EG083UOEQAg+fhtk5YPHB8nt8GHOxOoqBmeRSgYiMqQZY4j1pXB6HLg8xwbm12NJiLv1rZ2JZVA5Rk4X/dkNIsZAKmmwHOBwWFiJg9D5O/7mvqnDLKDndI/wXcKHLh9W9lXpi1aEIjJEGWNIxQxbl/aQW+5mxHkBnC6t80TOBgrLg4idMjS9Ecab46RorPdQdHyPRq4hYai/PhEZ7oyBrgNx3lnaS7DURdE4H4FCh3aoiZwFdFq1QcIYQ7QnydtPd/P24k7ifUPuSA4RkWHLThoaXu6jfU+SA5uiHHgjhLGNagUiZwGF5UHC2NC8KcK+N6Ls2RDl4KaIVqIiIkOAMYauPTF2rgphbIj3wY4VfUTak+mTTYnIgFJYHiSinUneWdZDMgqRTsP2F3qJ9XyYo+ZERGSgGQOJmGHXy3107j+yTj+wKXaoujyAgxMRQGF5ULBtQ+PGMI318f7r9m2M0lyv6rKIyOBm6NkXZ9fqMPZR9Y9EGLa+0EekK6X1vMgA0wF+ZzljDJHOJFtX9hLrObLGjHTabH+hl+oxaJKIwSgVgdh+MNo78IG5C8BdBJbmm5XBz9jQuS+GP99Jmc+iozGBy2ORW+rG6bboaYzjz9dnXWQgKSyf7Qy0bYvRtTeJN8ciEUkHZo/fItqbGuDByUlLdUL3SrBDAz2SwScwHXIuUFiWIcFyQN1FOdScl020J8XLv2khWObm3M8V4nRZONyaEUNkoCksn+0sKBrr44rvlJKI2Gx4tBPLgtmfKcDriqmqPGgZMClVlk+Kmjhl6LAsC5cH8DhJJQ0Ol4XTbeHOcmqeZZGzhMLyWc6yLAKFLgKFLuKhFFm5TnBYFI/340j6oGOgRygiIiIydCksi4h8QAabCDvpZf1AD0UAH7UEmYEDz0APRUSGIIVlEZEPzNDDOnawaKAHIkAJ55DNZFBYFpHTQGFZBgWDSU9IejqWfZqWK0Od0QkjzhrqYxeR00dhWc56L69cyUtvvcnpOpqxr6+P7u7u07JsERERGdwUluWst3nzFp54ovF0FZYBGDlyJPn5+afvCURERGRQUliWs97f/d3tfO6uK9MTkp5GbrcbSxOaioiIyFEUluWsZ7lc+Hy+0x6WRURERN5N6UNEREREJAOFZRERERGRDBSWRUREREQyUM+yiIiInB62gUQc4rHjb3O5wOsDh+p2cnZTWBYREZEjJ35KpcBOpQ+qdrng3bMEGQP9J+SxDv3fSt+v/7ZDj4lF4IVl4HGDwwlrVsLFl0EiCZEwXH4V+LNO/2sT+RCGdVg++sxtmjJMRESGpcPfhd1dsG839HZDJJoOzQUFMHFKOtAe/p6Mx2D3DmhqTFeOi0tg1Nj0faJRWP9K+t+qKsgrgGA2zDgPXl8Lra0wbRaEQrB3VzqMi5zlhvW+j76+PtatW0dXV5dOeSwiIsNTKgWb3oA//hb274ORY9PV34nnwPPPwsMPpcPv0UJ98PN/hGf/H6SSgAW2DZ3t8MKz0LQ/vdyc3HRQ9vlhyyaYNhMCwXTAnjwDXO4BeckiH8RZvUn3fgOsZVknFXYPHDjA/fffz/e+9z3OO++897XMv3W9fEDvfhv1Fn4IJ/j8H72X9Nj/nP6xHD2c9/W3Yd41Xn0YRE47Y9IB9/W18Id/hc9+CeZcAk5n+u+2shquuRHu/hKcfxFMmZm+3uOF/KJ0JfqjN6SvTyRg51ZoOQhfvhsKisHpONKa0dUB27bArbene5QdLnB7Bvod+JuO/q5XQe1YhzPPcMk+Z3VYBuju7iaVSgHQ0tJCMBiktLQUy7Job28nJycHn8+Hbdt0dHTg9/uxLIu+vj58Ph8tLS34/X6Kioro7u6mvb2d/Px8iouLsW2b3t5eenp6aGhowBhDaWkpgUAAy7L6l9nR0UFubi6FhYW4XC46OjpwOBwYY4hEIpSUlOB2a+v4AzOGtuYQsYRNZWV2esUqJ8XEk3T3pCs/OUEvDreLvp4oqZRNbo4P3M4zOBhIRhM0tfQwojwPPO9jNWMbOtr7MMZQWJyjrCxypjQ3wS9/BJdcDudddHxbRH4BtDZDUxNMOer6N9dDXj5U10LTgXTVuLIKZl0APt+R+5lDB/gd2J+uThcUvc8N6IFljMG2bRobG3nhhRdYv349XV1dJJPJYRucLcvC7XZTWlrKBRdcwNy5cykoKBgWgfmsDsu2bfPYY4+xdu1avF4v+/btw+l08vWvf50pU6bw/e9/n8985jPMmTOH3t5efvazn3HxxRcTCAR48MEHqaqqYufOndi2zcUXX0x9fT0HDx4kEAjwzW9+k6ysLPr6+njggQcASCQSTJgwga9+9atUVlbyyiuv8O///u90d3fj9Xq54YYbuO6663jggQdob2+nq6uLmpoa7rrrLvLy8gb43Rqc1r3Vytadndz9pWkDPZRBra0jxP/+/UsU5WVx280zKcjLYvHSTaRsw40LziEnP+uMBtA9B7r4w1/W8a2/u5j8omD6ysMr1MNfNEdVkO1EiqeWbcbvc7PwxplnbqAiw5kxsOyv0NUJl37kxJXexv3p6nOW/8h1tg2rV0B1HXS0wxP/le5B/qd/OTYoA6Rs2LcHttbDOVOhpQkqqsF9VscPjDFs2bKFH/7whzz77LP09fX1F+6GO5fLxcMPP8wtt9zCvffe21/AHMrO+lLevn37eOmll5g8eTL33HMPqVSKxx57jJ6eHurr6+no6AAgmUyybds2Wltb6ezs5NVXXyUrK4u7774bn8/H7373O+bNm8ddd91FW1sbS5cuxbZturq6APjqV7/K7bffzurVq3n44YfZvn07P/rRj6iqquLv//7vmTZtGr/85S/ZsWMHW7du5fHHH6e4uJgFCxbg9/v/1ks4O9gG4ilMLAXxVPpnAyTsI9d9mI1lA8lwku62CH2dUXraj1xivfH0CtMcuS8Jm0QkScq2qavOAddZ/1E8/YyBROrIxZj0+5ZIpY8cT6aO7DY9fB/bBiA3248TuOyC0QQDPt7Z1cqVF43hczfPIqcg8OEqOYkUoa4wvZ0hejtD9HSkL5GeyJExHWbb2LEkBkNJcTaBLC/h3iipaKL/NfZ1hQ+9vkOvOZ4EA32ROBPGlJz8OEXkg7ENbFgHZRVQO+r49UQqBSuXw8jRx97e2pwOvzk5kBWA+R+BzW/BxtePXR8AuJzpg/8+vhDuuAdmX3jWB2WASCTCr3/9a5588slj9nBLOm8dPHiQBx98kMcff5xEIjHQQzrtzv5PLDB9+nQ++clPkpuby4YNG1i3bh3Rdx9swLE9RaWlpdx2221UV1ezdu1aOjs7uemmmzDGMG7cOLq7uwEoKCjg1ltv5dJLLyWZTLJz506WL19OXV0dmzZtYsaMGbzxxhuEw2F6e3tZtWoVxhhmzpzJt771LfLz80/JFtWxu3UOT8Vz6KdTsPxkNMVL6w6w4e02xozMZcHF1fh8LlauPcCW7Z1MnVjIBTPLwHOSu+tTNm9vaeePj7/DOeMK2FjfxvhR+bS2R/D7Xcw7v4I5M9LLD3fHWPdWC16Pg9Xrmrj9UxM/9OsbCpLRBCtf3cm2hnamji/jghk1tHeFeWHtDsKRBOdNq2bC+HLCvTGWrHwHl9vJpeeNJKcwm+7eCG1dYVIpm0f/upHrLp+Yruiego39tvY+Hl+6iQNN3fh9bmzb4PO66OqJMGdmLXNn1qQDuW3zVn0TfaEY23a3kRf04fG72berlV37O5g7s47u3givvLmPK+eOwe9y0NMV5o0tjTidTvbs62LExw7toemvPg/tasVQpxmHznYmPUVcMAe83v6NbyD9t7drO7y6Cj7x/0HFiEMPMbB1M0Qj8Knb+P/Zu+/4OOoz8eOfmdneJK16t7osS3KRhVyxsU2xMcQFAgaTcCHJK4FL48gPEkguF44DcgkpHJdA4KgX4Ggh9NiOMTY2xr3bKpZVrN53tX1mfn8sWlu2bJpsFc+bOLZ2d2ZndlezzzzzfJ8vBZPCgfRfi+Clv4Trl232Mf+7W11dzYYNGy6IQPCL8nq9vPnmm6xYsYKUlJSR3pxzakyk8+x2O2azGVEUMRqNQxbdy7I86EOt1+ux2WyIoohOp8NsNqPT6ZAkCd1JNVkGgwGHw4EoioiiiMPhIBAI0N/fjyzLdHV10dzcjMfjYe7cuaSkpCBJEtnZ2URHRyOK4pf6ElBVFTmoEuiXcXeE8HbLKCEVT1eI3sYAIZ86LPVROoNITkYUW3a1cqi6B5NBQpVVWto9ZKbZKcyOPnt2N6TgcwVwd/twd/uQvaHBmWidyNSpCcyYlsCyS7MoLozl1q8Vc/NXC7HZDLR3+di6uxVCMq++d5RAQCYvMwp/UGFCquNL7994oNNLyLLKK+/sJz7WhqCTsFmMHK5u56Od9STE2gAwGiTcngAZyVHYbEYADtS04ffLyKhs2n6M9m7PJ2v9lM+mqiJ7g3j7vHh6vfhdvtMyQ3FJDq5eMJHigiQumprOisWT+OevzSIrzYnPF2DdRzUogRCHq1pZu6mK0sJk3P1+CrLjQRTJyY4nOc7Oi2/u4e+bqphbPgGzzYQaknn1vf1IgkCMw0RCnA2b1UhbSy81NW3D/fJqzjNVVfH2yzRUuZFDF2aN56gnSTBjLrhd4drlw/vDfZD3bA+3kHv+SVi4GK665kQtcygIe3ZCYgpk5YYH65nMsPobsO3DobPLY1Bra2vkyrPmzJqamnC5XCO9GefcmMgsDxWQDgTONTU1uFwuamtrqamp+dzr7u7u5qOPPmLKlCmEQiE+/vhjkpOTycnJITk5mSVLljBz5kzq6+t59tlnSUhIiDz3cFBVaNzupnazh57mIAULbBjtEpVrXbg7QpRc7SBngQOd/kuepetEMrOiWXF5Fn9bV0d3n5/a+j6mFsVRkBsTDpSHegoVOlv72byzhV5XgGBQQQEuKo2nZFI8SIMXkkQRVQVJFBAFAWeUkYRYE6UTY/l4dxuFOTHsr+ziuzdOou64m9wJUV+q+mNc0UlkZTgxGXXYLQaQRPR6kWBIQaeTcFjDn7nuXi/lpalMKkgOv2+qyp6DTSyancvMyensPtDE+x8dJT8rHvQiQ76xqooSCLF1dwMNzd14/TKqohIbY+GqhRNPuUwafi/DywnodRImm5FYp4XcCXEcOdqOy+1n7YfVZGfEYjbqaGlzkbvY+UmmSsAZZcbl8RMfY8ViCtdF9vb52LyznpVXlLDrwHFSEu1IkkBnj4fquk5ysuM/efqxnaEajwZO4AeOy0NlkFUVmmrcvPM/tdz8i0nYY0Z354PhpqoqgUCA+vp64uPjcTgcCIIw+jLsS5dDVzu89kK4y8WU6fDh++ESq1nzYer0cDAM0NEGu7bDvt2QkgrHasKZZVEM/64nJMErL4QH/hUWj+m2cH6/n1AoNNKbMer5/f4LokRl1AfLBoNhUGCq0+kwmUxYrVamTZvGCy+8wJEjR2hra4vcL0kSppMGGej1+kE/GwwGDAYDoiii1+t5+eWXqa2tJRgMUllZyV133cW0adNYvHgxf/jDH3j33Xc5fvw4siyTlJSE0WgctmBZAKyxOtztQTpqAiTmBQl6/NgSdBzf76PzaIDsi4HhOOYIcMXF6fzl9Woef/4QVy5cVoJGAAAgAElEQVTMpCA3+pOAamidrf289HYNZcXxzJmejNkkIQgCRoME4pkP+rKs4vEGae/y0dHp40BlF6lJFgQBkuMtKIrKtn1tOKONNDS5yMqNGYYdHPuirSZkVcHtDYCqUnWsg7TkKOqO9xCSVXTBEPXNPUzMSQjXAioqvV1u9le28u1VFyHqdcycmsHvn/yQqxYUkpwSPcT7pKIGQryx7hAAM6ZkEuMId5HR6cTwes9AVVUCQZn+Ph89vV7qm7qRZRmrWY9OkkiKt3Gkth2PP0SP24/TH6LX5WXbviZuvHoKLZ1u3t9aw6Wz88InU9EWVFXlQHU7sdFmmlpd7D/SgtGo4731h1kwMwe9ZXh+18YKRVEJBRVUNXyeIOlExPA5EaFguPZfpxcRxC9W2qCqKl5XiH5XaOAGEAQEEcwWHWa7DlEMt8gMBhRUBURJIOCXMVl0SJJAwK/g7Q/hiDYgiODzygR9CrZoPYIQ/v33+2T8PpnUPBt645i4iDnsent7uf/++5EkiRtvvJEpU6Zgt9u/9BXJYSMIEBUD3/we1B0Fbz8YDNDXB1PKYeIk2PxBeJY9nS5cqpGeAT+865Nlo8N/CwKkZcK/PwQM3D4633NZlvH7/RgMBiRJOuP7oKrDc1XXYDCg1+tRVfUzB5bhY7EOVVVHfcA+XK/TaDeqg2VBEFi8eDFutzvSmm3OnDnk5uYSHx/PD37wAwoLC3G5XCxfvhyACRMmYDAY+N73vofVagVg/vz5FBQUREotVqxYgU6nIzk5mXvvvRer1Up1dTWqqnLbbbcxefJkDAYDd955Jxs2bKC2tpby8nIuvvhi0tPTue6667BYLMNzsBPA4tShBFUUWcXVEmTaDTF01fmp2gC2RB3il80qnyQmxsSkghgOVHZx29cmnTUwQoV3P6hndlkSJcVx4ezBZ6AADU0uHn3+IK0dXvpcAYryY5hdlgSSyOUXZ9DtCjClKA4RcEabPm2VFwybzYiqqLj7A/T3+QgEZXIyY1n7YQ2yrFB/3I3DbsL8SfkFssLh2g7KitMQBRElFMJuNVIxNYNjx7tJTnQM+b7VHe+ho8fDP60oQzR+9sOA1x/k1Xf2YzLqOFDVxvyZ2SydX4jObGD5pUXUNfWgAvMrsrGa9OgMEn6/zKWzc7A4zMTE2jDqdciKgsNh4trFJRxt6GLapBQ8vgBxTgs9Lj8LitPYsqsOjzdIlNlwQWWXPe4QB7Z0cnhbF1nFUZTOjiMqzoCrK8C6F+qxRRsovyKJ6NgvlqlVFWiocrPmL3XExBvpbvERn2GhtyOAxaGjqCKWSTNi0ekFjuzopq3eQ3K2FVd3EIfTwMRyJ8GAwqGtXSRlWkjOsrJ7fRvx6RZsUVEEAwpHdnQhBxQOfNxFcpYVvVE6LRs9nFRVZeC/M90fedx5+mJXVRVZlmlsbOQf//gHf/vb31iyZAmrVq1i1qxZg75DRjRwFoTwIL3C4vCJk98Pej38/n5ITg3XJRs++azZo6Awauj1ZGafv23+Erq7u3nuuedIS0tjwYIFREdHn7P3ITc3l6uvvprc3FwCgQDbtm3jnXfeiTQmGIooipSXlzN37lyOHTvG1q1bMZlMNDQ0DDlWS3N+jOpgWRRFysoGt5GaNGkSkyZNAsBkMnHTTTehquppZ4hZWVmRf5eWllJaeqJB5OzZsyP/XrZsGaqqcskllyAIwqAzfofDwdKlS5FledB98+fPH9b97GsJ0t0URG8WyF9kJyrVQM0GF4II8blGRGmYfoFlhcqjvRTnOXlmbyXHGl0URZ0lUA3KHK7uwWTU0dTmGXRXflYUWdnRZwxiYqJNWM06Sgqc+P0yFZMTwv12BSgsih2e/RmH9JKESaejz+Wj7ngXKQkO/H4ZJSTT3eels6efyYXJJ7LFeomK8iwqyk983vPyk8jLTzrr8xyoasXjCfDB9tpBt9vMBqZPTj/jSZRBJxEfZ8PvDzJzWgazyzKJS3SAIJCYGkNiavgKwaSi1MgyKenOEysQBLJzTnS8KJuWOWj9fZ1uMlKjUFQFm8WIxxsgCuugx3jdbnrcTSjCCB6+BIV+Wx+qXR32L1iTWUKRVfZubGf2VSlY7DrkkEpbgwezTUdBuROr/cz7LocUvB4ZJRgerKU3SZgsJ46PoiSQPy2a+iN9ZE50UF/pomxhIl5XiPX/10BXs5eavT3kTI4m4JOpPdBL4UVOPK4QNXt7mPjJ80+aEcv2NS1s+3srpXPjmFDkQBChZlcP+zZ1sPjmLA5t7yYx3UIwoHB0bw+5U6IxGIe/5/eRw9W8/+ETKMETJxADQbGiKHR3dzN16lQ2bdrEvn37BgXNQ/196riYoX4+2/IDz+t2u6mpqUGWZdra2nj22Wf5+9//zrx58/ja177GnDlzIkmd805Vw4P03KfUmyoKzFsYziTnFISzy91nDu6+NL0+nN0+TycMgUCA9957j507dzJ9+nRWr17N/PnzSUhIQJKG77OZkJDAb37zG0pKSqipqSE6OpqVK1eSn5/PAw88gNfrHXK5uLg47r77bgoLC/nLX/5CdnY2l1xyCf/v//0/9u3bN2zbp/l8RnWw/GkEQRiWD/fAJY/Pe99wUFXoPOrH51KZuNBG6lQLAa9CW3UAm1NHdKYRUFHVL3kgkVWOHu2lz+XnmiXZ7DzQwavv1VJUGHvmgX2CgNEgkppoxWEfnMWKsp85qyUCDpueqy/N4p31dcTFmvhwRwuXzsv4Yi3iIl9M4+dSj6CqQw6CEQSwWAwcbegi1mkhLt5Oc7sLf0jmaH0neZmxSCY9X7bNhU4votdJOGyDT5bMRumsq9bpJC4un0B1XRcq8OGOOtKTojHZjMPyZeeItnD53HyQRHIyYhGHCNpfe+2v/Nfz9xIMjtznQW+QWLBKz2W3DX9/dUkn0FLbT0ahg8wiB3JQof6IC51eZMH1GRiMQ1/CV1WVrnY/e9a34fPIiJKAKApkTnSQNzV60Ntzcu2sKAnoRIHYZBNGs0RRRSyHtnVRMN2J3WnEHmPAmWjio7eaySoOZ451egGDSUQUBQQh/HmSPjmp37amlaziKEQRfO4QMUkmVFXl8LYuMgsd6A3DX4Kwb+8x/vL7Xfi9J9Z7cj31wL83btw4aLlTt+NM2/VpjxuY2fXU22VZprW1ddDPzc3NbNmyhZycHKZOnTqywXLlwXCf5aHuUxQ4vC/c+eJcSs+Ea1afPhnK5+V2c7jp+KcGNW1tbbhcLtra2njnnXfYunUrc+bM4frrr2f+/PnEx8cPS1yRn5/PtGnTeP/99/nZz36GzWbjgQceoKSkBKfTSV9fHzNnziQ3Nxev18v27dupr69n8eLFlJSU0NDQQGdnJ3PmzKGkpIQrr7wSgOzsbEKhEKmpqciyzI4dO0hNTSU7O5u6ujref/99vF4vkydPZvr06RiNRmpra9m8eTNpaWnk5eWxZ88e6uvrmT17NkajkY0bN14Qg/S+jDEdLI8HSkileb8Pk0Mke54NySTSX+entylIxjQL3h4ZSQd6yxf85VWBkMKBI5109QaYNTURyaJj+RVZPPjHXdQ3uMiYEDV0gKQTKStNoN8bZMa0xM/UVk5WTgQwCbFmLpqcwP7KLtz9Qfbu76C0JO5zz9T31htv8taHb4+HAdbo9Xri4+Mpm5TI5ZO9SKeU4wqigMmko6ahi+uXTgmfsBh1+AIhet1+UlLOnM3/PKYUJHO0vpvC7HgsdtOnrPNEFk0QQJJE5k6fwFvvHyYh1sY7G45w1cKJ6MxfPohHEiOfD/EMda4lJcV8XT8VWRm5mkhRVEksPQTUDfu6ZVmlZm8PhRc56Wnzc3h7F3lToklIs5y1TrmzxccHrzSSXxZDcpYNoykclOqM4lnfXuWT+mJXbxCPK8ihHd0kZFjC62zyEptkQpZVXD1B9EaR7lYfUfFGdm9oJyXPzpT5Cezb1I7eJJGeZ8NskXA4DTTUuPG4Q/R1BAh4ZEJBlV3r28gocpCRbx/W12z+JdO4NOdGUMID0U69rH62YPfkxwx1+1CPO9P9py7f2dnJXXfdxaZNm9DpdCQmJrJo0SJuuukmpk+fHhn0NyIEAfKLwqUWn5cK9Luhq+OLPXdUDER9Us6hN4S7cnxZe/dy0z0/RFSVsz4sGAxSVxf+vVVVlc7OTl5//XW2bt3K9ddfz+233056evqX3pz+/n76+/upqKjgG9/4BuvXr+ehhx6ir6+PQCDAd7/7XW655RZkWUan09HZ2clDDz3E4sWLiY+Px2AwsHLlSjIyMnA6nSxbtozu7m5+9KMfYTQacblcJCYm0tLSQjAYxOFwYLFY+P73v097ezsPPfQQTqcTr9eL1WrlD3/4A1VVVdxzzz3s3buXNWvW8NOf/pQ1a9awefPmL72/492YCZZPvrQFgztkfNZengPTVw4c1EbDAAtPZ4iuuiCxmQacE4wIQE9TAJ8rvJ/7X+9h8jUxXzhY7m73sG5zI2s2NvL9m0uQzDqQFfQ6EZ9P5qW3a7hxWR5JKUP05BVg4axU/u+tGl54o5qSfCd2uwEBiIsxYXYYTywjK1RWdbP3cCeiADX1fWzd1cLUSfHUNrpobOnn6dcq+a5FR25uzFkHB572Gnm8dHb6GA9zIA8MNvX6oobMLIsCZKU7mT09E7MtXKtrNugpLUimojRt2KYET0x0UJyXwP++vptpk5JJTYxCJ4kY9NJpk5h0t7tYu7ma6rpOHHYTh2va+PqKaUzMTWDXwSaO1LSjqCorryz9XO/rF1VSWsqk2bNRxZEbaa8i0ya8QM05CJY7m320NXqZudTEx++1sPXtZibNiD1roBwKKezZ2EH+1BgKpzsHlW592mGuo8HL648dpb8nAEDhdCd5U8IZ87hUM5kTHRiMIlMvicds0xGTZMLvlZkwKYq4FBOSJDBlXgLuviCqCnOXp9Ha4MFgkJgyL56oeCPNR91MKHIQCin0tPtJy7UhDuNnJS7eSU58GRIjlKUdgqqqtLW1YbfbSUxM5Morr+TGG29kxowZGI3GkR/kJwhgtoT/fF6hEKx9J1zGYT+p9efAFUCVEzN0nrqPggAlUyAh+Ytv+1AmTOD2f7n9U4Oarq4uHnvssUhJgyiKTJgwgZUrV7Jq1SqSks5ewvZZ7d+/n9/85jfceOONfPe73+X73/8+VVVVPPHEE0iSxNe//nV27NjBPffcQ15eHr///e9ZuHAhDz/8MBMnTmTdunX8x3/8B7fddhs33HADd955J36/H5PJxKZNm7jnnnt48MEHmT9/Pt/5zndoaWnh9ddfp7i4mO3bt7Nnzx7eeustQqEQv/rVrygvL+fJJ5/k1Vdf5dZbb+Xyyy+ntraWRx99VGuR9xmMmWBZURT27t3LY489RnJyMv/8z/+M0xmuhfT7/VRVVREXF0dSUtIZD0CyLPPCCy8gSRIrV67EYBj5Vkaebhm9SSBtqhmjIxwQ6w0SRptIb3OQqddFY4v/4hk7h93A7OnJVExNIsH5ySV3QaA438lTDy1AL4rEnmWAncFq4LqluVTV9lBV14vLHQQVpk6KY1JR3InWcYJAapKV224qRhQFZk9PxmbRY7bpufzidDq7/MiqSrzz07KYp1u27GoWXXMJY6Qt+FkN1L4baUdyvQfq4FpwQSfxnRsqiIuxRgbmpSTaufvW+cTG2Yaprk8AncTciiwy02I4UNXGviOtyCEFZ4yF5ZdNCteXf8JhM7NwVi7zZ+RElreZjZQVp5GeGIV/Tj4mg+78DcITRURJAnH4a18/KxUQOUNbvi+zXlWlqdqNvz+ENVpPTmkUm/56nCM7uqm4IumML7HPI9NW14+/P0RvV+DEHQKk59pIy7efcVl7rAGTRSIxw4K3L0hRhROTJTwSP7f0xGCu4tnhAbmCIKDXi9gcJ05W7E4Ddmf4eJqQbiYhPZzhzZ0chSyH663tMQa6Wn3IAQVFVoc1WBYEgYH/RhOz2cx1113HT37yE4qLi4mKiho1iZovTFXD/ZjdLrjxG+EJSE6+79C+cHu50ikwacpnHhj+paWksKrwBj5tPHxTUxNvvvkmR44cITc3l2XLlnHttdeSm5uLxWJBHIbtFQSBjIwMGhoa+MEPfoDBYGD27Nnccsst/PCHP+Txxx8nISGB9evXU1tbi9vt5tChQ6SlpSGKIoqi4Pf7cbvdkQ4aHo8HQRAIhULs3buX5uZmjh07RltbG4cPH8blcuH3+9Hr9bjdbqKjo7n99ttRVZXExER0Oh1+v59XX32VlStXkpuby9q1a79Qy90L0agLlk/OIJ98UPH5fLz88sscO3aMJUuWRAJdVVXp7u7mt7/9LUuWLGHFihWD1qWqauTDr6oq27Ztw2g0snz58sj9Jx+4zjZi+9T1Dfgy2WpnpoF5P4rHHK2LfPcnTzGz8I4ETFESUWnhAX5f9NgqmXUkp51yyVMQcMSaccR+hmm6BdBb9RRNiqdoYtyJbKh4SsZAFLBGm7AOEXgbbAaSbV/8xERvMhFjixm1rYi+kIAL3OLpZdiiQELS4NHmklFPbIJ++BPrOomMjFgy0pyfbMcnvcpOCWIks37wIL2TJKQMf83uhUyRVY4d7iN/upOCaTHoDSLTL03kwzeamDIvftBAvZOJooDOIGK263Cc0iVDbz77SYXZpqN4VhwHNrWTmGFh9wftXHRFMnr94OPZZz01OXX7JAkKy52IImQU2hEI12VfCOx2O6tWrUKn0439IBnCx39PP3y0CWbOCXfROI0Ar/8fpH35UoZzQRRFCgoKmD59OldffTWTJk3CYgln14fr/REEgXnz5nH77bfzyCOP8PTTT1NZWcnEiRNZunQpkiTh9XrJysrCarUSGxtLQkIC9fX1p80YOBCj6HS6yJX1gXZyA63llJNmXhyIb2bOnMkvfvEL2tvb+eUvfxm57/LLLyc2Nha3281ll13GSy+9xO7du4dlv8ezURUsq6qKy+Vi3759HDp0CKvVytSpU0lPT2f79u1s27YNu91ObGxspM+x1+vlww8/ZN++fVitVvLz8yksLKS+vp4dO3bQ19dHQUEBpaWlWCyWSMCrKAqdnZ1s376dzMxMsrOzaWxsZPv27fj9fiZNmkRRURFer5d9+/ZhsViorKzE5/MxY8YMCgoK6O/v5+OPP6aqqgqr1UpZWRmFhYWfa0CgwSrhtA7+GjLZdaRMHlVvTThQkwTGQynEqDbUwfqcfcEKJ72vmtHA55Wp3tXDlAUJGEwSkiQwfVEim99o4tjBPgqnD92P3GiWSMuzo6oqBdOdGAxnP7E8tcNDVJyB7Ckx1B/qQ1FUqnd3U1DmHJZSUkEQMBg++YyNssPauTQQHI+GK5jD6uDecLa4oHjorLHJFG41l5k9Kls+xsTEcOeddxITE4PJZDonJzCKorB79278fj8/+tGPmDlzJoqiMHfuXPbs2cOGDRsoLi5m5cqVxMfHEx8fT2pqKn/+85/p6+sb1HHF5XIRHR3Nrbfeyrp164acwfhUA3NIDFzNSExMRFEUvvnNb/KNb3yDTZs2sX79eu6++26+//3vc9ddd0XmqtAMbVQduoLBIE888QTPPfcchYWFdHZ28sQTT3DXXXdx8OBB6urqMJlM7Nq1i6lTp6LX6/H5fGzbto2WlhZ2797NgQMH8Pv9/Ou//ivBYJDk5GT+9Kc/sXz5cn70ox8BJ2rJHn74YQ4dOsTdd9+NLMvcddddkQlHHn30Ue644w7S0tK44447sFgsZGZmUlNTw2uvvcbvfvc73n//ff74xz8ydepUWlpaeOqpp3jqqafIzMz8lD3VaDSawXo6/ezf2EHHcS+uDj/uviA2h55gQEHUCaz9Sz2xySbiU8wIp2T/RRFK5sTx4evH+ccL9eRPi8HhNCCKAkarhMWmiwQFyicDCA9v76ar1U9HkxcRqLgymaajbtobPLz1eAd6g0Tu5Kixnw3VDA9Vhb7e8CQly78aDogHuvp0tkH1kfBgvcrD4Zn84hNHZbBsMBhITg7XS5/Lz/bu3bv5l3/5F1auXElOTg6qqvLqq6/y/PPPs2fPHu69916+/vWvk5+fT19fH/feey8vv/wyVquVv/3tb+zdu5dQKMS6devIycnB4XDQ1dXFK6+8wv79+wmFQmzbtg2/309vby8+n48XX3yRLVu20NDQgMFgICsri4aGBp555hny8vLIzs7mvffe43//9385dOgQgiCQm5tLQkKCFix/ilETLKuqypEjR3jllVf4p3/6J1avXo3L5eL222/n5Zdf5q677mLXrl0kJyezevXqyIx80dHRfPOb32T//v1cffXVXHHFFdx///2oqsrjjz9OVFQUr732Gn/84x9ZtGgRAA0NDfzbv/0bzc3N3H///eTn5/Pggw8iSRJ33HEHVquVZ599lieffJLvfe97hEIhVq5cyerVq9m5cyf/+q//SnV1NQcOHCAuLo4bbrgBh8PBunXr8Hg8Z9tNjUajGZLVrqd4dhx502LQG0UsVh2iCMnZVu7403QEEaJijUNe3BEEAatdx8Ur0jhe7aZ2fy/e/hAikFkcReH0E1liQYSUbBtf/WE+oiSgyCoGo4jRJDHzymTc3UEURcUWPXanKtZ8CYoS7nRhNJ2YjARAlmHLB5CdB8np4UBYUWDXx/Dem7BiVfi2t16FRUvOUKIx8s7XyZ+iKGzYsIFt27ZF4hWv14vX60VVVSorK/n3f/93jEYjiqLg8XgIhUL09/fz4IMPEgqFkGWZyspKfvaznyFJEn6/n7Vr1xIMBpFlmTfffJN33nknMlnJz3/+c0KhEKFQiMOHD2MwGPD7/aiqislkiizn8/lQFIUnnngCvV6P3+8/L6/JWDaqguWmpiYURWHGjBlER0djt9uZOXMm//jHPwgGgxiNRkwm06CZj0RRxGKxoNfrsVgsKIpCbW0tM2bMIDU1FZ1OR0VFBU888QTHjh0DYMOGDVgsFkpLS0lKSop8sKqqqvj1r3+NJEl0dHRECuYdDgeTJ08mOjqa1NTUyKWbq6++mqqqKu677z4SEhIoKysjJiZmyH6bGo1GczZ6g0h0/OlTe1vteqz2Tw9cBUHAZJHIKY0iuzgqUg4vnDK8QBAErFF6rFGnr9Ns0WG2jJqvhXFDVcMdImQZUEHUfdLKOBQ+eZF0IzyL3wA5BPt2wcv/C1ddA+WziMy13tEGVYfhqzed6Inc2gT//RBcfS3kTYSudlBUKLso/KHzemH9exDjhJkXj+y+jQBVVSMt5IYyEDyfuszJt6mqOigJFwgEhvw3MOhxbrf7jPedvPyp69AMbVQdFU0mU+TDNVBX3Nvbi8Fg+Ex1wAOD70wmE729vSiKElmfLMuRs7uysjK++tWv8rvf/Y7XX3+da6+9FpvNRklJCTfddBMmk4m2tjZ6e3ux2+3odDr0ev2gQXyKopCUlMTPf/5zXC4XGzdu5H/+539wOBzccsstwzoTkEaj0XwWkR7A2uFnVPH2hmjd76O90oeoF8i9xE7bQS8NO73E5hiZuCQKo3UUvGkBP8TEhrPKzz0BE0vAERWO8j/4R7jl28nlFTs+htZmmHVxuK3lwb3hjHJmdngZvR5qjkD+pJHdry9gxFv7jRHjYuDqZzBq2gsIgkBeXh4xMTE8++yz7N27l7Vr17JmzRrKysqIijrDfPSc+IKorq6mt7eX8vJyNmzYwLvvvsv+/ft55plnMBqNlJSUADBx4kSuuuoqrr/+ep5++mkOHjzIrFmzaGpqQhRFYmNj2bJlCzt37hw0yvRkXq+XJ554gqeffprk5GQuv/xy4uPj6enpOWPRvUaj0WguPAG3QuMOD7v/2kdXXYAj7/VxbKuH4/t9HH7Xha8nNNKbGGayQPoEWH491NfC1g/DWeWjVdDdAWUzBg/q83ogIwus9nDP5Y83Q1Ex1NZARzsEAlB5KLzMxnVQUzliu/Z5GY1G9HqtFOnTmEymczrL8WgxavZQEAQSExP56U9/yqOPPsrtt9+OKIosXLiQm2++GaPRSHp6OvHx8actGxUVxezZs/n73/9Oeno61157LS6Xi4cffhhZlklMTOSee+4hLS2NtLQ0jEYjVquVm2++mSNHjrBp0yZWrVpFS0sLv//97/H7/aSkpHDbbbcRExNDXl5eZEpSk8lEXl4eycnJLF++nN/97nfceuutiKJITk4OK1as0LLKGo1Go4mwJ+pxZhkQBHC3hHBmGJh2vZNNj7SH255/SveS82agZqdgElxyGfzfMzCpBD7aGC7JsNoGP37KdKithrqacEs5dx9k5UFnRzjorj4MemM4gN61A+o3QU7+iOza55WamorT6Rw0XbnmdBkZGWdNZo4XgjqK0qADpRddXV10dnai0+lISkqK9EDs6upCp9PhcDgG9TpWVRW32013dzc2m43o6Gi8Xi8tLS0EAgGcTiexsbGIokh3dzeCIBAdHe4P29nZiSzLxMXF4ff7aWlpwe/343Q6iYuLQ5Zluru7iY6Oxmg0EgwG6erqIioqCoPBQFtbG52dnYiiSGJiIjExMcPS1HwogX6ZjX9oA1HgkjsSEUO10PUQpzfrHWdsi8G2ZJz1WT4OHW+A4v70x2oGs5WBYw6M8Ax+rTxPFf83YtugOSGRSeRwz6iawe9kQa/Clj+1s+9dN1nlJubcGo+vT2bNg62kTTEz61tx6C0S3t4Q7/+mFUeynhnfih/Uj/qGzn6eD+hP1AufS6oaDoB/9G2YNS9cmrH6m2A0Di6AVxRoagRXLziiwyUYzY3gjAuXazz/VHjSkiXL4L9+BSXTYMac8G3DfeneAAGH+KmTknxWHo+Hu+++mz/96U+RAXSawRwOB7/97W+56aabxn0WftRkliGcXZYkKdJ38FRxcXFnXM5ut2O3n5h8w2q1kpOTc9pjY2NjB/188vPodLrTlhkI2AcYDIZBPycnJ0fa0Gg0Gv7L1wwAACAASURBVI1Gcypvn0xblR9rjEjxVQ4s8Tqa9noIehUSco2IxlGWCBAESM0ID/L728vw0KPh/smnEkVIyxh8W8wnExh5veG65eLJoCrhANxqgVMm3RitTCYTt912G319fbz99tt0dnYSCoUu+DJLQRAwGo0kJydz44038pWvfEUrw9BoNBqNRvPFqSr0Nfjpaw+RWWYmudQKMrRX+5H0AjETDBBSUUdZvIzeAF+5NpwJzsj6/MsbDHD1ynAWWaeHr307vE5H1Kjsv3yqgdLKX/3qVyxbtowDBw7Q19eHLMsjvWnDorOzk+eee44VK1aQnv7ZZlsMT3Wvx+l0MnXqVMrLyyMlquOdFixrNBqNRnOOqIpKyxE/qqySOcOKZBDw9gRprwxgiZJoP+Knvz3EhLn2T1/Z+RYbH/7zRUhSuHxjQHzi8GzTeSQIAk6nkyVLlnD55ZefNvPlWDYwr8Utt9zC7NmzP/NygiAgiiKSJF0QXTAGaMGyRqPRaDTniBJU6a71E53yySA/EZQgBH0K/n6FnuNBMmdah5w5WjPyBspDx9PAfVVVMRgMkUyxaagSG80gWrCs0Wg0Gs05Iuggf6EdUQJHogEQMEbrmPrVaPwuhYwKK7ZE/QWVpdNoxhotWNZoNBqN5hyRdCKZMweXWBhMIvmLxn+7LY1mvNAu/Gg0Go1Go9FoNGegBcsajUaj0Wg0Gs0ZaGUYmtFPUcLteoRzPwpZFEWtdlCj0Wg0Gk2EFixrRr13336Xd7eu41x37MnNzeVb3/qWNjJYo9FoNBpNhBYsa0a9PpeL48e9wLnJ+MqyzJEjR9i7dy8333yzFixrNBqNRqOJ0IJlzai3bNnVLLrmEs5Vib3f7+ehhx5i27Zt52T9Go1Go9Foxi4tWNaMegazGafNCcK5C5bNZvM5WbdGozkfxu44A1VVIfw/VEWNzBKnKCqCMiZmhtZoxj0tWNZoNJovwEwBqZSP9GZoADulCGP060xVoGW/h9aDfvwemZ7jIXy9Cnte6ERvlkgrsxAzwTjSm6nRXNDG5tHlAqIqKq7WIK7WICGvgrtLRhCheXc/JoOH2FjGclLlAqYHvRNkLaP9uYk2Rv5DL+KgDAfTRng7NGECI/+Z+IIEkAMqe/7aQ3/XJylmZJoPBYnL0pFZbtGyyxrNCNOC5TGg53iATf/dga9XIeAJt4ToqGkjMaOTK/+FMfsdcUHTOyFmCaCM9JaMPaIBBGlEN0EYy8GZZlQRBIgvMJFZZuHgmv7I7aIO8ubZsKUatHaWGs0I04Ll0U6A2GwjMWl6jtb7Ijd7exUs0SMbMGi+BEEHOttIb4VmHFFVFVmWCYVCAAiCgF6vR5ZlZFlGVVUkSUKv12vB1ygiCAIGm0TOPBt1u7z0t4dPoOMy9WTOtCJJ2nul0Yw0LVge5QRBwBylI/cSO00H/Ph6w5lla4xI7jy7ltzSaDQRVVVVPPnkk3R2drJo0SKuuOIK9uzZw3PPPYfNZmPRokUsXrwYSdJOtEcTURBInGQifYqJw2s9SHrImWPBkWrQRvhpNKOANt31GCCIAqlTLKSVGsOnNxKkTzOTOMmsBcsajSYiMzMTg8FAIBBgyZIlWCwWfD4fNpuNFStWsGjRIkRRHJSFVhTlpA4M4X/DiUy1omilQuecAHqLRP4iO5YYAWeGngmzbegMghYrazSjgJZZHgMEAUwOkYlXRtHeEUSvE8i/zI7B5oHukd46jUYzGgiCQCAQoLOzk8mTJxMKhXj77bfp6urixz/+McnJyYiiSDAYpLa2ltbWVlwuF0ajkZKSEurq6ujq6mLq1KkkJCQgyzLvv/8+2dnZZGdnj/TujXuCAPF5JnLmWIlK0ePQapU1mlFDyyyPEYIokFBoouhSG4WX2kgsNGuX5zQazSAej4e6ujrsdjuPPPIIb7zxBl/5yldISUlBEAS8Xi+vvfYaL774IjqdjujoaB5//HHWrVvHunXr+O1vf0tvby8ALpeLRx55hJqamhHeqwuDQLh2ueQrUeQusCPpteO7RjNaaMHyGCEIAgaLRHaFg5wZDnQm7a27UKmqisfjobe3l97eXrxeL4FAgL6+Pnp7e3G73ciyTDAYjNzW398fubx+6rr6+/vPeP/AY3w+H3V1dezduxev13uud1HzBaiqisvlorm5mbq6OlJTU2lsbGT79u2RMostW7bwzDPPsHjxYvLz8+nr68NgMJCenk5mZiYxMTEkJycD0NjYiKqqpKSkjPCeXSAEEEWB6AwjlhjdaVllk9EAknbc12hGglaGMYYIAkTF67U65QucLMt89NFHvPjii8TFxbF69WqsVitPPPEEjY2NrFy5kgULFtDT08NTTz1FV1cXy5cvp7y8HJ1u8K+81+vlySefxGq1snr1avR6/ZDP2dHRwX//939TXV3NY489NuSMh319fRw6dIjy8nJEUftSP99UVeXYsWPExsayatUqsrOzqays5IUXXmDKlCk4nU5eeeUVAA4fPkxDQwOCIHD77bdTWFjIRx99RGJiYuS9PXbsGEajMRI8a86PM5VeWCQJhKFPaDWaz0JRFPr7+wmFQrhcLhRFwe1209PTgyiKWK3WMw7+VVUVOaiiBMKzS+pMIoIgEPTKAOhMIpJeGLelQ1qwPIYIgnAiUD5DFlAz/kmSRGlpKY8//jhRUVGkpqZiNBrJycnh9ddf5yc/+QkGgwGn0wlARUUFU6ZMGfIgKIoiaWlpJCYmnjXATUxMJCMjg+bmZmy201veybLM5s2b8fl8QyytOV+OHDlCRkYGycnJmM1mbrzxRn7wgx/w9ttvc/3119Pc3ExxcTFXXHEFZrMZg8EAgM/no6mpiezsbARBQJZlqquriYmJISoqaoT3SgNwg05AbxPwj/SGjFJTRNB6vJxdf38/P//5z9m8eTMejwe3283tt9+Ow+GguLiY//zP/yQ2NnbIZWW/ytEPXRx8y0V/V4jyG6Lx9ysceteFz61Q8bUY8i6NGrfVoVqwrNGMMYIgYLPZmDhxIvX19ZH+uRA++x+oOW1sbESv17Nw4UIADh06xMGDB3G73RQWFlJUVERlZSWKopCTk4MoinR1dfHRRx/R2tpKQUEBHo+HhIQE8vPz6ezsJC0tjerqanbv3o2qqlx22WWYzWZee+01nnvuOebNm4fNZmPGjBl0dnaye/duent7iYmJoby8nISEBC3rfA4oikJPTw87d+7EYrEgiuGsz4QJE6ioqOCZZ54hPz+fBQsWsHbtWnbu3El6ejrV1dVIkkRZWRnBYBBVVens7OTAgQNs3ryZ6dOna+/XKDFTJzBzWL6x1ZP+H1DVyL8FGNaxMML5vgw6TgO14WKxWCgqKuLJJ5+MfE8cOXIEk8nEihUrsNvtZ1xW0AskFJjY+0ovclClvdKPoBPImG5m31suPF3KSR+q8UcLlscy0QC6NMb1JxRA1DJbp9LpdGRnZ7N582aCwSBdXV3s3r2b6OhoGhsbKSkpYevWrZSVlaEoCn/+858JBAJce+211NXV8eCDD/LjH/+YLVu2sHbtWoqLiwkEAvz6178mPj6epUuXcvToUR577DG+9a1vkZaWxrFjx3A4HDQ0NJCXl8cf/vAHZFnmxhtvZNKkSYRCIZYtW0Z2djbNzc3cc889fPvb3+aiiy7i+eef59ChQ9x2221YrdaRfvnGnUAgwNatW8nJycFoNFJbW0tUVBTNzc0kJSVx8cUXs2/fPq666iqSk5PZuHEjJpOJ8vJyKioqsFqtrFy5kvXr1/PXv/6V7OxsJEmiqKhopHdN84nhimEHLkpGViecu5B2vGYZxypRFLnssst46aWXWLNmTeT2kpISrr766tPK9AYvKyDpBPxehVBAJehVmbY6hmOb3YiSQFSKfly/31qwPFYJgC4RnN8c6S059wSLdtQ9hSRJpKSk0NfXh8fjYffu3Vx00UW0tbXR2NhIa2srra2tLFq0iFdeeYVNmzbxwAMPYLVaaWxsxGazkZycTHZ2NvHx8ZjNZl5++WXa2tq4++67iY+PRxAEjEYjaWlp9Pf309rayg033MAll1xCb28vZrM5UuPc1dVFbGwssbGxmEwmenp6OHToEIcOHSI7O5ubbroJr9eL0Wgc4VdufDKZTCxevJjFixcPur2goICCgoJBt2VkZLBixQogfJViYJBnbm4us2bNQhRFPvzwQxRFobS09Lztg+b8GK81pZpPJwgCqampXHfddWzdupW+vj7MZjPLly8nNzf3rFeRVFWlo8aPr1fBEi1SsNiB2amj7YgPc7RIVLpuXGf2tWB5zBJA0IMUN9IbohkBgiDgdDqxWq3s2rWLxsZGrrvuOjZu3EhDQwMbNmygoqICQRB46aWXKCoq4uDBg/T29mIwGLjvvvtISUnh5ZdfJjExEUEQ2LBhA1deeSUxMTEoikJ1dTV+v5/MzEza2tpQFIXMzExEUaS/v5+WlhZycnKAE7WyA1njvLw8br31VtavX8+rr75KRUUFt9xyizZz3ChwarCkqioHDx7k4Ycfjrz/O3fu5Lvf/S6pqalacKXRjCOSJHHZZZcxY8YM1qxZQ0lJCStWrDjj4G4AVFACKu2VPmRZpfByB/H5Jnx9Mm3VAWIzDVjjzrL8OKAFyxrNGOV0OnE4HLzzzjtcc801xMTEkJKSwqZNm0hPT6e4uBi32017ezulpaXMmjULu90emalNEASOHTtGbm4ukiThcrnIyspCFEX6+vrYtGkTUVFR2O12tm7dSnx8PA6HAwh3vvD5fDidThRFoaqqiqysLCwWC8FgkJ6eHlavXs3SpUvZsWMH999/PxMmTODmm28+66U+zfknCAKlpaXceeedkez/zTff/KmDPjUazdgjCALJycmsXr2a7du3s2rVKiZMmHDWk2IVCHhk2qsCOOJ1pE+3IOoEuqr9+N0KsdkGehuDRKWDyT4+j+/jc680mgvAQKeCYDDI1KlTEUWRjIwM3G43U6dOxWq1IggCCxYsYMuWLeTk5GAwGGhsbCQvL4/CwkI8Hg8ej4fq6mqys7M5cOAA6enp7Nmzh5qaGkpLSxFFkaqqKlJTUyMDQHw+H6qqUldXF6mZnjBhAseOHaOjo4M//vGPLFiwgKVLlzJhwgSysrLIy8vTgq9RSBAETCYTxcXFI70pGo3mPJAkiYULF/Kd73yHK6+8MtIV58xUPN0yHcf8ZEyx4EjSocrQ3RBAVaGvOcSxLW5KU2LOy/aPBOkXv/jFL0Z6IzSakSTLMhs3bqSuro4bbrhhzNTV6nQ6DAYDs2fPjtSbGY1GsrKymDt3LkajEb1eT2lpKYFAgMrKSjweTyRQNplMWCwW2tvbycrKYt68eTQ1NdHW1kZCQgJHjhxh7ty5FBUV0dPTQ1FREbm5uUC4RjYQCOD3+8nOziYlJYXW1lZUVaWgoIDi4mKam5uprq6mp6eHJUuWUFZWpmWVNRqNZoQJgoDZbKasrIzExMTPVB7XU+unYbeXiVfYicsN92LvbfDTXh3AaBOZtDQKe/L4naJdUM80bZdGc4Hw+/3cd999fPDBB7zxxhtnbZ8z2siyjCAIkT+KoqAoCpIkRQ5aqqoiy3Kk9EKn00UGdimKQigUoqqqimAwyMSJEwHYunUrf/7zn/nlL39JVlZW5HlOblEXCoWAcNA+8LMoipHHhEIhVFUd9JwajUajObuTw7Jzddz8PM8xMCFJyKegM4tIuvDjZb+Kqy2IOVrCaJPCQ6nOVs5xHvbrXNHSPOOYLMv4/Sda2BsMhkFBlGbsOzUjIIriaaUOA8HqqQaCX0EQ2LVrFxs2bGD16tWEQiHWr1/PN77xDTIyMoZcXhCEQQNCBEE47VLeWQeMaDQajeY0qqIS6JdRFTDYpXPWCOrzxAGCIKAzCOgMg79bdCaBmIzPfiVWVSHglkEd2DdhzDS60oLlcay/v5+//vWvHDp0iMLCQpYuXRqZ1W24qapKe3s7fr+f1NRUrTZ1DBEEgWuuuYbJkyfT1taGxWLhhz/8IU6nU+teodFoNOeYqoa/Q/0umdb9Xo5t6SepyETepVEwnr5KVTi+00PdR/1MqLCSNNmCKUpCEEd/plkLlscxi8UCwMcff8ySJUsinQyG28Bl/s2bNxMfH09qauo5eR7NuTFQv6b11NVoNJrzS5FV/G6Zjkofh9/ro3GvD79bJTrt0wbdjU2BfoWqTR5qt3lJnWSk8AoHCRNNmBw6RGn0BsxasDyOSZKEx+MhLi6OkpISWlpaqK+vJzExEQhPf2wymZg5cyYGg4Hq6mo6OjooLCzk6NGjtLe3U1JSQnp6Ok1NTdTW1pKVlUVqaiqqqlJZWYkoisTGxrJmzRpefPFFrrjiCqxWK4WFhXR2dnLo0CG8Xi/x8fEUFxdHOjRoNBqNRnOhUlWVkFfh+C4Pletc1O30EnCH7xMkaK/2UbO+F0E3fr4vFQVaD/tQQuDzqdRs9lG/y0faZBP5C+1klFvRW8VRGSNowfI4FgqFaGhoIDExEbPZzPr16/mv//ovKioqmDt3LmazmSeffJL+/n4uueQSXnvtNd59911uuOEGUlNTcblcPPDAA9x9993s3LmTX/3qV9x7772kpqbi8/l46qmnKCoq4pprrsFgMBAKhSgrKyM9PZ3a2loeeeQRVqxYQXp6Oi+88AIHDx5k9erVn6FNjUaj0Wg045eqQHuVj/1v9NK4z4/sP+k+GRr3+uisCyGMszIMb18IJXTipqAX6nb4CPQr6K0iadOsSKMwMh2Fm6QZLn19fbS0tDB58mR0Oh0TJ07EYDBw2WWXMXfuXLq7uzEajQSDQWw2G0VFRbz88stkZ2ezaNEi2traeOutt9i/fz/Tpk3DbDYTFRWFIAj4fD6OHDnCwoULMZlMuFwu0tLSyMvLw+Fw8MEHH7Bv3z4uu+wypk+fzve+9z36+/u1GliNRqPRXPAEERKKzMz6jkTd5n5qNvbTfiyIEgRRBwWX2Mi/zI44jjLLqgy1m1xsf6EPOQCiBM4MHdmzrWTNthGdaUAcpSGCFiyPY729vbS2tpKfn48gCPT09CAIAvn5+YiiSFdXF11dXWRlZREKhTh27BhFRUVcdNFFkSmNPR4PkiRRX19PVFQUsbGxALjdbvr7+4mPj0cQBKqrq0lKSsJutyMIAhUVFUyfPp3HHnuMv/zlLyxevJhly5ZpwbJGo9FoLniCIKDTC8RkGnGkGMmcZaN2Yx/VH3hxdQSxxOiIyTAh6cdPsKzIKm2HfOhNEJUkkT3LSu58G9HpRkSDOKo7Y2jB8jilqird3d2RYFhVVRobG4mPj8dkMgHQ1dWF3+8nJSUl0mu3oqICq9WKoigcPHiQYDBIUVERa9euxel0Ehsbi6qqVFdX43A4cDqd+P1+mpqamDNnDqIoEgwGsVgs3HfffRw9epS3336bRx99lOjoaL7yla+M8Cuj0Wg0Gs3oIAgCkh5iMg1EZ8SRe4mfuq1e7Ik6GMXB4xdlT9Qx7boYMi+yEJ1hjJSZjOZAGbRgedzy+Xzs3bsXCA/0GwiGJ0yYEAmWPR4PiqLQ1tZGMBikrq6OyZMn09XVRUtLC3/7299YtWoViYmJtLe3RwLwmpoa1q1bhyzLdHZ20tfXR39/P2azmdbWVqqrq3n22We56aabmDJlCvPnz2fXrl3ExcWN5Eui0Wg0Gs2oEw4Uwz2HHalGiq4yIqiM2pKEL0oQIanUSlKpFUkPA/s8FmjB8jikqio1NTUcP36c8vJyjh07RlpaGgkJCWRkZESmc87OzqasrIw9e/aQnZ2NoijIssy7775LZ2cny5YtY8GCBeh0Oi6++GI6Ojr4+9//TmZmJldddRWyLLN3717Ky8tZtGgR9fX17Nixg7y8PK688kp27txJc3MzwWCQb3/721x00UUj/MpoNBqNRjNyVBX6VWg74yOEE5GZ+smfceOUfTv575OYgEQBRlMnOW2663FIVVX8fj+BQAAIZ5bNZjM+nw+dToder49Mjdzf348oimzcuJGnn36aBx54gOjoaARBwGq1IorhNi6yLON2uyO3C8L/Z+/O4+s663vff9Zae9Y8z5Zs2fIYx8ZTnMSZHDKYIaSBhiSklA6U0oHby7n00tPbclpob0vpaYFS2tDTEsqhlATKkMSExBnsJLbjOIPjSR4k2ZZlzbO0p7We88eS5EmyHUe2JPv7fr021l577bWevRWkr377t57HYmBgAMdxiMViJBIJ4vE4oVCIaDSK53kMDw+TSqXGtk3XhUpm8nLXIiIyc3gG/iVp+OSAoteEgtCVaZM3jSKDKstXIMuyiEQiY+0Wo0YXKRll2zYZGRm0t7ezefNmEokEQ0NDVFZWnnUhnuM45OTknLbt1EVOzjyf4zhkZmZO1ksSERGZcYxnMPitFqPzB/cawJvSYU1vZvoV1BWWr3LGGPr7+7nxxhtZu3bttK3+ioiIzCTGQO/xJOlhQ35teMb058rZFJavcrZtU1tbS21t7VQPRURE5IpgDLgJj/qn++htTrHu94sJZytyzVQqI17lLMsa9yYiIiIXyRi6mxIcfnmIo2/FaX5jCM+bbs0FcqEUlkVEREQmkZs2HHqxn65jaYZ7DAee7SfR52KmXTeuXAiFZREREZFJYgz0HE1wcPMgJg0YOPJGnNbdwxhd2DcjKSyLiIiITAJjIDXscnBTP/3tJ5Nxagj2/6KP4Z70FI5OLpbCsoiIiMikMPSfSHFkRxzLBssBLHBC0HYgSfveOEa9yzOOLs0UERERmSShqMPS+3LANRx4YYC+lhTv+eU87IBFRnFwqocnF0FhWUROc+aanpocRUTkwmWWBqgrzsbzDF1N/jzLc2/PxglY/gIlKVWWZxqFZREREZFJMDr16mj7hTVys20L27E42YGhwDyTKCyLyMRUVRYRmT7GPvozjKXxqRiDMSf/ErgK6AI/ETmNdUo15Or4MSgiMgMYA+k07HgFdm7zvz7V0CAMD528H4/D4MDZvXUXc97uTvBGZvfo7Ybnn/a3XSUUlkVEriBm9GYmupkpuI2ce6rfHJGZzABNh+BrfwX/9Pcng7Ex4Lqw42U4uNe/73mw6zXYtfNkyL2ocxo/hP/Xf54M50cb4JknoKv9Xb+kmUJtGCIiM5A5V7Vomn80OtHYrWk+bpEplRiG534O190ITz8Bg/2QneOH5r274JknYcO90N4KPd3wxI/gunXQ0wW5+f4xentgaABsG/IL/X/7+/xQnJnlV4tTSSgohlgGtLXApp9D+wn/65w8yC+Cj/8WVNf6x4zH/eCcTkNWtr9POg39vSeP29UJ6aT/3IzMaf8z6kwKyyIiM5jrGVzXwx0JoKGAg+NM319Exhg8zyPt+m0+lm3h2NZM+90pcnl5Hrz9OtgO3HgrbHkeGg9BWSUM9METj0PjYejrg6ON8PYb8OZrsGQZnDgGjgNbt/hhOL/QP1ZZBSxfBd9/1K8e33Y3JBLw2stQWQOf+DQc3A//9X1YfT00HfaP81/fhznzoHaBH6Cf+BEEAhDNgIZ6uPODkJML//ZNP4i/9/2QiPvHLZ8Fv/Y7EAxN8Rv6zigsi4jMQJZlYYzBtsAFEkmXtOtB1CLm2OdoOJ/aVGqARNojkXQJBR3CjjPVQxKZ/gb64eUX4bY7oLQC8vLgwH5YezMUlkBuAcybD7fdBY4NrSegshpuucOvPn//23BgL/zmZ6CwGJqbYOd2uP6Wk1XexddCUTH0dsFrWwEDs+dCMAi33QnXroKOVr+SHApDfBj+1zcgGoWPfwoiUfjXb8APvgO//3n/mK4Li66B4lK/qr3jZX/bDJtuWj3LIiIzlGVZWJZFKOiQkxEmLytCODj9f6yHAg5ZsRDRUMCvKmOpBUNkIsbAKy/AsSY4dABefgGGhuDwfj94ppLQcgwqqv3KrzHQeBAKiyA71+9j/uljfshuOgw/e9y/8O+jv+pXgPt64bqb/Eqz7fhtG2XlgOVXhlNJyCv0Q7UxfvtHbR3s3+1XsG++3W+9CAYhrwCONvnHj8dh5Voor/Iryd0dUFA046rKoMqyiMiMNjavqwX2DCjRWpZFYBq3iYhMK8b4Qfj17fAbv+uHVmPgSCPsfQv6eiCZ8HuUq2v9HwRpF44dgZo5EAhCQwPRnh6G5y+GqmqYO9/vG87I8nuRW1ugerbfvzw04IfdVdf7xzp6xA/AmZn+eAb6/XBdXglvv+m3X1TN9vd1PTi4D0rL/f7qjlaonec/NjwEJ47D/MUzrl8ZVFkWERERmX6M8Xt9N/4YKmbBnDq/naGoxP+6swOOH/X7kAcH/GpwMumH2b4eKCkHNwXRGMOxGGRmQGmlX21uafYvyuvr8avTefl+iI3H/fBcXuFfpHfkkN+aEQxBKuVPG+cE/JCcneP/O9Dv79twAA4f8HuU02no7/erypblV6N7u6G4zD/Ou5mhYwqosiwiIiIy3QwPweZN/m31Df79YMifZaK5EbDg1Vf82TGKSvy5l5saYMEiv7rbcAA2PQ2lpXD3h+D734HtrwAGZs2B9XdD9wGoW+AHaMuCcBjmzIWXnvePn5MHQ8P+BYX5+ZCbBxkZ8OxGWLjEr0Bv/LFf1d77JnzkYbjhFti3y69WZ2aNHDfqB+fXXoHsbP95ofAUvrnvjGXOOf+QyJUvkUjwpS99iRdffJGf/vSnZGVlTfWQRERkhvM8w7ZH2mndm+ADX67ECfrLXf9twvD/9F9A9EqMVHnTKbBsPwBHY34Vua3Frzzbjt+L3N3hT89WXukH3J4uv32joMiv5rquX4Ue7PeDdUGRf8z+Xr//ubDYrxIbA53tfrW6qgaw/Oqy7cCsGrAD0HwEMH6PtPHg+DH/uCXlfsvGaCW5vw+KSv3jAnS0+cetrPZfx0RC0Jllkz+Neh9UWRYRERGZbsIRmDX77O0ZmTB73unbyir926j8Qv82yrahes7ZWRJNSwAAIABJREFUx8rO9W+jLMsPzoXFJ7fVLT79OWceZ7zjZmb7t1OdedwZZBrldhERERGR6UVhWURERERkAgrLIiIiIiITUFgWEREREZmALvATERERmQmM8ecoTqf9+47j30YX+jDGn8fYGP+ivkDg3S8CMnpMx/bnWL4KXZ2vWmSqaKbGyTEDV4ASEZkUHW3wi59Bdxesvt5fUtoZmfatvRV+8p/+tHCrrodFS09O3TYe1/WnocvJg1jG+PsMDvjHXHItLF15aV7TNKewLHK5DQ5CX/9Uj2LmsSzIy/UnzRcRuVplZsPRRpzNm3D7euDalX5YTqXgqf8i+p/fYfim9f68zPY5um2N8edj3rwJ1m+YOCynU/7y2QuWXJrXMwMoLItcbm3tsK9+qkcx8wQCsGwpFCksi8hVyrIgEoZgCHfNDXCk0Q/J4Qgc3g99vcRDYVh1AxQW+c/pbIeD+wDjr7TX1enP39xyDJ78kX+MmjkwXAmJBFhAIAjNR6FmLgwPwp3vh/lL/FUEjx/xVxKsrPGP2dTgL0Ky6Npzh/MZTGFZ5HIb7TmTd2a6v2eJPjj2NMQ7p3okYjkw50MQKTz/viIXyBhDasilvzXNUEeKQMyhYHaInqMp+k+kyK4Mkl8Txglc4sDY3+f3KS9cCq/vgGQChh144zWomo0JBqGkBAzw5qvw2L/7+1ZWw79/C440wB/+mb+4yVs74Zrl/up7XZ3wT/8T0i7MnQ97d8EvPegvfT08CH/5D36bx7f+wa82/8lfQ/1u/5h1i2DBNQrLIiJyDulBaN4CfU1TPRKxAlC5XmFZJl13U4o3ftDNsbfizFsXo3tumEObB2mtT1C1LMq6zxQTy73EgbG7E7Ky/TYLy/J7mONDgAWhIOTkQm6BXzl+5Kuw9ib4yMN+wD5yGE4ch8wsv185EIDFy/xV+FIpf3skBr/xe/7+wRA0HvSX3XYcqJgFH7gPvv5leG4jDMfh//7/oLjUf/wKdWX+CSAiMiU8MLpN+Q1dSCuXgkXBnDAFNSGSQ4bkoEdnY5LF78shI88hFfcu/UXcxkBXB2TlQHGJH253vwU7tsG62+BoI+QXQF4+vL7d3/e974NIBDCwf48fbDOy4EQzJJNQPbKkdjoFPT2wbBXk5vvLYLuuX02unT8yG4YDi5f7x3v2KbjxFr9iHY5c0RdeKyyLiIiInIdljVwT15wEIN5vWHh3DlklAYb7PfJmhQjHLnF11Rjo7PSrx4UlkJEBG38MVdVQUOS3WBQW+9Xh1hYorfBnujDGryo3HITyKj/0trT420vK/WO3nYBUEmpmnwy+Q4N+73JtnT/DRtqFg3v8Hueuziu27eJMV8erFBEREXkXjIHBjhSdTSlCMYvF788mb1aI9gNxUnFD2ZIIVvASVlc940/jdrgeojHIyvWDcDgCy1f5U8AdP+a3YNi2H4LdlD/jRcsxeOkFGOj3Hzt+1G/fCIf9inJXBzQf8a8NqZh18pyJOPT2+u0ae96Cnz4Ge3fDfQ/5gfuZp6D1uF+hvoKnRlXPsoiIiMj5GEPP0SSDXS41KyOULY1iXDixO0FGnk3urNCl7QBKp/zA2tLsB2LPhetvhqISv5L8wjN++0QyAb1dfq9yyzF46sd+S8U1y/3we2AvFBRCdY3fkvHCM1BW7ofda1dCTv7Jc2bnwNp18Mpm6O2EcBQe/k0orYT7f9XvW45l+K0eweAlfPFTS2FZRERE5Dxc19BxIIHxoPq6TEIZDgNtKbqakuTPCtHTlCQ9ZCheGL00Awg4/lzHc+f7LRGhENzxgZMh9ba74NY7Acu/ADAYhIc/6VeTIxG/v3nBYn+u/5xc/xh1i/xqck4euGlY+h7/uKOycuGTn4F43L8fHjmOZcHtd8PqtRDN8CvdV3DPssKyiIiIyHmkhzxaDySI5TqULI5i2RbD3WmG+1zsgEXTtiGW3pd76QZgO37IPVU0dvLr/HFmf4nGTt8nmuHfxntOMAiRM4K+bfmLoGRmn33sYAgKii98/DOYwrKIiIjI+VhQODtE5bVRYnn+hXyx/ACzlkdx07D4A9l+K4ZccRSWRURERM4jlOnwngcLwAY7YGFZkFEUZM1vFPpTHGc6V3InwlVNYVlERETkPGzbwo6enoZtxyKSoyh1pdPUcSIiIiIiE1BYFhEREblSGeMvLtLe6s98MSqV8refti3p7+emL/84pzGFZREREZErkTH+oiQ//N/+QiTeyETQqRQ8+yT8zZ/5K/eNSqXg6Z/68zmfGqKvcgrLIiJy6ZlTbiJyeaTT8PQTfgW5brE/V7Mx0HIUNv0cdm6DQ/tP7j+6MuAzT/mLngigsCwiIpeBO5Di9b2dJPuTUz0UkauDMdDXC688D8tW+AuTgF89fuEZuPl2KCyChoMnl6q2LLDwq836w3aMwrKIiFw8w8lftGP3z94tbQzPvt1Ba2/ico1MRNqO+8tfl8/yg7AxsG8X9PfBuvVQXgFHG/1eZfBbL3q7ITNzSoc93Wi+E5GZzJiTS4ye+vVUjGP0/BcyhtH94cKfczVKe/4N/JW0grb/XnkGkiMfkQZs/3axEi79gyk/3xo/5zo2hII2oXDAP+foWFzjj8Mb+Tfgf93RMUxhQdR/YsqlqydBfkEUnJF9Ux7xlEvaNZTlRd7FGyIiF8wY2LsbCov9lfqM8Ze+fv5pWLoC0imoqIZdb/gV6MJiSCbhxHEoKff/Py6AwrLIzON5tLe38WZTE4sqKykvKQVj2H34EK4xLJ1T6y9berkYQ0d7G/ubm7lhwUKIRs//nFSK7fv3UZKbS3Vl1aUf4wzV2RXnsa0tdPQn+KXV5SyszfE/Ik15/O/Nx4inPDYsL6a07OKrQK1dw3zvpeP0D6dJuoa8jADxlEdbT5Lblxayfkkh0ewQB4/08/KBbuaVZuB6hmTK47blxWBbnOhJcLB1mDW1OWw/2EM07JBfFAXPsOtANz2DKdr6kgQdi0AscPofSiJy6TQcgOIyvxfZGNi10w/DmTnQdBg626D5CPT1QEERDA/CsSOw5kaw1HwwSu+EyAw0nEzy9Y1P0dbb6wcO12X/8eOk0lMz3U9Xfz/P792D53mnV43B/1jPnPG5vGWxaffbdPT1Xd6BzjAFBVEyIg71LYMsrMg4WemxoDArzE0LCigtzhj/yQZIG7yBFMM9CYZ7EngDqbO+FyWlmdy7upRVtbmsnpfLr906i8/fM5c1dblEgjZb9nVB0iUj6nC8K05uLEhlfoSDrYPgeuBYLJmTi+d5fOPpRjxg6dxcsCyaWwbZ+EYba+bmkUi5LJ+dA57hrf3d9HfFL+l7J3LVMx50dUJJmX+/qx1e+AV84tPwa5+GX/ktePDXCcSHoKNtpPLc5wfn8ir9MXsKVZZFppLrkhwawvU8Ao5DMBYD1yU+NIQBoqGQf1GG65IY2RaJRqnKL6CqoIBIMAiWRWtPN0urq5lbXQP2u/sbeKCri9ebGvE8D2PMyMfyNiU5OcyvqIRw+GTvWypFa3cXnQMDlGXnYEciNB9vJj8zi2h2NqTTHD7ezJzSMgiFwBgGe3vpjQ/jeR5ziksm4U28gjkWlXkRhhKeX1EGMIbm9mGqCiLMrcke/6NSYxjuSfLivk7a+pLEUy6egTmFUd67ugycU/a1wDrll6JtW1gRh6BjMbs4xu6jA2AgPxakbyjFwspMNu/pJDcjiHENljHgGVzPkBkJ4LreWB/zmw29FGaHCUUcDrcOcdPCAkh5HO+M4zgWi7PDfguJfieLTL5Uyu9Xzi3w+5B/+D3o6fbbLcD/GZ5M4DoBePVlWLwMDtRDUal/4Z/C8hhVlkWmUirFj1/dzif+4Wu8vH8fpNMMDAzwFz96nP/3u9+hsb0NPI/40BDffPrnfPv554gPD2M5DjmxGJ39/ZjhYVq6u5lbVv6ugzJAMBCgraeHgydOsKPhMCnXpWdggEdfeJ5/2/QsHa2tYAypwUF++PJLDMbjPL9nN3Xl/vmjwRCb3t5Fd0cHO+r309nXB44/XdHbBw+w9eABDp04QSqdJicaBdf1pzc6s/osABTlhOkbTpNM+e+PGUpztH2IhVVZE/YUugNpfvRqCwVZIR68sYLf3DCH3/pALe9dW+73EU/A9Qy9Qyna24fp7E+x+1g/mREHQjaNHcPMLolBwOZEX4LcaIDOgSS48MahHnJiQT5+axWxiMOr+7oAyIwGKM0Nc7R1iKGEy0A8TXtvgsPtQ3ie4cVd7eiSe5FLJBCEklJ/gZH6Pf6nfHMX+IuOACTicOwY5vYNEInBkQbY+Qrceidk5Uzt2KcZVZZFplI4zKKqKv71+edYOqsagkEys7MJB4PYtk1NeQXYNpFIhGtralg5p5ZIVhak02RnZHCit5eDrSeoLij0K77nYgy4Lh0dHXQPDWKArGiUspLS00J2OCuLa2tqaOroIKO3l5sXLiLkOKQ9j8qCArbU7+dD+fn8+NXt2JbFnJJSEqkUS2ZVA5BfVMSydIqvbnySNXPncdfqNeA4JPr6+N6Wzfy3D9zD4bZWaoqKsSMR6o80AVA3e875x2+M3+pxmSoeZpwAP7rtzMecVAr7EgT+wuwgjmPR1pegMhbgzSN9zK/IhLAz/hOM4a2jveRnBlm5sOBk1dYzJ7+e4P3rH0rzT79owrIsWrrjPHhDBbctLQTbpiAzyD2rSsGxWLcgn+6BFIV5EbCgtjSDrFz/E4f3zMunrz8JHty0MJ+9xwcB+OXry8mJBQkGbLJjQWIhh4bWYUgbCE7y99PzONbYxFAkNbnHlbOEQiGqqqpwnAn+e5SpY9tw1z1QvxduuBmWrRrZPvK9ikRg3a1w4y1+weKt12DuQn+WjEkovFxJFJZFppJlkRkOY3Myxwz399M3PMxQMulXZIGm1hMsKK8gMy/PDzq2TUVOLruONDGvrIy8/PxzB8iRiwJ/tmMHGZEIRdnZOLaN67qUFZ8d8E79WN6yLKxAgEgoRMbIPJ2JeJw9x47yy2uvp6OvF2MMkVDIrxJ7Hi1dXayeO49kKsVgXx8ZOTk0dbTjGkNebi6Hdr1FSW4upFIcaGmhqrAQhof9H94T/ZBOJPjh449zcKDfbw8Z5wacdd8bWYXqXPud6/mnHufUgHzmPtV5Dv/Xqr5J/6FamBUmGrQ50jFMLOxgPMjLj078/TbwRmMfnQMpeoaPnvZQWW6Ym5cVn96GcYrMaIDVtbl0D6WoK89k8axMiPivqLDkZG90aVkmpac8Lyv/lBkugjbZo/djQRbOzQVg9DLOY80DrJyTQzzlUZYX9vueg5P8izmV4vN/9EfUt2tRhUsplUpRU1PDd77zHTIyJuidl6lj27BwKVTV+JXjMy/8tmwIhvyvnQDMXwzvWXNym4xRWBYZ0dHRwVNPPUX0QmZzuACRSITc3Fyys7PJzs4mFosRjUQ488dQKBjE9TxSnh80j3R2UFtSypZ9e8EY3KEh+oeHqa6uOfkk26a8oIDXmxpZUll13irAcH8/j2/bxvtXrKCyuOTk/ueZts31PDr6++js72fHoYOc6OlhUUUF4ViMhRWVdA8M0NjeTigQ4EhHO3VVszjQfAzbtrl79Rq6OzvZsm8vdy5bTkl2DhW5edQfPUJzRwdefj7DiQTHOjvJjEZ58vWdbHjPyMT544zJJJM89eSTvFC//4we25OvfXT76L9nPnbmHwETbT/zOGduG+/xwYosUsvyCUzyRCRONEB2NMC+4wOkXcNNiwrO2UoBUJIdpqY4xuo5uadtjwSdczbfBRyL6+blsf1AN0Hb4tldnTyYHYZoYNKq+ZVlI6Fq9O+OS1HAchzu+/B9dLq5599XLornefziF79g//79Y3+QyjTkOJCTd2H75RVc+vHMUArLIkBWVhYDAwP8+Z//+WnB6WLZtk1xcTELFy5kwYIFzJs3j6qqKspKS88Ky2EngAGS6TQ93d04ts3c0lKe3fUWpFIc6eygPDfPv0BudGyWxdp5dSyrrsGOxc4bZF7av4+5paX+cVKnfDTtOP5xJ9A/PMzf/vQnhINB0p7HuoULmVdZBYEA9625jsF4HMdxWDFnDkXZORAIMLe4BCscBschr6iI22N+RSMnP59fueVWHMviN9bfjmcMKdelMDubkuxs6gcGiKdSRCLjz8NrZWTwhT/9U3pjZ1dVzwyvZ26/0K/PdbzzfR1NdRI9+i8wMDjBu3mRbIuSnDAv7evmrmVFEDnPx90WLJ+Tw9NvtXPj/HyCmcHzfOpgGE56pD2D6/rV8psWFvDEzlYKM4P89PU2PvCeEj8wT9LrueQCAT70S78E2bMv/bmuUq7r0tPTw/79+8+/s8gMp7AsV71gMMhDDz3E+vXrJ/W4gUCAWCzmV5SjUUKhEKFQCOg8bb9QIEA4GORETw+hQIBrZlXTH4+Tcl2OdrQzEI8zu2rWWYEnkp1NBC6o4rf32DFsy6Ktt/e0oFddWMj11ywda/c4U04sxkdvuJE9x475bRbGQMD/sWFnZJA1EtRjpyyIYp36caxl4ZyyElROQcFpF/IN9vSwYs4ccqIxBuJxIoFz/EhyHCqqq6koKpyeV2kPhuD4penbXFCRyZwSj/LijPO/dsuirCSDBRXDfHdLM1X5EQqzQ9i2RV5GkMryzNMCa2fHMK/UdzGUcEl5Bnev4b41ZSysyGTf8QH2Ng9SGAuydnnxJXltIiLTncKyXPVs26a8vJzy8vJLf7JxLgALBQJkhMPsOXqU2665BsJhcmIx4skkuxobuX3pteMHpHcQGOcUFxMKBlk7r+60sBwKBs/ZwmFZFourZjGUTNI/PMzL+/dTnpdPRl7e6WN4J+H1lH0zcnPJyMkBy2JlQYFW85vAr6yr9K/JcS6wZ8GxWLOokLrSDI52xunsT2IM2JZF5Rm7FmSHuG9N6dh/mrZtQcjh2ro85pZkcPcyQ0ZIF2+JyNVLYVlkioWCQWLhMF0DA1SMzEyRO1JpzcvMJJRxAdXE87hxwUK+99IWVtfOJecCLgaMp1IYY7Asi7Trct28Oh7f+go1xcX8ZMerfHjt9QQnYVynhWOF5AnZmRfRCO1Y5BXGyCuMnj4725nvcyRAVmS8XwUWGflamlpERGFZZKoFAty0YCHrr712rB0iLzOTe9esYW3d/EmZwicnP587ly3jey9tobqoiLL8fIKOQ25GBhWlZacFqGMnWvjJjldJptMkUyn6hob4lZtv4bq6Op56/XUaO9rJz8riztVrFHCnO2vkf/RtEhG5aArLIlMtEOBX1t/uB+XRvt9olD94/wfPP3fyhbJtZs+q5lPFJew93uwvZmIMzuhKfKeoLCvn8x+5/+SGkanqZmdl8enKKn9/tUuIiJzFGENq0GW4x8XzIN7vkUoYepsTOAGLQKaDCWsO45lGYVlkqlnW2TNSWJY/hdpknycaZWHt3HPvZ9sTV7O18ICIyDn1Hk/x0j91kOgzDHSlScUNT3+xlWDEZul9ObAm8/wHkWlFf96IiIiITJKMoiCxHIeOphTxXoObgM7GNJ5ryKsJYSl5zTj6lomIiIhMAsuyiGQ71N2eRST7lPnYAzDv1kyyK0LoIoKZR2FZREREZJJYtkXZ0igVS8JjubiwOkjN2gycgILyTKSwLCIiIjJJLAuCMYf5t2cTy7MIRKDulgwyioOTskKsXH66wE9ERERkElkWlF4TpXJphJ7mNDU3ZhIIWZy9LJXMBArLIiIiIpPIsizCWQ4L7s4m0e2SVeZXlcdZxFVmAIVlERERkUlmWRblS2L+UvOO2i9mMoVlERERkUlmWeCMswBJCKbPhBieB/E4BAIQDGqxqQkoLIuIiIhcBhZwT8giJ3uqR+Jr6+zmc3/557z/9tu4d8P7cZypn/eh3ILMaZbZFZZFRERELgPLgmoLPh6aHmmw2Uvyg9e2cseiefxKEAKa2m5cU/8nhIiIiIjINKWwLCIiIiIyAYVlEREREZEJKCyLiIiIiExAYVlEREREZAIKyyIiIiIiE1BYFhERERGZgOZZFhGZNDZYqkFMOa1CJiKTSGFZRGQyhLJh3kcg2T/VIxHbhkjhVI/iqmGMwRgz1cOQi6Dv3YVRWBYRmQyBGJReD+gXz/Sg6vLlcOLECb74xS8SDoeneihyEfr6+mhubp7qYUx7CssiIpNh7KN/hTS5OpSWljJr1iyee+65qR6KXKRUKkVfX99UD2PaU1gWudyCQcjOmupRzDyO499EZMrZts1DDz3EAw88MNVDkXehubmZD3/4w1M9jGlPYVnkcisrhSL1U75jluX/oSEiU86yLCzLwrZ1QetMFggEsHRB7HkpLItcTqOB7zKGvgu5eGO8H5YXc9GHfuiKiMiVRmFZ5Ap3sQFWwVdERESLkoiIiIiITEiVZRGRGc4Yw/DwMPF4HADHccjOzsYYw9DQEMlkEoBoNEokEjntUwNjDKlUipaWFvr6+pg9ezaZmZlT8jpERKYjhWURkRnO8zwOHTrEv/zLv5BKpbj33nu59dZbcV2XN954g+9973tUV1dz//33M2vWrLOe39vby7e+9S327dvH3/zN3ygsi4icQm0YInLBqzi5rktHRwfd3d1a9WkasW2buXPnkpWVRUdHB/Pnz8e2bYLBIJWVlQSDQTZs2EB5efm4z8/Pz2fWrFkEAgGKioou8+hFRKY3VZZFZqjm5mZ+8IMf0NnZyeLFi7n77rvZtGkTO3fupKCggA9+8INUVFTwzDPPsGPHDioqKrjnnnvOCkPGGBoaGnj88cd56KGHJgxUqVSKxx57jCeeeIL777+fDRs24Jwx7/HosUpKSsjIyLhkr11OZ1kW4XCYVatWsWPHDtLpNJZlkUqlePXVV9mwYQPz5s2jsbGR7du343kedXV1tLa2smrVKoqLi+nq6qK8vBzLsnj11VdpaGjgtttuo6CggKGhIbZs2UJdXR01NTW4rsuJEyd4++23aWtrIzs7m3Xr1pGfn68LQ0XkiqPKssgMVVxcTGZmJi+++CJVVVVkZmayePFinnvuOZLJJCUlJYRCIUpLS2lra+OGG24gLy9v3GP19/czNDR0zqATCARYvnw5J06cICsra9x9BwYGeOGFF7Qi1BSwLIt58+bR09NDV1cXxhiOHj1KW1sby5cvZ/PmzXzxi18kGAyyfPlytmzZwj//8z/T39/P4OAgzc3NzJs3j3Q6zbZt2/j7v/97hoaGAGhvb+eRRx6hq6sL13V59tln+frXv05+fj633norGzdu5LHHHiOVSk3xuyAiMvkUlkVmqNHwCn5F13Ec8vLyyM7OZmhoCMdxcF2XhoYG7rrrLubNm0cikaChoYGtW7fy9ttvMzg4yNDQEFlZWTz00EOUlJSQTqdpa2tj27ZtvPXWW7S0tFBfX4/ruti2jWVZZGdnc+jQIbZs2cKxY8fwPI+jR4/yrW99i23bttHS0kJPTw+pVIojR46wY8cOduzYQWtrK+l0eorfuStXXl4epaWlNDQ0kEgk2Lx5MytXriQej/MP//AP3HTTTdx7770sXryYsrIyotEopaWl9PX10dLSQl1dHbFYjHnz5lFSUkI0GgWgq6uL3t5eiouL2bVrF//4j//IddddR11dHV1dXcTjcYqLi7VAhYhckdSGITJDWZZFZWUlruuOVRJfffVVXNfl6NGjpNNpenp6aGpq4qGHHqKxsZHHHnuMsrIyampqePTRR1myZAnz58/nS1/6Eu973/v4zGc+w7Zt23j00UdZunQpRUVFfPvb36a9vZ1vfvObNDc3k06nef3118nNzWXPnj00Njbyl3/5lySTSV5//XXy8/OJx+MMDQ2xadMmtm7dyoYNGzh8+DDf+MY3+OxnP8vixYun+u274liWRWZmJvPmzWPPnj1UVlZijGHp0qW8+OKL9PX1cfPNNxMIBEgkEuzbt4+ioiKi0SjNzc309vZSVVWF53kcOHCAmpoaotEoxhhaWlrIzc0lEonw5JNP0tfXRzqd5umnnyaRSPC7v/u7LF269Ky2HBGRK4HCssgMFolEKC0tpaWlhba2Nurr69mwYQMbN24kmUyydetWFi1aBMCXvvQl1qxZw3333Udvby/hcJiBgQGWLVtGSUkJZWVlnDhxgq985Su8733v4+GHH8bzPPbt2zdWVd6/fz81NTWsX7+eqqoqcnNzefPNN3Fdl/LycjzPY+XKlaxdu5ZkMslPf/pTsrOzmTNnDitWrGD58uUUFxdP8bt25YpGo9TW1rJx40by8/O56667CIVCdHd3j7XtADQ1NbF161buvPNOANra2ojFYmRmZuJ5HgcPHmT27NlEIhESiQS7d++murqaYDBIZ2cn+fn5rFu3jpycHILBIMlkEsdx1K8sIlckfWYmMoMFg0HmzJlDU1MT27dvZ968eSxcuJDBwUEOHTrEkSNHWLt2Lc8++yz19fVkZ2ezdetWnnrqKZYvX84nPvEJuru7SSaT1NTUsHXrVhKJBDfffDPBYJChoSEaGxuZP38+AAcPHmTRokVUVVVhjOHw4cOUlZURi8Xo6upicHCQqqoqLMsiEAhw3333cfToUT71qU/xt3/7t6TTaQoKCqb4Xbty2bbNnDlzaG9vp6CggOrq6rFe5nQ6zd69e3nzzTfZtGkT4XCYzs5Otm7dyokTJ0in0+zevZuGhgb6+voYGBhg7969PPvss7z11lsMDg5SX1/PwoULGRoa4rnnnuPNN9/kqaeeYtOmTWNzPIvI5TU6m5FmKLp0VFkWmcGCwSA1NTU888wz5OXl8dBDD9Ha2kooFOLJJ5/kpptuIisriwMHDlBUVERtbS2lpaWsWbOGWCyGZVns27ePZDJJdXU127dvp6Kigvz8fIwxNDU18fbbb/Pggw+STqdpaWlh5cqVOI5DKpXiwIEDVFVVEYvF2LNnD5ZljQXp4eFh1q1bx7XXXsuuXbv413/9V/bs2cPXv/7of9IwAAAXGElEQVR1TU92iViWxeLFi/nUpz7FHXfcQTAYBGDJkiV88pOfpL6+nsLCQm6//XYWLlzItm3b8DyPFStW0NTURHt7OwsWLOBjH/sY27dvp76+nvnz5/M7v/M7PP/88/T29nLPPfdQU1PDG2+8QWdnJ7W1tSxdupRYLDbFr15E5NJQWBaZwRzHobq6msbGRu6//35KS0tJpVKEw2E6Ojq49tprsW2bxYsX8/LLL9PX10dNTQ1NTU20trayevXqsTmTXdclFosxPDzM0NAQAwMDbNy4Edu2KSsro7W1lUQiQXV1NeBXM9rb25k1axbd3d0cOnQIgKysLE6cOMETTzxBR0cHn/rUp7jttts4cuQIb7zxxliAk0ujrKyMj370o6f1D4fDYdavX8/NN988VvWvra3l+uuvx3EcbNvmD/7gDwD/wtHy8nJuvPHGsX2NMaxYsWJs39FjAWPb1IIhMlX0/71LzfnCF77whakehIhcHMuySCQSpNNp7r//fjIyMnAch+PHj3PHHXewYMECbNtm1qxZOI7Dc889x/bt2xkcHKSuro7S0lJs2x6bL/f6668nHo/z0ksv0dXVRSwWo7Ozk3vuuWdsxoQ777yTrKwsjDEMDAywY8eOsXaQgwcP0tTURCAQYNGiRdTX17Nz504OHDiA53l89KMfpaKiQsHqErIsa9zwalkWjuOM9RaP3h/dd7zHJtr31McVlEWmlmWdvL1T/f39fP/73+faa69l1apVmtFmApZRk4vIjOZ5Hq7rEggEsCwLYwypVOq0IDNaOU6n0xhjCAQCY/t7nkcqlSKRSNDW1kZpaSmBQIBkMslXvvIVsrKy+L3f+z0CgcDYeWzbPu2Yo8FpdJ7d0fvpdBrP88YCViDgf5ilcCUiMvWam5u59957efjhh/nt3/7tsZ/Rcjq9KyIznG3bp1UDLMsiFAqdts9oUB3vB6Ft24TDYRobG/m7v/s7br75ZtasWcPOnTsZHh7mE5/4BOFwGOC0j/bHO+bofqPUciEiIjOd6u0iAsDs2bP5+Mc/juu6vPbaa2RkZPC5z32OWbNmTfXQREREpowqyyICQCgU4rrrruO6666b6qGIiIhMG6osi4iIiFyFRi/W1XUk56awLCIiInKV0jL156c2DBEREZGrRDqdZt++fRw4cGBsMaLnnnuOeDxOVlYWd91119h8+uJTWBYRERG5SliWRU9PDz/5yU94++23aW1t5fDhwzzxxBPcdNNN3HnnnVM9xGlHYVlERERkmvJXwxhdEsO6qMVHTmXbNgsXLqS4uJhkMokxBmMMtm3zy7/8y1RWVr7LEV95FJZFREREriJZWVnccMMNvPbaa6RSKVzXZenSpbz3ve9VD/M4FJZFRERELoLB0EHv5BzrQhdUnmA3M85XFuOXoU3AMPf6hdzUvJ5jx5sJ2A7r1t1EoCxKOz0TnuNyeSezcwyTxMM7a3sxecQIj/OMixiPlrsWEREReecMhm+zaVKypcGQNh7eZUyqnueNhXTbtqfFFHIBy8GZIOSPJ04KM857too5rGL+5IxpUo4iIiIiIu+Kh8G9nGVd24KRYOrXZqe2fjpd5zOeruMSEREREZlyCssiIiIiIhNQWBYRERERmYDCsoiIiIjIBBSWRUREREQmoLAsIiIiIjIBhWURERERkQkoLIuIiIiITEBhWURERERkAgrLIiIiIiITUFgWEREREZmAwrKIiIiIyAQUlkVEREREJqCwLCIiIiLTjud5GMxUD0NhWURERESml2O7G/jKe/8QN+1O9VAUlkVERERkeqlYXEMsN4NAIDDVQ2HqRyAiIiJylTm1vSCdStPT3EHauJxaR43kxIjlZV2S8x/ZUU8wGqZscTUA/a3dWBakUy7R3EzCGRF/e3sPJu1h2ZBVkn/R5xvs6mOws3/svmVZxPIyySjIHnf/3tYusovzLvp8k8n5whe+8IWpHoSIiIjITPQmDe/4OWf24e784Wa+8eE/x02n6Wvrob3+GI/+6lfILS+gcvncyRrqyfMbw2N/8E/kluVTunAWAK//6CUe+aUv0nO0g1nvqSWW74f0Nx7fzL8++FfkVhZS9S7Gcuy1A/zkv/8b6VSa5/72RyQG4/zX5/6FtvpjzLl+EYFwEAs4tqOeHY9vZs/PX6NoXjlzVi8853HTeONuryCPCgoverynUhuGiIiIyBRqeuMgn/3F/8+H/vLXuenTHyCUFaV4XgUrH15/Sc7X1dhKwyt7GejuG9u25mPryZtVxMoHbqawtnxs++y1i/jI3/82az9x57s655wbl3DNh67n5t/5INfeez13//GD3PnHD7DsI+t4/ms/BiAxnOQX//OHrP/dDxHNzaDqmjnv6pyTRW0YIiIiIlPEGEN+VTHli2tI4dHX0snP/uTf+dTP/geB4KWJaQdeeIsF65cz1DUwts2yLLJL8ug90XX6vs+/yfW/dtc5jzfQ2cfmf/wZrfuOgoHieeVs+MLDZ+1nW9bYuQBK5lcy3DNAKBYGz3Dopd2ULajCtm06m9q45bdq3uUrnRwKyyIiIiJTJJVIUbOiDmOB8QyPf/YRrv/1Oygf6SWebMmBOE7QIbssj8GuvtMeyyrJo/9Ez9j9gbYeMvKzsZyJGxF6T3Txg9//R275/Xu47TP3Yjk29jn2P5Xl2Hiuhz3yR0HXkVbKFs7CYBjs7mewe4BYXha2PbWNEGrDEBEREZkiwVCQ6vfUYRnY/eSrnNh7lPWf/fBY9XWyvf3zHSy6YwWx/GyGOgdOeyy7NJeeUyrLe36+gwV3rpjwWMYYfvHlx/jIV3+buTcuIZwVJRQLEwgHL2gs3U2tRDIjDHX1gW1Rvqia+FCcxp31eGmXln1HsOxL8z68E6osi4iIiEyxwe4BfvAH3+Thb3/Wb0uYwGO/9w2GegbGfcyyLD70ld8kqyh33MeN6zHc1UdGUS6Z+Zk0dfWf9nh2SR6HX9kLQHI4ged6RDKjE45loKOX7KIcckrPPUuGMadf0Ni04wBP/fl32fG956m5biEf/OLHAZi9ZgFufwLLwJ3/7SNk5GVhobAsIiIiclWx4OR8GCN3fvynj7JowypqrhuZ/cEzME5V9UNf/k08M/4MEBYWgcjEVd2GbXuZtbIOL+1PDzd0RljOKsmjr9Vvw9jz5Kssft/qc76OE/uOUryginjf0Gnb7YAzFvgtA67nYXlm7FVnl+cx1NXPml99L9c9vJ7ssgJ/X8ti0R0rcaZBQD6VwrKIiIjIZXUyLluWxaFtu9n981f53PavYlkWQ72DHNt5gLpbl531zHOF4XMxxrD3FztxE2lef2wzPUc7GDirspxL/4kuvLTLUHf/hBXqUanBBK88spHdP9l22vbCeWXc+fmPnjy3Z/DckzNI55UXEogEmbWyjtce28ytv/eh08eKmRYV5VEKyyIiIiJTJDEc598//VUe+PtPE8vJwMXQ8NJuqlfOA/yQaxkYDdfb/n0TqeHEuMeyLIsVH72FSHbsrMe6j7VTvXoBS+5eBcDxXQ1884NfIBVP4jg2HpBRkE1fazf1L7xF7bprxs5vjMHGwmNkLLaFZVnkVhSw8sFbWPngrf5JPA9jWdi2jWUMHn5QtozBsm04JQCvuP8WtvzzkxhjGOzqIyPfX5xk15Pb2PbdZ/mt7/73d/vWThpd4CciIiIyRTZ++T+pWjqHJXf5IdbzPA68uItYYQ7gh9VkPEEqmcJNu+TPKiK3spDcygIK5pRSWFs+diuoLcMJjV8H3f/M6yy4ffnY/WheJsn+YVLDCVzjYdIu0bwM0okUR3cepHB2yVhQ9lyPVDIJnsFNpzGu3wZSXFdJ0456jOvheR6ee7I9xPMM6VQKD4ObdkfC8sjxMISzogQiQZZ8YA0vP7Jx7HmVS2eTWZQz2W/zu6LKsoiIiMgUOL67kS2PbORzL3yFxOAw3W3dPPeNnxDvHTo5XZpnsB0bOxjAsixqb1xMKpEkGA5hOc64s2aMVqNd4/cKN+2o59CWPaz5+HvHHk8NJ4kPDJMYGCaSGcU4hlh+NoFggJrVdf5FeZ4HloVtgWvAti3c9MmL9QLhIFXLatn2nWdY+cAtOKEgtm1jjB+Ux8ZngZt26WvvJTmUYLhnkHQixbL7buSNx7cQjIQ4/PJuatcu5vjuJsoXVY+tcjgd2jG03LWIiIjIRbqY5a5HNb5WTzgjQtNrB9j//Fs0vFaPsWDlA7eQV1XkB1ZjsAIOtm3jeR7pRIpAMIgdCEwYlN20i5tOYwEdh1p444dbCGVFySnNJ6vY70t+6ZGnmHvzNTRt30/NmoU4AYdAOEhnQyvXf3IDtmVh2RaWbWNcD3PK17Ztw8i5y5fUsGfjDrb+r5/TWn+cxlf20tnQQumiWQQCATAG4xkOvLCL1j1HOPzi27ipNKlkiuqVdbTVH6Pt0HGS/cPMXrOQt378CvHeQVp2N9HX1kNpXeU538PLsdy1Zc6cz0NEREREzstg+DabuJggZU55loWFwZA0Lu4ZRxuLaZ7fjmEHHQLB4DmDMp43Vok+1Zn3jTF4qTSWbeO5LnYwgJtMje07eox0IokdDGBjkU6lcBwHK+D4bRppFycQoLetm/b6Y2AgmpdFyfwKsG2/j9kzBEIB/0I/z/OP7dhYjnPaeGzg0Y//Dbf99gcpravkx//jOzz01d895/sYJ3XaezlqFXNYxfxzPvdCqQ1DREREZJqyLGukopzEdiYOyuBP02Zcz18m+x0uauK5Hp6b9C/GCzg4gQC2ZeNhcEInz+mEgthYWFh4Flgj58opzSe7JO+0MQPYIxcPGsAYD9txxmbGMMac9lqMMaTiKeasWUjjjv3kVxW9w3fr0tAFfiIiIiLTlWdwE0ks2xpbGc+47lkLffgMxvPwXBcvlT7thnfu+rft2DgBZ2zpaWP5N2t0dgvLGvsa2xp77NSwe+p927ZH9rVPPt+2sW0LbBszTpiPD8SJRMPYtk39lreZs2YBbQ3HL/KNmzwKyyIiIiLTkWdIJZMYGKvumpEe4PH5fcajwffU23gLnJz2TMsaaa3wv3bTEwXyi2NZFnbAAdsmEAyMBehTdTa2Uji3DID2A8cJhIN46fF7ki8nhWURERGRaWZ0RgnjGQLhkB8sPQ9vpKd4vABnLL+im3b9+Y4ZqewyTjAFRuZvPuW+ZWE71lhInuzAfD6xvExWf/Q2ANb//odIJ1KUzKu4bOefiHqWRURERKYbz5/feLTKa41VlA0447cxjF6URypNOpHCcuyTBeXRtogRxhjS6TTGdbE8z69YWxZOwMHy/HYOM7IACWdciHep5FcWErT8aFq+sBoWVl+W856PwrKIiIjIdGNbBKPhd/y0sVksRuZJHu3YOLMSbVmWfyFgMDDu89V6cJLCsoiIiMg0M9GMFxf6XGukDeNcoXfCWTXexbmvRPrDQURERERkAgrLIiIiIiITUFgWERERuay0ePJMorAsIiIiIjIBhWURERGRy0h15ZlFYVlEREREZAIKyyIiIiIiE1BYFhEREbmMNIvxzKKwLCIiInJZKS7PJArLIiIiIiITUFgWEREREZmAwrKIiIiIyAQUlkVEREREJqCwLCIiIiIyAYVlEREREZEJKCyLiIiIiExAYVlEREREZAIKyyIiIiIiE1BYFhERERGZgMKyiIiIiMgEAlM9ABERERGBkOXgTfUgpth0rOJaxhgz1YMQERERmWkMhl4Gp3oYV7UhEqRxz9peRC5RQpNyDoVlEREREZEJTMdqt4iIiIjItKCwLCIiIiIyAYVlEREREZEJaDYMERERkRnOGEMymSSZTBKJRAgEAliWNdXDuiIoLIuIiIjMUK7r0trayqZNm+jo6MC2beLxOOvWrWPlypUXFJqTySRNTU2Ul5eTkZHxrsbjeR4tLS3Ytk1ZWdm7OtZ0oTYMERERkRnIdV127tzJn/zJn5BMJvnwhz/MAw88wHve8x6+9rWv8cILL+B555652RhDW1sbmzdvPu++FyKZTLJp0yYGBgbe9bGmC1WWRURERGYYYwzHjx/nr//6r1m9ejUPPPAAkUgEgBtuuIGtW7fy3e9+lxUrVtDZ2UkqlaK2tpZgMEh/fz8NDQ3MmTOHhoYGHn30UVzXZcWKFZSVldHX10cymaS4uJhDhw7hui6LFy8mIyODtrY22tvbqampIScnh3Q6ze7duykvLyeZTPKjH/2IF198kerqajIyMigqKqKlpYXGxkaMMVRXV1NRUTGj2kRUWRYRERGZYYwx/OxnP2NwcJAPfvCDRCIRLMvCsixCoRCVlZXs27ePffv28Yd/+Ic88sgjpFIpALZv385Xv/pVent7CYVC7Nu3j8rKSkKhEA0NDXz+85/nL/7iL/iP//iPsRaPr3/965w4cYKvfe1r/PEf/zHt7e0AdHR08Fd/9VfU19ePPT8jI4OcnBwsy+LZZ5/ly1/+MuFwmJ6eHv7sz/6MnTt3TuVb946psiwiIiIywyQSCXbu3ElVVRU1NTWnVWnT6TQdHR1Eo1Hmz59PdXU1+fn5RKNRjDHs27ePzMxMcnNzSaVShMNhrrvuOhYsWIDneVRUVHDo0CHWr19PXV0dVVVV/NEf/REf+9jHWLZsGYcOHaK4uBiAxsZGEokExcXFxGIxAJYtW8aSJUtwXZcXXniB1tZW8vPzWbRoEbW1tRQUFEzJe3axVFkWERERmWGSySRDQ0Pk5eURCp1c1tkYw+DgIDt37mTVqlV4nkdXVxfV1dXYto0xhv/T3t2ztLJFYRz/T9x7zCgWCmISUIwKIhaCaCFYiG2KFIKCtZXfwZf0Vn4Oa8EioIjYaBFtghjJK8FJfIlBTTIzziku5l7PPac4xb2HcNavXGxmr/Jhs/aeTCZDJBKhp6eHUqmE67rtwO26LsVikcXFRcbHxzEMg1qthuu6+L5PuVwmFAq1g3c2myUYDBIKhajVapTLZSYnJzEMA601sViMYDDI5uYm29vbVCoVCctCCCGEEOK/ZVlWO6A2m8123fM8zs/PqVarxONxnp+feX19ZXR0FN/3qdfr3N/fMzw8jGEYlEolLMuiv78fANu2cRyH2dlZTNPEdV1OT0+Znp6mu7ubYrHI2NgYhmHgeR7ZbJbBwUGCwSC1Wo2Hhwei0SgAjUaDmZkZ9vb22NraotlssrOz0x7h6BQSloUQQgghOoxSipWVFR4fHzk+PqbRaPDy8kIymeTg4ICNjQ3m5uao1+s0Gg201uTzeY6OjrBtG4BMJoNt2/T29uI4DoVCgVwux/v7O6ZpUq/XOTk5IZ1Os7a2htaap6cnLMuiWq1yenrK1dUVSiny+TyVSgXHcdBaUywWOTw8JJFI0Gq1WFhYYHl5mXA4/OUkvBN07e7u7v7uJoQQQgghxK8Jh8NEIhEuLi44Ozvj8vKSt7c34vE4S0tLmKaJUopSqUQ6ncZxHCYmJvB9n0KhQDgcZmhoiNvbW2zbZmBggEwmQzqdJhqNkkwmKZVKrK6uMj8/j9aa19dXUqkULy8vhEIhhoaGuLu7w7IsotEotm2Ty+VQSjE1NcXj4yOpVIqbmxuazSbr6+uMjIwQCHTOea3h+77/u5sQQgghhBC/7uPjg1arhed5AGit0Vq3L/x9/tnP8zyUUmitcRwH13UxTRPDMGi1WgAYhsH+/j6VSoVEIgFAIBBor4O/Lg86jtOuf+6vlEIpRavV4uPjA601Silc18V1XQC6urq+9NYp5DUMIYQQQogOFQgE2u8r/4hhGHR3d3+pmab5ZRTCsqz2/PH19TUjIyN4nkdfX9+/vvcZxv+5v1J/x8nve/l+fSeSsCyEEEII8YfzPI9CoUAsFkNrzcPDww/D8p9IxjCEEEIIIYT4ic6ZrhZCCCGEEOJ/JmFZCCGEEEKIn/gGEOT/x7hBGhQAAAAASUVORK5CYII=)"
      ],
      "metadata": {
        "id": "ApF6Q1wgVlTz"
      }
    },
    {
      "cell_type": "markdown",
      "source": [
        "###### Encoder"
      ],
      "metadata": {
        "id": "-iSiVJhQVupQ"
      }
    },
    {
      "cell_type": "markdown",
      "source": [
        "\n",
        "\n",
        "\n",
        "<img src=\"https://www.researchgate.net/profile/Ehsan-Amjadian/publication/352239001/figure/fig1/AS:1033334390013952@1623377525434/Detailed-view-of-a-transformer-encoder-block-It-first-passes-the-input-through-an.jpg\" width=300 height=600>\n",
        "\n",
        "\n",
        "\n",
        "In the encoder section -\n",
        "\n",
        "**Step 1:** First input(padded tokens corresponding to the sentence) get passes through embedding layer and positional encoding layer.\n",
        "\n",
        "```\n",
        "code hint\n",
        "suppose we have input of 32x10 (batch size=32 and sequence length=10). Once it passes through embedding layer it becomes 32x10x512. Then it gets added with correspondng positional encoding vector and produces output of 32x10x512. This gets passed to the multihead attention\n",
        "```\n",
        "\n",
        "**Step 2:** As discussed above it will passed through the multihead attention layer and creates useful representational matrix as output.\n",
        "\n",
        "```\n",
        "code hint\n",
        "input to multihead attention will be a 32x10x512 from which key,query and value vectors are generated as above and finally produces a 32x10x512 output.\n",
        "```\n",
        "\n",
        "**Step 3:** Next we have a normalization and residual connection. The output from multihead attention is added with its input and then normalized.\n",
        "\n",
        "```\n",
        "code hint\n",
        "output of multihead attention which is 32x10x512 gets added with 32x10x512 input(which is output created by embedding vector) and then the layer is normalized.\n",
        "\n",
        "```\n",
        "\n",
        "**Step 4:** Next we have a feed forward layer and a then normalization layer with residual connection from input(input of feed forward layer) where we passes the output after normalization though it and finally gets the output of encoder.\n",
        "\n",
        "```\n",
        "code hint\n",
        "The normalized output will be of dimension 32x10x512. This gets passed through 2 linear layers: 32x10x512 -> 32x10x2048 -> 32x10x512. Finally we have a residual connection which gets added with the output and the layer is normalized. Thus a 32x10x512 dimensional vector is created as output for the encoder.\n",
        "\n",
        "```"
      ],
      "metadata": {
        "id": "sSLShgz6meFr"
      }
    },
    {
      "cell_type": "code",
      "source": [
        "class TransformerBlock(nn.Module):\n",
        "  def __init__(self, embed_dim, expansion_factor=4, n_heads=8):\n",
        "    super(TransformerBlock, self).__init__()\n",
        "\n",
        "    self.attention = MultiHeadAttention(embed_dim, n_heads)\n",
        "\n",
        "    self.norm1 = nn.LayerNorm(embed_dim)\n",
        "    self.norm2 = nn.LayerNorm(embed_dim)\n",
        "\n",
        "    self.feed_forward = nn.Sequential(\n",
        "        nn.Linear(embed_dim, expansion_factor*embed_dim),\n",
        "        nn.ReLU(),\n",
        "        nn.Linear(expansion_factor*embed_dim, embed_dim)\n",
        "        #no activaiton?\n",
        "        )\n",
        "\n",
        "    self.dropout1 = nn.Dropout(0.2)\n",
        "    self.dropout = nn.Dropout(0.2)\n",
        "\n",
        "  def forward(self, key, query, value):\n",
        "    attention_out = self.attention(key, query, value)\n",
        "    attention_residual_out = attention_out + value\n",
        "    norm1_out = self.dropout1(self.norm1(attention_residual_out))\n",
        "\n",
        "    feed_fwd_out = self.feed_forward(norm1_out)\n",
        "    feed_fwd_residual_out = feed_fwd_out + norm1_out\n",
        "\n",
        "    norm2_out = self.dropout2(self.norm2(feed_fwd_residual_out))\n",
        "\n",
        "    return norm2_out\n",
        "\n",
        "class TransformerEncoder(nn.Module):\n",
        "  def __init__(self, seq_len, vocab_size, embed_dim, num_layers=2, expansion_factor=4, n_heads=8):\n",
        "    super(TransformerEncoder, self).__init__()\n",
        "\n",
        "    self.embedding_layer = Embedding(vocab_size, embed_dim)\n",
        "\n",
        "    self.postional_encoder = PositionalEmbedding(seq_len, embed_dim)\n",
        "\n",
        "    self.layers = nn.ModuleList([TransformerBlock(embed_dim, expansion_factor, n_heads) for i in range(num_layers)])\n",
        "\n",
        "\n",
        "  def forward(self, x):\n",
        "    embed_out = self.embedding_layer(x)\n",
        "    out = self.postional_encoder(embed_out)\n",
        "\n",
        "    for layer in self.layers:\n",
        "      out = layer(out,out,out)\n",
        "\n",
        "    return out\n"
      ],
      "metadata": {
        "id": "6pfNkYg5Venq"
      },
      "execution_count": null,
      "outputs": []
    },
    {
      "cell_type": "markdown",
      "source": [
        "###### Decoder"
      ],
      "metadata": {
        "id": "EbNHxc6Sterj"
      }
    },
    {
      "cell_type": "markdown",
      "source": [
        "\n",
        "\n",
        "![](https://discuss.pytorch.org/uploads/default/optimized/3X/8/e/8e5d039948b8970e6b25395cb207febc82ba320a_2_177x500.png)\n",
        "\n",
        "\n",
        "Now we have gone through most parts of the encoder.Let us get in to the components of the decoder. We will use the output of encoder to generate key and query vectors for the decoder.There are two kinds of multi head attention in the decoder.One is the decoder attention and other is the encoder decoder attention. Don't worry we will go step by step."
      ],
      "metadata": {
        "id": "9-5xyO5ptiZw"
      }
    },
    {
      "cell_type": "markdown",
      "source": [
        "Let us explain with respect to the training phase. Firt\n",
        "\n",
        "**Step 1:**\n",
        "\n",
        "First the output  gets passed through the embeddin and positional encoding to create a embedding vector of dimension 1x512 corresponding to each word in the target sequence.\n",
        "\n",
        "```\n",
        "code hint\n",
        "Suppose we have a sequence length of 10. batch size of 32 and embedding vector dimension of 512. we have input of size 32x10 to the embedding matrix which produces and output of dimension 32x10x512 which gets added with the positional encoding of same dimension and produces a 32x10x512 out\n",
        "\n",
        "```\n",
        "\n",
        "**Step 2:**\n",
        "\n",
        "The embeddig output gets passed through a multihead attention layers as before(creating key,query and value matrixes from the target input) and produces an output vector. This time the major difference is that we uses a mask with multihead attention.\n",
        "\n",
        "**Why mask?**\n",
        "\n",
        "Mask is used because while creating attention of target words, we donot need a word to look in to the future words to check the dependency. ie, we already learned that why we create attention because we need to know contribution of each word with the other word. Since we are creating attention for words in target sequnce, we donot need a particular word to see the future words. For eg: in word \"I am a strudent\", we donot need the word \"a\" to look word \"student\".\n",
        "\n",
        "\n",
        "```\n",
        "code hint\n",
        "For creating attention we created a triangular matrix with 1 and 0.eg:traingular matrix for seq length 5 looks as below:\n",
        "\n",
        "1 0 0 0 0\n",
        "1 1 0 0 0\n",
        "1 1 1 0 0\n",
        "1 1 1 1 0\n",
        "1 1 1 1 1\n",
        "\n",
        "After the key gets multiplied with query, we fill all zero positions with negative inifinity, In code we will fill it with a very small number to avoid division errors.\n",
        "(with -1e 20)\n",
        "\n",
        "\n",
        "```\n",
        "\n",
        "**Step 3:**\n",
        "\n",
        "As before we have a add and norm layer where we add with output of embedding with attention out and normalized it.\n",
        "\n",
        "\n",
        "**Step 4:**\n",
        "\n",
        "\n",
        "<CLS> Next we have another <Blank/Mask> attention and then a add and norm layer. This multihead attention is called encoder-decorder <Blank/Mask> attention. For this multihead attention we create we create key and value <Blank/Mask> from the encoder output. Query is created from the output of previous decoder layer. Next Sentence Prediction (NSP), Masked Language Modelling\n",
        "\n",
        "```\n",
        "code hint:\n",
        "Thus we have 32x10x512 out from encoder out. key and value for all words are generated from it. Similary query matrix is generated from otput from previous layer of decoder(32x10x512).\n",
        "\n",
        "```\n",
        "\n",
        "Thus it is passed through a multihead atention (we used number of heads = 8) the through a Add and Norm layer. Here the output from previous encoder layer(ie previoud add and norm layer) gets added with encoder-decoder attention output and then normalized.\n",
        "\n",
        "**Step 5:**\n",
        "Next we have a feed forward layer(linear layer) with add and nom which is similar to that of present in the encoder.\n",
        "\n",
        "\n",
        "**Step 6:**\n",
        "Finally we create a linear layer with length equal to number of words in total target corpus and a softmax function with it to get probablity of each word."
      ],
      "metadata": {
        "id": "xSFn_9pjtz-O"
      }
    },
    {
      "cell_type": "code",
      "source": [
        "class DecoderBlock(nn.Module):\n",
        "  def __init__(self, embed_dim, expansion_factor=4, n_heads=8):\n",
        "    super(DecoderBlock, self).__init__()\n",
        "\n",
        "    self.attention = MultiHeadAttention(embed_dim, n_heads=8)\n",
        "    self.norm = nn.LayerNorm(embed_dim)\n",
        "    self.dropout = nn.Dropout(0.2)\n",
        "    self.transformer_block = TransformerBlock(embed_dim, expansion_factor, n_heads)\n",
        "\n",
        "  def forward(self, key, query, x, mask):\n",
        "    attention = self.attention(x, x, x, mask=mask)\n",
        "    value = self.dropout(self.norm(attention + x))\n",
        "\n",
        "    out = self.transformer_block(key, query, value)\n",
        "\n",
        "    return out\n",
        "\n",
        "class TransformerDecoder(nn.Module):\n",
        "    def __init__(self, target_vocab_size, embed_dim, seq_len, num_layers=2, expansion_factor=4, n_heads=8):\n",
        "      super(TransformerDecoder, self).__init__()\n",
        "\n",
        "      self.word_embedding = nn.Embedding(target_vocab_size, embed_dim)\n",
        "      self.postion_embedding = PositionalEmbedding(seq_len, embed_dim)\n",
        "\n",
        "      self.layers = nn.ModuleList(\n",
        "          [\n",
        "              DecoderBlock(embed_dim, expansion_factor=4, n_heads=8) for _ in range(num_layers)\n",
        "          ]\n",
        "      )\n",
        "      self.fc_out = nn.Linear(embed_dim, target_vocab_size)\n",
        "      self.dropout = nn.Dropout(0.2)\n",
        "\n",
        "    def forward(self, x, enc_out, mask):\n",
        "\n",
        "        \"\"\"\n",
        "        Args:\n",
        "            x: input vector from target\n",
        "            enc_out : output from encoder layer\n",
        "            mask: mask for decoder self attention\n",
        "        Returns:\n",
        "            out: output vector\n",
        "        \"\"\"\n",
        "\n",
        "        x = self.word_embedding(x)\n",
        "        x = self.postion_embedding(X) #we don;t add it to word_embeddings?\n",
        "        x = self.dropout(x)\n",
        "\n",
        "        for layer in self.layers:\n",
        "          x = layer(enc_out, x, enc_out, mask)\n",
        "        out = F.softmax(self.fc_out(x))\n",
        "\n",
        "        return out\n",
        "\n",
        "\n",
        "\n",
        "\n"
      ],
      "metadata": {
        "id": "CYSl7SkrsA6V"
      },
      "execution_count": null,
      "outputs": []
    },
    {
      "cell_type": "code",
      "source": [
        "class Transformer(nn.Module):\n",
        "  def __init__(self, embed_dim, src_vocab_size, target_vocab_size, seq_length, num_layers = 2, expansion_factor=4, n_heads=8):\n",
        "        super(Transformer, self).__init__()\n",
        "        \"\"\"\n",
        "        Args:\n",
        "           embed_dim:  dimension of embedding\n",
        "           src_vocab_size: vocabulary size of source\n",
        "           target_vocab_size: vocabulary size of target\n",
        "           seq_length : length of input sequence\n",
        "           num_layers: number of encoder layers\n",
        "           expansion_factor: factor which determines number of linear layers in feed forward layer\n",
        "           n_heads: number of heads in multihead attention\n",
        "\n",
        "        \"\"\"\n",
        "\n",
        "        self.target_vocab_size = target_vocab_size\n",
        "        self.encoder = TransformerEncoder(seq_length, src_vocab_size, embed_dim, num_layers=num_layers, expansion_factor=expansion_factor, n_heads=n_heads)\n",
        "        self.decoder = TransformerDecoder(target_vocab_size, embed_dim, seq_length, num_layers=num_layers, expansion_factor=expansion_factor, n_heads=n_heads)\n",
        "\n",
        "  def make_trg_mask(self,trg):\n",
        "        batch_size, trg_len = trg.shape\n",
        "\n",
        "        trg_mask = torch.tril(torch.ones((trg_len, trg_len))).expand( batch_size, 1, trg_len, trg_len)\n",
        "        return trg_mask\n",
        "\n",
        "  def decode(self, src, trg):\n",
        "    trg_mask = self.make_trg_mask(trg)\n",
        "    enc_out = self.encoder(src)\n",
        "    out_labels = []\n",
        "    batch_size, seq_len = src.shape[0], src.shape[1]\n",
        "\n",
        "    out = trg\n",
        "\n",
        "    for i in range(seq_len): #10\n",
        "      out = self.decoder(out, enc_out, trg_mask) # batch x seq_len x vocabdim\n",
        "      out = out[:, -1, :]\n",
        "      out = out.argmax(-1)\n",
        "      out_labels.append(out.item())\n",
        "      out = torch.unsqueeze(out, axis = 0 )\n",
        "\n",
        "    return out_labels\n",
        "\n",
        "  def forward(self, src, trg):\n",
        "    trg_mask = self.make_trg_mask(trg)\n",
        "    enc_out = self.encoder(src)\n",
        "\n",
        "    outputs = self.decoder(trg, enc_out, trg_mask)\n",
        "    return outputs\n"
      ],
      "metadata": {
        "id": "lcqfFK9ORXXl"
      },
      "execution_count": null,
      "outputs": []
    },
    {
      "cell_type": "code",
      "source": [
        "src_vocab_size = 11\n",
        "target_vocab_size = 11\n",
        "num_layers = 6\n",
        "seq_length= 12\n",
        "\n",
        "\n",
        "# let 0 be sos token and 1 be eos token\n",
        "src = torch.tensor([[0, 2, 5, 6, 4, 3, 9, 5, 2, 9, 10, 1],\n",
        "                    [0, 2, 8, 7, 3, 4, 5, 6, 7, 2, 10, 1]])\n",
        "target = torch.tensor([[0, 1, 7, 4, 3, 5, 9, 2, 8, 10, 9, 1],\n",
        "                       [0, 1, 5, 6, 2, 4, 7, 6, 2, 8, 10, 1]])\n",
        "\n",
        "print(src.shape,target.shape)\n",
        "model = Transformer(embed_dim=512, src_vocab_size=src_vocab_size,\n",
        "                    target_vocab_size=target_vocab_size, seq_length=seq_length,\n",
        "                    num_layers=num_layers, expansion_factor=4, n_heads=8)\n",
        "model"
      ],
      "metadata": {
        "colab": {
          "base_uri": "https://localhost:8080/"
        },
        "id": "A6LCH7C3TGAx",
        "outputId": "57fde1c2-5a10-432b-e0ba-e43a380c2bb8"
      },
      "execution_count": null,
      "outputs": [
        {
          "output_type": "stream",
          "name": "stdout",
          "text": [
            "torch.Size([2, 12]) torch.Size([2, 12])\n"
          ]
        },
        {
          "output_type": "execute_result",
          "data": {
            "text/plain": [
              "Transformer(\n",
              "  (encoder): TransformerEncoder(\n",
              "    (embedding_layer): Embedding(\n",
              "      (embed): Embedding(11, 512)\n",
              "    )\n",
              "    (postional_encoder): PositionalEmbedding()\n",
              "    (layers): ModuleList(\n",
              "      (0-5): 6 x TransformerBlock(\n",
              "        (attention): MultiHeadAttention(\n",
              "          (query_matrix): Linear(in_features=64, out_features=64, bias=False)\n",
              "          (key_matrix): Linear(in_features=64, out_features=64, bias=False)\n",
              "          (value_matrix): Linear(in_features=64, out_features=64, bias=False)\n",
              "          (out): Linear(in_features=512, out_features=512, bias=True)\n",
              "        )\n",
              "        (norm1): LayerNorm((512,), eps=1e-05, elementwise_affine=True)\n",
              "        (norm2): LayerNorm((512,), eps=1e-05, elementwise_affine=True)\n",
              "        (feed_forward): Sequential(\n",
              "          (0): Linear(in_features=512, out_features=2048, bias=True)\n",
              "          (1): ReLU()\n",
              "          (2): Linear(in_features=2048, out_features=512, bias=True)\n",
              "        )\n",
              "        (dropout1): Dropout(p=0.2, inplace=False)\n",
              "        (dropout): Dropout(p=0.2, inplace=False)\n",
              "      )\n",
              "    )\n",
              "  )\n",
              "  (decoder): TransformerDecoder(\n",
              "    (word_embedding): Embedding(11, 512)\n",
              "    (postion_embedding): PositionalEmbedding()\n",
              "    (layers): ModuleList(\n",
              "      (0-5): 6 x DecoderBlock(\n",
              "        (attention): MultiHeadAttention(\n",
              "          (query_matrix): Linear(in_features=64, out_features=64, bias=False)\n",
              "          (key_matrix): Linear(in_features=64, out_features=64, bias=False)\n",
              "          (value_matrix): Linear(in_features=64, out_features=64, bias=False)\n",
              "          (out): Linear(in_features=512, out_features=512, bias=True)\n",
              "        )\n",
              "        (norm): LayerNorm((512,), eps=1e-05, elementwise_affine=True)\n",
              "        (dropout): Dropout(p=0.2, inplace=False)\n",
              "        (transformer_block): TransformerBlock(\n",
              "          (attention): MultiHeadAttention(\n",
              "            (query_matrix): Linear(in_features=64, out_features=64, bias=False)\n",
              "            (key_matrix): Linear(in_features=64, out_features=64, bias=False)\n",
              "            (value_matrix): Linear(in_features=64, out_features=64, bias=False)\n",
              "            (out): Linear(in_features=512, out_features=512, bias=True)\n",
              "          )\n",
              "          (norm1): LayerNorm((512,), eps=1e-05, elementwise_affine=True)\n",
              "          (norm2): LayerNorm((512,), eps=1e-05, elementwise_affine=True)\n",
              "          (feed_forward): Sequential(\n",
              "            (0): Linear(in_features=512, out_features=2048, bias=True)\n",
              "            (1): ReLU()\n",
              "            (2): Linear(in_features=2048, out_features=512, bias=True)\n",
              "          )\n",
              "          (dropout1): Dropout(p=0.2, inplace=False)\n",
              "          (dropout): Dropout(p=0.2, inplace=False)\n",
              "        )\n",
              "      )\n",
              "    )\n",
              "    (fc_out): Linear(in_features=512, out_features=11, bias=True)\n",
              "    (dropout): Dropout(p=0.2, inplace=False)\n",
              "  )\n",
              ")"
            ]
          },
          "metadata": {},
          "execution_count": 28
        }
      ]
    },
    {
      "cell_type": "code",
      "source": [
        "print(f\"src.shape:{src.shape}, Target.shape:{target.shape}\")\n",
        "out = model(src, target)\n",
        "out.shape"
      ],
      "metadata": {
        "colab": {
          "base_uri": "https://localhost:8080/",
          "height": 339
        },
        "id": "OahaeHhLTHU9",
        "outputId": "77177d09-4646-451c-e54d-66b9cd88a945"
      },
      "execution_count": null,
      "outputs": [
        {
          "output_type": "stream",
          "name": "stdout",
          "text": [
            "src.shape:torch.Size([2, 12]), Target.shape:torch.Size([2, 12])\n"
          ]
        },
        {
          "output_type": "error",
          "ename": "RuntimeError",
          "evalue": "mat1 and mat2 shapes cannot be multiplied (24x512 and 64x64)",
          "traceback": [
            "\u001b[0;31m---------------------------------------------------------------------------\u001b[0m",
            "\u001b[0;31mRuntimeError\u001b[0m                              Traceback (most recent call last)",
            "\u001b[0;32m<ipython-input-29-d83db0d714dd>\u001b[0m in \u001b[0;36m<cell line: 0>\u001b[0;34m()\u001b[0m\n\u001b[1;32m      1\u001b[0m \u001b[0mprint\u001b[0m\u001b[0;34m(\u001b[0m\u001b[0;34mf\"src.shape:{src.shape}, Target.shape:{target.shape}\"\u001b[0m\u001b[0;34m)\u001b[0m\u001b[0;34m\u001b[0m\u001b[0;34m\u001b[0m\u001b[0m\n\u001b[0;32m----> 2\u001b[0;31m \u001b[0mout\u001b[0m \u001b[0;34m=\u001b[0m \u001b[0mmodel\u001b[0m\u001b[0;34m(\u001b[0m\u001b[0msrc\u001b[0m\u001b[0;34m,\u001b[0m \u001b[0mtarget\u001b[0m\u001b[0;34m)\u001b[0m\u001b[0;34m\u001b[0m\u001b[0;34m\u001b[0m\u001b[0m\n\u001b[0m\u001b[1;32m      3\u001b[0m \u001b[0mout\u001b[0m\u001b[0;34m.\u001b[0m\u001b[0mshape\u001b[0m\u001b[0;34m\u001b[0m\u001b[0;34m\u001b[0m\u001b[0m\n",
            "\u001b[0;32m/usr/local/lib/python3.11/dist-packages/torch/nn/modules/module.py\u001b[0m in \u001b[0;36m_wrapped_call_impl\u001b[0;34m(self, *args, **kwargs)\u001b[0m\n\u001b[1;32m   1737\u001b[0m             \u001b[0;32mreturn\u001b[0m \u001b[0mself\u001b[0m\u001b[0;34m.\u001b[0m\u001b[0m_compiled_call_impl\u001b[0m\u001b[0;34m(\u001b[0m\u001b[0;34m*\u001b[0m\u001b[0margs\u001b[0m\u001b[0;34m,\u001b[0m \u001b[0;34m**\u001b[0m\u001b[0mkwargs\u001b[0m\u001b[0;34m)\u001b[0m  \u001b[0;31m# type: ignore[misc]\u001b[0m\u001b[0;34m\u001b[0m\u001b[0;34m\u001b[0m\u001b[0m\n\u001b[1;32m   1738\u001b[0m         \u001b[0;32melse\u001b[0m\u001b[0;34m:\u001b[0m\u001b[0;34m\u001b[0m\u001b[0;34m\u001b[0m\u001b[0m\n\u001b[0;32m-> 1739\u001b[0;31m             \u001b[0;32mreturn\u001b[0m \u001b[0mself\u001b[0m\u001b[0;34m.\u001b[0m\u001b[0m_call_impl\u001b[0m\u001b[0;34m(\u001b[0m\u001b[0;34m*\u001b[0m\u001b[0margs\u001b[0m\u001b[0;34m,\u001b[0m \u001b[0;34m**\u001b[0m\u001b[0mkwargs\u001b[0m\u001b[0;34m)\u001b[0m\u001b[0;34m\u001b[0m\u001b[0;34m\u001b[0m\u001b[0m\n\u001b[0m\u001b[1;32m   1740\u001b[0m \u001b[0;34m\u001b[0m\u001b[0m\n\u001b[1;32m   1741\u001b[0m     \u001b[0;31m# torchrec tests the code consistency with the following code\u001b[0m\u001b[0;34m\u001b[0m\u001b[0;34m\u001b[0m\u001b[0m\n",
            "\u001b[0;32m/usr/local/lib/python3.11/dist-packages/torch/nn/modules/module.py\u001b[0m in \u001b[0;36m_call_impl\u001b[0;34m(self, *args, **kwargs)\u001b[0m\n\u001b[1;32m   1748\u001b[0m                 \u001b[0;32mor\u001b[0m \u001b[0m_global_backward_pre_hooks\u001b[0m \u001b[0;32mor\u001b[0m \u001b[0m_global_backward_hooks\u001b[0m\u001b[0;34m\u001b[0m\u001b[0;34m\u001b[0m\u001b[0m\n\u001b[1;32m   1749\u001b[0m                 or _global_forward_hooks or _global_forward_pre_hooks):\n\u001b[0;32m-> 1750\u001b[0;31m             \u001b[0;32mreturn\u001b[0m \u001b[0mforward_call\u001b[0m\u001b[0;34m(\u001b[0m\u001b[0;34m*\u001b[0m\u001b[0margs\u001b[0m\u001b[0;34m,\u001b[0m \u001b[0;34m**\u001b[0m\u001b[0mkwargs\u001b[0m\u001b[0;34m)\u001b[0m\u001b[0;34m\u001b[0m\u001b[0;34m\u001b[0m\u001b[0m\n\u001b[0m\u001b[1;32m   1751\u001b[0m \u001b[0;34m\u001b[0m\u001b[0m\n\u001b[1;32m   1752\u001b[0m         \u001b[0mresult\u001b[0m \u001b[0;34m=\u001b[0m \u001b[0;32mNone\u001b[0m\u001b[0;34m\u001b[0m\u001b[0;34m\u001b[0m\u001b[0m\n",
            "\u001b[0;32m<ipython-input-27-75f9eef98d5d>\u001b[0m in \u001b[0;36mforward\u001b[0;34m(self, src, trg)\u001b[0m\n\u001b[1;32m     43\u001b[0m   \u001b[0;32mdef\u001b[0m \u001b[0mforward\u001b[0m\u001b[0;34m(\u001b[0m\u001b[0mself\u001b[0m\u001b[0;34m,\u001b[0m \u001b[0msrc\u001b[0m\u001b[0;34m,\u001b[0m \u001b[0mtrg\u001b[0m\u001b[0;34m)\u001b[0m\u001b[0;34m:\u001b[0m\u001b[0;34m\u001b[0m\u001b[0;34m\u001b[0m\u001b[0m\n\u001b[1;32m     44\u001b[0m     \u001b[0mtrg_mask\u001b[0m \u001b[0;34m=\u001b[0m \u001b[0mself\u001b[0m\u001b[0;34m.\u001b[0m\u001b[0mmake_trg_mask\u001b[0m\u001b[0;34m(\u001b[0m\u001b[0mtrg\u001b[0m\u001b[0;34m)\u001b[0m\u001b[0;34m\u001b[0m\u001b[0;34m\u001b[0m\u001b[0m\n\u001b[0;32m---> 45\u001b[0;31m     \u001b[0menc_out\u001b[0m \u001b[0;34m=\u001b[0m \u001b[0mself\u001b[0m\u001b[0;34m.\u001b[0m\u001b[0mencoder\u001b[0m\u001b[0;34m(\u001b[0m\u001b[0msrc\u001b[0m\u001b[0;34m)\u001b[0m\u001b[0;34m\u001b[0m\u001b[0;34m\u001b[0m\u001b[0m\n\u001b[0m\u001b[1;32m     46\u001b[0m \u001b[0;34m\u001b[0m\u001b[0m\n\u001b[1;32m     47\u001b[0m     \u001b[0moutputs\u001b[0m \u001b[0;34m=\u001b[0m \u001b[0mself\u001b[0m\u001b[0;34m.\u001b[0m\u001b[0mdecoder\u001b[0m\u001b[0;34m(\u001b[0m\u001b[0mtrg\u001b[0m\u001b[0;34m,\u001b[0m \u001b[0menc_out\u001b[0m\u001b[0;34m,\u001b[0m \u001b[0mtrg_mask\u001b[0m\u001b[0;34m)\u001b[0m\u001b[0;34m\u001b[0m\u001b[0;34m\u001b[0m\u001b[0m\n",
            "\u001b[0;32m/usr/local/lib/python3.11/dist-packages/torch/nn/modules/module.py\u001b[0m in \u001b[0;36m_wrapped_call_impl\u001b[0;34m(self, *args, **kwargs)\u001b[0m\n\u001b[1;32m   1737\u001b[0m             \u001b[0;32mreturn\u001b[0m \u001b[0mself\u001b[0m\u001b[0;34m.\u001b[0m\u001b[0m_compiled_call_impl\u001b[0m\u001b[0;34m(\u001b[0m\u001b[0;34m*\u001b[0m\u001b[0margs\u001b[0m\u001b[0;34m,\u001b[0m \u001b[0;34m**\u001b[0m\u001b[0mkwargs\u001b[0m\u001b[0;34m)\u001b[0m  \u001b[0;31m# type: ignore[misc]\u001b[0m\u001b[0;34m\u001b[0m\u001b[0;34m\u001b[0m\u001b[0m\n\u001b[1;32m   1738\u001b[0m         \u001b[0;32melse\u001b[0m\u001b[0;34m:\u001b[0m\u001b[0;34m\u001b[0m\u001b[0;34m\u001b[0m\u001b[0m\n\u001b[0;32m-> 1739\u001b[0;31m             \u001b[0;32mreturn\u001b[0m \u001b[0mself\u001b[0m\u001b[0;34m.\u001b[0m\u001b[0m_call_impl\u001b[0m\u001b[0;34m(\u001b[0m\u001b[0;34m*\u001b[0m\u001b[0margs\u001b[0m\u001b[0;34m,\u001b[0m \u001b[0;34m**\u001b[0m\u001b[0mkwargs\u001b[0m\u001b[0;34m)\u001b[0m\u001b[0;34m\u001b[0m\u001b[0;34m\u001b[0m\u001b[0m\n\u001b[0m\u001b[1;32m   1740\u001b[0m \u001b[0;34m\u001b[0m\u001b[0m\n\u001b[1;32m   1741\u001b[0m     \u001b[0;31m# torchrec tests the code consistency with the following code\u001b[0m\u001b[0;34m\u001b[0m\u001b[0;34m\u001b[0m\u001b[0m\n",
            "\u001b[0;32m/usr/local/lib/python3.11/dist-packages/torch/nn/modules/module.py\u001b[0m in \u001b[0;36m_call_impl\u001b[0;34m(self, *args, **kwargs)\u001b[0m\n\u001b[1;32m   1748\u001b[0m                 \u001b[0;32mor\u001b[0m \u001b[0m_global_backward_pre_hooks\u001b[0m \u001b[0;32mor\u001b[0m \u001b[0m_global_backward_hooks\u001b[0m\u001b[0;34m\u001b[0m\u001b[0;34m\u001b[0m\u001b[0m\n\u001b[1;32m   1749\u001b[0m                 or _global_forward_hooks or _global_forward_pre_hooks):\n\u001b[0;32m-> 1750\u001b[0;31m             \u001b[0;32mreturn\u001b[0m \u001b[0mforward_call\u001b[0m\u001b[0;34m(\u001b[0m\u001b[0;34m*\u001b[0m\u001b[0margs\u001b[0m\u001b[0;34m,\u001b[0m \u001b[0;34m**\u001b[0m\u001b[0mkwargs\u001b[0m\u001b[0;34m)\u001b[0m\u001b[0;34m\u001b[0m\u001b[0;34m\u001b[0m\u001b[0m\n\u001b[0m\u001b[1;32m   1751\u001b[0m \u001b[0;34m\u001b[0m\u001b[0m\n\u001b[1;32m   1752\u001b[0m         \u001b[0mresult\u001b[0m \u001b[0;34m=\u001b[0m \u001b[0;32mNone\u001b[0m\u001b[0;34m\u001b[0m\u001b[0;34m\u001b[0m\u001b[0m\n",
            "\u001b[0;32m<ipython-input-25-c5b91b7649e4>\u001b[0m in \u001b[0;36mforward\u001b[0;34m(self, x)\u001b[0m\n\u001b[1;32m     46\u001b[0m \u001b[0;34m\u001b[0m\u001b[0m\n\u001b[1;32m     47\u001b[0m     \u001b[0;32mfor\u001b[0m \u001b[0mlayer\u001b[0m \u001b[0;32min\u001b[0m \u001b[0mself\u001b[0m\u001b[0;34m.\u001b[0m\u001b[0mlayers\u001b[0m\u001b[0;34m:\u001b[0m\u001b[0;34m\u001b[0m\u001b[0;34m\u001b[0m\u001b[0m\n\u001b[0;32m---> 48\u001b[0;31m       \u001b[0mout\u001b[0m \u001b[0;34m=\u001b[0m \u001b[0mlayer\u001b[0m\u001b[0;34m(\u001b[0m\u001b[0mout\u001b[0m\u001b[0;34m,\u001b[0m\u001b[0mout\u001b[0m\u001b[0;34m,\u001b[0m\u001b[0mout\u001b[0m\u001b[0;34m)\u001b[0m\u001b[0;34m\u001b[0m\u001b[0;34m\u001b[0m\u001b[0m\n\u001b[0m\u001b[1;32m     49\u001b[0m \u001b[0;34m\u001b[0m\u001b[0m\n\u001b[1;32m     50\u001b[0m     \u001b[0;32mreturn\u001b[0m \u001b[0mout\u001b[0m\u001b[0;34m\u001b[0m\u001b[0;34m\u001b[0m\u001b[0m\n",
            "\u001b[0;32m/usr/local/lib/python3.11/dist-packages/torch/nn/modules/module.py\u001b[0m in \u001b[0;36m_wrapped_call_impl\u001b[0;34m(self, *args, **kwargs)\u001b[0m\n\u001b[1;32m   1737\u001b[0m             \u001b[0;32mreturn\u001b[0m \u001b[0mself\u001b[0m\u001b[0;34m.\u001b[0m\u001b[0m_compiled_call_impl\u001b[0m\u001b[0;34m(\u001b[0m\u001b[0;34m*\u001b[0m\u001b[0margs\u001b[0m\u001b[0;34m,\u001b[0m \u001b[0;34m**\u001b[0m\u001b[0mkwargs\u001b[0m\u001b[0;34m)\u001b[0m  \u001b[0;31m# type: ignore[misc]\u001b[0m\u001b[0;34m\u001b[0m\u001b[0;34m\u001b[0m\u001b[0m\n\u001b[1;32m   1738\u001b[0m         \u001b[0;32melse\u001b[0m\u001b[0;34m:\u001b[0m\u001b[0;34m\u001b[0m\u001b[0;34m\u001b[0m\u001b[0m\n\u001b[0;32m-> 1739\u001b[0;31m             \u001b[0;32mreturn\u001b[0m \u001b[0mself\u001b[0m\u001b[0;34m.\u001b[0m\u001b[0m_call_impl\u001b[0m\u001b[0;34m(\u001b[0m\u001b[0;34m*\u001b[0m\u001b[0margs\u001b[0m\u001b[0;34m,\u001b[0m \u001b[0;34m**\u001b[0m\u001b[0mkwargs\u001b[0m\u001b[0;34m)\u001b[0m\u001b[0;34m\u001b[0m\u001b[0;34m\u001b[0m\u001b[0m\n\u001b[0m\u001b[1;32m   1740\u001b[0m \u001b[0;34m\u001b[0m\u001b[0m\n\u001b[1;32m   1741\u001b[0m     \u001b[0;31m# torchrec tests the code consistency with the following code\u001b[0m\u001b[0;34m\u001b[0m\u001b[0;34m\u001b[0m\u001b[0m\n",
            "\u001b[0;32m/usr/local/lib/python3.11/dist-packages/torch/nn/modules/module.py\u001b[0m in \u001b[0;36m_call_impl\u001b[0;34m(self, *args, **kwargs)\u001b[0m\n\u001b[1;32m   1748\u001b[0m                 \u001b[0;32mor\u001b[0m \u001b[0m_global_backward_pre_hooks\u001b[0m \u001b[0;32mor\u001b[0m \u001b[0m_global_backward_hooks\u001b[0m\u001b[0;34m\u001b[0m\u001b[0;34m\u001b[0m\u001b[0m\n\u001b[1;32m   1749\u001b[0m                 or _global_forward_hooks or _global_forward_pre_hooks):\n\u001b[0;32m-> 1750\u001b[0;31m             \u001b[0;32mreturn\u001b[0m \u001b[0mforward_call\u001b[0m\u001b[0;34m(\u001b[0m\u001b[0;34m*\u001b[0m\u001b[0margs\u001b[0m\u001b[0;34m,\u001b[0m \u001b[0;34m**\u001b[0m\u001b[0mkwargs\u001b[0m\u001b[0;34m)\u001b[0m\u001b[0;34m\u001b[0m\u001b[0;34m\u001b[0m\u001b[0m\n\u001b[0m\u001b[1;32m   1751\u001b[0m \u001b[0;34m\u001b[0m\u001b[0m\n\u001b[1;32m   1752\u001b[0m         \u001b[0mresult\u001b[0m \u001b[0;34m=\u001b[0m \u001b[0;32mNone\u001b[0m\u001b[0;34m\u001b[0m\u001b[0;34m\u001b[0m\u001b[0m\n",
            "\u001b[0;32m<ipython-input-25-c5b91b7649e4>\u001b[0m in \u001b[0;36mforward\u001b[0;34m(self, key, query, value)\u001b[0m\n\u001b[1;32m     19\u001b[0m \u001b[0;34m\u001b[0m\u001b[0m\n\u001b[1;32m     20\u001b[0m   \u001b[0;32mdef\u001b[0m \u001b[0mforward\u001b[0m\u001b[0;34m(\u001b[0m\u001b[0mself\u001b[0m\u001b[0;34m,\u001b[0m \u001b[0mkey\u001b[0m\u001b[0;34m,\u001b[0m \u001b[0mquery\u001b[0m\u001b[0;34m,\u001b[0m \u001b[0mvalue\u001b[0m\u001b[0;34m)\u001b[0m\u001b[0;34m:\u001b[0m\u001b[0;34m\u001b[0m\u001b[0;34m\u001b[0m\u001b[0m\n\u001b[0;32m---> 21\u001b[0;31m     \u001b[0mattention_out\u001b[0m \u001b[0;34m=\u001b[0m \u001b[0mself\u001b[0m\u001b[0;34m.\u001b[0m\u001b[0mattention\u001b[0m\u001b[0;34m(\u001b[0m\u001b[0mkey\u001b[0m\u001b[0;34m,\u001b[0m \u001b[0mquery\u001b[0m\u001b[0;34m,\u001b[0m \u001b[0mvalue\u001b[0m\u001b[0;34m)\u001b[0m\u001b[0;34m\u001b[0m\u001b[0;34m\u001b[0m\u001b[0m\n\u001b[0m\u001b[1;32m     22\u001b[0m     \u001b[0mattention_residual_out\u001b[0m \u001b[0;34m=\u001b[0m \u001b[0mattention_out\u001b[0m \u001b[0;34m+\u001b[0m \u001b[0mvalue\u001b[0m\u001b[0;34m\u001b[0m\u001b[0;34m\u001b[0m\u001b[0m\n\u001b[1;32m     23\u001b[0m     \u001b[0mnorm1_out\u001b[0m \u001b[0;34m=\u001b[0m \u001b[0mself\u001b[0m\u001b[0;34m.\u001b[0m\u001b[0mdropout1\u001b[0m\u001b[0;34m(\u001b[0m\u001b[0mself\u001b[0m\u001b[0;34m.\u001b[0m\u001b[0mnorm1\u001b[0m\u001b[0;34m(\u001b[0m\u001b[0mattention_residual_out\u001b[0m\u001b[0;34m)\u001b[0m\u001b[0;34m)\u001b[0m\u001b[0;34m\u001b[0m\u001b[0;34m\u001b[0m\u001b[0m\n",
            "\u001b[0;32m/usr/local/lib/python3.11/dist-packages/torch/nn/modules/module.py\u001b[0m in \u001b[0;36m_wrapped_call_impl\u001b[0;34m(self, *args, **kwargs)\u001b[0m\n\u001b[1;32m   1737\u001b[0m             \u001b[0;32mreturn\u001b[0m \u001b[0mself\u001b[0m\u001b[0;34m.\u001b[0m\u001b[0m_compiled_call_impl\u001b[0m\u001b[0;34m(\u001b[0m\u001b[0;34m*\u001b[0m\u001b[0margs\u001b[0m\u001b[0;34m,\u001b[0m \u001b[0;34m**\u001b[0m\u001b[0mkwargs\u001b[0m\u001b[0;34m)\u001b[0m  \u001b[0;31m# type: ignore[misc]\u001b[0m\u001b[0;34m\u001b[0m\u001b[0;34m\u001b[0m\u001b[0m\n\u001b[1;32m   1738\u001b[0m         \u001b[0;32melse\u001b[0m\u001b[0;34m:\u001b[0m\u001b[0;34m\u001b[0m\u001b[0;34m\u001b[0m\u001b[0m\n\u001b[0;32m-> 1739\u001b[0;31m             \u001b[0;32mreturn\u001b[0m \u001b[0mself\u001b[0m\u001b[0;34m.\u001b[0m\u001b[0m_call_impl\u001b[0m\u001b[0;34m(\u001b[0m\u001b[0;34m*\u001b[0m\u001b[0margs\u001b[0m\u001b[0;34m,\u001b[0m \u001b[0;34m**\u001b[0m\u001b[0mkwargs\u001b[0m\u001b[0;34m)\u001b[0m\u001b[0;34m\u001b[0m\u001b[0;34m\u001b[0m\u001b[0m\n\u001b[0m\u001b[1;32m   1740\u001b[0m \u001b[0;34m\u001b[0m\u001b[0m\n\u001b[1;32m   1741\u001b[0m     \u001b[0;31m# torchrec tests the code consistency with the following code\u001b[0m\u001b[0;34m\u001b[0m\u001b[0;34m\u001b[0m\u001b[0m\n",
            "\u001b[0;32m/usr/local/lib/python3.11/dist-packages/torch/nn/modules/module.py\u001b[0m in \u001b[0;36m_call_impl\u001b[0;34m(self, *args, **kwargs)\u001b[0m\n\u001b[1;32m   1748\u001b[0m                 \u001b[0;32mor\u001b[0m \u001b[0m_global_backward_pre_hooks\u001b[0m \u001b[0;32mor\u001b[0m \u001b[0m_global_backward_hooks\u001b[0m\u001b[0;34m\u001b[0m\u001b[0;34m\u001b[0m\u001b[0m\n\u001b[1;32m   1749\u001b[0m                 or _global_forward_hooks or _global_forward_pre_hooks):\n\u001b[0;32m-> 1750\u001b[0;31m             \u001b[0;32mreturn\u001b[0m \u001b[0mforward_call\u001b[0m\u001b[0;34m(\u001b[0m\u001b[0;34m*\u001b[0m\u001b[0margs\u001b[0m\u001b[0;34m,\u001b[0m \u001b[0;34m**\u001b[0m\u001b[0mkwargs\u001b[0m\u001b[0;34m)\u001b[0m\u001b[0;34m\u001b[0m\u001b[0;34m\u001b[0m\u001b[0m\n\u001b[0m\u001b[1;32m   1751\u001b[0m \u001b[0;34m\u001b[0m\u001b[0m\n\u001b[1;32m   1752\u001b[0m         \u001b[0mresult\u001b[0m \u001b[0;34m=\u001b[0m \u001b[0;32mNone\u001b[0m\u001b[0;34m\u001b[0m\u001b[0;34m\u001b[0m\u001b[0m\n",
            "\u001b[0;32m<ipython-input-24-0bcba7bbc815>\u001b[0m in \u001b[0;36mforward\u001b[0;34m(self, key, query, value, mask)\u001b[0m\n\u001b[1;32m     33\u001b[0m     \u001b[0mq\u001b[0m \u001b[0;34m=\u001b[0m \u001b[0mself\u001b[0m\u001b[0;34m.\u001b[0m\u001b[0mquery_matrix\u001b[0m\u001b[0;34m(\u001b[0m\u001b[0mquery\u001b[0m\u001b[0;34m)\u001b[0m\u001b[0;34m\u001b[0m\u001b[0;34m\u001b[0m\u001b[0m\n\u001b[1;32m     34\u001b[0m \u001b[0;34m\u001b[0m\u001b[0m\n\u001b[0;32m---> 35\u001b[0;31m     \u001b[0mv\u001b[0m \u001b[0;34m=\u001b[0m \u001b[0mself\u001b[0m\u001b[0;34m.\u001b[0m\u001b[0mvalue_matrix\u001b[0m\u001b[0;34m(\u001b[0m\u001b[0mvalue\u001b[0m\u001b[0;34m)\u001b[0m\u001b[0;34m\u001b[0m\u001b[0;34m\u001b[0m\u001b[0m\n\u001b[0m\u001b[1;32m     36\u001b[0m \u001b[0;34m\u001b[0m\u001b[0m\n\u001b[1;32m     37\u001b[0m     \u001b[0mk\u001b[0m \u001b[0;34m=\u001b[0m \u001b[0mk\u001b[0m\u001b[0;34m.\u001b[0m\u001b[0mtranspose\u001b[0m\u001b[0;34m(\u001b[0m\u001b[0;36m1\u001b[0m\u001b[0;34m,\u001b[0m\u001b[0;36m2\u001b[0m\u001b[0;34m)\u001b[0m \u001b[0;31m#(32x10x8x64) --> (32x8x10x64)\u001b[0m\u001b[0;34m\u001b[0m\u001b[0;34m\u001b[0m\u001b[0m\n",
            "\u001b[0;32m/usr/local/lib/python3.11/dist-packages/torch/nn/modules/module.py\u001b[0m in \u001b[0;36m_wrapped_call_impl\u001b[0;34m(self, *args, **kwargs)\u001b[0m\n\u001b[1;32m   1737\u001b[0m             \u001b[0;32mreturn\u001b[0m \u001b[0mself\u001b[0m\u001b[0;34m.\u001b[0m\u001b[0m_compiled_call_impl\u001b[0m\u001b[0;34m(\u001b[0m\u001b[0;34m*\u001b[0m\u001b[0margs\u001b[0m\u001b[0;34m,\u001b[0m \u001b[0;34m**\u001b[0m\u001b[0mkwargs\u001b[0m\u001b[0;34m)\u001b[0m  \u001b[0;31m# type: ignore[misc]\u001b[0m\u001b[0;34m\u001b[0m\u001b[0;34m\u001b[0m\u001b[0m\n\u001b[1;32m   1738\u001b[0m         \u001b[0;32melse\u001b[0m\u001b[0;34m:\u001b[0m\u001b[0;34m\u001b[0m\u001b[0;34m\u001b[0m\u001b[0m\n\u001b[0;32m-> 1739\u001b[0;31m             \u001b[0;32mreturn\u001b[0m \u001b[0mself\u001b[0m\u001b[0;34m.\u001b[0m\u001b[0m_call_impl\u001b[0m\u001b[0;34m(\u001b[0m\u001b[0;34m*\u001b[0m\u001b[0margs\u001b[0m\u001b[0;34m,\u001b[0m \u001b[0;34m**\u001b[0m\u001b[0mkwargs\u001b[0m\u001b[0;34m)\u001b[0m\u001b[0;34m\u001b[0m\u001b[0;34m\u001b[0m\u001b[0m\n\u001b[0m\u001b[1;32m   1740\u001b[0m \u001b[0;34m\u001b[0m\u001b[0m\n\u001b[1;32m   1741\u001b[0m     \u001b[0;31m# torchrec tests the code consistency with the following code\u001b[0m\u001b[0;34m\u001b[0m\u001b[0;34m\u001b[0m\u001b[0m\n",
            "\u001b[0;32m/usr/local/lib/python3.11/dist-packages/torch/nn/modules/module.py\u001b[0m in \u001b[0;36m_call_impl\u001b[0;34m(self, *args, **kwargs)\u001b[0m\n\u001b[1;32m   1748\u001b[0m                 \u001b[0;32mor\u001b[0m \u001b[0m_global_backward_pre_hooks\u001b[0m \u001b[0;32mor\u001b[0m \u001b[0m_global_backward_hooks\u001b[0m\u001b[0;34m\u001b[0m\u001b[0;34m\u001b[0m\u001b[0m\n\u001b[1;32m   1749\u001b[0m                 or _global_forward_hooks or _global_forward_pre_hooks):\n\u001b[0;32m-> 1750\u001b[0;31m             \u001b[0;32mreturn\u001b[0m \u001b[0mforward_call\u001b[0m\u001b[0;34m(\u001b[0m\u001b[0;34m*\u001b[0m\u001b[0margs\u001b[0m\u001b[0;34m,\u001b[0m \u001b[0;34m**\u001b[0m\u001b[0mkwargs\u001b[0m\u001b[0;34m)\u001b[0m\u001b[0;34m\u001b[0m\u001b[0;34m\u001b[0m\u001b[0m\n\u001b[0m\u001b[1;32m   1751\u001b[0m \u001b[0;34m\u001b[0m\u001b[0m\n\u001b[1;32m   1752\u001b[0m         \u001b[0mresult\u001b[0m \u001b[0;34m=\u001b[0m \u001b[0;32mNone\u001b[0m\u001b[0;34m\u001b[0m\u001b[0;34m\u001b[0m\u001b[0m\n",
            "\u001b[0;32m/usr/local/lib/python3.11/dist-packages/torch/nn/modules/linear.py\u001b[0m in \u001b[0;36mforward\u001b[0;34m(self, input)\u001b[0m\n\u001b[1;32m    123\u001b[0m \u001b[0;34m\u001b[0m\u001b[0m\n\u001b[1;32m    124\u001b[0m     \u001b[0;32mdef\u001b[0m \u001b[0mforward\u001b[0m\u001b[0;34m(\u001b[0m\u001b[0mself\u001b[0m\u001b[0;34m,\u001b[0m \u001b[0minput\u001b[0m\u001b[0;34m:\u001b[0m \u001b[0mTensor\u001b[0m\u001b[0;34m)\u001b[0m \u001b[0;34m->\u001b[0m \u001b[0mTensor\u001b[0m\u001b[0;34m:\u001b[0m\u001b[0;34m\u001b[0m\u001b[0;34m\u001b[0m\u001b[0m\n\u001b[0;32m--> 125\u001b[0;31m         \u001b[0;32mreturn\u001b[0m \u001b[0mF\u001b[0m\u001b[0;34m.\u001b[0m\u001b[0mlinear\u001b[0m\u001b[0;34m(\u001b[0m\u001b[0minput\u001b[0m\u001b[0;34m,\u001b[0m \u001b[0mself\u001b[0m\u001b[0;34m.\u001b[0m\u001b[0mweight\u001b[0m\u001b[0;34m,\u001b[0m \u001b[0mself\u001b[0m\u001b[0;34m.\u001b[0m\u001b[0mbias\u001b[0m\u001b[0;34m)\u001b[0m\u001b[0;34m\u001b[0m\u001b[0;34m\u001b[0m\u001b[0m\n\u001b[0m\u001b[1;32m    126\u001b[0m \u001b[0;34m\u001b[0m\u001b[0m\n\u001b[1;32m    127\u001b[0m     \u001b[0;32mdef\u001b[0m \u001b[0mextra_repr\u001b[0m\u001b[0;34m(\u001b[0m\u001b[0mself\u001b[0m\u001b[0;34m)\u001b[0m \u001b[0;34m->\u001b[0m \u001b[0mstr\u001b[0m\u001b[0;34m:\u001b[0m\u001b[0;34m\u001b[0m\u001b[0;34m\u001b[0m\u001b[0m\n",
            "\u001b[0;31mRuntimeError\u001b[0m: mat1 and mat2 shapes cannot be multiplied (24x512 and 64x64)"
          ]
        }
      ]
    },
    {
      "cell_type": "markdown",
      "source": [
        "### Vision Transformer"
      ],
      "metadata": {
        "id": "HRf1mIaqbaE0"
      }
    },
    {
      "cell_type": "markdown",
      "source": [
        "Let’s dive into this Vision Transformer (ViT) implementation in PyTorch, breaking it down step-by-step to ensure you understand every component thoroughly for your exam or workshop. The code implements a ViT model tailored for the MNIST dataset, which consists of 28x28 grayscale images of handwritten digits (0-9). The ViT architecture is adapted from the original Transformer model, traditionally used in NLP, to process images by treating them as sequences of patches. Below, I’ll explain the code’s structure, key components, and their roles in detail.\n",
        "\n",
        "---\n",
        "\n",
        "### **Overview of Vision Transformer (ViT)**\n",
        "\n",
        "The Vision Transformer (ViT) is a model that applies the Transformer architecture to image classification tasks. Instead of using convolutional neural networks (CNNs), ViT divides an image into fixed-size patches, flattens these patches into vectors, and processes them as a sequence of tokens, similar to words in NLP. These tokens are fed into a Transformer encoder, which uses self-attention to capture relationships between patches, followed by a classification head to predict the output class.\n",
        "\n",
        "The provided code implements a lightweight ViT for MNIST, with the following key components:\n",
        "1. **Patchification**: Dividing images into patches.\n",
        "2. **Patch Embedding**: Mapping patches to a fixed-dimensional space.\n",
        "3. **Positional Encoding**: Adding positional information to patches.\n",
        "4. **Transformer Encoder Blocks**: Applying self-attention and feed-forward layers.\n",
        "5. **Classification Head**: Predicting the digit class.\n",
        "\n",
        "---\n",
        "\n",
        "### **Code Structure**\n",
        "\n",
        "The code is organized into several key functions and classes:\n",
        "- **Utility Functions**:\n",
        "  - `patchify`: Converts images into a sequence of flattened patches.\n",
        "  - `get_positional_embeddings`: Generates sinusoidal positional embeddings for patches.\n",
        "- **Model Components**:\n",
        "  - `MyMSA`: Multi-Head Self-Attention module.\n",
        "  - `MyViTBlock`: Transformer encoder block combining attention and MLP.\n",
        "  - `MyViT`: The complete ViT model.\n",
        "- **Main Function**: Handles data loading, model training, and evaluation.\n",
        "\n",
        "Let’s break down each part.\n",
        "\n",
        "---\n",
        "\n",
        "### **1. Patchification (`patchify`)**\n",
        "\n",
        "```python\n",
        "def patchify(images, n_patches):\n",
        "    n, c, h, w = images.shape\n",
        "    assert h == w, \"Patchify method is implemented for square images only\"\n",
        "    patches = torch.zeros(n, n_patches**2, h * w * c // n_patches**2)\n",
        "    patch_size = h // n_patches\n",
        "    for idx, image in enumerate(images):\n",
        "        for i in range(n_patches):\n",
        "            for j in range(n_patches):\n",
        "                patch = image[\n",
        "                    :, i * patch_size : (i + 1) * patch_size, j * patch_size : (j + 1) * patch_size,\n",
        "                ]\n",
        "                patches[idx, i * n_patches + j] = patch.flatten()\n",
        "    return patches\n",
        "```\n",
        "\n",
        "**Purpose**: This function divides an input image into a grid of non-overlapping patches and flattens each patch into a vector.\n",
        "\n",
        "**Details**:\n",
        "- **Input**: A batch of images with shape `(n, c, h, w)`, where:\n",
        "  - `n`: Batch size (number of images).\n",
        "  - `c`: Number of channels (1 for MNIST grayscale).\n",
        "  - `h, w`: Height and width (28x28 for MNIST).\n",
        "- **Parameters**:\n",
        "  - `n_patches`: Number of patches per dimension (e.g., `n_patches=7` creates a 7x7 grid, yielding 49 patches).\n",
        "- **Process**:\n",
        "  - Ensures the image is square (`h == w`).\n",
        "  - Computes `patch_size = h // n_patches` (e.g., 28 ÷ 7 = 4 pixels per patch).\n",
        "  - For each image, extracts patches of size `(c, patch_size, patch_size)` (e.g., 1x4x4 for MNIST).\n",
        "  - Flattens each patch into a vector of length `c * patch_size * patch_size` (e.g., 1x4x4 = 16).\n",
        "  - Stores patches in a tensor of shape `(n, n_patches**2, patch_dim)`, where `patch_dim = c * h * w // n_patches**2`.\n",
        "- **Output**: A tensor of shape `(n, 49, 16)` for MNIST with `n_patches=7`.\n",
        "\n",
        "**Why**: ViT treats images as sequences of patches, analogous to tokens in NLP. This function prepares the input for the Transformer by converting 2D images into a 1D sequence of patch vectors.\n",
        "\n",
        "---\n",
        "\n",
        "### **2. Multi-Head Self-Attention (`MyMSA`)**\n",
        "\n",
        "```python\n",
        "class MyMSA(nn.Module):\n",
        "    def __init__(self, d, n_heads=2):\n",
        "        super(MyMSA, self).__init__()\n",
        "        self.d = d\n",
        "        self.n_heads = n_heads\n",
        "        assert d % n_heads == 0, f\"Can't divide dimension {d} into {n_heads} heads\"\n",
        "        d_head = int(d / n_heads)\n",
        "        self.q_mappings = nn.ModuleList([nn.Linear(d_head, d_head) for _ in range(self.n_heads)])\n",
        "        self.k_mappings = nn.ModuleList([nn.Linear(d_head, d_head) for _ in range(self.n_heads)])\n",
        "        self.v_mappings = nn.ModuleList([nn.Linear(d_head, d_head) for _ in range(self.n_heads)])\n",
        "        self.d_head = d_head\n",
        "        self.softmax = nn.Softmax(dim=-1)\n",
        "\n",
        "    def forward(self, sequences):\n",
        "        result = []\n",
        "        for sequence in sequences:\n",
        "            seq_result = []\n",
        "            for head in range(self.n_heads):\n",
        "                q_mapping = self.q_mappings[head]\n",
        "                k_mapping = self.k_mappings[head]\n",
        "                v_mapping = self.v_mappings[head]\n",
        "                seq = sequence[:, head * self.d_head : (head + 1) * self.d_head]\n",
        "                q, k, v = q_mapping(seq), k_mapping(seq), v_mapping(seq)\n",
        "                attention = self.softmax(q @ k.T / (self.d_head**0.5))\n",
        "                seq_result.append(attention @ v)\n",
        "            result.append(torch.hstack(seq_result))\n",
        "        return torch.cat([torch.unsqueeze(r, dim=0) for r in result])\n",
        "```\n",
        "\n",
        "**Purpose**: Implements Multi-Head Self-Attention (MHSA), the core mechanism of Transformers, which allows the model to weigh the importance of different patches when processing a sequence.\n",
        "\n",
        "**Details**:\n",
        "- **Initialization**:\n",
        "  - `d`: The dimensionality of each token (e.g., `hidden_d=8`).\n",
        "  - `n_heads`: Number of attention heads (e.g., 2).\n",
        "  - `d_head = d / n_heads`: Dimension per head (e.g., 8 ÷ 2 = 4).\n",
        "  - Creates separate linear layers (`nn.Linear`) for Query (`q`), Key (`k`), and Value (`v`) mappings for each head.\n",
        "  - Ensures `d` is divisible by `n_heads`.\n",
        "- **Forward Pass**:\n",
        "  - **Input**: A batch of sequences with shape `(n, seq_length, d)`, where `seq_length = n_patches**2 + 1` (49 patches + 1 class token = 50).\n",
        "  - For each sequence in the batch:\n",
        "    - Splits the token dimension (`d`) into `n_heads` chunks (e.g., 8 → two chunks of 4).\n",
        "    - For each head:\n",
        "      - Applies linear mappings to compute `q`, `k`, `v` (shape: `(seq_length, d_head)`).\n",
        "      - Computes attention scores: `attention = softmax((q @ k.T) / sqrt(d_head))`.\n",
        "      - The scaling factor `sqrt(d_head)` prevents large values in the dot product.\n",
        "      - Computes output: `attention @ v` (shape: `(seq_length, d_head)`).\n",
        "    - Concatenates outputs from all heads: `torch.hstack(seq_result)` (shape: `(seq_length, d)`).\n",
        "  - Combines batch results into shape `(n, seq_length, d)`.\n",
        "\n",
        "**Why**: MHSA allows the model to focus on relevant patches by computing attention scores, enabling it to capture global dependencies across the image (e.g., relating the top-left corner to the bottom-right).\n",
        "\n",
        "**Note**: The implementation processes each sequence individually in a loop, which is less efficient than a batched matrix operation. In practice, PyTorch’s `nn.MultiheadAttention` would be used for better performance.\n",
        "\n",
        "---\n",
        "\n",
        "### **3. Transformer Encoder Block (`MyViTBlock`)**\n",
        "\n",
        "```python\n",
        "class MyViTBlock(nn.Module):\n",
        "    def __init__(self, hidden_d, n_heads, mlp_ratio=4):\n",
        "        super(MyViTBlock, self).__init__()\n",
        "        self.hidden_d = hidden_d\n",
        "        self.n_heads = n_heads\n",
        "        self.norm1 = nn.LayerNorm(hidden_d)\n",
        "        self.mhsa = MyMSA(hidden_d, n_heads)\n",
        "        self.norm2 = nn.LayerNorm(hidden_d)\n",
        "        self.mlp = nn.Sequential(\n",
        "            nn.Linear(hidden_d, mlp_ratio * hidden_d),\n",
        "            nn.GELU(),\n",
        "            nn.Linear(mlp_ratio * hidden_d, hidden_d),\n",
        "        )\n",
        "\n",
        "    def forward(self, x):\n",
        "        out = x + self.mhsa(self.norm1(x))\n",
        "        out = out + self.mlp(self.norm2(out))\n",
        "        return out\n",
        "```\n",
        "\n",
        "**Purpose**: Implements a single Transformer encoder block, which combines MHSA with a feed-forward MLP and residual connections.\n",
        "\n",
        "**Details**:\n",
        "- **Initialization**:\n",
        "  - `hidden_d`: Token dimension (e.g., 8).\n",
        "  - `n_heads`: Number of attention heads (e.g., 2).\n",
        "  - `mlp_ratio`: Expansion factor for the MLP (e.g., 4, so MLP hidden layer is `4 * hidden_d = 32`).\n",
        "  - Components:\n",
        "    - `norm1`: Layer normalization before MHSA.\n",
        "    - `mhsa`: Multi-Head Self-Attention module.\n",
        "    - `norm2`: Layer normalization before MLP.\n",
        "    - `mlp`: A two-layer feed-forward network with GELU activation, expanding to `mlp_ratio * hidden_d` and back to `hidden_d`.\n",
        "- **Forward Pass**:\n",
        "  - Input: `(n, seq_length, hidden_d)`.\n",
        "  - First sub-layer: `x + mhsa(norm1(x))` (MHSA with residual connection).\n",
        "  - Second sub-layer: `out + mlp(norm2(out))` (MLP with residual connection).\n",
        "  - Output: Same shape as input.\n",
        "\n",
        "**Why**: The Transformer block processes the sequence of patches, allowing the model to learn complex relationships via attention and non-linear transformations via the MLP. Residual connections and layer normalization stabilize training.\n",
        "\n",
        "---\n",
        "\n",
        "### **4. Vision Transformer Model (`MyViT`)**\n",
        "\n",
        "```python\n",
        "class MyViT(nn.Module):\n",
        "    def __init__(self, chw, n_patches=7, n_blocks=2, hidden_d=8, n_heads=2, out_d=10):\n",
        "        super(MyViT, self).__init__()\n",
        "        self.chw = chw  # ( C , H , W )\n",
        "        self.n_patches = n_patches\n",
        "        self.n_blocks = n_blocks\n",
        "        self.n_heads = n_heads\n",
        "        self.hidden_d = hidden_d\n",
        "        assert chw[1] % n_patches == 0, \"Input shape not entirely divisible by number of patches\"\n",
        "        assert chw[2] % n_patches == 0, \"Input shape not entirely divisible by number of patches\"\n",
        "        self.patch_size = (chw[1] / n_patches, chw[2] / n_patches)\n",
        "        self.input_d = int(chw[0] * self.patch_size[0] * self.patch_size[1])\n",
        "        self.linear_mapper = nn.Linear(self.input_d, self.hidden_d)\n",
        "        self.class_token = nn.Parameter(torch.rand(1, self.hidden_d))\n",
        "        self.register_buffer(\n",
        "            \"positional_embeddings\",\n",
        "            get_positional_embeddings(n_patches**2 + 1, hidden_d),\n",
        "            persistent=False)\n",
        "        self.blocks = nn.ModuleList([MyViTBlock(hidden_d, n_heads) for _ in range(n_blocks)])\n",
        "        self.mlp = nn.Sequential(nn.Linear(self.hidden_d, out_d), nn.Softmax(dim=-1))\n",
        "```\n",
        "\n",
        "**Purpose**: Defines the complete ViT architecture, integrating patch embedding, positional encoding, Transformer blocks, and a classification head.\n",
        "\n",
        "**Details**:\n",
        "- **Initialization**:\n",
        "  - `chw`: Input image shape (e.g., `(1, 28, 28)` for MNIST).\n",
        "  - `n_patches`: Number of patches per dimension (7 → 49 patches).\n",
        "  - `n_blocks`: Number of Transformer blocks (2).\n",
        "  - `hidden_d`: Token dimension (8).\n",
        "  - `n_heads`: Number of attention heads (2).\n",
        "  - `out_d`: Number of output classes (10 for MNIST digits).\n",
        "  - Computes `patch_size = (h / n_patches, w / n_patches)` (e.g., 28 ÷ 7 = 4).\n",
        "  - `input_d = c * patch_size * patch_size` (e.g., 1x4x4 = 16).\n",
        "  - Components:\n",
        "    - `linear_mapper`: Maps each patch vector (`input_d=16`) to `hidden_d=8`.\n",
        "    - `class_token`: A learnable token prepended to the sequence for classification.\n",
        "    - `positional_embeddings`: Fixed sinusoidal embeddings for `n_patches**2 + 1` tokens.\n",
        "    - `blocks`: List of `n_blocks` Transformer blocks.\n",
        "    - `mlp`: Classification head mapping `hidden_d` to `out_d` with softmax.\n",
        "- **Forward Pass**:\n",
        "  - Input: Images of shape `(n, c, h, w)`.\n",
        "  - **Patchification**: `patches = patchify(images, n_patches)` → `(n, 49, 16)`.\n",
        "  - **Patch Embedding**: `tokens = linear_mapper(patches)` → `(n, 49, 8)`.\n",
        "  - **Class Token**: Prepends `class_token` → `(n, 50, 8)`.\n",
        "  - **Positional Embedding**: Adds `positional_embeddings` → `(n, 50, 8)`.\n",
        "  - **Transformer Blocks**: Processes tokens through `n_blocks` layers → `(n, 50, 8)`.\n",
        "  - **Classification**: Extracts the class token (`out[:, 0]`) and applies MLP → `(n, 10)`.\n",
        "\n",
        "**Why**: This class orchestrates the entire ViT pipeline, transforming raw images into class probabilities using a Transformer-based architecture.\n",
        "\n",
        "---\n",
        "\n",
        "### **5. Positional Embeddings (`get_positional_embeddings`)**\n",
        "\n",
        "```python\n",
        "def get_positional_embeddings(sequence_length, d):\n",
        "    result = torch.ones(sequence_length, d)\n",
        "    for i in range(sequence_length):\n",
        "        for j in range(d):\n",
        "            result[i][j] = (\n",
        "                np.sin(i / (10000 ** (j / d)))\n",
        "                if j % 2 == 0\n",
        "                else np.cos(i / (10000 ** ((j - 1) / d)))\n",
        "            )\n",
        "    return result\n",
        "```\n",
        "\n",
        "**Purpose**: Generates sinusoidal positional embeddings to encode the position of each patch in the sequence.\n",
        "\n",
        "**Details**:\n",
        "- **Input**:\n",
        "  - `sequence_length`: Number of tokens (`n_patches**2 + 1 = 50`).\n",
        "  - `d`: Token dimension (`hidden_d=8`).\n",
        "- **Process**:\n",
        "  - Creates a tensor of shape `(sequence_length, d)`.\n",
        "  - For each position `i` and dimension `j`:\n",
        "    - Even `j`: `sin(i / 10000^(j/d))`.\n",
        "    - Odd `j`: `cos(i / 10000^((j-1)/d))`.\n",
        "  - This follows the sinusoidal encoding from the original Transformer paper.\n",
        "- **Output**: A tensor of shape `(50, 8)`.\n",
        "\n",
        "**Why**: Transformers are permutation-invariant, so positional embeddings provide spatial information about patch locations, enabling the model to understand the image’s structure.\n",
        "\n",
        "---\n",
        "\n",
        "### **6. Main Function (`main`)**\n",
        "\n",
        "```python\n",
        "def main():\n",
        "    transform = ToTensor()\n",
        "    train_set = MNIST(root=\"./../datasets\", train=True, download=True, transform=transform)\n",
        "    test_set = MNIST(root=\"./../datasets\", train=False, download=True, transform=transform)\n",
        "    train_loader = DataLoader(train_set, shuffle=True, batch_size=128)\n",
        "    test_loader = DataLoader(test_set, shuffle=False, batch_size=128)\n",
        "    device = torch.device(\"cuda\" if torch.cuda.is_available() else \"cpu\")\n",
        "    model = MyViT((1, 28, 28), n_patches=7, n_blocks=2, hidden_d=8, n_heads=2, out_d=10).to(device)\n",
        "    N_EPOCHS = 2\n",
        "    LR = 0.005\n",
        "    optimizer = Adam(model.parameters(), lr=LR)\n",
        "    criterion = CrossEntropyLoss()\n",
        "    for epoch in trange(N_EPOCHS, desc=\"Training\"):\n",
        "        train_loss = 0.0\n",
        "        for batch in tqdm(train_loader, desc=f\"Epoch {epoch + 1} in training\", leave=False):\n",
        "            x, y = batch\n",
        "            x, y = x.to(device), y.to(device)\n",
        "            y_hat = model(x)\n",
        "            loss = criterion(y_hat, y)\n",
        "            train_loss += loss.detach().cpu().item() / len(train_loader)\n",
        "            optimizer.zero_grad()\n",
        "            loss.backward()\n",
        "            optimizer.step()\n",
        "        print(f\"Epoch {epoch + 1}/{N_EPOCHS} loss: {train_loss:.2f}\")\n",
        "    with torch.no_grad():\n",
        "        correct, total = 0, 0\n",
        "        test_loss = 0.0\n",
        "        for batch in tqdm(test_loader, desc=\"Testing\"):\n",
        "            x, y = batch\n",
        "            x, y = x.to(device), y.to(device)\n",
        "            y_hat = model(x)\n",
        "            loss = criterion(y_hat, y)\n",
        "            test_loss += loss.detach().cpu().item() / len(test_loader)\n",
        "            correct += torch.sum(torch.argmax(y_hat, dim=1) == y).detach().cpu().item()\n",
        "            total += len(x)\n",
        "        print(f\"Test loss: {test_loss:.2f}\")\n",
        "        print(f\"Test accuracy: {correct / total * 100:.2f}%\")\n",
        "```\n",
        "\n",
        "**Purpose**: Orchestrates data loading, model training, and evaluation.\n",
        "\n",
        "**Details**:\n",
        "- **Data Loading**:\n",
        "  - Loads MNIST dataset (60,000 training, 10,000 test images).\n",
        "  - Applies `ToTensor()` to convert images to tensors (shape: `(1, 28, 28)`).\n",
        "  - Uses `DataLoader` with batch size 128.\n",
        "- **Model Setup**:\n",
        "  - Initializes `MyViT` with parameters tailored for MNIST.\n",
        "  - Moves model to GPU if available.\n",
        "- **Training**:\n",
        "  - Runs for `N_EPOCHS=2` epochs with learning rate `LR=0.005`.\n",
        "  - Uses Adam optimizer and CrossEntropyLoss.\n",
        "  - For each batch:\n",
        "    - Computes predictions (`y_hat`).\n",
        "    - Calculates loss.\n",
        "    - Updates model parameters via backpropagation.\n",
        "  - Prints average training loss per epoch.\n",
        "- **Testing**:\n",
        "  - Evaluates model on test set without gradients.\n",
        "  - Computes test loss and accuracy (percentage of correctly classified images).\n",
        "\n",
        "**Why**: This function demonstrates the end-to-end workflow of training and evaluating a ViT model on a standard dataset.\n",
        "\n",
        "---\n",
        "\n",
        "### **Key Parameters and Their Impact**\n",
        "\n",
        "- **Patch Size (`n_patches=7`)**:\n",
        "  - Divides 28x28 images into 7x7 patches (4x4 pixels each).\n",
        "  - Smaller patches (larger `n_patches`) capture finer details but increase computational cost.\n",
        "- **Hidden Dimension (`hidden_d=8`)**:\n",
        "  - Determines the size of patch embeddings and Transformer processing.\n",
        "  - A small value keeps the model lightweight but may limit capacity.\n",
        "- **Number of Blocks (`n_blocks=2`)**:\n",
        "  - Controls the depth of the Transformer.\n",
        "  - More blocks increase capacity but also computation.\n",
        "- **Number of Heads (`n_heads=2`)**:\n",
        "  - Splits attention into multiple parallel heads.\n",
        "  - More heads allow capturing diverse relationships but require `hidden_d` to be divisible.\n",
        "- **Epochs and Learning Rate**:\n",
        "  - `N_EPOCHS=2` is minimal; real-world training may need 10-50 epochs.\n",
        "  - `LR=0.005` is reasonable for Adam but may need tuning.\n",
        "\n",
        "---\n",
        "\n",
        "### **How ViT Works on MNIST**\n",
        "\n",
        "1. **Input**: A batch of 128 MNIST images (shape: `(128, 1, 28, 28)`).\n",
        "2. **Patchification**: Each image is split into 49 patches of 4x4 pixels, flattened to vectors of length 16 → `(128, 49, 16)`.\n",
        "3. **Patch Embedding**: Linear layer maps each patch to `hidden_d=8` → `(128, 49, 8)`.\n",
        "4. **Class Token**: A learnable token is prepended → `(128, 50, 8)`.\n",
        "5. **Positional Embedding**: Adds positional information → `(128, 50, 8)`.\n",
        "6. **Transformer Blocks**: Two blocks process the sequence, using MHSA to relate patches and MLP for non-linearity → `(128, 50, 8)`.\n",
        "7. **Classification**: The class token is extracted and mapped to 10 classes → `(128, 10)`.\n",
        "8. **Output**: Softmax probabilities for digits 0-9.\n",
        "\n",
        "---\n",
        "\n",
        "### **Potential Improvements**\n",
        "\n",
        "- **Efficient Attention**: Replace the `MyMSA` loop with `nn.MultiheadAttention` for batched computation.\n",
        "- **More Epochs**: Increase `N_EPOCHS` to 10-20 for better convergence.\n",
        "- **Learning Rate Scheduling**: Use a scheduler to reduce LR over time.\n",
        "- **Data Augmentation**: Add random rotations or shifts to improve robustness.\n",
        "- **Larger Model**: Increase `hidden_d`, `n_blocks`, or `n_heads` for higher capacity (though MNIST is simple).\n",
        "- **Dropout**: Add dropout in Transformer blocks to prevent overfitting.\n",
        "\n",
        "---\n",
        "\n",
        "### **Exam/Workshop Preparation Tips**\n",
        "\n",
        "1. **Understand Key Concepts**:\n",
        "   - Patchification and why images are treated as sequences.\n",
        "   - Role of self-attention in capturing global dependencies.\n",
        "   - Importance of positional embeddings.\n",
        "   - Structure of a Transformer block (MHSA + MLP + residuals).\n",
        "2. **Code Familiarity**:\n",
        "   - Be able to explain the flow of data through `MyViT`.\n",
        "   - Understand the shapes of tensors at each step (e.g., patches, tokens, attention outputs).\n",
        "   - Know the purpose of each module (`patchify`, `MyMSA`, etc.).\n",
        "3. **Common Questions**:\n",
        "   - How does ViT differ from CNNs? (Global vs. local processing, no inductive biases.)\n",
        "   - Why use a class token? (Aggregates information for classification.)\n",
        "   - What are the trade-offs of patch size? (Detail vs. computation.)\n",
        "4. **Practice**:\n",
        "   - Run the code and experiment with parameters (e.g., `n_patches`, `n_blocks`).\n",
        "   - Visualize attention weights to understand what the model focuses on.\n",
        "   - Implement a simple modification (e.g., add dropout).\n",
        "\n",
        "---"
      ],
      "metadata": {
        "id": "JX_r6PWwdlg1"
      }
    },
    {
      "cell_type": "code",
      "source": [
        "import numpy as np\n",
        "import torch\n",
        "import torch.nn as nn\n",
        "from torch.nn import CrossEntropyLoss\n",
        "from torch.optim import Adam\n",
        "from torch.utils.data import DataLoader\n",
        "from torchvision.datasets.mnist import MNIST\n",
        "from torchvision.transforms import ToTensor\n",
        "import tqdm\n",
        "from tqdm import trange #ERROR 1"
      ],
      "metadata": {
        "id": "DfDeu6qlXVkM"
      },
      "execution_count": 4,
      "outputs": []
    },
    {
      "cell_type": "code",
      "source": [
        "device = torch.device(\"cuda\" if torch.cuda.is_available() else \"cpu\")\n",
        "print(\n",
        "        \"Using device: \",\n",
        "        device,\n",
        "        f\"({torch.cuda.get_device_name(device)})\" if torch.cuda.is_available() else \"\",\n",
        "    )"
      ],
      "metadata": {
        "colab": {
          "base_uri": "https://localhost:8080/"
        },
        "id": "koIfnrrtIPx_",
        "outputId": "70b53741-fbd4-463a-ae22-8abc46e63d42"
      },
      "execution_count": 5,
      "outputs": [
        {
          "output_type": "stream",
          "name": "stdout",
          "text": [
            "Using device:  cuda (Tesla T4)\n"
          ]
        }
      ]
    },
    {
      "cell_type": "code",
      "source": [
        "import numpy as np\n",
        "import torch\n",
        "import torch.nn as nn\n",
        "from torch.nn import CrossEntropyLoss\n",
        "from torch.optim import Adam\n",
        "from torch.utils.data import DataLoader\n",
        "from torchvision.datasets.mnist import MNIST\n",
        "from torchvision.transforms import ToTensor\n",
        "from tqdm import tqdm, trange\n",
        "\n",
        "np.random.seed(0)\n",
        "torch.manual_seed(0)\n",
        "\n",
        "\n",
        "def patchify(images, n_patches):\n",
        "    n, c, h, w = images.shape\n",
        "\n",
        "    assert h == w, \"Patchify method is implemented for square images only\"\n",
        "\n",
        "    patches = torch.zeros(n, n_patches**2, h * w * c // n_patches**2)\n",
        "    patch_size = h // n_patches\n",
        "\n",
        "    for idx, image in enumerate(images):\n",
        "        for i in range(n_patches):\n",
        "            for j in range(n_patches):\n",
        "                patch = image[\n",
        "                    :,\n",
        "                    i * patch_size : (i + 1) * patch_size,\n",
        "                    j * patch_size : (j + 1) * patch_size,\n",
        "                ]\n",
        "                patches[idx, i * n_patches + j] = patch.flatten()\n",
        "    return patches\n",
        "\n",
        "\n",
        "class MyMSA(nn.Module):\n",
        "    def __init__(self, d, n_heads=2):\n",
        "        super(MyMSA, self).__init__()\n",
        "        self.d = d\n",
        "        self.n_heads = n_heads\n",
        "\n",
        "        assert d % n_heads == 0, f\"Can't divide dimension {d} into {n_heads} heads\"\n",
        "\n",
        "        d_head = int(d / n_heads)\n",
        "        self.q_mappings = nn.ModuleList(\n",
        "            [nn.Linear(d_head, d_head) for _ in range(self.n_heads)]\n",
        "        )\n",
        "        self.k_mappings = nn.ModuleList(\n",
        "            [nn.Linear(d_head, d_head) for _ in range(self.n_heads)]\n",
        "        )\n",
        "        self.v_mappings = nn.ModuleList(\n",
        "            [nn.Linear(d_head, d_head) for _ in range(self.n_heads)]\n",
        "        )\n",
        "        self.d_head = d_head\n",
        "        self.softmax = nn.Softmax(dim=-1)\n",
        "\n",
        "    def forward(self, sequences):\n",
        "        result = []\n",
        "        for sequence in sequences:\n",
        "            seq_result = []\n",
        "            for head in range(self.n_heads):\n",
        "                q_mapping = self.q_mappings[head]\n",
        "                k_mapping = self.k_mappings[head]\n",
        "                v_mapping = self.v_mappings[head]\n",
        "\n",
        "                seq = sequence[:, head * self.d_head : (head + 1) * self.d_head]\n",
        "                q, k, v = q_mapping(seq), k_mapping(seq), v_mapping(seq)\n",
        "\n",
        "                attention = self.softmax(q @ k.T / (self.d_head**0.5))\n",
        "                seq_result.append(attention @ v)\n",
        "            result.append(torch.hstack(seq_result))\n",
        "        return torch.cat([torch.unsqueeze(r, dim=0) for r in result])\n",
        "\n",
        "\n",
        "class MyViTBlock(nn.Module):\n",
        "    def __init__(self, hidden_d, n_heads, mlp_ratio=4):\n",
        "        super(MyViTBlock, self).__init__()\n",
        "        self.hidden_d = hidden_d\n",
        "        self.n_heads = n_heads\n",
        "\n",
        "        self.norm1 = nn.LayerNorm(hidden_d)\n",
        "        self.mhsa = MyMSA(hidden_d, n_heads)\n",
        "        self.norm2 = nn.LayerNorm(hidden_d)\n",
        "        self.mlp = nn.Sequential(\n",
        "            nn.Linear(hidden_d, mlp_ratio * hidden_d),\n",
        "            nn.GELU(),\n",
        "            nn.Linear(mlp_ratio * hidden_d, hidden_d),\n",
        "        )\n",
        "\n",
        "    def forward(self, x):\n",
        "        out = x + self.mhsa(self.norm1(x))\n",
        "        out = out + self.mlp(self.norm2(out))\n",
        "        return out\n",
        "\n",
        "\n",
        "class MyViT(nn.Module):\n",
        "    def __init__(self, chw, n_patches=7, n_blocks=2, hidden_d=8, n_heads=2, out_d=10):\n",
        "        super(MyViT, self).__init__()\n",
        "        self.chw = chw\n",
        "        self.n_patches = n_patches\n",
        "        self.n_blocks = n_blocks\n",
        "        self.n_heads = n_heads\n",
        "        self.hidden_d = hidden_d\n",
        "\n",
        "        assert (\n",
        "            chw[1] % n_patches == 0\n",
        "        ), \"Input shape not entirely divisible by number of patches\"\n",
        "        assert (\n",
        "            chw[2] % n_patches == 0\n",
        "        ), \"Input shape not entirely divisible by number of patches\"\n",
        "        self.patch_size = (chw[1] / n_patches, chw[2] / n_patches)\n",
        "\n",
        "        self.input_d = int(chw[0] * self.patch_size[0] * self.patch_size[1])\n",
        "        self.linear_mapper = nn.Linear(self.input_d, self.hidden_d)\n",
        "\n",
        "        self.class_token = nn.Parameter(torch.rand(1, self.hidden_d))\n",
        "\n",
        "        self.register_buffer(\n",
        "            \"positional_embeddings\",\n",
        "            get_positional_embeddings(n_patches**2 + 1, hidden_d),\n",
        "            persistent=False)\n",
        "\n",
        "        self.blocks = nn.ModuleList(\n",
        "            [MyViTBlock(hidden_d, n_heads) for _ in range(n_blocks)]\n",
        "        )\n",
        "\n",
        "        self.mlp = nn.Sequential(nn.Linear(self.hidden_d, out_d), nn.Softmax(dim=-1))\n",
        "\n",
        "    def forward(self, images):\n",
        "        n, c, h, w = images.shape\n",
        "        patches = patchify(images, self.n_patches).to(self.positional_embeddings.device)\n",
        "\n",
        "        # Running linear layer tokenization\n",
        "        # Map the vector corresponding to each patch to the hidden size dimension\n",
        "        tokens = self.linear_mapper(patches)\n",
        "\n",
        "        # Adding classification token to the tokens\n",
        "        tokens = torch.cat((self.class_token.expand(n, 1, -1), tokens), dim=1)\n",
        "\n",
        "        # Adding positional embedding\n",
        "        out = tokens + self.positional_embeddings.repeat(n, 1, 1)\n",
        "\n",
        "        # Transformer Blocks\n",
        "        for block in self.blocks:\n",
        "            out = block(out)\n",
        "\n",
        "        # Getting the classification token only\n",
        "        out = out[:, 0]\n",
        "\n",
        "        return self.mlp(out)  # Map to output dimension, output category distribution\n",
        "\n",
        "\n",
        "def get_positional_embeddings(sequence_length, d):\n",
        "    result = torch.ones(sequence_length, d)\n",
        "    for i in range(sequence_length):\n",
        "        for j in range(d):\n",
        "            result[i][j] = (\n",
        "                np.sin(i / (10000 ** (j / d)))\n",
        "                if j % 2 == 0\n",
        "                else np.cos(i / (10000 ** ((j - 1) / d)))\n",
        "            )\n",
        "    return result\n",
        "\n",
        "\n",
        "def main():\n",
        "    # Loading data\n",
        "    transform = ToTensor()\n",
        "\n",
        "    train_set = MNIST(\n",
        "        root=\"./../datasets\", train=True, download=True, transform=transform\n",
        "    )\n",
        "    test_set = MNIST(\n",
        "        root=\"./../datasets\", train=False, download=True, transform=transform\n",
        "    )\n",
        "\n",
        "    train_loader = DataLoader(train_set, shuffle=True, batch_size=128)\n",
        "    test_loader = DataLoader(test_set, shuffle=False, batch_size=128)\n",
        "\n",
        "    # Defining model and training options\n",
        "    device = torch.device(\"cuda\" if torch.cuda.is_available() else \"cpu\")\n",
        "    print(\n",
        "        \"Using device: \",\n",
        "        device,\n",
        "        f\"({torch.cuda.get_device_name(device)})\" if torch.cuda.is_available() else \"\",\n",
        "    )\n",
        "    model = MyViT(\n",
        "        (1, 28, 28), n_patches=7, n_blocks=2, hidden_d=8, n_heads=2, out_d=10\n",
        "    ).to(device)\n",
        "    N_EPOCHS = 2\n",
        "    LR = 0.005\n",
        "\n",
        "    # Training loop\n",
        "    optimizer = Adam(model.parameters(), lr=LR)\n",
        "    criterion = CrossEntropyLoss()\n",
        "\n",
        "\n",
        "\n",
        "\n",
        "\n",
        "\n",
        "\n",
        "\n",
        "    for epoch in trange(N_EPOCHS, desc=\"Training\"):\n",
        "        train_loss = 0.0\n",
        "        for batch in tqdm(\n",
        "            train_loader, desc=f\"Epoch {epoch + 1} in training\", leave=False\n",
        "        ):\n",
        "            x, y = batch\n",
        "            x, y = x.to(device), y.to(device)\n",
        "\n",
        "\n",
        "\n",
        "            y_hat = model(x) #model.forward(x)\n",
        "            loss = criterion(y_hat, y)\n",
        "\n",
        "            train_loss += loss.detach().cpu().item() / len(train_loader)\n",
        "\n",
        "            optimizer.zero_grad()\n",
        "            loss.backward()\n",
        "            optimizer.step()\n",
        "\n",
        "        print(f\"Epoch {epoch + 1}/{N_EPOCHS} loss: {train_loss:.2f}\")\n",
        "\n",
        "    # Test loop\n",
        "    with torch.no_grad():\n",
        "        correct, total = 0, 0\n",
        "        test_loss = 0.0\n",
        "        for batch in tqdm(test_loader, desc=\"Testing\"):\n",
        "            x, y = batch\n",
        "            x, y = x.to(device), y.to(device)\n",
        "            y_hat = model(x)\n",
        "            loss = criterion(y_hat, y)\n",
        "            test_loss += loss.detach().cpu().item() / len(test_loader)\n",
        "\n",
        "            correct += torch.sum(torch.argmax(y_hat, dim=1) == y).detach().cpu().item()\n",
        "            total += len(x)\n",
        "        print(f\"Test loss: {test_loss:.2f}\")\n",
        "        print(f\"Test accuracy: {correct / total * 100:.2f}%\")\n",
        "\n",
        "\n",
        "if __name__ == \"__main__\":\n",
        "    main()"
      ],
      "metadata": {
        "id": "9lIHfty8c6q6",
        "colab": {
          "base_uri": "https://localhost:8080/"
        },
        "outputId": "1caa8d9e-1d73-43e1-dbd3-cb216aba4cbb"
      },
      "execution_count": 9,
      "outputs": [
        {
          "output_type": "stream",
          "name": "stdout",
          "text": [
            "Using device:  cuda (Tesla T4)\n"
          ]
        },
        {
          "output_type": "stream",
          "name": "stderr",
          "text": [
            "Training:   0%|          | 0/2 [00:00<?, ?it/s]\n",
            "Epoch 1 in training:   0%|          | 0/469 [00:00<?, ?it/s]\u001b[A\n",
            "Epoch 1 in training:   0%|          | 1/469 [00:01<13:45,  1.76s/it]\u001b[A\n",
            "Epoch 1 in training:   0%|          | 2/469 [00:02<09:01,  1.16s/it]\u001b[A\n",
            "Epoch 1 in training:   1%|          | 3/469 [00:03<07:20,  1.06it/s]\u001b[A\n",
            "Epoch 1 in training:   1%|          | 4/469 [00:03<06:35,  1.18it/s]\u001b[A\n",
            "Epoch 1 in training:   1%|          | 5/469 [00:04<06:07,  1.26it/s]\u001b[A\n",
            "Epoch 1 in training:   1%|▏         | 6/469 [00:05<05:57,  1.30it/s]\u001b[A\n",
            "Epoch 1 in training:   1%|▏         | 7/469 [00:06<05:50,  1.32it/s]\u001b[A\n",
            "Epoch 1 in training:   2%|▏         | 8/469 [00:06<05:46,  1.33it/s]\u001b[A\n",
            "Epoch 1 in training:   2%|▏         | 9/469 [00:07<05:36,  1.37it/s]\u001b[A\n",
            "Epoch 1 in training:   2%|▏         | 10/469 [00:08<05:32,  1.38it/s]\u001b[A\n",
            "Epoch 1 in training:   2%|▏         | 11/469 [00:09<05:45,  1.33it/s]\u001b[A\n",
            "Epoch 1 in training:   3%|▎         | 12/469 [00:09<06:09,  1.24it/s]\u001b[A\n",
            "Epoch 1 in training:   3%|▎         | 13/469 [00:10<06:33,  1.16it/s]\u001b[A\n",
            "Epoch 1 in training:   3%|▎         | 14/469 [00:11<06:11,  1.22it/s]\u001b[A\n",
            "Epoch 1 in training:   3%|▎         | 15/469 [00:12<05:55,  1.28it/s]\u001b[A\n",
            "Epoch 1 in training:   3%|▎         | 16/469 [00:13<05:44,  1.31it/s]\u001b[A\n",
            "Epoch 1 in training:   4%|▎         | 17/469 [00:13<05:37,  1.34it/s]\u001b[A\n",
            "Epoch 1 in training:   4%|▍         | 18/469 [00:14<05:31,  1.36it/s]\u001b[A\n",
            "Epoch 1 in training:   4%|▍         | 19/469 [00:15<05:26,  1.38it/s]\u001b[A\n",
            "Epoch 1 in training:   4%|▍         | 20/469 [00:15<05:22,  1.39it/s]\u001b[A\n",
            "Epoch 1 in training:   4%|▍         | 21/469 [00:16<05:22,  1.39it/s]\u001b[A\n",
            "Epoch 1 in training:   5%|▍         | 22/469 [00:17<05:18,  1.40it/s]\u001b[A\n",
            "Epoch 1 in training:   5%|▍         | 23/469 [00:17<05:14,  1.42it/s]\u001b[A\n",
            "Epoch 1 in training:   5%|▌         | 24/469 [00:18<05:46,  1.28it/s]\u001b[A\n",
            "Epoch 1 in training:   5%|▌         | 25/469 [00:19<05:37,  1.32it/s]\u001b[A\n",
            "Epoch 1 in training:   6%|▌         | 26/469 [00:20<05:26,  1.36it/s]\u001b[A\n",
            "Epoch 1 in training:   6%|▌         | 27/469 [00:21<05:36,  1.31it/s]\u001b[A\n",
            "Epoch 1 in training:   6%|▌         | 28/469 [00:22<05:56,  1.24it/s]\u001b[A\n",
            "Epoch 1 in training:   6%|▌         | 29/469 [00:23<06:16,  1.17it/s]\u001b[A\n",
            "Epoch 1 in training:   6%|▋         | 30/469 [00:23<05:56,  1.23it/s]\u001b[A\n",
            "Epoch 1 in training:   7%|▋         | 31/469 [00:24<05:41,  1.28it/s]\u001b[A\n",
            "Epoch 1 in training:   7%|▋         | 32/469 [00:25<05:28,  1.33it/s]\u001b[A\n",
            "Epoch 1 in training:   7%|▋         | 33/469 [00:25<05:24,  1.34it/s]\u001b[A\n",
            "Epoch 1 in training:   7%|▋         | 34/469 [00:26<05:22,  1.35it/s]\u001b[A\n",
            "Epoch 1 in training:   7%|▋         | 35/469 [00:27<05:18,  1.36it/s]\u001b[A\n",
            "Epoch 1 in training:   8%|▊         | 36/469 [00:28<05:15,  1.37it/s]\u001b[A\n",
            "Epoch 1 in training:   8%|▊         | 37/469 [00:28<05:11,  1.39it/s]\u001b[A\n",
            "Epoch 1 in training:   8%|▊         | 38/469 [00:29<05:08,  1.40it/s]\u001b[A\n",
            "Epoch 1 in training:   8%|▊         | 39/469 [00:30<05:06,  1.40it/s]\u001b[A\n",
            "Epoch 1 in training:   9%|▊         | 40/469 [00:30<05:06,  1.40it/s]\u001b[A\n",
            "Epoch 1 in training:   9%|▊         | 41/469 [00:31<05:03,  1.41it/s]\u001b[A\n",
            "Epoch 1 in training:   9%|▉         | 42/469 [00:32<05:02,  1.41it/s]\u001b[A\n",
            "Epoch 1 in training:   9%|▉         | 43/469 [00:33<05:12,  1.36it/s]\u001b[A\n",
            "Epoch 1 in training:   9%|▉         | 44/469 [00:33<05:35,  1.27it/s]\u001b[A\n",
            "Epoch 1 in training:  10%|▉         | 45/469 [00:34<06:03,  1.17it/s]\u001b[A\n",
            "Epoch 1 in training:  10%|▉         | 46/469 [00:35<05:45,  1.22it/s]\u001b[A\n",
            "Epoch 1 in training:  10%|█         | 47/469 [00:36<05:31,  1.27it/s]\u001b[A\n",
            "Epoch 1 in training:  10%|█         | 48/469 [00:37<05:20,  1.31it/s]\u001b[A\n",
            "Epoch 1 in training:  10%|█         | 49/469 [00:37<05:13,  1.34it/s]\u001b[A\n",
            "Epoch 1 in training:  11%|█         | 50/469 [00:38<05:08,  1.36it/s]\u001b[A\n",
            "Epoch 1 in training:  11%|█         | 51/469 [00:39<05:04,  1.37it/s]\u001b[A\n",
            "Epoch 1 in training:  11%|█         | 52/469 [00:40<05:04,  1.37it/s]\u001b[A\n",
            "Epoch 1 in training:  11%|█▏        | 53/469 [00:40<04:59,  1.39it/s]\u001b[A\n",
            "Epoch 1 in training:  12%|█▏        | 54/469 [00:41<04:57,  1.40it/s]\u001b[A\n",
            "Epoch 1 in training:  12%|█▏        | 55/469 [00:42<04:56,  1.40it/s]\u001b[A\n",
            "Epoch 1 in training:  12%|█▏        | 56/469 [00:42<04:53,  1.41it/s]\u001b[A\n",
            "Epoch 1 in training:  12%|█▏        | 57/469 [00:43<04:54,  1.40it/s]\u001b[A\n",
            "Epoch 1 in training:  12%|█▏        | 58/469 [00:44<04:51,  1.41it/s]\u001b[A\n",
            "Epoch 1 in training:  13%|█▎        | 59/469 [00:44<04:55,  1.39it/s]\u001b[A\n",
            "Epoch 1 in training:  13%|█▎        | 60/469 [00:45<05:20,  1.27it/s]\u001b[A\n",
            "Epoch 1 in training:  13%|█▎        | 61/469 [00:46<05:48,  1.17it/s]\u001b[A\n",
            "Epoch 1 in training:  13%|█▎        | 62/469 [00:47<05:30,  1.23it/s]\u001b[A\n",
            "Epoch 1 in training:  13%|█▎        | 63/469 [00:48<05:16,  1.28it/s]\u001b[A\n",
            "Epoch 1 in training:  14%|█▎        | 64/469 [00:49<05:06,  1.32it/s]\u001b[A\n",
            "Epoch 1 in training:  14%|█▍        | 65/469 [00:49<05:06,  1.32it/s]\u001b[A\n",
            "Epoch 1 in training:  14%|█▍        | 66/469 [00:50<04:59,  1.34it/s]\u001b[A\n",
            "Epoch 1 in training:  14%|█▍        | 67/469 [00:51<04:52,  1.37it/s]\u001b[A\n",
            "Epoch 1 in training:  14%|█▍        | 68/469 [00:51<04:50,  1.38it/s]\u001b[A\n",
            "Epoch 1 in training:  15%|█▍        | 69/469 [00:52<04:47,  1.39it/s]\u001b[A\n",
            "Epoch 1 in training:  15%|█▍        | 70/469 [00:53<04:41,  1.42it/s]\u001b[A\n",
            "Epoch 1 in training:  15%|█▌        | 71/469 [00:54<04:42,  1.41it/s]\u001b[A\n",
            "Epoch 1 in training:  15%|█▌        | 72/469 [00:54<04:42,  1.40it/s]\u001b[A\n",
            "Epoch 1 in training:  16%|█▌        | 73/469 [00:55<04:39,  1.42it/s]\u001b[A\n",
            "Epoch 1 in training:  16%|█▌        | 74/469 [00:56<04:39,  1.41it/s]\u001b[A\n",
            "Epoch 1 in training:  16%|█▌        | 75/469 [00:56<04:41,  1.40it/s]\u001b[A\n",
            "Epoch 1 in training:  16%|█▌        | 76/469 [00:57<05:10,  1.27it/s]\u001b[A\n",
            "Epoch 1 in training:  16%|█▋        | 77/469 [00:58<05:38,  1.16it/s]\u001b[A\n",
            "Epoch 1 in training:  17%|█▋        | 78/469 [00:59<05:22,  1.21it/s]\u001b[A\n",
            "Epoch 1 in training:  17%|█▋        | 79/469 [01:00<05:08,  1.26it/s]\u001b[A\n",
            "Epoch 1 in training:  17%|█▋        | 80/469 [01:01<04:58,  1.30it/s]\u001b[A\n",
            "Epoch 1 in training:  17%|█▋        | 81/469 [01:01<04:48,  1.34it/s]\u001b[A\n",
            "Epoch 1 in training:  17%|█▋        | 82/469 [01:02<04:42,  1.37it/s]\u001b[A\n",
            "Epoch 1 in training:  18%|█▊        | 83/469 [01:03<04:40,  1.38it/s]\u001b[A\n",
            "Epoch 1 in training:  18%|█▊        | 84/469 [01:03<04:35,  1.40it/s]\u001b[A\n",
            "Epoch 1 in training:  18%|█▊        | 85/469 [01:04<04:32,  1.41it/s]\u001b[A\n",
            "Epoch 1 in training:  18%|█▊        | 86/469 [01:05<04:31,  1.41it/s]\u001b[A\n",
            "Epoch 1 in training:  19%|█▊        | 87/469 [01:05<04:34,  1.39it/s]\u001b[A\n",
            "Epoch 1 in training:  19%|█▉        | 88/469 [01:06<04:31,  1.40it/s]\u001b[A\n",
            "Epoch 1 in training:  19%|█▉        | 89/469 [01:07<04:28,  1.41it/s]\u001b[A\n",
            "Epoch 1 in training:  19%|█▉        | 90/469 [01:08<04:29,  1.41it/s]\u001b[A\n",
            "Epoch 1 in training:  19%|█▉        | 91/469 [01:08<04:26,  1.42it/s]\u001b[A\n",
            "Epoch 1 in training:  20%|█▉        | 92/469 [01:09<04:49,  1.30it/s]\u001b[A\n",
            "Epoch 1 in training:  20%|█▉        | 93/469 [01:10<05:08,  1.22it/s]\u001b[A\n",
            "Epoch 1 in training:  20%|██        | 94/469 [01:11<05:16,  1.19it/s]\u001b[A\n",
            "Epoch 1 in training:  20%|██        | 95/469 [01:12<04:57,  1.26it/s]\u001b[A\n",
            "Epoch 1 in training:  20%|██        | 96/469 [01:12<04:46,  1.30it/s]\u001b[A\n",
            "Epoch 1 in training:  21%|██        | 97/469 [01:13<04:39,  1.33it/s]\u001b[A\n",
            "Epoch 1 in training:  21%|██        | 98/469 [01:14<04:33,  1.35it/s]\u001b[A\n",
            "Epoch 1 in training:  21%|██        | 99/469 [01:15<04:27,  1.38it/s]\u001b[A\n",
            "Epoch 1 in training:  21%|██▏       | 100/469 [01:15<04:25,  1.39it/s]\u001b[A\n",
            "Epoch 1 in training:  22%|██▏       | 101/469 [01:16<04:22,  1.40it/s]\u001b[A\n",
            "Epoch 1 in training:  22%|██▏       | 102/469 [01:17<04:19,  1.42it/s]\u001b[A\n",
            "Epoch 1 in training:  22%|██▏       | 103/469 [01:17<04:19,  1.41it/s]\u001b[A\n",
            "Epoch 1 in training:  22%|██▏       | 104/469 [01:18<04:17,  1.42it/s]\u001b[A\n",
            "Epoch 1 in training:  22%|██▏       | 105/469 [01:19<04:13,  1.44it/s]\u001b[A\n",
            "Epoch 1 in training:  23%|██▎       | 106/469 [01:19<04:13,  1.43it/s]\u001b[A\n",
            "Epoch 1 in training:  23%|██▎       | 107/469 [01:20<04:14,  1.42it/s]\u001b[A\n",
            "Epoch 1 in training:  23%|██▎       | 108/469 [01:21<04:27,  1.35it/s]\u001b[A\n",
            "Epoch 1 in training:  23%|██▎       | 109/469 [01:22<04:49,  1.24it/s]\u001b[A\n",
            "Epoch 1 in training:  23%|██▎       | 110/469 [01:23<05:07,  1.17it/s]\u001b[A\n",
            "Epoch 1 in training:  24%|██▎       | 111/469 [01:24<04:50,  1.23it/s]\u001b[A\n",
            "Epoch 1 in training:  24%|██▍       | 112/469 [01:24<04:41,  1.27it/s]\u001b[A\n",
            "Epoch 1 in training:  24%|██▍       | 113/469 [01:25<04:30,  1.32it/s]\u001b[A\n",
            "Epoch 1 in training:  24%|██▍       | 114/469 [01:26<04:24,  1.34it/s]\u001b[A\n",
            "Epoch 1 in training:  25%|██▍       | 115/469 [01:26<04:20,  1.36it/s]\u001b[A\n",
            "Epoch 1 in training:  25%|██▍       | 116/469 [01:27<04:14,  1.39it/s]\u001b[A\n",
            "Epoch 1 in training:  25%|██▍       | 117/469 [01:28<04:11,  1.40it/s]\u001b[A\n",
            "Epoch 1 in training:  25%|██▌       | 118/469 [01:29<04:09,  1.41it/s]\u001b[A\n",
            "Epoch 1 in training:  25%|██▌       | 119/469 [01:29<04:10,  1.40it/s]\u001b[A\n",
            "Epoch 1 in training:  26%|██▌       | 120/469 [01:30<04:11,  1.39it/s]\u001b[A\n",
            "Epoch 1 in training:  26%|██▌       | 121/469 [01:31<04:10,  1.39it/s]\u001b[A\n",
            "Epoch 1 in training:  26%|██▌       | 122/469 [01:31<04:08,  1.40it/s]\u001b[A\n",
            "Epoch 1 in training:  26%|██▌       | 123/469 [01:32<04:04,  1.41it/s]\u001b[A\n",
            "Epoch 1 in training:  26%|██▋       | 124/469 [01:33<04:13,  1.36it/s]\u001b[A\n",
            "Epoch 1 in training:  27%|██▋       | 125/469 [01:34<04:32,  1.26it/s]\u001b[A\n",
            "Epoch 1 in training:  27%|██▋       | 126/469 [01:35<04:55,  1.16it/s]\u001b[A\n",
            "Epoch 1 in training:  27%|██▋       | 127/469 [01:36<04:40,  1.22it/s]\u001b[A\n",
            "Epoch 1 in training:  27%|██▋       | 128/469 [01:36<04:27,  1.28it/s]\u001b[A\n",
            "Epoch 1 in training:  28%|██▊       | 129/469 [01:37<04:18,  1.32it/s]\u001b[A\n",
            "Epoch 1 in training:  28%|██▊       | 130/469 [01:38<04:13,  1.34it/s]\u001b[A\n",
            "Epoch 1 in training:  28%|██▊       | 131/469 [01:38<04:07,  1.37it/s]\u001b[A\n",
            "Epoch 1 in training:  28%|██▊       | 132/469 [01:39<04:04,  1.38it/s]\u001b[A\n",
            "Epoch 1 in training:  28%|██▊       | 133/469 [01:40<04:01,  1.39it/s]\u001b[A\n",
            "Epoch 1 in training:  29%|██▊       | 134/469 [01:41<03:59,  1.40it/s]\u001b[A\n",
            "Epoch 1 in training:  29%|██▉       | 135/469 [01:41<03:59,  1.40it/s]\u001b[A\n",
            "Epoch 1 in training:  29%|██▉       | 136/469 [01:42<03:57,  1.40it/s]\u001b[A\n",
            "Epoch 1 in training:  29%|██▉       | 137/469 [01:43<03:54,  1.42it/s]\u001b[A\n",
            "Epoch 1 in training:  29%|██▉       | 138/469 [01:43<03:53,  1.42it/s]\u001b[A\n",
            "Epoch 1 in training:  30%|██▉       | 139/469 [01:44<03:52,  1.42it/s]\u001b[A\n",
            "Epoch 1 in training:  30%|██▉       | 140/469 [01:45<03:50,  1.43it/s]\u001b[A\n",
            "Epoch 1 in training:  30%|███       | 141/469 [01:46<04:14,  1.29it/s]\u001b[A\n",
            "Epoch 1 in training:  30%|███       | 142/469 [01:47<04:36,  1.18it/s]\u001b[A\n",
            "Epoch 1 in training:  30%|███       | 143/469 [01:47<04:26,  1.22it/s]\u001b[A\n",
            "Epoch 1 in training:  31%|███       | 144/469 [01:48<04:13,  1.28it/s]\u001b[A\n",
            "Epoch 1 in training:  31%|███       | 145/469 [01:49<04:04,  1.33it/s]\u001b[A\n",
            "Epoch 1 in training:  31%|███       | 146/469 [01:50<03:59,  1.35it/s]\u001b[A\n",
            "Epoch 1 in training:  31%|███▏      | 147/469 [01:50<03:54,  1.37it/s]\u001b[A\n",
            "Epoch 1 in training:  32%|███▏      | 148/469 [01:51<03:50,  1.39it/s]\u001b[A\n",
            "Epoch 1 in training:  32%|███▏      | 149/469 [01:52<03:48,  1.40it/s]\u001b[A\n",
            "Epoch 1 in training:  32%|███▏      | 150/469 [01:52<03:46,  1.41it/s]\u001b[A\n",
            "Epoch 1 in training:  32%|███▏      | 151/469 [01:53<03:42,  1.43it/s]\u001b[A\n",
            "Epoch 1 in training:  32%|███▏      | 152/469 [01:54<03:42,  1.43it/s]\u001b[A\n",
            "Epoch 1 in training:  33%|███▎      | 153/469 [01:54<03:42,  1.42it/s]\u001b[A\n",
            "Epoch 1 in training:  33%|███▎      | 154/469 [01:55<03:41,  1.42it/s]\u001b[A\n",
            "Epoch 1 in training:  33%|███▎      | 155/469 [01:56<03:41,  1.42it/s]\u001b[A\n",
            "Epoch 1 in training:  33%|███▎      | 156/469 [01:57<03:41,  1.41it/s]\u001b[A\n",
            "Epoch 1 in training:  33%|███▎      | 157/469 [01:58<04:01,  1.29it/s]\u001b[A\n",
            "Epoch 1 in training:  34%|███▎      | 158/469 [01:58<04:15,  1.22it/s]\u001b[A\n",
            "Epoch 1 in training:  34%|███▍      | 159/469 [01:59<04:16,  1.21it/s]\u001b[A\n",
            "Epoch 1 in training:  34%|███▍      | 160/469 [02:00<04:05,  1.26it/s]\u001b[A\n",
            "Epoch 1 in training:  34%|███▍      | 161/469 [02:01<03:57,  1.30it/s]\u001b[A\n",
            "Epoch 1 in training:  35%|███▍      | 162/469 [02:01<03:49,  1.34it/s]\u001b[A\n",
            "Epoch 1 in training:  35%|███▍      | 163/469 [02:02<03:46,  1.35it/s]\u001b[A\n",
            "Epoch 1 in training:  35%|███▍      | 164/469 [02:03<03:42,  1.37it/s]\u001b[A\n",
            "Epoch 1 in training:  35%|███▌      | 165/469 [02:04<03:38,  1.39it/s]\u001b[A\n",
            "Epoch 1 in training:  35%|███▌      | 166/469 [02:04<03:36,  1.40it/s]\u001b[A\n",
            "Epoch 1 in training:  36%|███▌      | 167/469 [02:05<03:36,  1.39it/s]\u001b[A\n",
            "Epoch 1 in training:  36%|███▌      | 168/469 [02:06<03:58,  1.26it/s]\u001b[A\n",
            "Epoch 1 in training:  36%|███▌      | 169/469 [02:07<03:49,  1.31it/s]\u001b[A\n",
            "Epoch 1 in training:  36%|███▌      | 170/469 [02:07<03:44,  1.33it/s]\u001b[A\n",
            "Epoch 1 in training:  36%|███▋      | 171/469 [02:08<03:40,  1.35it/s]\u001b[A\n",
            "Epoch 1 in training:  37%|███▋      | 172/469 [02:09<03:35,  1.38it/s]\u001b[A\n",
            "Epoch 1 in training:  37%|███▋      | 173/469 [02:10<03:55,  1.26it/s]\u001b[A\n",
            "Epoch 1 in training:  37%|███▋      | 174/469 [02:11<04:12,  1.17it/s]\u001b[A\n",
            "Epoch 1 in training:  37%|███▋      | 175/469 [02:11<04:04,  1.20it/s]\u001b[A\n",
            "Epoch 1 in training:  38%|███▊      | 176/469 [02:12<03:52,  1.26it/s]\u001b[A\n",
            "Epoch 1 in training:  38%|███▊      | 177/469 [02:13<03:42,  1.31it/s]\u001b[A\n",
            "Epoch 1 in training:  38%|███▊      | 178/469 [02:14<03:37,  1.34it/s]\u001b[A\n",
            "Epoch 1 in training:  38%|███▊      | 179/469 [02:14<03:34,  1.35it/s]\u001b[A\n",
            "Epoch 1 in training:  38%|███▊      | 180/469 [02:15<03:32,  1.36it/s]\u001b[A\n",
            "Epoch 1 in training:  39%|███▊      | 181/469 [02:16<03:30,  1.37it/s]\u001b[A\n",
            "Epoch 1 in training:  39%|███▉      | 182/469 [02:16<03:27,  1.38it/s]\u001b[A\n",
            "Epoch 1 in training:  39%|███▉      | 183/469 [02:17<03:23,  1.40it/s]\u001b[A\n",
            "Epoch 1 in training:  39%|███▉      | 184/469 [02:18<03:22,  1.41it/s]\u001b[A\n",
            "Epoch 1 in training:  39%|███▉      | 185/469 [02:19<03:22,  1.41it/s]\u001b[A\n",
            "Epoch 1 in training:  40%|███▉      | 186/469 [02:19<03:21,  1.41it/s]\u001b[A\n",
            "Epoch 1 in training:  40%|███▉      | 187/469 [02:20<03:19,  1.42it/s]\u001b[A\n",
            "Epoch 1 in training:  40%|████      | 188/469 [02:21<03:18,  1.42it/s]\u001b[A\n",
            "Epoch 1 in training:  40%|████      | 189/469 [02:22<03:34,  1.30it/s]\u001b[A\n",
            "Epoch 1 in training:  41%|████      | 190/469 [02:23<03:48,  1.22it/s]\u001b[A\n",
            "Epoch 1 in training:  41%|████      | 191/469 [02:23<03:51,  1.20it/s]\u001b[A\n",
            "Epoch 1 in training:  41%|████      | 192/469 [02:24<03:41,  1.25it/s]\u001b[A\n",
            "Epoch 1 in training:  41%|████      | 193/469 [02:25<03:34,  1.29it/s]\u001b[A\n",
            "Epoch 1 in training:  41%|████▏     | 194/469 [02:26<03:30,  1.30it/s]\u001b[A\n",
            "Epoch 1 in training:  42%|████▏     | 195/469 [02:26<03:27,  1.32it/s]\u001b[A\n",
            "Epoch 1 in training:  42%|████▏     | 196/469 [02:27<03:23,  1.34it/s]\u001b[A\n",
            "Epoch 1 in training:  42%|████▏     | 197/469 [02:28<03:20,  1.35it/s]\u001b[A\n",
            "Epoch 1 in training:  42%|████▏     | 198/469 [02:28<03:18,  1.37it/s]\u001b[A\n",
            "Epoch 1 in training:  42%|████▏     | 199/469 [02:29<03:17,  1.37it/s]\u001b[A\n",
            "Epoch 1 in training:  43%|████▎     | 200/469 [02:30<03:15,  1.37it/s]\u001b[A\n",
            "Epoch 1 in training:  43%|████▎     | 201/469 [02:31<03:13,  1.38it/s]\u001b[A\n",
            "Epoch 1 in training:  43%|████▎     | 202/469 [02:31<03:12,  1.39it/s]\u001b[A\n",
            "Epoch 1 in training:  43%|████▎     | 203/469 [02:32<03:11,  1.39it/s]\u001b[A\n",
            "Epoch 1 in training:  43%|████▎     | 204/469 [02:33<03:10,  1.39it/s]\u001b[A\n",
            "Epoch 1 in training:  44%|████▎     | 205/469 [02:34<03:25,  1.28it/s]\u001b[A\n",
            "Epoch 1 in training:  44%|████▍     | 206/469 [02:35<03:40,  1.19it/s]\u001b[A\n",
            "Epoch 1 in training:  44%|████▍     | 207/469 [02:36<03:40,  1.19it/s]\u001b[A\n",
            "Epoch 1 in training:  44%|████▍     | 208/469 [02:36<03:28,  1.25it/s]\u001b[A\n",
            "Epoch 1 in training:  45%|████▍     | 209/469 [02:37<03:21,  1.29it/s]\u001b[A\n",
            "Epoch 1 in training:  45%|████▍     | 210/469 [02:38<03:15,  1.32it/s]\u001b[A\n",
            "Epoch 1 in training:  45%|████▍     | 211/469 [02:38<03:11,  1.34it/s]\u001b[A\n",
            "Epoch 1 in training:  45%|████▌     | 212/469 [02:39<03:08,  1.36it/s]\u001b[A\n",
            "Epoch 1 in training:  45%|████▌     | 213/469 [02:40<03:05,  1.38it/s]\u001b[A\n",
            "Epoch 1 in training:  46%|████▌     | 214/469 [02:41<03:04,  1.38it/s]\u001b[A\n",
            "Epoch 1 in training:  46%|████▌     | 215/469 [02:41<03:04,  1.37it/s]\u001b[A\n",
            "Epoch 1 in training:  46%|████▌     | 216/469 [02:42<03:01,  1.39it/s]\u001b[A\n",
            "Epoch 1 in training:  46%|████▋     | 217/469 [02:43<03:00,  1.40it/s]\u001b[A\n",
            "Epoch 1 in training:  46%|████▋     | 218/469 [02:43<02:58,  1.41it/s]\u001b[A\n",
            "Epoch 1 in training:  47%|████▋     | 219/469 [02:44<02:56,  1.42it/s]\u001b[A\n",
            "Epoch 1 in training:  47%|████▋     | 220/469 [02:45<02:56,  1.41it/s]\u001b[A\n",
            "Epoch 1 in training:  47%|████▋     | 221/469 [02:46<03:13,  1.28it/s]\u001b[A\n",
            "Epoch 1 in training:  47%|████▋     | 222/469 [02:47<03:26,  1.20it/s]\u001b[A\n",
            "Epoch 1 in training:  48%|████▊     | 223/469 [02:48<03:29,  1.17it/s]\u001b[A\n",
            "Epoch 1 in training:  48%|████▊     | 224/469 [02:48<03:18,  1.23it/s]\u001b[A\n",
            "Epoch 1 in training:  48%|████▊     | 225/469 [02:49<03:11,  1.27it/s]\u001b[A\n",
            "Epoch 1 in training:  48%|████▊     | 226/469 [02:50<03:04,  1.31it/s]\u001b[A\n",
            "Epoch 1 in training:  48%|████▊     | 227/469 [02:50<03:00,  1.34it/s]\u001b[A\n",
            "Epoch 1 in training:  49%|████▊     | 228/469 [02:51<02:57,  1.36it/s]\u001b[A\n",
            "Epoch 1 in training:  49%|████▉     | 229/469 [02:52<02:55,  1.37it/s]\u001b[A\n",
            "Epoch 1 in training:  49%|████▉     | 230/469 [02:53<02:52,  1.38it/s]\u001b[A\n",
            "Epoch 1 in training:  49%|████▉     | 231/469 [02:53<02:50,  1.40it/s]\u001b[A\n",
            "Epoch 1 in training:  49%|████▉     | 232/469 [02:54<02:49,  1.40it/s]\u001b[A\n",
            "Epoch 1 in training:  50%|████▉     | 233/469 [02:55<02:49,  1.39it/s]\u001b[A\n",
            "Epoch 1 in training:  50%|████▉     | 234/469 [02:55<02:47,  1.40it/s]\u001b[A\n",
            "Epoch 1 in training:  50%|█████     | 235/469 [02:56<02:46,  1.40it/s]\u001b[A\n",
            "Epoch 1 in training:  50%|█████     | 236/469 [02:57<02:46,  1.40it/s]\u001b[A\n",
            "Epoch 1 in training:  51%|█████     | 237/469 [02:58<02:57,  1.31it/s]\u001b[A\n",
            "Epoch 1 in training:  51%|█████     | 238/469 [02:59<03:06,  1.24it/s]\u001b[A\n",
            "Epoch 1 in training:  51%|█████     | 239/469 [03:00<03:13,  1.19it/s]\u001b[A\n",
            "Epoch 1 in training:  51%|█████     | 240/469 [03:00<03:03,  1.24it/s]\u001b[A\n",
            "Epoch 1 in training:  51%|█████▏    | 241/469 [03:01<02:57,  1.29it/s]\u001b[A\n",
            "Epoch 1 in training:  52%|█████▏    | 242/469 [03:02<02:50,  1.33it/s]\u001b[A\n",
            "Epoch 1 in training:  52%|█████▏    | 243/469 [03:02<02:46,  1.35it/s]\u001b[A\n",
            "Epoch 1 in training:  52%|█████▏    | 244/469 [03:03<02:44,  1.37it/s]\u001b[A\n",
            "Epoch 1 in training:  52%|█████▏    | 245/469 [03:04<02:41,  1.39it/s]\u001b[A\n",
            "Epoch 1 in training:  52%|█████▏    | 246/469 [03:04<02:40,  1.39it/s]\u001b[A\n",
            "Epoch 1 in training:  53%|█████▎    | 247/469 [03:05<02:39,  1.40it/s]\u001b[A\n",
            "Epoch 1 in training:  53%|█████▎    | 248/469 [03:06<02:38,  1.39it/s]\u001b[A\n",
            "Epoch 1 in training:  53%|█████▎    | 249/469 [03:07<02:37,  1.40it/s]\u001b[A\n",
            "Epoch 1 in training:  53%|█████▎    | 250/469 [03:07<02:36,  1.40it/s]\u001b[A\n",
            "Epoch 1 in training:  54%|█████▎    | 251/469 [03:08<02:36,  1.40it/s]\u001b[A\n",
            "Epoch 1 in training:  54%|█████▎    | 252/469 [03:09<02:34,  1.40it/s]\u001b[A\n",
            "Epoch 1 in training:  54%|█████▍    | 253/469 [03:10<02:41,  1.33it/s]\u001b[A\n",
            "Epoch 1 in training:  54%|█████▍    | 254/469 [03:11<02:51,  1.25it/s]\u001b[A\n",
            "Epoch 1 in training:  54%|█████▍    | 255/469 [03:11<03:02,  1.17it/s]\u001b[A\n",
            "Epoch 1 in training:  55%|█████▍    | 256/469 [03:12<02:51,  1.25it/s]\u001b[A\n",
            "Epoch 1 in training:  55%|█████▍    | 257/469 [03:13<02:43,  1.29it/s]\u001b[A\n",
            "Epoch 1 in training:  55%|█████▌    | 258/469 [03:14<02:39,  1.32it/s]\u001b[A\n",
            "Epoch 1 in training:  55%|█████▌    | 259/469 [03:14<02:35,  1.35it/s]\u001b[A\n",
            "Epoch 1 in training:  55%|█████▌    | 260/469 [03:15<02:32,  1.37it/s]\u001b[A\n",
            "Epoch 1 in training:  56%|█████▌    | 261/469 [03:16<02:30,  1.38it/s]\u001b[A\n",
            "Epoch 1 in training:  56%|█████▌    | 262/469 [03:16<02:30,  1.38it/s]\u001b[A\n",
            "Epoch 1 in training:  56%|█████▌    | 263/469 [03:17<02:29,  1.38it/s]\u001b[A\n",
            "Epoch 1 in training:  56%|█████▋    | 264/469 [03:18<02:28,  1.38it/s]\u001b[A\n",
            "Epoch 1 in training:  57%|█████▋    | 265/469 [03:19<02:26,  1.39it/s]\u001b[A\n",
            "Epoch 1 in training:  57%|█████▋    | 266/469 [03:19<02:25,  1.39it/s]\u001b[A\n",
            "Epoch 1 in training:  57%|█████▋    | 267/469 [03:20<02:24,  1.40it/s]\u001b[A\n",
            "Epoch 1 in training:  57%|█████▋    | 268/469 [03:21<02:23,  1.40it/s]\u001b[A\n",
            "Epoch 1 in training:  57%|█████▋    | 269/469 [03:21<02:25,  1.37it/s]\u001b[A\n",
            "Epoch 1 in training:  58%|█████▊    | 270/469 [03:22<02:36,  1.27it/s]\u001b[A\n",
            "Epoch 1 in training:  58%|█████▊    | 271/469 [03:23<02:49,  1.17it/s]\u001b[A\n",
            "Epoch 1 in training:  58%|█████▊    | 272/469 [03:24<02:40,  1.23it/s]\u001b[A\n",
            "Epoch 1 in training:  58%|█████▊    | 273/469 [03:25<02:33,  1.28it/s]\u001b[A\n",
            "Epoch 1 in training:  58%|█████▊    | 274/469 [03:26<02:27,  1.32it/s]\u001b[A\n",
            "Epoch 1 in training:  59%|█████▊    | 275/469 [03:26<02:25,  1.34it/s]\u001b[A\n",
            "Epoch 1 in training:  59%|█████▉    | 276/469 [03:27<02:22,  1.35it/s]\u001b[A\n",
            "Epoch 1 in training:  59%|█████▉    | 277/469 [03:28<02:19,  1.37it/s]\u001b[A\n",
            "Epoch 1 in training:  59%|█████▉    | 278/469 [03:28<02:19,  1.37it/s]\u001b[A\n",
            "Epoch 1 in training:  59%|█████▉    | 279/469 [03:29<02:17,  1.38it/s]\u001b[A\n",
            "Epoch 1 in training:  60%|█████▉    | 280/469 [03:30<02:14,  1.40it/s]\u001b[A\n",
            "Epoch 1 in training:  60%|█████▉    | 281/469 [03:31<02:13,  1.41it/s]\u001b[A\n",
            "Epoch 1 in training:  60%|██████    | 282/469 [03:31<02:13,  1.40it/s]\u001b[A\n",
            "Epoch 1 in training:  60%|██████    | 283/469 [03:32<02:12,  1.40it/s]\u001b[A\n",
            "Epoch 1 in training:  61%|██████    | 284/469 [03:33<02:10,  1.42it/s]\u001b[A\n",
            "Epoch 1 in training:  61%|██████    | 285/469 [03:33<02:09,  1.42it/s]\u001b[A\n",
            "Epoch 1 in training:  61%|██████    | 286/469 [03:34<02:23,  1.27it/s]\u001b[A\n",
            "Epoch 1 in training:  61%|██████    | 287/469 [03:35<02:35,  1.17it/s]\u001b[A\n",
            "Epoch 1 in training:  61%|██████▏   | 288/469 [03:36<02:30,  1.20it/s]\u001b[A\n",
            "Epoch 1 in training:  62%|██████▏   | 289/469 [03:37<02:21,  1.27it/s]\u001b[A\n",
            "Epoch 1 in training:  62%|██████▏   | 290/469 [03:38<02:16,  1.31it/s]\u001b[A\n",
            "Epoch 1 in training:  62%|██████▏   | 291/469 [03:38<02:14,  1.32it/s]\u001b[A\n",
            "Epoch 1 in training:  62%|██████▏   | 292/469 [03:39<02:11,  1.35it/s]\u001b[A\n",
            "Epoch 1 in training:  62%|██████▏   | 293/469 [03:40<02:11,  1.34it/s]\u001b[A\n",
            "Epoch 1 in training:  63%|██████▎   | 294/469 [03:40<02:09,  1.35it/s]\u001b[A\n",
            "Epoch 1 in training:  63%|██████▎   | 295/469 [03:41<02:06,  1.37it/s]\u001b[A\n",
            "Epoch 1 in training:  63%|██████▎   | 296/469 [03:42<02:04,  1.39it/s]\u001b[A\n",
            "Epoch 1 in training:  63%|██████▎   | 297/469 [03:43<02:03,  1.39it/s]\u001b[A\n",
            "Epoch 1 in training:  64%|██████▎   | 298/469 [03:43<02:01,  1.40it/s]\u001b[A\n",
            "Epoch 1 in training:  64%|██████▍   | 299/469 [03:44<02:00,  1.41it/s]\u001b[A\n",
            "Epoch 1 in training:  64%|██████▍   | 300/469 [03:45<02:03,  1.37it/s]\u001b[A\n",
            "Epoch 1 in training:  64%|██████▍   | 301/469 [03:45<02:02,  1.37it/s]\u001b[A\n",
            "Epoch 1 in training:  64%|██████▍   | 302/469 [03:46<02:11,  1.27it/s]\u001b[A\n",
            "Epoch 1 in training:  65%|██████▍   | 303/469 [03:47<02:21,  1.17it/s]\u001b[A\n",
            "Epoch 1 in training:  65%|██████▍   | 304/469 [03:48<02:15,  1.22it/s]\u001b[A\n",
            "Epoch 1 in training:  65%|██████▌   | 305/469 [03:49<02:09,  1.27it/s]\u001b[A\n",
            "Epoch 1 in training:  65%|██████▌   | 306/469 [03:50<02:03,  1.32it/s]\u001b[A\n",
            "Epoch 1 in training:  65%|██████▌   | 307/469 [03:50<02:00,  1.34it/s]\u001b[A\n",
            "Epoch 1 in training:  66%|██████▌   | 308/469 [03:51<01:58,  1.36it/s]\u001b[A\n",
            "Epoch 1 in training:  66%|██████▌   | 309/469 [03:52<01:55,  1.38it/s]\u001b[A\n",
            "Epoch 1 in training:  66%|██████▌   | 310/469 [03:52<01:53,  1.40it/s]\u001b[A\n",
            "Epoch 1 in training:  66%|██████▋   | 311/469 [03:53<01:51,  1.41it/s]\u001b[A\n",
            "Epoch 1 in training:  67%|██████▋   | 312/469 [03:54<01:50,  1.42it/s]\u001b[A\n",
            "Epoch 1 in training:  67%|██████▋   | 313/469 [03:54<01:49,  1.42it/s]\u001b[A\n",
            "Epoch 1 in training:  67%|██████▋   | 314/469 [03:55<01:49,  1.42it/s]\u001b[A\n",
            "Epoch 1 in training:  67%|██████▋   | 315/469 [03:56<02:05,  1.23it/s]\u001b[A\n",
            "Epoch 1 in training:  67%|██████▋   | 316/469 [03:58<02:43,  1.07s/it]\u001b[A\n",
            "Epoch 1 in training:  68%|██████▊   | 317/469 [03:59<02:35,  1.02s/it]\u001b[A\n",
            "Epoch 1 in training:  68%|██████▊   | 318/469 [04:00<02:56,  1.17s/it]\u001b[A\n",
            "Epoch 1 in training:  68%|██████▊   | 319/469 [04:01<02:44,  1.09s/it]\u001b[A\n",
            "Epoch 1 in training:  68%|██████▊   | 320/469 [04:02<02:28,  1.00it/s]\u001b[A\n",
            "Epoch 1 in training:  68%|██████▊   | 321/469 [04:03<02:33,  1.04s/it]\u001b[A\n",
            "Epoch 1 in training:  69%|██████▊   | 322/469 [04:04<02:20,  1.05it/s]\u001b[A\n",
            "Epoch 1 in training:  69%|██████▉   | 323/469 [04:05<02:38,  1.09s/it]\u001b[A\n",
            "Epoch 1 in training:  69%|██████▉   | 324/469 [04:07<02:46,  1.15s/it]\u001b[A\n",
            "Epoch 1 in training:  69%|██████▉   | 325/469 [04:07<02:27,  1.02s/it]\u001b[A\n",
            "Epoch 1 in training:  70%|██████▉   | 326/469 [04:08<02:16,  1.05it/s]\u001b[A\n",
            "Epoch 1 in training:  70%|██████▉   | 327/469 [04:10<02:37,  1.11s/it]\u001b[A\n",
            "Epoch 1 in training:  70%|██████▉   | 328/469 [04:11<02:30,  1.06s/it]\u001b[A\n",
            "Epoch 1 in training:  70%|███████   | 329/469 [04:12<02:33,  1.10s/it]\u001b[A\n",
            "Epoch 1 in training:  70%|███████   | 330/469 [04:13<02:39,  1.15s/it]\u001b[A\n",
            "Epoch 1 in training:  71%|███████   | 331/469 [04:14<02:41,  1.17s/it]\u001b[A\n",
            "Epoch 1 in training:  71%|███████   | 332/469 [04:15<02:24,  1.06s/it]\u001b[A\n",
            "Epoch 1 in training:  71%|███████   | 333/469 [04:16<02:27,  1.09s/it]\u001b[A\n",
            "Epoch 1 in training:  71%|███████   | 334/469 [04:17<02:12,  1.02it/s]\u001b[A\n",
            "Epoch 1 in training:  71%|███████▏  | 335/469 [04:18<02:15,  1.01s/it]\u001b[A\n",
            "Epoch 1 in training:  72%|███████▏  | 336/469 [04:19<02:17,  1.04s/it]\u001b[A\n",
            "Epoch 1 in training:  72%|███████▏  | 337/469 [04:20<02:18,  1.05s/it]\u001b[A\n",
            "Epoch 1 in training:  72%|███████▏  | 338/469 [04:21<02:05,  1.05it/s]\u001b[A\n",
            "Epoch 1 in training:  72%|███████▏  | 339/469 [04:23<03:04,  1.42s/it]\u001b[A\n",
            "Epoch 1 in training:  72%|███████▏  | 340/469 [04:25<02:56,  1.37s/it]\u001b[A\n",
            "Epoch 1 in training:  73%|███████▎  | 341/469 [04:26<02:50,  1.33s/it]\u001b[A\n",
            "Epoch 1 in training:  73%|███████▎  | 342/469 [04:27<02:33,  1.21s/it]\u001b[A\n",
            "Epoch 1 in training:  73%|███████▎  | 343/469 [04:28<02:13,  1.06s/it]\u001b[A\n",
            "Epoch 1 in training:  73%|███████▎  | 344/469 [04:28<01:59,  1.04it/s]\u001b[A\n",
            "Epoch 1 in training:  74%|███████▎  | 345/469 [04:29<01:49,  1.14it/s]\u001b[A\n",
            "Epoch 1 in training:  74%|███████▍  | 346/469 [04:30<01:41,  1.21it/s]\u001b[A\n",
            "Epoch 1 in training:  74%|███████▍  | 347/469 [04:30<01:37,  1.25it/s]\u001b[A\n",
            "Epoch 1 in training:  74%|███████▍  | 348/469 [04:31<01:32,  1.30it/s]\u001b[A\n",
            "Epoch 1 in training:  74%|███████▍  | 349/469 [04:32<01:30,  1.33it/s]\u001b[A\n",
            "Epoch 1 in training:  75%|███████▍  | 350/469 [04:33<01:28,  1.35it/s]\u001b[A\n",
            "Epoch 1 in training:  75%|███████▍  | 351/469 [04:33<01:26,  1.37it/s]\u001b[A\n",
            "Epoch 1 in training:  75%|███████▌  | 352/469 [04:34<01:26,  1.35it/s]\u001b[A\n",
            "Epoch 1 in training:  75%|███████▌  | 353/469 [04:35<01:32,  1.26it/s]\u001b[A\n",
            "Epoch 1 in training:  75%|███████▌  | 354/469 [04:36<01:39,  1.16it/s]\u001b[A\n",
            "Epoch 1 in training:  76%|███████▌  | 355/469 [04:37<01:43,  1.10it/s]\u001b[A\n",
            "Epoch 1 in training:  76%|███████▌  | 356/469 [04:38<01:35,  1.18it/s]\u001b[A\n",
            "Epoch 1 in training:  76%|███████▌  | 357/469 [04:38<01:30,  1.24it/s]\u001b[A\n",
            "Epoch 1 in training:  76%|███████▋  | 358/469 [04:39<01:26,  1.29it/s]\u001b[A\n",
            "Epoch 1 in training:  77%|███████▋  | 359/469 [04:40<01:31,  1.20it/s]\u001b[A\n",
            "Epoch 1 in training:  77%|███████▋  | 360/469 [04:41<01:27,  1.24it/s]\u001b[A\n",
            "Epoch 1 in training:  77%|███████▋  | 361/469 [04:41<01:23,  1.29it/s]\u001b[A\n",
            "Epoch 1 in training:  77%|███████▋  | 362/469 [04:42<01:20,  1.33it/s]\u001b[A\n",
            "Epoch 1 in training:  77%|███████▋  | 363/469 [04:43<01:18,  1.35it/s]\u001b[A\n",
            "Epoch 1 in training:  78%|███████▊  | 364/469 [04:44<01:16,  1.38it/s]\u001b[A\n",
            "Epoch 1 in training:  78%|███████▊  | 365/469 [04:44<01:14,  1.39it/s]\u001b[A\n",
            "Epoch 1 in training:  78%|███████▊  | 366/469 [04:45<01:13,  1.39it/s]\u001b[A\n",
            "Epoch 1 in training:  78%|███████▊  | 367/469 [04:46<01:12,  1.41it/s]\u001b[A\n",
            "Epoch 1 in training:  78%|███████▊  | 368/469 [04:46<01:11,  1.41it/s]\u001b[A\n",
            "Epoch 1 in training:  79%|███████▊  | 369/469 [04:47<01:16,  1.31it/s]\u001b[A\n",
            "Epoch 1 in training:  79%|███████▉  | 370/469 [04:48<01:20,  1.23it/s]\u001b[A\n",
            "Epoch 1 in training:  79%|███████▉  | 371/469 [04:49<01:21,  1.20it/s]\u001b[A\n",
            "Epoch 1 in training:  79%|███████▉  | 372/469 [04:50<01:16,  1.26it/s]\u001b[A\n",
            "Epoch 1 in training:  80%|███████▉  | 373/469 [04:50<01:13,  1.31it/s]\u001b[A\n",
            "Epoch 1 in training:  80%|███████▉  | 374/469 [04:51<01:11,  1.34it/s]\u001b[A\n",
            "Epoch 1 in training:  80%|███████▉  | 375/469 [04:52<01:08,  1.37it/s]\u001b[A\n",
            "Epoch 1 in training:  80%|████████  | 376/469 [04:53<01:07,  1.39it/s]\u001b[A\n",
            "Epoch 1 in training:  80%|████████  | 377/469 [04:53<01:06,  1.39it/s]\u001b[A\n",
            "Epoch 1 in training:  81%|████████  | 378/469 [04:54<01:04,  1.41it/s]\u001b[A\n",
            "Epoch 1 in training:  81%|████████  | 379/469 [04:55<01:03,  1.41it/s]\u001b[A\n",
            "Epoch 1 in training:  81%|████████  | 380/469 [04:55<01:03,  1.41it/s]\u001b[A\n",
            "Epoch 1 in training:  81%|████████  | 381/469 [04:56<01:01,  1.42it/s]\u001b[A\n",
            "Epoch 1 in training:  81%|████████▏ | 382/469 [04:57<01:00,  1.43it/s]\u001b[A\n",
            "Epoch 1 in training:  82%|████████▏ | 383/469 [04:57<01:00,  1.43it/s]\u001b[A\n",
            "Epoch 1 in training:  82%|████████▏ | 384/469 [04:58<00:59,  1.44it/s]\u001b[A\n",
            "Epoch 1 in training:  82%|████████▏ | 385/469 [04:59<01:00,  1.38it/s]\u001b[A\n",
            "Epoch 1 in training:  82%|████████▏ | 386/469 [05:00<01:04,  1.28it/s]\u001b[A\n",
            "Epoch 1 in training:  83%|████████▎ | 387/469 [05:01<01:09,  1.19it/s]\u001b[A\n",
            "Epoch 1 in training:  83%|████████▎ | 388/469 [05:02<01:05,  1.24it/s]\u001b[A\n",
            "Epoch 1 in training:  83%|████████▎ | 389/469 [05:02<01:02,  1.29it/s]\u001b[A\n",
            "Epoch 1 in training:  83%|████████▎ | 390/469 [05:03<00:59,  1.33it/s]\u001b[A\n",
            "Epoch 1 in training:  83%|████████▎ | 391/469 [05:04<00:57,  1.35it/s]\u001b[A\n",
            "Epoch 1 in training:  84%|████████▎ | 392/469 [05:04<00:56,  1.37it/s]\u001b[A\n",
            "Epoch 1 in training:  84%|████████▍ | 393/469 [05:05<00:54,  1.39it/s]\u001b[A\n",
            "Epoch 1 in training:  84%|████████▍ | 394/469 [05:06<00:53,  1.40it/s]\u001b[A\n",
            "Epoch 1 in training:  84%|████████▍ | 395/469 [05:07<00:53,  1.39it/s]\u001b[A\n",
            "Epoch 1 in training:  84%|████████▍ | 396/469 [05:07<00:52,  1.40it/s]\u001b[A\n",
            "Epoch 1 in training:  85%|████████▍ | 397/469 [05:08<00:51,  1.41it/s]\u001b[A\n",
            "Epoch 1 in training:  85%|████████▍ | 398/469 [05:09<00:50,  1.41it/s]\u001b[A\n",
            "Epoch 1 in training:  85%|████████▌ | 399/469 [05:09<00:49,  1.41it/s]\u001b[A\n",
            "Epoch 1 in training:  85%|████████▌ | 400/469 [05:10<00:48,  1.41it/s]\u001b[A\n",
            "Epoch 1 in training:  86%|████████▌ | 401/469 [05:11<00:47,  1.42it/s]\u001b[A\n",
            "Epoch 1 in training:  86%|████████▌ | 402/469 [05:12<00:52,  1.28it/s]\u001b[A\n",
            "Epoch 1 in training:  86%|████████▌ | 403/469 [05:13<00:57,  1.15it/s]\u001b[A\n",
            "Epoch 1 in training:  86%|████████▌ | 404/469 [05:14<00:54,  1.19it/s]\u001b[A\n",
            "Epoch 1 in training:  86%|████████▋ | 405/469 [05:14<00:51,  1.25it/s]\u001b[A\n",
            "Epoch 1 in training:  87%|████████▋ | 406/469 [05:15<00:48,  1.30it/s]\u001b[A\n",
            "Epoch 1 in training:  87%|████████▋ | 407/469 [05:16<00:46,  1.33it/s]\u001b[A\n",
            "Epoch 1 in training:  87%|████████▋ | 408/469 [05:16<00:45,  1.35it/s]\u001b[A\n",
            "Epoch 1 in training:  87%|████████▋ | 409/469 [05:17<00:43,  1.37it/s]\u001b[A\n",
            "Epoch 1 in training:  87%|████████▋ | 410/469 [05:18<00:42,  1.39it/s]\u001b[A\n",
            "Epoch 1 in training:  88%|████████▊ | 411/469 [05:18<00:41,  1.39it/s]\u001b[A\n",
            "Epoch 1 in training:  88%|████████▊ | 412/469 [05:19<00:40,  1.40it/s]\u001b[A\n",
            "Epoch 1 in training:  88%|████████▊ | 413/469 [05:20<00:39,  1.42it/s]\u001b[A\n",
            "Epoch 1 in training:  88%|████████▊ | 414/469 [05:21<00:38,  1.42it/s]\u001b[A\n",
            "Epoch 1 in training:  88%|████████▊ | 415/469 [05:21<00:38,  1.42it/s]\u001b[A\n",
            "Epoch 1 in training:  89%|████████▊ | 416/469 [05:22<00:37,  1.41it/s]\u001b[A\n",
            "Epoch 1 in training:  89%|████████▉ | 417/469 [05:23<00:36,  1.41it/s]\u001b[A\n",
            "Epoch 1 in training:  89%|████████▉ | 418/469 [05:24<00:39,  1.28it/s]\u001b[A\n",
            "Epoch 1 in training:  89%|████████▉ | 419/469 [05:25<00:41,  1.19it/s]\u001b[A\n",
            "Epoch 1 in training:  90%|████████▉ | 420/469 [05:25<00:40,  1.20it/s]\u001b[A\n",
            "Epoch 1 in training:  90%|████████▉ | 421/469 [05:26<00:38,  1.26it/s]\u001b[A\n",
            "Epoch 1 in training:  90%|████████▉ | 422/469 [05:27<00:36,  1.30it/s]\u001b[A\n",
            "Epoch 1 in training:  90%|█████████ | 423/469 [05:28<00:34,  1.33it/s]\u001b[A\n",
            "Epoch 1 in training:  90%|█████████ | 424/469 [05:28<00:33,  1.36it/s]\u001b[A\n",
            "Epoch 1 in training:  91%|█████████ | 425/469 [05:29<00:31,  1.38it/s]\u001b[A\n",
            "Epoch 1 in training:  91%|█████████ | 426/469 [05:30<00:30,  1.39it/s]\u001b[A\n",
            "Epoch 1 in training:  91%|█████████ | 427/469 [05:30<00:29,  1.41it/s]\u001b[A\n",
            "Epoch 1 in training:  91%|█████████▏| 428/469 [05:31<00:29,  1.41it/s]\u001b[A\n",
            "Epoch 1 in training:  91%|█████████▏| 429/469 [05:32<00:28,  1.41it/s]\u001b[A\n",
            "Epoch 1 in training:  92%|█████████▏| 430/469 [05:33<00:27,  1.41it/s]\u001b[A\n",
            "Epoch 1 in training:  92%|█████████▏| 431/469 [05:33<00:26,  1.41it/s]\u001b[A\n",
            "Epoch 1 in training:  92%|█████████▏| 432/469 [05:34<00:26,  1.41it/s]\u001b[A\n",
            "Epoch 1 in training:  92%|█████████▏| 433/469 [05:35<00:25,  1.40it/s]\u001b[A\n",
            "Epoch 1 in training:  93%|█████████▎| 434/469 [05:36<00:26,  1.30it/s]\u001b[A\n",
            "Epoch 1 in training:  93%|█████████▎| 435/469 [05:37<00:28,  1.20it/s]\u001b[A\n",
            "Epoch 1 in training:  93%|█████████▎| 436/469 [05:37<00:27,  1.19it/s]\u001b[A\n",
            "Epoch 1 in training:  93%|█████████▎| 437/469 [05:38<00:25,  1.23it/s]\u001b[A\n",
            "Epoch 1 in training:  93%|█████████▎| 438/469 [05:39<00:24,  1.29it/s]\u001b[A\n",
            "Epoch 1 in training:  94%|█████████▎| 439/469 [05:40<00:22,  1.32it/s]\u001b[A\n",
            "Epoch 1 in training:  94%|█████████▍| 440/469 [05:40<00:21,  1.35it/s]\u001b[A\n",
            "Epoch 1 in training:  94%|█████████▍| 441/469 [05:41<00:20,  1.37it/s]\u001b[A\n",
            "Epoch 1 in training:  94%|█████████▍| 442/469 [05:42<00:19,  1.39it/s]\u001b[A\n",
            "Epoch 1 in training:  94%|█████████▍| 443/469 [05:42<00:18,  1.40it/s]\u001b[A\n",
            "Epoch 1 in training:  95%|█████████▍| 444/469 [05:43<00:17,  1.40it/s]\u001b[A\n",
            "Epoch 1 in training:  95%|█████████▍| 445/469 [05:44<00:16,  1.42it/s]\u001b[A\n",
            "Epoch 1 in training:  95%|█████████▌| 446/469 [05:44<00:16,  1.42it/s]\u001b[A\n",
            "Epoch 1 in training:  95%|█████████▌| 447/469 [05:45<00:15,  1.41it/s]\u001b[A\n",
            "Epoch 1 in training:  96%|█████████▌| 448/469 [05:46<00:14,  1.42it/s]\u001b[A\n",
            "Epoch 1 in training:  96%|█████████▌| 449/469 [05:47<00:14,  1.42it/s]\u001b[A\n",
            "Epoch 1 in training:  96%|█████████▌| 450/469 [05:47<00:14,  1.34it/s]\u001b[A\n",
            "Epoch 1 in training:  96%|█████████▌| 451/469 [05:48<00:14,  1.25it/s]\u001b[A\n",
            "Epoch 1 in training:  96%|█████████▋| 452/469 [05:49<00:14,  1.18it/s]\u001b[A\n",
            "Epoch 1 in training:  97%|█████████▋| 453/469 [05:50<00:12,  1.25it/s]\u001b[A\n",
            "Epoch 1 in training:  97%|█████████▋| 454/469 [05:51<00:11,  1.30it/s]\u001b[A\n",
            "Epoch 1 in training:  97%|█████████▋| 455/469 [05:51<00:10,  1.33it/s]\u001b[A\n",
            "Epoch 1 in training:  97%|█████████▋| 456/469 [05:52<00:09,  1.37it/s]\u001b[A\n",
            "Epoch 1 in training:  97%|█████████▋| 457/469 [05:53<00:08,  1.38it/s]\u001b[A\n",
            "Epoch 1 in training:  98%|█████████▊| 458/469 [05:53<00:07,  1.39it/s]\u001b[A\n",
            "Epoch 1 in training:  98%|█████████▊| 459/469 [05:54<00:07,  1.40it/s]\u001b[A\n",
            "Epoch 1 in training:  98%|█████████▊| 460/469 [05:55<00:06,  1.39it/s]\u001b[A\n",
            "Epoch 1 in training:  98%|█████████▊| 461/469 [05:56<00:05,  1.39it/s]\u001b[A\n",
            "Epoch 1 in training:  99%|█████████▊| 462/469 [05:56<00:05,  1.39it/s]\u001b[A\n",
            "Epoch 1 in training:  99%|█████████▊| 463/469 [05:57<00:04,  1.39it/s]\u001b[A\n",
            "Epoch 1 in training:  99%|█████████▉| 464/469 [05:58<00:03,  1.39it/s]\u001b[A\n",
            "Epoch 1 in training:  99%|█████████▉| 465/469 [05:59<00:02,  1.40it/s]\u001b[A\n",
            "Epoch 1 in training:  99%|█████████▉| 466/469 [05:59<00:02,  1.33it/s]\u001b[A\n",
            "Epoch 1 in training: 100%|█████████▉| 467/469 [06:00<00:01,  1.23it/s]\u001b[A\n",
            "Epoch 1 in training: 100%|█████████▉| 468/469 [06:01<00:00,  1.16it/s]\u001b[A\n",
            "Epoch 1 in training: 100%|██████████| 469/469 [06:02<00:00,  1.30it/s]\u001b[A\n",
            "Training:  50%|█████     | 1/2 [06:02<06:02, 362.35s/it]"
          ]
        },
        {
          "output_type": "stream",
          "name": "stdout",
          "text": [
            "Epoch 1/2 loss: 2.12\n"
          ]
        },
        {
          "output_type": "stream",
          "name": "stderr",
          "text": [
            "\n",
            "Epoch 2 in training:   0%|          | 0/469 [00:00<?, ?it/s]\u001b[A\n",
            "Epoch 2 in training:   0%|          | 1/469 [00:00<05:21,  1.45it/s]\u001b[A\n",
            "Epoch 2 in training:   0%|          | 2/469 [00:01<05:24,  1.44it/s]\u001b[A\n",
            "Epoch 2 in training:   1%|          | 3/469 [00:02<06:38,  1.17it/s]\u001b[A\n",
            "Epoch 2 in training:   1%|          | 4/469 [00:03<06:09,  1.26it/s]\u001b[A\n",
            "Epoch 2 in training:   1%|          | 5/469 [00:03<05:50,  1.32it/s]\u001b[A\n",
            "Epoch 2 in training:   1%|▏         | 6/469 [00:04<05:46,  1.34it/s]\u001b[A\n",
            "Epoch 2 in training:   1%|▏         | 7/469 [00:05<05:38,  1.36it/s]\u001b[A\n",
            "Epoch 2 in training:   2%|▏         | 8/469 [00:05<05:30,  1.39it/s]\u001b[A\n",
            "Epoch 2 in training:   2%|▏         | 9/469 [00:06<05:27,  1.40it/s]\u001b[A\n",
            "Epoch 2 in training:   2%|▏         | 10/469 [00:07<05:27,  1.40it/s]\u001b[A\n",
            "Epoch 2 in training:   2%|▏         | 11/469 [00:08<05:26,  1.40it/s]\u001b[A\n",
            "Epoch 2 in training:   3%|▎         | 12/469 [00:08<05:23,  1.41it/s]\u001b[A\n",
            "Epoch 2 in training:   3%|▎         | 13/469 [00:09<05:36,  1.36it/s]\u001b[A\n",
            "Epoch 2 in training:   3%|▎         | 14/469 [00:10<06:01,  1.26it/s]\u001b[A\n",
            "Epoch 2 in training:   3%|▎         | 15/469 [00:11<06:24,  1.18it/s]\u001b[A\n",
            "Epoch 2 in training:   3%|▎         | 16/469 [00:12<06:00,  1.26it/s]\u001b[A\n",
            "Epoch 2 in training:   4%|▎         | 17/469 [00:12<05:46,  1.30it/s]\u001b[A\n",
            "Epoch 2 in training:   4%|▍         | 18/469 [00:13<05:36,  1.34it/s]\u001b[A\n",
            "Epoch 2 in training:   4%|▍         | 19/469 [00:14<05:27,  1.37it/s]\u001b[A\n",
            "Epoch 2 in training:   4%|▍         | 20/469 [00:14<05:24,  1.38it/s]\u001b[A\n",
            "Epoch 2 in training:   4%|▍         | 21/469 [00:15<05:21,  1.39it/s]\u001b[A\n",
            "Epoch 2 in training:   5%|▍         | 22/469 [00:16<05:17,  1.41it/s]\u001b[A\n",
            "Epoch 2 in training:   5%|▍         | 23/469 [00:17<05:17,  1.41it/s]\u001b[A\n",
            "Epoch 2 in training:   5%|▌         | 24/469 [00:17<05:16,  1.40it/s]\u001b[A\n",
            "Epoch 2 in training:   5%|▌         | 25/469 [00:18<05:15,  1.41it/s]\u001b[A\n",
            "Epoch 2 in training:   6%|▌         | 26/469 [00:19<05:13,  1.41it/s]\u001b[A\n",
            "Epoch 2 in training:   6%|▌         | 27/469 [00:19<05:13,  1.41it/s]\u001b[A\n",
            "Epoch 2 in training:   6%|▌         | 28/469 [00:20<05:15,  1.40it/s]\u001b[A\n",
            "Epoch 2 in training:   6%|▌         | 29/469 [00:21<05:19,  1.38it/s]\u001b[A\n",
            "Epoch 2 in training:   6%|▋         | 30/469 [00:22<05:48,  1.26it/s]\u001b[A\n",
            "Epoch 2 in training:   7%|▋         | 31/469 [00:23<06:17,  1.16it/s]\u001b[A\n",
            "Epoch 2 in training:   7%|▋         | 32/469 [00:24<05:56,  1.22it/s]\u001b[A\n",
            "Epoch 2 in training:   7%|▋         | 33/469 [00:24<05:41,  1.28it/s]\u001b[A\n",
            "Epoch 2 in training:   7%|▋         | 34/469 [00:25<05:31,  1.31it/s]\u001b[A\n",
            "Epoch 2 in training:   7%|▋         | 35/469 [00:26<05:23,  1.34it/s]\u001b[A\n",
            "Epoch 2 in training:   8%|▊         | 36/469 [00:26<05:16,  1.37it/s]\u001b[A\n",
            "Epoch 2 in training:   8%|▊         | 37/469 [00:27<05:09,  1.40it/s]\u001b[A\n",
            "Epoch 2 in training:   8%|▊         | 38/469 [00:28<05:06,  1.41it/s]\u001b[A\n",
            "Epoch 2 in training:   8%|▊         | 39/469 [00:28<05:05,  1.41it/s]\u001b[A\n",
            "Epoch 2 in training:   9%|▊         | 40/469 [00:29<05:01,  1.42it/s]\u001b[A\n",
            "Epoch 2 in training:   9%|▊         | 41/469 [00:30<05:00,  1.43it/s]\u001b[A\n",
            "Epoch 2 in training:   9%|▉         | 42/469 [00:31<05:01,  1.42it/s]\u001b[A\n",
            "Epoch 2 in training:   9%|▉         | 43/469 [00:31<04:57,  1.43it/s]\u001b[A\n",
            "Epoch 2 in training:   9%|▉         | 44/469 [00:32<04:57,  1.43it/s]\u001b[A\n",
            "Epoch 2 in training:  10%|▉         | 45/469 [00:33<04:59,  1.42it/s]\u001b[A\n",
            "Epoch 2 in training:  10%|▉         | 46/469 [00:34<05:23,  1.31it/s]\u001b[A\n",
            "Epoch 2 in training:  10%|█         | 47/469 [00:35<05:48,  1.21it/s]\u001b[A\n",
            "Epoch 2 in training:  10%|█         | 48/469 [00:35<05:47,  1.21it/s]\u001b[A\n",
            "Epoch 2 in training:  10%|█         | 49/469 [00:36<05:35,  1.25it/s]\u001b[A\n",
            "Epoch 2 in training:  11%|█         | 50/469 [00:37<05:22,  1.30it/s]\u001b[A\n",
            "Epoch 2 in training:  11%|█         | 51/469 [00:37<05:11,  1.34it/s]\u001b[A\n",
            "Epoch 2 in training:  11%|█         | 52/469 [00:38<05:06,  1.36it/s]\u001b[A\n",
            "Epoch 2 in training:  11%|█▏        | 53/469 [00:39<05:03,  1.37it/s]\u001b[A\n",
            "Epoch 2 in training:  12%|█▏        | 54/469 [00:40<04:57,  1.40it/s]\u001b[A\n",
            "Epoch 2 in training:  12%|█▏        | 55/469 [00:40<04:55,  1.40it/s]\u001b[A\n",
            "Epoch 2 in training:  12%|█▏        | 56/469 [00:41<04:56,  1.39it/s]\u001b[A\n",
            "Epoch 2 in training:  12%|█▏        | 57/469 [00:42<04:52,  1.41it/s]\u001b[A\n",
            "Epoch 2 in training:  12%|█▏        | 58/469 [00:42<04:50,  1.42it/s]\u001b[A\n",
            "Epoch 2 in training:  13%|█▎        | 59/469 [00:43<05:30,  1.24it/s]\u001b[A\n",
            "Epoch 2 in training:  13%|█▎        | 60/469 [00:44<05:17,  1.29it/s]\u001b[A\n",
            "Epoch 2 in training:  13%|█▎        | 61/469 [00:45<05:05,  1.34it/s]\u001b[A\n",
            "Epoch 2 in training:  13%|█▎        | 62/469 [00:46<06:01,  1.13it/s]\u001b[A\n",
            "Epoch 2 in training:  13%|█▎        | 63/469 [00:47<06:11,  1.09it/s]\u001b[A\n",
            "Epoch 2 in training:  14%|█▎        | 64/469 [00:48<05:44,  1.17it/s]\u001b[A\n",
            "Epoch 2 in training:  14%|█▍        | 65/469 [00:48<05:24,  1.25it/s]\u001b[A\n",
            "Epoch 2 in training:  14%|█▍        | 66/469 [00:49<05:11,  1.29it/s]\u001b[A\n",
            "Epoch 2 in training:  14%|█▍        | 67/469 [00:50<05:02,  1.33it/s]\u001b[A\n",
            "Epoch 2 in training:  14%|█▍        | 68/469 [00:51<04:57,  1.35it/s]\u001b[A\n",
            "Epoch 2 in training:  15%|█▍        | 69/469 [00:51<04:52,  1.37it/s]\u001b[A\n",
            "Epoch 2 in training:  15%|█▍        | 70/469 [00:52<04:48,  1.38it/s]\u001b[A\n",
            "Epoch 2 in training:  15%|█▌        | 71/469 [00:53<04:46,  1.39it/s]\u001b[A\n",
            "Epoch 2 in training:  15%|█▌        | 72/469 [00:53<04:43,  1.40it/s]\u001b[A\n",
            "Epoch 2 in training:  16%|█▌        | 73/469 [00:54<04:39,  1.41it/s]\u001b[A\n",
            "Epoch 2 in training:  16%|█▌        | 74/469 [00:55<04:38,  1.42it/s]\u001b[A\n",
            "Epoch 2 in training:  16%|█▌        | 75/469 [00:55<04:36,  1.42it/s]\u001b[A\n",
            "Epoch 2 in training:  16%|█▌        | 76/469 [00:56<04:35,  1.43it/s]\u001b[A\n",
            "Epoch 2 in training:  16%|█▋        | 77/469 [00:57<04:35,  1.42it/s]\u001b[A\n",
            "Epoch 2 in training:  17%|█▋        | 78/469 [00:58<05:04,  1.29it/s]\u001b[A\n",
            "Epoch 2 in training:  17%|█▋        | 79/469 [00:59<05:30,  1.18it/s]\u001b[A\n",
            "Epoch 2 in training:  17%|█▋        | 80/469 [01:00<05:23,  1.20it/s]\u001b[A\n",
            "Epoch 2 in training:  17%|█▋        | 81/469 [01:01<05:45,  1.12it/s]\u001b[A\n",
            "Epoch 2 in training:  17%|█▋        | 82/469 [01:01<05:20,  1.21it/s]\u001b[A\n",
            "Epoch 2 in training:  18%|█▊        | 83/469 [01:02<05:07,  1.26it/s]\u001b[A\n",
            "Epoch 2 in training:  18%|█▊        | 84/469 [01:03<04:56,  1.30it/s]\u001b[A\n",
            "Epoch 2 in training:  18%|█▊        | 85/469 [01:03<04:46,  1.34it/s]\u001b[A\n",
            "Epoch 2 in training:  18%|█▊        | 86/469 [01:04<04:42,  1.35it/s]\u001b[A\n",
            "Epoch 2 in training:  19%|█▊        | 87/469 [01:05<04:42,  1.35it/s]\u001b[A\n",
            "Epoch 2 in training:  19%|█▉        | 88/469 [01:06<04:36,  1.38it/s]\u001b[A\n",
            "Epoch 2 in training:  19%|█▉        | 89/469 [01:06<04:33,  1.39it/s]\u001b[A\n",
            "Epoch 2 in training:  19%|█▉        | 90/469 [01:07<04:31,  1.39it/s]\u001b[A\n",
            "Epoch 2 in training:  19%|█▉        | 91/469 [01:08<04:28,  1.41it/s]\u001b[A\n",
            "Epoch 2 in training:  20%|█▉        | 92/469 [01:08<04:26,  1.41it/s]\u001b[A\n",
            "Epoch 2 in training:  20%|█▉        | 93/469 [01:09<04:35,  1.37it/s]\u001b[A\n",
            "Epoch 2 in training:  20%|██        | 94/469 [01:10<04:58,  1.26it/s]\u001b[A\n",
            "Epoch 2 in training:  20%|██        | 95/469 [01:11<05:22,  1.16it/s]\u001b[A\n",
            "Epoch 2 in training:  20%|██        | 96/469 [01:12<05:02,  1.23it/s]\u001b[A\n",
            "Epoch 2 in training:  21%|██        | 97/469 [01:13<04:49,  1.29it/s]\u001b[A\n",
            "Epoch 2 in training:  21%|██        | 98/469 [01:13<04:40,  1.32it/s]\u001b[A\n",
            "Epoch 2 in training:  21%|██        | 99/469 [01:14<04:33,  1.35it/s]\u001b[A\n",
            "Epoch 2 in training:  21%|██▏       | 100/469 [01:15<04:29,  1.37it/s]\u001b[A\n",
            "Epoch 2 in training:  22%|██▏       | 101/469 [01:15<04:24,  1.39it/s]\u001b[A\n",
            "Epoch 2 in training:  22%|██▏       | 102/469 [01:16<04:20,  1.41it/s]\u001b[A\n",
            "Epoch 2 in training:  22%|██▏       | 103/469 [01:17<04:18,  1.41it/s]\u001b[A\n",
            "Epoch 2 in training:  22%|██▏       | 104/469 [01:17<04:17,  1.42it/s]\u001b[A\n",
            "Epoch 2 in training:  22%|██▏       | 105/469 [01:18<04:15,  1.43it/s]\u001b[A\n",
            "Epoch 2 in training:  23%|██▎       | 106/469 [01:19<04:14,  1.42it/s]\u001b[A\n",
            "Epoch 2 in training:  23%|██▎       | 107/469 [01:20<04:15,  1.42it/s]\u001b[A\n",
            "Epoch 2 in training:  23%|██▎       | 108/469 [01:20<04:13,  1.42it/s]\u001b[A\n",
            "Epoch 2 in training:  23%|██▎       | 109/469 [01:21<04:12,  1.43it/s]\u001b[A\n",
            "Epoch 2 in training:  23%|██▎       | 110/469 [01:22<04:36,  1.30it/s]\u001b[A\n",
            "Epoch 2 in training:  24%|██▎       | 111/469 [01:23<04:59,  1.19it/s]\u001b[A\n",
            "Epoch 2 in training:  24%|██▍       | 112/469 [01:24<04:57,  1.20it/s]\u001b[A\n",
            "Epoch 2 in training:  24%|██▍       | 113/469 [01:24<04:41,  1.26it/s]\u001b[A\n",
            "Epoch 2 in training:  24%|██▍       | 114/469 [01:25<04:33,  1.30it/s]\u001b[A\n",
            "Epoch 2 in training:  25%|██▍       | 115/469 [01:26<04:26,  1.33it/s]\u001b[A\n",
            "Epoch 2 in training:  25%|██▍       | 116/469 [01:27<04:19,  1.36it/s]\u001b[A\n",
            "Epoch 2 in training:  25%|██▍       | 117/469 [01:27<04:14,  1.38it/s]\u001b[A\n",
            "Epoch 2 in training:  25%|██▌       | 118/469 [01:28<04:12,  1.39it/s]\u001b[A\n",
            "Epoch 2 in training:  25%|██▌       | 119/469 [01:29<04:07,  1.41it/s]\u001b[A\n",
            "Epoch 2 in training:  26%|██▌       | 120/469 [01:29<04:05,  1.42it/s]\u001b[A\n",
            "Epoch 2 in training:  26%|██▌       | 121/469 [01:30<04:06,  1.41it/s]\u001b[A\n",
            "Epoch 2 in training:  26%|██▌       | 122/469 [01:31<04:03,  1.43it/s]\u001b[A\n",
            "Epoch 2 in training:  26%|██▌       | 123/469 [01:31<04:01,  1.43it/s]\u001b[A\n",
            "Epoch 2 in training:  26%|██▋       | 124/469 [01:32<04:02,  1.42it/s]\u001b[A\n",
            "Epoch 2 in training:  27%|██▋       | 125/469 [01:33<04:01,  1.42it/s]\u001b[A\n",
            "Epoch 2 in training:  27%|██▋       | 126/469 [01:34<04:16,  1.34it/s]\u001b[A\n",
            "Epoch 2 in training:  27%|██▋       | 127/469 [01:35<04:37,  1.23it/s]\u001b[A\n",
            "Epoch 2 in training:  27%|██▋       | 128/469 [01:36<04:48,  1.18it/s]\u001b[A\n",
            "Epoch 2 in training:  28%|██▊       | 129/469 [01:36<04:35,  1.23it/s]\u001b[A\n",
            "Epoch 2 in training:  28%|██▊       | 130/469 [01:37<04:22,  1.29it/s]\u001b[A\n",
            "Epoch 2 in training:  28%|██▊       | 131/469 [01:38<04:13,  1.33it/s]\u001b[A\n",
            "Epoch 2 in training:  28%|██▊       | 132/469 [01:38<04:08,  1.36it/s]\u001b[A\n",
            "Epoch 2 in training:  28%|██▊       | 133/469 [01:39<04:03,  1.38it/s]\u001b[A\n",
            "Epoch 2 in training:  29%|██▊       | 134/469 [01:40<03:59,  1.40it/s]\u001b[A\n",
            "Epoch 2 in training:  29%|██▉       | 135/469 [01:40<03:58,  1.40it/s]\u001b[A\n",
            "Epoch 2 in training:  29%|██▉       | 136/469 [01:41<03:57,  1.40it/s]\u001b[A\n",
            "Epoch 2 in training:  29%|██▉       | 137/469 [01:42<03:54,  1.42it/s]\u001b[A\n",
            "Epoch 2 in training:  29%|██▉       | 138/469 [01:43<03:53,  1.42it/s]\u001b[A\n",
            "Epoch 2 in training:  30%|██▉       | 139/469 [01:43<03:52,  1.42it/s]\u001b[A\n",
            "Epoch 2 in training:  30%|██▉       | 140/469 [01:44<03:50,  1.42it/s]\u001b[A\n",
            "Epoch 2 in training:  30%|███       | 141/469 [01:45<03:50,  1.42it/s]\u001b[A\n",
            "Epoch 2 in training:  30%|███       | 142/469 [01:45<03:55,  1.39it/s]\u001b[A\n",
            "Epoch 2 in training:  30%|███       | 143/469 [01:46<04:15,  1.28it/s]\u001b[A\n",
            "Epoch 2 in training:  31%|███       | 144/469 [01:47<04:34,  1.18it/s]\u001b[A\n",
            "Epoch 2 in training:  31%|███       | 145/469 [01:48<04:19,  1.25it/s]\u001b[A\n",
            "Epoch 2 in training:  31%|███       | 146/469 [01:49<04:09,  1.29it/s]\u001b[A\n",
            "Epoch 2 in training:  31%|███▏      | 147/469 [01:49<04:02,  1.33it/s]\u001b[A\n",
            "Epoch 2 in training:  32%|███▏      | 148/469 [01:50<03:56,  1.36it/s]\u001b[A\n",
            "Epoch 2 in training:  32%|███▏      | 149/469 [01:51<03:53,  1.37it/s]\u001b[A\n",
            "Epoch 2 in training:  32%|███▏      | 150/469 [01:52<03:50,  1.38it/s]\u001b[A\n",
            "Epoch 2 in training:  32%|███▏      | 151/469 [01:52<03:47,  1.40it/s]\u001b[A\n",
            "Epoch 2 in training:  32%|███▏      | 152/469 [01:53<03:46,  1.40it/s]\u001b[A\n",
            "Epoch 2 in training:  33%|███▎      | 153/469 [01:54<03:44,  1.41it/s]\u001b[A\n",
            "Epoch 2 in training:  33%|███▎      | 154/469 [01:54<03:40,  1.43it/s]\u001b[A\n",
            "Epoch 2 in training:  33%|███▎      | 155/469 [01:55<03:41,  1.42it/s]\u001b[A\n",
            "Epoch 2 in training:  33%|███▎      | 156/469 [01:56<03:40,  1.42it/s]\u001b[A\n",
            "Epoch 2 in training:  33%|███▎      | 157/469 [01:56<03:37,  1.44it/s]\u001b[A\n",
            "Epoch 2 in training:  34%|███▎      | 158/469 [01:57<03:36,  1.44it/s]\u001b[A\n",
            "Epoch 2 in training:  34%|███▍      | 159/469 [01:58<03:58,  1.30it/s]\u001b[A\n",
            "Epoch 2 in training:  34%|███▍      | 160/469 [01:59<04:15,  1.21it/s]\u001b[A\n",
            "Epoch 2 in training:  34%|███▍      | 161/469 [02:00<04:12,  1.22it/s]\u001b[A\n",
            "Epoch 2 in training:  35%|███▍      | 162/469 [02:01<03:59,  1.28it/s]\u001b[A\n",
            "Epoch 2 in training:  35%|███▍      | 163/469 [02:01<03:53,  1.31it/s]\u001b[A\n",
            "Epoch 2 in training:  35%|███▍      | 164/469 [02:02<03:47,  1.34it/s]\u001b[A\n",
            "Epoch 2 in training:  35%|███▌      | 165/469 [02:03<03:41,  1.37it/s]\u001b[A\n",
            "Epoch 2 in training:  35%|███▌      | 166/469 [02:03<03:38,  1.39it/s]\u001b[A\n",
            "Epoch 2 in training:  36%|███▌      | 167/469 [02:04<03:36,  1.40it/s]\u001b[A\n",
            "Epoch 2 in training:  36%|███▌      | 168/469 [02:05<03:35,  1.39it/s]\u001b[A\n",
            "Epoch 2 in training:  36%|███▌      | 169/469 [02:06<03:34,  1.40it/s]\u001b[A\n",
            "Epoch 2 in training:  36%|███▌      | 170/469 [02:06<03:32,  1.41it/s]\u001b[A\n",
            "Epoch 2 in training:  36%|███▋      | 171/469 [02:07<03:29,  1.42it/s]\u001b[A\n",
            "Epoch 2 in training:  37%|███▋      | 172/469 [02:08<03:28,  1.42it/s]\u001b[A\n",
            "Epoch 2 in training:  37%|███▋      | 173/469 [02:08<03:28,  1.42it/s]\u001b[A\n",
            "Epoch 2 in training:  37%|███▋      | 174/469 [02:09<03:26,  1.43it/s]\u001b[A\n",
            "Epoch 2 in training:  37%|███▋      | 175/469 [02:10<03:41,  1.32it/s]\u001b[A\n",
            "Epoch 2 in training:  38%|███▊      | 176/469 [02:11<03:55,  1.24it/s]\u001b[A\n",
            "Epoch 2 in training:  38%|███▊      | 177/469 [02:12<04:05,  1.19it/s]\u001b[A\n",
            "Epoch 2 in training:  38%|███▊      | 178/469 [02:12<03:52,  1.25it/s]\u001b[A\n",
            "Epoch 2 in training:  38%|███▊      | 179/469 [02:13<03:42,  1.30it/s]\u001b[A\n",
            "Epoch 2 in training:  38%|███▊      | 180/469 [02:14<03:37,  1.33it/s]\u001b[A\n",
            "Epoch 2 in training:  39%|███▊      | 181/469 [02:15<03:33,  1.35it/s]\u001b[A\n",
            "Epoch 2 in training:  39%|███▉      | 182/469 [02:15<03:27,  1.38it/s]\u001b[A\n",
            "Epoch 2 in training:  39%|███▉      | 183/469 [02:16<03:24,  1.40it/s]\u001b[A\n",
            "Epoch 2 in training:  39%|███▉      | 184/469 [02:17<03:22,  1.41it/s]\u001b[A\n",
            "Epoch 2 in training:  39%|███▉      | 185/469 [02:17<03:19,  1.42it/s]\u001b[A\n",
            "Epoch 2 in training:  40%|███▉      | 186/469 [02:18<03:19,  1.42it/s]\u001b[A\n",
            "Epoch 2 in training:  40%|███▉      | 187/469 [02:19<03:18,  1.42it/s]\u001b[A\n",
            "Epoch 2 in training:  40%|████      | 188/469 [02:19<03:15,  1.43it/s]\u001b[A\n",
            "Epoch 2 in training:  40%|████      | 189/469 [02:20<03:16,  1.43it/s]\u001b[A\n",
            "Epoch 2 in training:  41%|████      | 190/469 [02:21<03:15,  1.43it/s]\u001b[A\n",
            "Epoch 2 in training:  41%|████      | 191/469 [02:22<03:20,  1.39it/s]\u001b[A\n",
            "Epoch 2 in training:  41%|████      | 192/469 [02:23<03:36,  1.28it/s]\u001b[A\n",
            "Epoch 2 in training:  41%|████      | 193/469 [02:24<03:54,  1.18it/s]\u001b[A\n",
            "Epoch 2 in training:  41%|████▏     | 194/469 [02:24<03:42,  1.24it/s]\u001b[A\n",
            "Epoch 2 in training:  42%|████▏     | 195/469 [02:25<03:33,  1.28it/s]\u001b[A\n",
            "Epoch 2 in training:  42%|████▏     | 196/469 [02:26<03:25,  1.33it/s]\u001b[A\n",
            "Epoch 2 in training:  42%|████▏     | 197/469 [02:26<03:20,  1.36it/s]\u001b[A\n",
            "Epoch 2 in training:  42%|████▏     | 198/469 [02:27<03:16,  1.38it/s]\u001b[A\n",
            "Epoch 2 in training:  42%|████▏     | 199/469 [02:28<03:12,  1.40it/s]\u001b[A\n",
            "Epoch 2 in training:  43%|████▎     | 200/469 [02:28<03:11,  1.41it/s]\u001b[A\n",
            "Epoch 2 in training:  43%|████▎     | 201/469 [02:29<03:13,  1.39it/s]\u001b[A\n",
            "Epoch 2 in training:  43%|████▎     | 202/469 [02:30<03:09,  1.41it/s]\u001b[A\n",
            "Epoch 2 in training:  43%|████▎     | 203/469 [02:31<03:07,  1.42it/s]\u001b[A\n",
            "Epoch 2 in training:  43%|████▎     | 204/469 [02:31<03:07,  1.41it/s]\u001b[A\n",
            "Epoch 2 in training:  44%|████▎     | 205/469 [02:32<03:06,  1.42it/s]\u001b[A\n",
            "Epoch 2 in training:  44%|████▍     | 206/469 [02:33<03:05,  1.42it/s]\u001b[A\n",
            "Epoch 2 in training:  44%|████▍     | 207/469 [02:33<03:04,  1.42it/s]\u001b[A\n",
            "Epoch 2 in training:  44%|████▍     | 208/469 [02:34<03:23,  1.28it/s]\u001b[A\n",
            "Epoch 2 in training:  45%|████▍     | 209/469 [02:35<03:40,  1.18it/s]\u001b[A\n",
            "Epoch 2 in training:  45%|████▍     | 210/469 [02:36<03:36,  1.20it/s]\u001b[A\n",
            "Epoch 2 in training:  45%|████▍     | 211/469 [02:37<03:25,  1.26it/s]\u001b[A\n",
            "Epoch 2 in training:  45%|████▌     | 212/469 [02:38<03:17,  1.30it/s]\u001b[A\n",
            "Epoch 2 in training:  45%|████▌     | 213/469 [02:38<03:10,  1.35it/s]\u001b[A\n",
            "Epoch 2 in training:  46%|████▌     | 214/469 [02:39<03:05,  1.37it/s]\u001b[A\n",
            "Epoch 2 in training:  46%|████▌     | 215/469 [02:40<03:02,  1.39it/s]\u001b[A\n",
            "Epoch 2 in training:  46%|████▌     | 216/469 [02:40<02:59,  1.41it/s]\u001b[A\n",
            "Epoch 2 in training:  46%|████▋     | 217/469 [02:41<02:57,  1.42it/s]\u001b[A\n",
            "Epoch 2 in training:  46%|████▋     | 218/469 [02:42<02:56,  1.42it/s]\u001b[A\n",
            "Epoch 2 in training:  47%|████▋     | 219/469 [02:42<02:54,  1.44it/s]\u001b[A\n",
            "Epoch 2 in training:  47%|████▋     | 220/469 [02:43<02:54,  1.43it/s]\u001b[A\n",
            "Epoch 2 in training:  47%|████▋     | 221/469 [02:44<02:53,  1.43it/s]\u001b[A\n",
            "Epoch 2 in training:  47%|████▋     | 222/469 [02:45<02:53,  1.43it/s]\u001b[A\n",
            "Epoch 2 in training:  48%|████▊     | 223/469 [02:45<02:50,  1.44it/s]\u001b[A\n",
            "Epoch 2 in training:  48%|████▊     | 224/469 [02:46<03:01,  1.35it/s]\u001b[A\n",
            "Epoch 2 in training:  48%|████▊     | 225/469 [02:47<03:12,  1.26it/s]\u001b[A\n",
            "Epoch 2 in training:  48%|████▊     | 226/469 [02:48<03:22,  1.20it/s]\u001b[A\n",
            "Epoch 2 in training:  48%|████▊     | 227/469 [02:49<03:10,  1.27it/s]\u001b[A\n",
            "Epoch 2 in training:  49%|████▊     | 228/469 [02:49<03:02,  1.32it/s]\u001b[A\n",
            "Epoch 2 in training:  49%|████▉     | 229/469 [02:50<02:57,  1.35it/s]\u001b[A\n",
            "Epoch 2 in training:  49%|████▉     | 230/469 [02:51<02:52,  1.39it/s]\u001b[A\n",
            "Epoch 2 in training:  49%|████▉     | 231/469 [02:51<02:49,  1.40it/s]\u001b[A\n",
            "Epoch 2 in training:  49%|████▉     | 232/469 [02:52<02:48,  1.41it/s]\u001b[A\n",
            "Epoch 2 in training:  50%|████▉     | 233/469 [02:53<02:45,  1.42it/s]\u001b[A\n",
            "Epoch 2 in training:  50%|████▉     | 234/469 [02:53<02:45,  1.42it/s]\u001b[A\n",
            "Epoch 2 in training:  50%|█████     | 235/469 [02:54<02:44,  1.42it/s]\u001b[A\n",
            "Epoch 2 in training:  50%|█████     | 236/469 [02:55<02:42,  1.43it/s]\u001b[A\n",
            "Epoch 2 in training:  51%|█████     | 237/469 [02:56<02:41,  1.43it/s]\u001b[A\n",
            "Epoch 2 in training:  51%|█████     | 238/469 [02:56<02:42,  1.42it/s]\u001b[A\n",
            "Epoch 2 in training:  51%|█████     | 239/469 [02:57<02:40,  1.43it/s]\u001b[A\n",
            "Epoch 2 in training:  51%|█████     | 240/469 [02:58<02:40,  1.42it/s]\u001b[A\n",
            "Epoch 2 in training:  51%|█████▏    | 241/469 [02:59<02:57,  1.29it/s]\u001b[A\n",
            "Epoch 2 in training:  52%|█████▏    | 242/469 [03:00<03:12,  1.18it/s]\u001b[A\n",
            "Epoch 2 in training:  52%|█████▏    | 243/469 [03:00<03:04,  1.23it/s]\u001b[A\n",
            "Epoch 2 in training:  52%|█████▏    | 244/469 [03:01<02:55,  1.28it/s]\u001b[A\n",
            "Epoch 2 in training:  52%|█████▏    | 245/469 [03:02<02:49,  1.32it/s]\u001b[A\n",
            "Epoch 2 in training:  52%|█████▏    | 246/469 [03:02<02:45,  1.35it/s]\u001b[A\n",
            "Epoch 2 in training:  53%|█████▎    | 247/469 [03:03<02:41,  1.38it/s]\u001b[A\n",
            "Epoch 2 in training:  53%|█████▎    | 248/469 [03:04<02:39,  1.38it/s]\u001b[A\n",
            "Epoch 2 in training:  53%|█████▎    | 249/469 [03:05<02:38,  1.39it/s]\u001b[A\n",
            "Epoch 2 in training:  53%|█████▎    | 250/469 [03:05<02:38,  1.38it/s]\u001b[A\n",
            "Epoch 2 in training:  54%|█████▎    | 251/469 [03:06<02:36,  1.39it/s]\u001b[A\n",
            "Epoch 2 in training:  54%|█████▎    | 252/469 [03:07<02:35,  1.40it/s]\u001b[A\n",
            "Epoch 2 in training:  54%|█████▍    | 253/469 [03:08<02:50,  1.27it/s]\u001b[A\n",
            "Epoch 2 in training:  54%|█████▍    | 254/469 [03:08<02:44,  1.31it/s]\u001b[A\n",
            "Epoch 2 in training:  54%|█████▍    | 255/469 [03:09<02:39,  1.35it/s]\u001b[A\n",
            "Epoch 2 in training:  55%|█████▍    | 256/469 [03:10<02:39,  1.33it/s]\u001b[A\n",
            "Epoch 2 in training:  55%|█████▍    | 257/469 [03:11<02:51,  1.23it/s]\u001b[A\n",
            "Epoch 2 in training:  55%|█████▌    | 258/469 [03:12<03:06,  1.13it/s]\u001b[A\n",
            "Epoch 2 in training:  55%|█████▌    | 259/469 [03:13<02:59,  1.17it/s]\u001b[A\n",
            "Epoch 2 in training:  55%|█████▌    | 260/469 [03:13<02:48,  1.24it/s]\u001b[A\n",
            "Epoch 2 in training:  56%|█████▌    | 261/469 [03:14<02:41,  1.28it/s]\u001b[A\n",
            "Epoch 2 in training:  56%|█████▌    | 262/469 [03:15<02:36,  1.32it/s]\u001b[A\n",
            "Epoch 2 in training:  56%|█████▌    | 263/469 [03:15<02:31,  1.36it/s]\u001b[A\n",
            "Epoch 2 in training:  56%|█████▋    | 264/469 [03:16<02:29,  1.38it/s]\u001b[A\n",
            "Epoch 2 in training:  57%|█████▋    | 265/469 [03:17<02:28,  1.37it/s]\u001b[A\n",
            "Epoch 2 in training:  57%|█████▋    | 266/469 [03:18<02:25,  1.40it/s]\u001b[A\n",
            "Epoch 2 in training:  57%|█████▋    | 267/469 [03:18<02:23,  1.41it/s]\u001b[A\n",
            "Epoch 2 in training:  57%|█████▋    | 268/469 [03:19<02:23,  1.40it/s]\u001b[A\n",
            "Epoch 2 in training:  57%|█████▋    | 269/469 [03:20<02:21,  1.41it/s]\u001b[A\n",
            "Epoch 2 in training:  58%|█████▊    | 270/469 [03:20<02:21,  1.40it/s]\u001b[A\n",
            "Epoch 2 in training:  58%|█████▊    | 271/469 [03:21<02:21,  1.40it/s]\u001b[A\n",
            "Epoch 2 in training:  58%|█████▊    | 272/469 [03:22<02:19,  1.41it/s]\u001b[A\n",
            "Epoch 2 in training:  58%|█████▊    | 273/469 [03:23<02:39,  1.23it/s]\u001b[A\n",
            "Epoch 2 in training:  58%|█████▊    | 274/469 [03:24<02:52,  1.13it/s]\u001b[A\n",
            "Epoch 2 in training:  59%|█████▊    | 275/469 [03:25<02:43,  1.18it/s]\u001b[A\n",
            "Epoch 2 in training:  59%|█████▉    | 276/469 [03:25<02:34,  1.25it/s]\u001b[A\n",
            "Epoch 2 in training:  59%|█████▉    | 277/469 [03:26<02:28,  1.29it/s]\u001b[A\n",
            "Epoch 2 in training:  59%|█████▉    | 278/469 [03:27<02:23,  1.33it/s]\u001b[A\n",
            "Epoch 2 in training:  59%|█████▉    | 279/469 [03:27<02:20,  1.35it/s]\u001b[A\n",
            "Epoch 2 in training:  60%|█████▉    | 280/469 [03:28<02:18,  1.37it/s]\u001b[A\n",
            "Epoch 2 in training:  60%|█████▉    | 281/469 [03:29<02:14,  1.39it/s]\u001b[A\n",
            "Epoch 2 in training:  60%|██████    | 282/469 [03:30<02:13,  1.40it/s]\u001b[A\n",
            "Epoch 2 in training:  60%|██████    | 283/469 [03:30<02:12,  1.41it/s]\u001b[A\n",
            "Epoch 2 in training:  61%|██████    | 284/469 [03:31<02:10,  1.42it/s]\u001b[A\n",
            "Epoch 2 in training:  61%|██████    | 285/469 [03:32<02:10,  1.41it/s]\u001b[A\n",
            "Epoch 2 in training:  61%|██████    | 286/469 [03:32<02:09,  1.41it/s]\u001b[A\n",
            "Epoch 2 in training:  61%|██████    | 287/469 [03:33<02:08,  1.41it/s]\u001b[A\n",
            "Epoch 2 in training:  61%|██████▏   | 288/469 [03:34<02:08,  1.41it/s]\u001b[A\n",
            "Epoch 2 in training:  62%|██████▏   | 289/469 [03:35<02:19,  1.29it/s]\u001b[A\n",
            "Epoch 2 in training:  62%|██████▏   | 290/469 [03:36<02:28,  1.21it/s]\u001b[A\n",
            "Epoch 2 in training:  62%|██████▏   | 291/469 [03:37<02:30,  1.18it/s]\u001b[A\n",
            "Epoch 2 in training:  62%|██████▏   | 292/469 [03:37<02:22,  1.24it/s]\u001b[A\n",
            "Epoch 2 in training:  62%|██████▏   | 293/469 [03:38<02:16,  1.29it/s]\u001b[A\n",
            "Epoch 2 in training:  63%|██████▎   | 294/469 [03:39<02:11,  1.33it/s]\u001b[A\n",
            "Epoch 2 in training:  63%|██████▎   | 295/469 [03:39<02:07,  1.37it/s]\u001b[A\n",
            "Epoch 2 in training:  63%|██████▎   | 296/469 [03:40<02:05,  1.37it/s]\u001b[A\n",
            "Epoch 2 in training:  63%|██████▎   | 297/469 [03:41<02:04,  1.38it/s]\u001b[A\n",
            "Epoch 2 in training:  64%|██████▎   | 298/469 [03:41<02:01,  1.40it/s]\u001b[A\n",
            "Epoch 2 in training:  64%|██████▍   | 299/469 [03:42<02:00,  1.41it/s]\u001b[A\n",
            "Epoch 2 in training:  64%|██████▍   | 300/469 [03:43<01:59,  1.41it/s]\u001b[A\n",
            "Epoch 2 in training:  64%|██████▍   | 301/469 [03:44<01:58,  1.42it/s]\u001b[A\n",
            "Epoch 2 in training:  64%|██████▍   | 302/469 [03:44<01:57,  1.42it/s]\u001b[A\n",
            "Epoch 2 in training:  65%|██████▍   | 303/469 [03:45<01:56,  1.42it/s]\u001b[A\n",
            "Epoch 2 in training:  65%|██████▍   | 304/469 [03:46<01:55,  1.43it/s]\u001b[A\n",
            "Epoch 2 in training:  65%|██████▌   | 305/469 [03:47<02:01,  1.35it/s]\u001b[A\n",
            "Epoch 2 in training:  65%|██████▌   | 306/469 [03:47<02:09,  1.25it/s]\u001b[A\n",
            "Epoch 2 in training:  65%|██████▌   | 307/469 [03:48<02:17,  1.18it/s]\u001b[A\n",
            "Epoch 2 in training:  66%|██████▌   | 308/469 [03:49<02:10,  1.23it/s]\u001b[A\n",
            "Epoch 2 in training:  66%|██████▌   | 309/469 [03:50<02:04,  1.29it/s]\u001b[A\n",
            "Epoch 2 in training:  66%|██████▌   | 310/469 [03:51<01:59,  1.33it/s]\u001b[A\n",
            "Epoch 2 in training:  66%|██████▋   | 311/469 [03:51<01:56,  1.36it/s]\u001b[A\n",
            "Epoch 2 in training:  67%|██████▋   | 312/469 [03:52<01:53,  1.38it/s]\u001b[A\n",
            "Epoch 2 in training:  67%|██████▋   | 313/469 [03:53<01:53,  1.38it/s]\u001b[A\n",
            "Epoch 2 in training:  67%|██████▋   | 314/469 [03:53<01:51,  1.39it/s]\u001b[A\n",
            "Epoch 2 in training:  67%|██████▋   | 315/469 [03:54<01:49,  1.40it/s]\u001b[A\n",
            "Epoch 2 in training:  67%|██████▋   | 316/469 [03:55<01:49,  1.40it/s]\u001b[A\n",
            "Epoch 2 in training:  68%|██████▊   | 317/469 [03:55<01:47,  1.41it/s]\u001b[A\n",
            "Epoch 2 in training:  68%|██████▊   | 318/469 [03:56<01:46,  1.41it/s]\u001b[A\n",
            "Epoch 2 in training:  68%|██████▊   | 319/469 [03:57<01:45,  1.42it/s]\u001b[A\n",
            "Epoch 2 in training:  68%|██████▊   | 320/469 [03:58<01:45,  1.41it/s]\u001b[A\n",
            "Epoch 2 in training:  68%|██████▊   | 321/469 [03:58<01:46,  1.38it/s]\u001b[A\n",
            "Epoch 2 in training:  69%|██████▊   | 322/469 [03:59<01:55,  1.27it/s]\u001b[A\n",
            "Epoch 2 in training:  69%|██████▉   | 323/469 [04:00<02:05,  1.16it/s]\u001b[A\n",
            "Epoch 2 in training:  69%|██████▉   | 324/469 [04:01<01:58,  1.22it/s]\u001b[A\n",
            "Epoch 2 in training:  69%|██████▉   | 325/469 [04:02<01:53,  1.27it/s]\u001b[A\n",
            "Epoch 2 in training:  70%|██████▉   | 326/469 [04:02<01:48,  1.32it/s]\u001b[A\n",
            "Epoch 2 in training:  70%|██████▉   | 327/469 [04:03<01:45,  1.35it/s]\u001b[A\n",
            "Epoch 2 in training:  70%|██████▉   | 328/469 [04:04<01:43,  1.37it/s]\u001b[A\n",
            "Epoch 2 in training:  70%|███████   | 329/469 [04:05<01:41,  1.38it/s]\u001b[A\n",
            "Epoch 2 in training:  70%|███████   | 330/469 [04:05<01:40,  1.39it/s]\u001b[A\n",
            "Epoch 2 in training:  71%|███████   | 331/469 [04:06<01:38,  1.39it/s]\u001b[A\n",
            "Epoch 2 in training:  71%|███████   | 332/469 [04:07<01:37,  1.40it/s]\u001b[A\n",
            "Epoch 2 in training:  71%|███████   | 333/469 [04:07<01:35,  1.42it/s]\u001b[A\n",
            "Epoch 2 in training:  71%|███████   | 334/469 [04:08<01:35,  1.41it/s]\u001b[A\n",
            "Epoch 2 in training:  71%|███████▏  | 335/469 [04:09<01:34,  1.41it/s]\u001b[A\n",
            "Epoch 2 in training:  72%|███████▏  | 336/469 [04:09<01:33,  1.43it/s]\u001b[A\n",
            "Epoch 2 in training:  72%|███████▏  | 337/469 [04:10<01:32,  1.42it/s]\u001b[A\n",
            "Epoch 2 in training:  72%|███████▏  | 338/469 [04:11<01:41,  1.29it/s]\u001b[A\n",
            "Epoch 2 in training:  72%|███████▏  | 339/469 [04:12<01:47,  1.20it/s]\u001b[A\n",
            "Epoch 2 in training:  72%|███████▏  | 340/469 [04:13<01:45,  1.23it/s]\u001b[A\n",
            "Epoch 2 in training:  73%|███████▎  | 341/469 [04:14<01:39,  1.29it/s]\u001b[A\n",
            "Epoch 2 in training:  73%|███████▎  | 342/469 [04:14<01:35,  1.33it/s]\u001b[A\n",
            "Epoch 2 in training:  73%|███████▎  | 343/469 [04:15<01:32,  1.36it/s]\u001b[A\n",
            "Epoch 2 in training:  73%|███████▎  | 344/469 [04:16<01:29,  1.40it/s]\u001b[A\n",
            "Epoch 2 in training:  74%|███████▎  | 345/469 [04:16<01:27,  1.42it/s]\u001b[A\n",
            "Epoch 2 in training:  74%|███████▍  | 346/469 [04:17<01:26,  1.42it/s]\u001b[A\n",
            "Epoch 2 in training:  74%|███████▍  | 347/469 [04:18<01:25,  1.43it/s]\u001b[A\n",
            "Epoch 2 in training:  74%|███████▍  | 348/469 [04:18<01:24,  1.43it/s]\u001b[A\n",
            "Epoch 2 in training:  74%|███████▍  | 349/469 [04:19<01:24,  1.43it/s]\u001b[A\n",
            "Epoch 2 in training:  75%|███████▍  | 350/469 [04:20<01:22,  1.44it/s]\u001b[A\n",
            "Epoch 2 in training:  75%|███████▍  | 351/469 [04:20<01:22,  1.44it/s]\u001b[A\n",
            "Epoch 2 in training:  75%|███████▌  | 352/469 [04:21<01:21,  1.43it/s]\u001b[A\n",
            "Epoch 2 in training:  75%|███████▌  | 353/469 [04:22<01:20,  1.43it/s]\u001b[A\n",
            "Epoch 2 in training:  75%|███████▌  | 354/469 [04:23<01:25,  1.35it/s]\u001b[A\n",
            "Epoch 2 in training:  76%|███████▌  | 355/469 [04:24<01:31,  1.25it/s]\u001b[A\n",
            "Epoch 2 in training:  76%|███████▌  | 356/469 [04:25<01:35,  1.19it/s]\u001b[A\n",
            "Epoch 2 in training:  76%|███████▌  | 357/469 [04:25<01:29,  1.25it/s]\u001b[A\n",
            "Epoch 2 in training:  76%|███████▋  | 358/469 [04:26<01:25,  1.30it/s]\u001b[A\n",
            "Epoch 2 in training:  77%|███████▋  | 359/469 [04:27<01:22,  1.34it/s]\u001b[A\n",
            "Epoch 2 in training:  77%|███████▋  | 360/469 [04:27<01:19,  1.37it/s]\u001b[A\n",
            "Epoch 2 in training:  77%|███████▋  | 361/469 [04:28<01:17,  1.39it/s]\u001b[A\n",
            "Epoch 2 in training:  77%|███████▋  | 362/469 [04:29<01:16,  1.39it/s]\u001b[A\n",
            "Epoch 2 in training:  77%|███████▋  | 363/469 [04:30<01:15,  1.40it/s]\u001b[A\n",
            "Epoch 2 in training:  78%|███████▊  | 364/469 [04:30<01:13,  1.42it/s]\u001b[A\n",
            "Epoch 2 in training:  78%|███████▊  | 365/469 [04:31<01:13,  1.42it/s]\u001b[A\n",
            "Epoch 2 in training:  78%|███████▊  | 366/469 [04:32<01:12,  1.42it/s]\u001b[A\n",
            "Epoch 2 in training:  78%|███████▊  | 367/469 [04:32<01:10,  1.44it/s]\u001b[A\n",
            "Epoch 2 in training:  78%|███████▊  | 368/469 [04:33<01:10,  1.44it/s]\u001b[A\n",
            "Epoch 2 in training:  79%|███████▊  | 369/469 [04:34<01:09,  1.44it/s]\u001b[A\n",
            "Epoch 2 in training:  79%|███████▉  | 370/469 [04:34<01:08,  1.45it/s]\u001b[A\n",
            "Epoch 2 in training:  79%|███████▉  | 371/469 [04:35<01:15,  1.29it/s]\u001b[A\n",
            "Epoch 2 in training:  79%|███████▉  | 372/469 [04:36<01:21,  1.20it/s]\u001b[A\n",
            "Epoch 2 in training:  80%|███████▉  | 373/469 [04:37<01:19,  1.21it/s]\u001b[A\n",
            "Epoch 2 in training:  80%|███████▉  | 374/469 [04:38<01:14,  1.27it/s]\u001b[A\n",
            "Epoch 2 in training:  80%|███████▉  | 375/469 [04:38<01:11,  1.32it/s]\u001b[A\n",
            "Epoch 2 in training:  80%|████████  | 376/469 [04:39<01:09,  1.34it/s]\u001b[A\n",
            "Epoch 2 in training:  80%|████████  | 377/469 [04:40<01:07,  1.36it/s]\u001b[A\n",
            "Epoch 2 in training:  81%|████████  | 378/469 [04:41<01:05,  1.40it/s]\u001b[A\n",
            "Epoch 2 in training:  81%|████████  | 379/469 [04:41<01:03,  1.41it/s]\u001b[A\n",
            "Epoch 2 in training:  81%|████████  | 380/469 [04:42<01:02,  1.41it/s]\u001b[A\n",
            "Epoch 2 in training:  81%|████████  | 381/469 [04:43<01:01,  1.43it/s]\u001b[A\n",
            "Epoch 2 in training:  81%|████████▏ | 382/469 [04:43<01:01,  1.42it/s]\u001b[A\n",
            "Epoch 2 in training:  82%|████████▏ | 383/469 [04:44<01:00,  1.42it/s]\u001b[A\n",
            "Epoch 2 in training:  82%|████████▏ | 384/469 [04:45<00:59,  1.43it/s]\u001b[A\n",
            "Epoch 2 in training:  82%|████████▏ | 385/469 [04:45<00:58,  1.43it/s]\u001b[A\n",
            "Epoch 2 in training:  82%|████████▏ | 386/469 [04:46<00:58,  1.42it/s]\u001b[A\n",
            "Epoch 2 in training:  83%|████████▎ | 387/469 [04:47<01:01,  1.34it/s]\u001b[A\n",
            "Epoch 2 in training:  83%|████████▎ | 388/469 [04:48<01:04,  1.26it/s]\u001b[A\n",
            "Epoch 2 in training:  83%|████████▎ | 389/469 [04:49<01:06,  1.20it/s]\u001b[A\n",
            "Epoch 2 in training:  83%|████████▎ | 390/469 [04:50<01:02,  1.26it/s]\u001b[A\n",
            "Epoch 2 in training:  83%|████████▎ | 391/469 [04:50<01:00,  1.30it/s]\u001b[A\n",
            "Epoch 2 in training:  84%|████████▎ | 392/469 [04:51<00:57,  1.34it/s]\u001b[A\n",
            "Epoch 2 in training:  84%|████████▍ | 393/469 [04:52<00:55,  1.37it/s]\u001b[A\n",
            "Epoch 2 in training:  84%|████████▍ | 394/469 [04:52<00:54,  1.39it/s]\u001b[A\n",
            "Epoch 2 in training:  84%|████████▍ | 395/469 [04:53<00:52,  1.41it/s]\u001b[A\n",
            "Epoch 2 in training:  84%|████████▍ | 396/469 [04:54<00:51,  1.41it/s]\u001b[A\n",
            "Epoch 2 in training:  85%|████████▍ | 397/469 [04:54<00:50,  1.42it/s]\u001b[A\n",
            "Epoch 2 in training:  85%|████████▍ | 398/469 [04:55<00:49,  1.43it/s]\u001b[A\n",
            "Epoch 2 in training:  85%|████████▌ | 399/469 [04:56<00:48,  1.43it/s]\u001b[A\n",
            "Epoch 2 in training:  85%|████████▌ | 400/469 [04:57<00:48,  1.42it/s]\u001b[A\n",
            "Epoch 2 in training:  86%|████████▌ | 401/469 [04:57<00:47,  1.43it/s]\u001b[A\n",
            "Epoch 2 in training:  86%|████████▌ | 402/469 [04:58<00:46,  1.43it/s]\u001b[A\n",
            "Epoch 2 in training:  86%|████████▌ | 403/469 [04:59<00:46,  1.42it/s]\u001b[A\n",
            "Epoch 2 in training:  86%|████████▌ | 404/469 [05:00<00:51,  1.27it/s]\u001b[A\n",
            "Epoch 2 in training:  86%|████████▋ | 405/469 [05:01<00:54,  1.17it/s]\u001b[A\n",
            "Epoch 2 in training:  87%|████████▋ | 406/469 [05:01<00:50,  1.24it/s]\u001b[A\n",
            "Epoch 2 in training:  87%|████████▋ | 407/469 [05:02<00:48,  1.29it/s]\u001b[A\n",
            "Epoch 2 in training:  87%|████████▋ | 408/469 [05:03<00:46,  1.32it/s]\u001b[A\n",
            "Epoch 2 in training:  87%|████████▋ | 409/469 [05:03<00:44,  1.36it/s]\u001b[A\n",
            "Epoch 2 in training:  87%|████████▋ | 410/469 [05:04<00:42,  1.38it/s]\u001b[A\n",
            "Epoch 2 in training:  88%|████████▊ | 411/469 [05:05<00:41,  1.39it/s]\u001b[A\n",
            "Epoch 2 in training:  88%|████████▊ | 412/469 [05:06<00:41,  1.39it/s]\u001b[A\n",
            "Epoch 2 in training:  88%|████████▊ | 413/469 [05:06<00:40,  1.40it/s]\u001b[A\n",
            "Epoch 2 in training:  88%|████████▊ | 414/469 [05:07<00:39,  1.40it/s]\u001b[A\n",
            "Epoch 2 in training:  88%|████████▊ | 415/469 [05:08<00:38,  1.41it/s]\u001b[A\n",
            "Epoch 2 in training:  89%|████████▊ | 416/469 [05:08<00:37,  1.42it/s]\u001b[A\n",
            "Epoch 2 in training:  89%|████████▉ | 417/469 [05:09<00:36,  1.42it/s]\u001b[A\n",
            "Epoch 2 in training:  89%|████████▉ | 418/469 [05:10<00:35,  1.42it/s]\u001b[A\n",
            "Epoch 2 in training:  89%|████████▉ | 419/469 [05:10<00:35,  1.43it/s]\u001b[A\n",
            "Epoch 2 in training:  90%|████████▉ | 420/469 [05:11<00:37,  1.31it/s]\u001b[A\n",
            "Epoch 2 in training:  90%|████████▉ | 421/469 [05:12<00:39,  1.23it/s]\u001b[A\n",
            "Epoch 2 in training:  90%|████████▉ | 422/469 [05:13<00:38,  1.21it/s]\u001b[A\n",
            "Epoch 2 in training:  90%|█████████ | 423/469 [05:14<00:36,  1.27it/s]\u001b[A\n",
            "Epoch 2 in training:  90%|█████████ | 424/469 [05:15<00:34,  1.31it/s]\u001b[A\n",
            "Epoch 2 in training:  91%|█████████ | 425/469 [05:15<00:32,  1.35it/s]\u001b[A\n",
            "Epoch 2 in training:  91%|█████████ | 426/469 [05:16<00:31,  1.38it/s]\u001b[A\n",
            "Epoch 2 in training:  91%|█████████ | 427/469 [05:17<00:30,  1.39it/s]\u001b[A\n",
            "Epoch 2 in training:  91%|█████████▏| 428/469 [05:17<00:29,  1.40it/s]\u001b[A\n",
            "Epoch 2 in training:  91%|█████████▏| 429/469 [05:18<00:28,  1.41it/s]\u001b[A\n",
            "Epoch 2 in training:  92%|█████████▏| 430/469 [05:19<00:27,  1.42it/s]\u001b[A\n",
            "Epoch 2 in training:  92%|█████████▏| 431/469 [05:19<00:26,  1.43it/s]\u001b[A\n",
            "Epoch 2 in training:  92%|█████████▏| 432/469 [05:20<00:25,  1.43it/s]\u001b[A\n",
            "Epoch 2 in training:  92%|█████████▏| 433/469 [05:21<00:25,  1.43it/s]\u001b[A\n",
            "Epoch 2 in training:  93%|█████████▎| 434/469 [05:22<00:24,  1.43it/s]\u001b[A\n",
            "Epoch 2 in training:  93%|█████████▎| 435/469 [05:22<00:23,  1.43it/s]\u001b[A\n",
            "Epoch 2 in training:  93%|█████████▎| 436/469 [05:23<00:24,  1.36it/s]\u001b[A\n",
            "Epoch 2 in training:  93%|█████████▎| 437/469 [05:24<00:25,  1.26it/s]\u001b[A\n",
            "Epoch 2 in training:  93%|█████████▎| 438/469 [05:25<00:26,  1.18it/s]\u001b[A\n",
            "Epoch 2 in training:  94%|█████████▎| 439/469 [05:26<00:24,  1.24it/s]\u001b[A\n",
            "Epoch 2 in training:  94%|█████████▍| 440/469 [05:26<00:22,  1.30it/s]\u001b[A\n",
            "Epoch 2 in training:  94%|█████████▍| 441/469 [05:27<00:20,  1.34it/s]\u001b[A\n",
            "Epoch 2 in training:  94%|█████████▍| 442/469 [05:28<00:19,  1.37it/s]\u001b[A\n",
            "Epoch 2 in training:  94%|█████████▍| 443/469 [05:28<00:18,  1.40it/s]\u001b[A\n",
            "Epoch 2 in training:  95%|█████████▍| 444/469 [05:29<00:17,  1.40it/s]\u001b[A\n",
            "Epoch 2 in training:  95%|█████████▍| 445/469 [05:30<00:18,  1.28it/s]\u001b[A\n",
            "Epoch 2 in training:  95%|█████████▌| 446/469 [05:31<00:17,  1.32it/s]\u001b[A\n",
            "Epoch 2 in training:  95%|█████████▌| 447/469 [05:31<00:16,  1.36it/s]\u001b[A\n",
            "Epoch 2 in training:  96%|█████████▌| 448/469 [05:32<00:15,  1.38it/s]\u001b[A\n",
            "Epoch 2 in training:  96%|█████████▌| 449/469 [05:33<00:14,  1.39it/s]\u001b[A\n",
            "Epoch 2 in training:  96%|█████████▌| 450/469 [05:34<00:13,  1.41it/s]\u001b[A\n",
            "Epoch 2 in training:  96%|█████████▌| 451/469 [05:34<00:12,  1.42it/s]\u001b[A\n",
            "Epoch 2 in training:  96%|█████████▋| 452/469 [05:35<00:12,  1.36it/s]\u001b[A\n",
            "Epoch 2 in training:  97%|█████████▋| 453/469 [05:36<00:12,  1.25it/s]\u001b[A\n",
            "Epoch 2 in training:  97%|█████████▋| 454/469 [05:37<00:13,  1.14it/s]\u001b[A\n",
            "Epoch 2 in training:  97%|█████████▋| 455/469 [05:38<00:11,  1.21it/s]\u001b[A\n",
            "Epoch 2 in training:  97%|█████████▋| 456/469 [05:38<00:10,  1.27it/s]\u001b[A\n",
            "Epoch 2 in training:  97%|█████████▋| 457/469 [05:39<00:09,  1.31it/s]\u001b[A\n",
            "Epoch 2 in training:  98%|█████████▊| 458/469 [05:40<00:08,  1.36it/s]\u001b[A\n",
            "Epoch 2 in training:  98%|█████████▊| 459/469 [05:41<00:07,  1.39it/s]\u001b[A\n",
            "Epoch 2 in training:  98%|█████████▊| 460/469 [05:41<00:06,  1.39it/s]\u001b[A\n",
            "Epoch 2 in training:  98%|█████████▊| 461/469 [05:42<00:05,  1.41it/s]\u001b[A\n",
            "Epoch 2 in training:  99%|█████████▊| 462/469 [05:43<00:04,  1.42it/s]\u001b[A\n",
            "Epoch 2 in training:  99%|█████████▊| 463/469 [05:43<00:04,  1.42it/s]\u001b[A\n",
            "Epoch 2 in training:  99%|█████████▉| 464/469 [05:44<00:03,  1.43it/s]\u001b[A\n",
            "Epoch 2 in training:  99%|█████████▉| 465/469 [05:45<00:02,  1.42it/s]\u001b[A\n",
            "Epoch 2 in training:  99%|█████████▉| 466/469 [05:45<00:02,  1.43it/s]\u001b[A\n",
            "Epoch 2 in training: 100%|█████████▉| 467/469 [05:46<00:01,  1.43it/s]\u001b[A\n",
            "Epoch 2 in training: 100%|█████████▉| 468/469 [05:47<00:00,  1.42it/s]\u001b[A\n",
            "Epoch 2 in training: 100%|██████████| 469/469 [05:48<00:00,  1.42it/s]\u001b[A\n",
            "Training: 100%|██████████| 2/2 [11:50<00:00, 355.19s/it]\n"
          ]
        },
        {
          "output_type": "stream",
          "name": "stdout",
          "text": [
            "Epoch 2/2 loss: 1.86\n"
          ]
        },
        {
          "output_type": "stream",
          "name": "stderr",
          "text": [
            "Testing: 100%|██████████| 79/79 [00:32<00:00,  2.43it/s]"
          ]
        },
        {
          "output_type": "stream",
          "name": "stdout",
          "text": [
            "Test loss: 1.76\n",
            "Test accuracy: 69.94%\n"
          ]
        },
        {
          "output_type": "stream",
          "name": "stderr",
          "text": [
            "\n"
          ]
        }
      ]
    },
    {
      "cell_type": "markdown",
      "source": [
        "#WORKSHOP QUESTIONS"
      ],
      "metadata": {
        "id": "0vpJLKuqkAaI"
      }
    },
    {
      "cell_type": "code",
      "source": [
        "#imports: do not change them\n",
        "import torch\n",
        "import matplotlib.pyplot as plt\n",
        "import numpy as np\n",
        "import argparse\n",
        "import pickle\n",
        "import os\n",
        "import torch.nn as nn\n",
        "from PIL import Image\n",
        "from torchvision import transforms\n",
        "import torch.nn as nn\n",
        "import torchvision.models as models\n",
        "import torch.nn.functional as F\n",
        "import torch.optim as optim\n",
        "import torch.optim.lr_scheduler as lr_scheduler\n",
        "import torchvision\n",
        "import random\n",
        "from tqdm import tqdm\n",
        "from torch.utils.data import random_split\n",
        "from torch.autograd import Variable\n",
        "import cv2\n",
        "import torchvision.utils as utils\n",
        "\n",
        "## Please DONOT remove these lines.\n",
        "torch.manual_seed(0)\n",
        "torch.backends.cudnn.deterministic = True\n",
        "torch.backends.cudnn.benchmark = False\n",
        "np.random.seed(0)"
      ],
      "metadata": {
        "id": "n-fBEfFpkLfY"
      },
      "execution_count": 1,
      "outputs": []
    },
    {
      "cell_type": "markdown",
      "source": [
        "## Q1"
      ],
      "metadata": {
        "id": "seIDT0N-kEaN"
      }
    },
    {
      "cell_type": "code",
      "source": [
        "## Please DO NOT change these values.\n",
        "#This is the config that will be used for implementing the Multi-head attention\n",
        "config = {\n",
        "    'QI_DIM': 64,\n",
        "    'VI_DIM': 64,\n",
        "    'KI_DIM': 64,\n",
        "    'QO_DIM': 32,\n",
        "    'VO_DIM': 32,\n",
        "    'OP_DIM': 32,\n",
        "    'NUM_HEADS': 8,\n",
        "}"
      ],
      "metadata": {
        "id": "SnoumlZTkN2W"
      },
      "execution_count": 3,
      "outputs": []
    },
    {
      "cell_type": "code",
      "source": [
        "#A class for implementing the Multi-head Attention\n",
        "class MultiHeadAttentionTest(nn.Module):\n",
        "\n",
        "    def __init__(self, config):\n",
        "        super(MultiHeadAttentionTest, self).__init__()\n",
        "\n",
        "        ### YOUR CODE STARTS HERE ###\n",
        "\n",
        "        #set the op dimension, number of heads based on the value given in config\n",
        "        self.embed_dim = config[\"QI_DIM\"] #what is the embed dim? im taking it as 64 cause that makes the most sense\n",
        "        self.n_heads = config[\"NUM_HEADS\"] # this is 8\n",
        "        self.single_head_dimension = torch.tensor(int(self.embed_dim/self.n_heads)) # this is 8\n",
        "        self.output_dim = config[\"OP_DIM\"]\n",
        "\n",
        "\n",
        "        #set the query dimension as QO_DIM from the config and value dimension as VO_DIM\n",
        "\n",
        "        self.query_matrix = nn.Linear(self.single_head_dimension, self.single_head_dimension, bias = False)\n",
        "        self.key_matrix = nn.Linear(self.single_head_dimension, self.single_head_dimension, bias = False)\n",
        "        self.value_matrix = nn.Linear(self.single_head_dimension, self.single_head_dimension, bias = False)\n",
        "\n",
        "        #set the respective dimensions #HERE ITSELF? So i guess this OTransLayer?\n",
        "\n",
        "\n",
        "        #set the scaling factor as follows:\n",
        "        #scale = sqrt(QO_DIM/NUM_HEADS)\n",
        "        self.scale = torch.sqrt(self.single_head_dimension)\n",
        "\n",
        "        self.OTrans = nn.Linear(self.n_heads*self.single_head_dimension ,self.output_dim)\n",
        "\n",
        "\n",
        "\n",
        "\n",
        "        ### YOUR CODE ENDS HERE ###\n",
        "\n",
        "\n",
        "\n",
        "    def forward(self, q_inp, k_inp, v_inp, ret_atn=False): # 4x2x64\n",
        "\n",
        "        #making sure that shapes are similar across dim=0\n",
        "        assert q_inp.shape[0] == k_inp.shape[0]\n",
        "\n",
        "        #setting batch size\n",
        "        batch_size = q_inp.shape[0]\n",
        "        seq_length = q_inp.shape[1]\n",
        "\n",
        "        ### YOUR CODE STARTS HERE ###\n",
        "        #pass q_inp, k_inp, v_inp through the linear layers defined in the\n",
        "        #init function, Yes but we have to reshape, if you are giving intstruction give it properly\n",
        "\n",
        "        Q = self.query_matrix(q_inp.view(batch_size, seq_length, self.n_heads, self.single_head_dimension)) # batch_size x seq_len x 8 x 8 , i think 4x2x(8x8) --> into linear layer\n",
        "        K = self.key_matrix(k_inp.view(batch_size, seq_length, self.n_heads, self.single_head_dimension))\n",
        "        V = self.value_matrix(v_inp.view(batch_size, seq_length, self.n_heads, self.single_head_dimension))\n",
        "\n",
        "\n",
        "        #Shape is 4x2x8x8\n",
        "\n",
        "        #reshape the Q, K, V tensors to (batch_size, num_heads, -1, self.query_dim/num_heads)\n",
        "        #hint: you can also do the same by the view() of pytorch\n",
        "\n",
        "        Q = Q.view(batch_size,self.n_heads,seq_length,self.single_head_dimension)\n",
        "        K = K.view(batch_size,self.n_heads,self.single_head_dimension,seq_length) # needed for Matmul\n",
        "        V = V.view(batch_size,self.n_heads,seq_length,self.single_head_dimension)\n",
        "\n",
        "\n",
        "        # define energy as matrix product of Q and K divided by self.scale value.\n",
        "        #hint: use torch.matmul() for this and do not forget to reshape K vector as (batch_size, num_heads, self.query_dim/num_heads, -1)\n",
        "        #this should be done in order to carry out the matrix multiplication\n",
        "        energy = torch.matmul(Q,K) /self.scale\n",
        "\n",
        "        #I guess no mask\n",
        "\n",
        "        #define attention as softmax of energy vector across the last dimension\n",
        "        attention = F.softmax(energy, dim=-1)\n",
        "\n",
        "        ### YOUR CODE ENDS HERE ###\n",
        "\n",
        "        #multiplying the attention with value tensor\n",
        "        attended = torch.matmul(attention, V).permute(0, 2, 1, 3).contiguous() #concat\n",
        "\n",
        "        #passing the attended tensor through OTrans linear layer, What is OTrans Layer\n",
        "        out = self.OTrans(attended.view(batch_size, seq_length, -1)) #4x2x64 --> 4x2x32\n",
        "\n",
        "        if ret_atn:\n",
        "            return out, attention\n",
        "\n",
        "        else:\n",
        "            return out"
      ],
      "metadata": {
        "id": "EPi_NDNPIMzZ"
      },
      "execution_count": 4,
      "outputs": []
    },
    {
      "cell_type": "code",
      "source": [
        "## Please DONOT remove these lines.\n",
        "torch.manual_seed(0)\n",
        "torch.backends.cudnn.deterministic = True\n",
        "torch.backends.cudnn.benchmark = False\n",
        "np.random.seed(0)\n",
        "\n",
        "q = torch.rand(4, 2, 64)\n",
        "k = torch.rand(4, 2, 64)\n",
        "v = torch.rand(4, 2, 64)\n",
        "## Please DONOT remove these lines.\n",
        "\n",
        "### YOUR CODE STARTS HERE ###\n",
        "\n",
        "#initialise an instance of MultiHeadAttention class\n",
        "d = MultiHeadAttentionTest(config=config)\n",
        "\n",
        "#pass q, k, v values through the instance\n",
        "x, y = d(q,k,v, ret_atn=True) #x is out, y is attention\n",
        "\n",
        "#print the max value of the attention and report your answer\n",
        "print(y.shape)\n",
        "print(x.shape)\n",
        "# print(y.max(dim=0))\n",
        "# print(y.max())\n",
        "# print(y.max(dim=1))\n",
        "# print(y)\n",
        "print(x.max())\n",
        "print(y.flatten().max())\n",
        "print(torch.max(y))\n",
        "# print(torch.max(y, dim=-1))\n",
        "# print(torch.max(y,dim=-2))\n",
        "\n",
        "### YOUR CODE ENDS HERE ###\n"
      ],
      "metadata": {
        "colab": {
          "base_uri": "https://localhost:8080/"
        },
        "id": "yh8u7JCLkIlq",
        "outputId": "0446938a-6757-462e-e846-1565530764f4"
      },
      "execution_count": 5,
      "outputs": [
        {
          "output_type": "stream",
          "name": "stdout",
          "text": [
            "torch.Size([4, 8, 2, 2])\n",
            "torch.Size([4, 2, 32])\n",
            "tensor(0.4641, grad_fn=<MaxBackward1>)\n",
            "tensor(0.5473, grad_fn=<MaxBackward1>)\n",
            "tensor(0.5473, grad_fn=<MaxBackward1>)\n"
          ]
        }
      ]
    },
    {
      "cell_type": "markdown",
      "source": [
        "#Q2 - Q4"
      ],
      "metadata": {
        "id": "2dzZA05udfcX"
      }
    },
    {
      "cell_type": "code",
      "source": [
        "# Import necessary libraries\n",
        "import torch\n",
        "import torch.nn as nn\n",
        "import torch.optim as optim\n",
        "from torchvision import datasets, transforms\n",
        "from torch.utils.data import DataLoader, random_split\n",
        "import matplotlib.pyplot as plt"
      ],
      "metadata": {
        "id": "h5qTzGEHtIqU"
      },
      "execution_count": null,
      "outputs": []
    },
    {
      "cell_type": "code",
      "source": [
        "\n",
        "# Define the Patch Embedding class\n",
        "class PatchEmbeddingTest(nn.Module):\n",
        "  ### YOUR CODE STARTS HERE ###\n",
        "    def __init__(self, img_size=28, patch_size=7, in_channels=1, embed_dim=64):\n",
        "        super().__init__()  # Initialize the parent class\n",
        "        self.img_size = img_size   # Size of the input image (28x28 for MNIST)\n",
        "        self.patch_size = patch_size # Size of each patch\n",
        "        self.n_patches = img_size//patch_size  # Number of patches #This threw me off, why make so convoluted XD\n",
        "        # Convolutional layer to create patch embeddings\n",
        "        self.proj = nn.Conv2d(in_channels=in_channels, out_channels=embed_dim, kernel_size=patch_size, stride=patch_size)\n",
        "\n",
        "    def forward(self, x):\n",
        "        x = self.proj(x)  # Apply the convolutional projection to create patch embeddings\n",
        "        x =  x.flatten(2)# Flatten the spatial dimensions so 2d #(batch_size x embed x patch_size x patch_size) also , n_patches = patch_size**2\n",
        "        x =  x.transpose(1,2) # Transpose to get (batch_size, n_patches, embed_dim) #so this makes sense\n",
        "        return x\n",
        "  ### YOUR CODE ENDS HERE ###"
      ],
      "metadata": {
        "id": "7_CgVsX_dj4k"
      },
      "execution_count": null,
      "outputs": []
    },
    {
      "cell_type": "code",
      "source": [
        "# Define the Simple Vision Transformer (ViT) class\n",
        "class SimpleViTTest(nn.Module):\n",
        "    def __init__(self, img_size=28, patch_size=7, in_channels=1, embed_dim=64, num_heads=4, num_layers=2, num_classes=10):\n",
        "        super().__init__()  # Initialize the parent class\n",
        "        ### YOUR CODE STARTS HERE ###\n",
        "        # Create the patch embedding layer\n",
        "        self.patch_embed = PatchEmbeddingTest(img_size=28, patch_size =7, in_channels=1, embed_dim = 64)\n",
        "        ### YOUR CODE ENDS HERE ###\n",
        "        # Learnable classification token\n",
        "        self.cls_token = nn.Parameter(torch.zeros(1, 1, embed_dim))\n",
        "        # Learnable position embeddings\n",
        "        self.pos_embed = nn.Parameter(torch.zeros(1, self.patch_embed.n_patches**2 + 1, embed_dim))\n",
        "\n",
        "        # Create the transformer encoder\n",
        "        self.transformer = nn.TransformerEncoder(\n",
        "            nn.TransformerEncoderLayer(d_model=embed_dim, nhead=num_heads, batch_first=True),\n",
        "            num_layers=num_layers\n",
        "        )\n",
        "\n",
        "        # Final classification layer\n",
        "        self.fc = nn.Linear(embed_dim, num_classes)\n",
        "\n",
        "    def forward(self, x):\n",
        "        ### YOUR CODE STARTS HERE ###\n",
        "        batch_size = x.size(0)\n",
        "        x = self.patch_embed(x) # Create patch embeddings\n",
        "        cls_tokens = self.cls_token.expand(batch_size ,1,-1)  # Expand cls token to batch size\n",
        "        x = torch.cat((x,cls_tokens), dim = 1)  # Concatenate cls token with patch embeddings\n",
        "        x = x + self.pos_embed  # Add positional embeddings I gues we do not repeat\n",
        "\n",
        "        x = self.transformer(x)  # Pass through the transformer encoder\n",
        "        x = x[:, -1]  # Extract the cls token output\n",
        "        x = self.fc(x)  # Pass through the final classification layer\n",
        "        ### YOUR CODE ENDS HERE ###\n",
        "        return x"
      ],
      "metadata": {
        "id": "swFGyAfWdo5T"
      },
      "execution_count": null,
      "outputs": []
    },
    {
      "cell_type": "code",
      "source": [
        "### YOUR CODE STARTS HERE ###\n",
        "# Data preparation\n",
        "# Define the image transformations\n",
        "transform = transforms.Compose([\n",
        "    transforms.ToTensor() ,  # Convert image to PyTorch tensor\n",
        "    transforms.Normalize((0.1307),(0.3081 ))  # Normalize with MNIST = 0.1307 mean and std = 0.3081 (Using (1307, 0.3081) will cause a shape mismatch error because transforms.Normalize expects mean and std to have one value per channel. For a tensor with shape (batch_size, 1, 28, 28))\n",
        "])\n",
        "\n",
        "# Load the MNIST train  dataset with transform = transform\n",
        "dataset = datasets.MNIST(root='./data', train=True, download=True, transform=transform)\n",
        "# Split the dataset into training and validation sets\n",
        "train_dataset, val_dataset = random_split(dataset, [55000, 5000])\n",
        "# Load the test dataset\n",
        "test_dataset = datasets.MNIST(root='./data', train=False, download=True, transform=transform)\n",
        "\n",
        "# Create data loaders\n",
        "train_loader = DataLoader(train_dataset, batch_size=128, shuffle=True)\n",
        "val_loader = DataLoader(val_dataset, batch_size=128)\n",
        "test_loader = DataLoader(test_dataset, batch_size=128)\n",
        "### YOUR CODE STARTS HERE ###\n",
        "\n",
        "# Initialize model, loss function, and optimizer\n",
        "device = torch.device(\"cuda\" if torch.cuda.is_available() else \"cpu\")   # Use GPU if available\n",
        "model_test = SimpleViTTest(img_size=28, patch_size=7, in_channels=1, embed_dim=64, num_heads=4, num_layers=2, num_classes=10)   # Create the model and move it to the device\n",
        "criterion = nn.CrossEntropyLoss()   # Define the loss function\n",
        "optimizer = optim.Adam(model_test.parameters(), lr = 0.001)   # Define the optimizer with ADAM and learning rate = 0.001\n",
        "\n",
        "# Training loop\n",
        "num_epochs = 5  # Number of times to iterate over the entire dataset\n",
        "train_losses, val_losses = [], []  # Lists to store the losses for plotting\n",
        "\n",
        "for epoch in range(num_epochs):\n",
        "    model_test.train()  # Set the model to training mode\n",
        "    train_loss = 0.0\n",
        "\n",
        "    for images, labels in train_loader:\n",
        "        images, labels = images.to(device), labels.to(device)  # Move data to device\n",
        "        optimizer.zero_grad() # Zero out the gradients\n",
        "        outputs = model_test(images)  # Forward pass\n",
        "        loss = criterion(outputs, labels)  # Compute the loss\n",
        "        loss.backward()  # Backpropagate the loss\n",
        "        optimizer.step()  # Update the weights\n",
        "        # train_loss += loss.item() * images.size(0) # Accumulate the loss # since we are doing batch processing\n",
        "        train_loss += loss.detach().cpu().item() / len(train_loader)\n",
        "\n",
        "    # train_loss = train_loss/ len(train_loader.dataset)  # Compute average training loss\n",
        "    #train_loss is the average right in the second approach\n",
        "    train_losses.append(train_loss)\n",
        "    # it calulates the loss later right? in the print?\n",
        "    # Validation\n",
        "    model_test.eval()  # Set the model to evaluation mode\n",
        "    val_loss = 0.0\n",
        "    with torch.no_grad():  # Disable gradient computation\n",
        "        for images, labels in val_loader:\n",
        "            images, labels = images.to(device), labels.to(device)\n",
        "            outputs = model_test(images)  # Get output from the model with images as input\n",
        "            loss = criterion(outputs, labels) # Compute the loss\n",
        "            val_loss += loss.detach().cpu().item() / len(val_loader)  # Accumulate the loss\n",
        "            #val_loss += loss.detach().cpu().item() * images.size(0)\n",
        "\n",
        "    val_losses.append(val_loss)  # Compute average validation loss\n",
        "    # it calulates the loss later right? in the print?\n",
        "    ### YOUR CODE ENDS HERE ###\n",
        "    print(f\"Epoch [{epoch+1}/{num_epochs}], Train Loss: {train_loss:.4f}, Val Loss: {val_loss:.4f}\")"
      ],
      "metadata": {
        "id": "egDHlc7udq02"
      },
      "execution_count": null,
      "outputs": []
    },
    {
      "cell_type": "code",
      "source": [
        "# Plot training and validation loss\n",
        "plt.figure(figsize=(10, 5))\n",
        "plt.plot(range(1, num_epochs+1), train_losses, label='Train Loss')\n",
        "plt.plot(range(1, num_epochs+1), val_losses, label='Validation Loss')\n",
        "plt.xlabel('Epoch')\n",
        "plt.ylabel('Loss')\n",
        "plt.legend()\n",
        "plt.title('Training and Validation Loss')\n",
        "plt.show()\n",
        "\n",
        "# Test the model\n",
        "model_test.eval()\n",
        "correct = 0\n",
        "total = 0\n",
        "with torch.no_grad():\n",
        "    for images, labels in test_loader:\n",
        "        images, labels = images.to(device), labels.to(device)\n",
        "        outputs = model_test(images)\n",
        "        _, predicted = torch.max(outputs.data, 1)  # Get the predicted class\n",
        "        total += labels.size(0)\n",
        "        correct += (predicted == labels).sum().item()  # Count correct predictions\n",
        "\n",
        "accuracy = 100 * correct / total\n",
        "print(f'Test Accuracy: {accuracy:.2f}%')\n",
        "\n",
        "# Function to visualize predictions\n",
        "def visualize_predictions(model, data_loader, num_images=5):\n",
        "    model.eval()\n",
        "    images, labels = next(iter(data_loader))  # Get a batch of images\n",
        "    images, labels = images.to(device), labels.to(device)\n",
        "\n",
        "    with torch.no_grad():\n",
        "        outputs = model(images)  # Get output from the model with images as input\n",
        "        _, predicted = torch.max(outputs, 1)  # Get the predicted classes\n",
        "\n",
        "    fig, axes = plt.subplots(1, num_images, figsize=(12, 3))\n",
        "    for i in range(num_images):\n",
        "        axes[i].imshow(images[i].cpu().squeeze(), cmap='gray')  # Display the image\n",
        "        axes[i].set_title(f'Pred: {predicted[i]}\\nTrue: {labels[i]}')  # Show predicted and true labels\n",
        "        axes[i].axis('off')  # Turn off axis\n",
        "\n",
        "    plt.tight_layout()\n",
        "    plt.show()\n",
        "\n",
        "# Visualize some predictions\n",
        "visualize_predictions(model_test, test_loader)"
      ],
      "metadata": {
        "id": "6RBhxdvPdsQp"
      },
      "execution_count": null,
      "outputs": []
    }
  ]
}